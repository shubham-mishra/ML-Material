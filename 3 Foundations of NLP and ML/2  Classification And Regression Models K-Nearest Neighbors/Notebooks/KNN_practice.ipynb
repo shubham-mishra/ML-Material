{
 "cells": [
  {
   "cell_type": "code",
   "execution_count": 2,
   "metadata": {},
   "outputs": [],
   "source": [
    "import pandas as pd;\n",
    "import numpy as np;\n",
    "import matplotlib.pyplot as plt;\n",
    "from sklearn.model_selection import train_test_split;\n",
    "from sklearn.neighbors import KNeighborsClassifier;\n",
    "from sklearn.metrics import accuracy_score;\n",
    "from sklearn.model_selection import cross_val_score;\n",
    "from collections import Counter;\n",
    "from sklearn import model_selection;"
   ]
  },
  {
   "cell_type": "code",
   "execution_count": 3,
   "metadata": {},
   "outputs": [
    {
     "name": "stdout",
     "output_type": "stream",
     "text": [
      "          x         y  class\n",
      "0  0.031595  0.986988    0.0\n",
      "1  2.115098 -0.046244    1.0\n",
      "2  0.882490 -0.075756    0.0\n",
      "[[ 0.03159499  0.98698776]\n",
      " [ 2.11509784 -0.04624397]]\n",
      "[0. 1.]\n"
     ]
    }
   ],
   "source": [
    "names = ['x', 'y', 'class']\n",
    "\n",
    "df = pd.read_csv('./demo_data/1.ushape.csv', header=None, names=names);\n",
    "print(df.head(3));\n",
    "\n",
    "X = np.array(df.iloc[:, :2]);\n",
    "print(X[:2]);\n",
    "y = np.array(df['class']);\n",
    "print(y[:2])"
   ]
  },
  {
   "cell_type": "code",
   "execution_count": 4,
   "metadata": {},
   "outputs": [
    {
     "name": "stdout",
     "output_type": "stream",
     "text": [
      "percentage of training data available as compare to total data 49.0\n",
      "Accuracy for k=1, is 90.47619047619048%\n",
      "Accuracy for k=3, is 95.23809523809523%\n",
      "Accuracy for k=5, is 95.23809523809523%\n",
      "Accuracy for k=7, is 95.23809523809523%\n",
      "Accuracy for k=9, is 85.71428571428571%\n",
      "Accuracy for k=11, is 85.71428571428571%\n",
      "Accuracy for k=13, is 80.95238095238095%\n",
      "Accuracy for k=15, is 80.95238095238095%\n",
      "Accuracy for k=17, is 85.71428571428571%\n",
      "Accuracy for k=19, is 85.71428571428571%\n",
      "Accuracy for k=21, is 80.95238095238095%\n",
      "Accuracy for k=23, is 85.71428571428571%\n",
      "Accuracy for k=25, is 85.71428571428571%\n",
      "Accuracy for k=27, is 80.95238095238095%\n",
      "Accuracy for k=29, is 80.95238095238095%\n",
      "Accuracy for test data: 90.0%\n"
     ]
    }
   ],
   "source": [
    "X_1, X_test, y_1, y_test = model_selection.train_test_split(X, y, test_size=0.3, random_state=1);\n",
    "\n",
    "X_train, X_cv, y_train, y_cv = model_selection.train_test_split(X_1, y_1, test_size=0.3, random_state=1)\n",
    "print('percentage of training data available as compare to total data', len(X_train)/len(X)*100);\n",
    "\n",
    "for i in range(1, 30, 2):\n",
    "    knn = KNeighborsClassifier(n_neighbors = i);\n",
    "    knn.fit(X_train, y_train);\n",
    "    \n",
    "    predict = knn.predict(X_cv);\n",
    "    \n",
    "    acc = accuracy_score(y_cv, predict, normalize=True)*100;\n",
    "    \n",
    "    print('Accuracy for k={}, is {}%'.format(i,acc));\n",
    "\n",
    "#since we are getting highest accuracy for k=3, 5, 7 therefore we choose k=5\n",
    "knn = KNeighborsClassifier(n_neighbors=5);\n",
    "knn.fit(X_train, y_train);\n",
    "predict = knn.predict(X_test);\n",
    "acc = accuracy_score(y_test, predict, normalize=True)*100\n",
    "print('Accuracy for test data: {}%'.format(acc))"
   ]
  },
  {
   "cell_type": "code",
   "execution_count": 7,
   "metadata": {},
   "outputs": [
    {
     "name": "stdout",
     "output_type": "stream",
     "text": [
      "percentage of accuracy for k=1, is [91.66666667 91.30434783 95.65217391]\n",
      "percentage of accuracy for k=3, is [ 91.66666667  95.65217391 100.        ]\n",
      "percentage of accuracy for k=5, is [ 83.33333333  95.65217391 100.        ]\n",
      "percentage of accuracy for k=7, is [ 83.33333333  95.65217391 100.        ]\n",
      "percentage of accuracy for k=9, is [ 83.33333333  95.65217391 100.        ]\n",
      "percentage of accuracy for k=11, is [ 83.33333333  86.95652174 100.        ]\n",
      "percentage of accuracy for k=13, is [87.5        86.95652174 95.65217391]\n",
      "percentage of accuracy for k=15, is [83.33333333 86.95652174 95.65217391]\n",
      "percentage of accuracy for k=17, is [83.33333333 86.95652174 95.65217391]\n",
      "percentage of accuracy for k=19, is [83.33333333 78.26086957 95.65217391]\n",
      "0.04227053140096615\n",
      "optimal number of neighbors:  3\n"
     ]
    },
    {
     "data": {
      "image/png": "[encoded data removed]",
      "text/plain": [
       "<Figure size 432x288 with 1 Axes>"
      ]
     },
     "metadata": {
      "needs_background": "light"
     },
     "output_type": "display_data"
    },
    {
     "name": "stdout",
     "output_type": "stream",
     "text": [
      "the misclassification error for each k value is :  [0.071 0.042 0.07  0.07  0.07  0.099 0.1   0.114 0.114 0.143]\n"
     ]
    }
   ],
   "source": [
    "k_list = list(range(1, 20));\n",
    "neighbors = list(filter(lambda x: x%2 != 0, k_list));\n",
    "cv_scores = [];\n",
    "\n",
    "for k in neighbors:\n",
    "    knn = KNeighborsClassifier(n_neighbors=k);\n",
    "    scores = cross_val_score(knn, X_1, y_1, cv=3, scoring='accuracy');\n",
    "    cv_scores.append(scores.mean());\n",
    "    print('percentage of accuracy for k={}, is {}'.format(k, scores*100));\n",
    "\n",
    "#Misclassification error\n",
    "MSE = [1 - x for x in cv_scores];\n",
    "# print(MSE)\n",
    "print(min(MSE))\n",
    "\n",
    "optimal_neighbor = neighbors[MSE.index(min(MSE))];\n",
    "print('optimal number of neighbors: ', optimal_neighbor)\n",
    "\n",
    "plt.plot(neighbors, MSE)\n",
    "\n",
    "for xy in zip(neighbors, np.round(MSE,3)):\n",
    "    plt.annotate('(%s, %s)' % xy, xy=xy, textcoords='data')\n",
    "\n",
    "plt.xlabel('Number of Neighbors K')\n",
    "plt.ylabel('Misclassification Error')\n",
    "plt.show()\n",
    "\n",
    "print(\"the misclassification error for each k value is : \", np.round(MSE,3))"
   ]
  },
  {
   "cell_type": "code",
   "execution_count": 10,
   "metadata": {},
   "outputs": [
    {
     "name": "stdout",
     "output_type": "stream",
     "text": [
      "accurcay for test data is:  93.33333333333333\n"
     ]
    }
   ],
   "source": [
    "#KNN with optimal K\n",
    "knn = KNeighborsClassifier(n_neighbors=optimal_neighbor);\n",
    "knn.fit(X_1, y_1);\n",
    "pred = knn.predict(X_test);\n",
    "\n",
    "accuracy_test = accuracy_score(y_test, pred, normalize=True);\n",
    "print('accurcay for test data is: ', accuracy_test*100)"
   ]
  }
 ],
 "metadata": {
  "kernelspec": {
   "display_name": "Python 3",
   "language": "python",
   "name": "python3"
  },
  "language_info": {
   "codemirror_mode": {
    "name": "ipython",
    "version": 3
   },
   "file_extension": ".py",
   "mimetype": "text/x-python",
   "name": "python",
   "nbconvert_exporter": "python",
   "pygments_lexer": "ipython3",
   "version": "3.7.3"
  }
 },
 "nbformat": 4,
 "nbformat_minor": 2
}
