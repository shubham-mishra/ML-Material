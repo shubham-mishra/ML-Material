{
 "cells": [
  {
   "cell_type": "code",
   "execution_count": 39,
   "metadata": {},
   "outputs": [],
   "source": [
    "import numpy as np;\n",
    "import matplotlib.pyplot as plt;\n",
    "import pandas as pd;\n",
    "from sklearn.neighbors import KNeighborsClassifier;\n",
    "from sklearn.metrics import accuracy_score;\n",
    "from sklearn.model_selection import train_test_split;\n",
    "from sklearn import datasets;\n",
    "from sklearn.model_selection import cross_val_score;"
   ]
  },
  {
   "cell_type": "code",
   "execution_count": 16,
   "metadata": {},
   "outputs": [],
   "source": [
    "iris = datasets.load_iris();\n",
    "X = iris.data;\n",
    "y = iris.target;\n"
   ]
  },
  {
   "cell_type": "code",
   "execution_count": 18,
   "metadata": {},
   "outputs": [],
   "source": [
    "X_train, X_test, y_train, y_test = train_test_split(X, y, test_size=0.3);"
   ]
  },
  {
   "cell_type": "code",
   "execution_count": 29,
   "metadata": {},
   "outputs": [
    {
     "name": "stdout",
     "output_type": "stream",
     "text": [
      "accuracy: 97.22222222222223, error: 2.777777777777768, optimal value of k: 7\n"
     ]
    }
   ],
   "source": [
    "k_list = list(range(1, 30, 2));\n",
    "\n",
    "cv_scores = [];\n",
    "for i in k_list:\n",
    "    knn = KNeighborsClassifier(n_neighbors=i);\n",
    "    scores = cross_val_score(knn, X_train, y_train, cv=10, scoring='accuracy');\n",
    "    cv_scores.append(scores.mean());\n",
    "\n",
    "MSE = [1-i for i in cv_scores];\n",
    "optimal_neighbor = k_list[MSE.index(min(MSE))];\n",
    "print('accuracy: {}, error: {}, optimal value of k: {}'.format( max(cv_scores)*100, min(MSE)*100, optimal_neighbor) );\n"
   ]
  },
  {
   "cell_type": "code",
   "execution_count": 31,
   "metadata": {},
   "outputs": [
    {
     "name": "stdout",
     "output_type": "stream",
     "text": [
      "accuracy obtained for test data:  97.77777777777777\n"
     ]
    }
   ],
   "source": [
    "#using knn for k=7 as optimal neighbor;\n",
    "knn = KNeighborsClassifier(n_neighbors=7);\n",
    "knn.fit(X_train, y_train);\n",
    "pred = knn.predict(X_test);\n",
    "accuracy = accuracy_score(y_test, pred, normalize=True);\n",
    "print(\"accuracy obtained for test data: \", accuracy*100)"
   ]
  },
  {
   "cell_type": "code",
   "execution_count": null,
   "metadata": {},
   "outputs": [],
   "source": []
  }
 ],
 "metadata": {
  "kernelspec": {
   "display_name": "Python 3",
   "language": "python",
   "name": "python3"
  },
  "language_info": {
   "codemirror_mode": {
    "name": "ipython",
    "version": 3
   },
   "file_extension": ".py",
   "mimetype": "text/x-python",
   "name": "python",
   "nbconvert_exporter": "python",
   "pygments_lexer": "ipython3",
   "version": "3.7.3"
  }
 },
 "nbformat": 4,
 "nbformat_minor": 2
}
