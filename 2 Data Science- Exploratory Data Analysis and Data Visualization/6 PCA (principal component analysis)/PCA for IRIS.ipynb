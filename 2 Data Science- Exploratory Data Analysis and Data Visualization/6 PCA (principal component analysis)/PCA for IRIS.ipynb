{
 "cells": [
  {
   "cell_type": "markdown",
   "metadata": {},
   "source": [
    "# PCA of Iris dataset Manually"
   ]
  },
  {
   "cell_type": "code",
   "execution_count": 2,
   "metadata": {},
   "outputs": [],
   "source": [
    "#importing required libraries\n",
    "import pandas as pd;\n",
    "import numpy as np;\n",
    "import matplotlib.pyplot as plt;\n",
    "import seaborn as sn;"
   ]
  },
  {
   "cell_type": "code",
   "execution_count": 5,
   "metadata": {},
   "outputs": [
    {
     "name": "stdout",
     "output_type": "stream",
     "text": [
      "   Id  SepalLengthCm  SepalWidthCm  PetalLengthCm  PetalWidthCm      Species\n",
      "0   1            5.1           3.5            1.4           0.2  Iris-setosa\n",
      "1   2            4.9           3.0            1.4           0.2  Iris-setosa\n",
      "2   3            4.7           3.2            1.3           0.2  Iris-setosa\n"
     ]
    }
   ],
   "source": [
    "#load iris dataset\n",
    "iris = pd.read_csv('./iris.csv');\n",
    "\n",
    "print(iris.head(3));"
   ]
  },
  {
   "cell_type": "code",
   "execution_count": 6,
   "metadata": {},
   "outputs": [
    {
     "name": "stdout",
     "output_type": "stream",
     "text": [
      "columns present in iris:  Index(['SepalLengthCm', 'SepalWidthCm', 'PetalLengthCm', 'PetalWidthCm',\n",
      "       'Species'],\n",
      "      dtype='object')\n",
      "(150, 5)\n"
     ]
    }
   ],
   "source": [
    "#remove Id column\n",
    "iris = iris.drop('Id', axis=1);\n",
    "print('columns present in iris: ', iris.columns)\n",
    "\n",
    "#no of datapoints in iris:\n",
    "print(iris.shape)"
   ]
  },
  {
   "cell_type": "code",
   "execution_count": 7,
   "metadata": {},
   "outputs": [
    {
     "name": "stdout",
     "output_type": "stream",
     "text": [
      "   SepalLengthCm  SepalWidthCm  PetalLengthCm  PetalWidthCm\n",
      "0            5.1           3.5            1.4           0.2\n",
      "1            4.9           3.0            1.4           0.2\n",
      "2            4.7           3.2            1.3           0.2\n"
     ]
    }
   ],
   "source": [
    "#seperating class label and features\n",
    "label = iris.Species;\n",
    "\n",
    "iris = iris.drop(columns=['Species']);\n",
    "\n",
    "print(iris.head(3));"
   ]
  },
  {
   "cell_type": "code",
   "execution_count": 12,
   "metadata": {},
   "outputs": [
    {
     "name": "stdout",
     "output_type": "stream",
     "text": [
      "shape of standardized iris:  (150, 4)\n"
     ]
    }
   ],
   "source": [
    "#perfom standaridization on iris data.\n",
    "from sklearn.preprocessing import StandardScaler;\n",
    "\n",
    "std_iris = StandardScaler().fit_transform(iris);\n",
    "\n",
    "print('shape of standardized iris: ', std_iris.shape);\n"
   ]
  },
  {
   "cell_type": "code",
   "execution_count": 14,
   "metadata": {},
   "outputs": [
    {
     "name": "stdout",
     "output_type": "stream",
     "text": [
      "shape of covriance matrix:  (4, 4)\n",
      "obtained covariance matrix: \n",
      "[[150.         -16.40538749 130.7631236  122.69304501]\n",
      " [-16.40538749 150.         -63.07741446 -53.48161344]\n",
      " [130.7631236  -63.07741446 150.         144.41356456]\n",
      " [122.69304501 -53.48161344 144.41356456 150.        ]]\n"
     ]
    }
   ],
   "source": [
    "#finding co-variance matrix:\n",
    "covar_mat = np.matmul( std_iris.T, std_iris );\n",
    "print('shape of covriance matrix: ',covar_mat.shape);\n",
    "print('obtained covariance matrix: ');\n",
    "print(covar_mat)"
   ]
  },
  {
   "cell_type": "code",
   "execution_count": 22,
   "metadata": {},
   "outputs": [
    {
     "name": "stdout",
     "output_type": "stream",
     "text": [
      "shape of eigen vectors  (4, 2)\n",
      "obtained eigen vectors:  [[-0.37231836  0.52237162]\n",
      " [-0.92555649 -0.26335492]\n",
      " [-0.02109478  0.58125401]\n",
      " [-0.06541577  0.56561105]]\n",
      "obtained eigen values:  [138.18313961 436.62271256]\n",
      "new shape of eigen vectors:  (2, 4)\n"
     ]
    }
   ],
   "source": [
    "#generating top 2 eigen values and eigen vectors\n",
    "from scipy.linalg import eigh;\n",
    "\n",
    "values, vectors = eigh(covar_mat, eigvals=(2, 3));\n",
    "print('shape of eigen vectors ', vectors.shape);\n",
    "print('obtained eigen vectors: ', vectors);\n",
    "print('obtained eigen values: ', values)\n",
    "\n",
    "#performing transponse of vectors to bring vector on row \n",
    "vectors = vectors.T\n",
    "print('new shape of eigen vectors: ', vectors.shape)"
   ]
  },
  {
   "cell_type": "code",
   "execution_count": 29,
   "metadata": {},
   "outputs": [
    {
     "name": "stdout",
     "output_type": "stream",
     "text": [
      "Shape of our new dataset obtained from generated 2 components:  (150, 2)\n",
      "Shape after concating Species to dataset:  (150, 3)\n",
      "generated dataframe: \n",
      "  component_1 component_2      Species\n",
      "0   -0.505704    -2.26454  Iris-setosa\n",
      "1    0.655405    -2.08643  Iris-setosa\n",
      "2    0.318477    -2.36795  Iris-setosa\n"
     ]
    }
   ],
   "source": [
    "#generating new components:\n",
    "new_coord = np.matmul(vectors, std_iris.T).T;\n",
    "print('Shape of our new dataset obtained from generated 2 components: ', new_coord.shape);\n",
    "\n",
    "#concat labels with new vector's dataset.\n",
    "new_coord = np.vstack((new_coord.T, label)).T;\n",
    "print('Shape after concating Species to dataset: ', new_coord.shape);\n",
    "\n",
    "#get dataframe of new dataset\n",
    "iris_df = pd.DataFrame(data=new_coord, columns=['component_1', 'component_2', 'Species']);\n",
    "print('generated dataframe: ');\n",
    "print(iris_df.head(3));"
   ]
  },
  {
   "cell_type": "code",
   "execution_count": 30,
   "metadata": {},
   "outputs": [
    {
     "data": {
      "image/png": "[encoded data removed]",
      "text/plain": [
       "<Figure size 535.5x432 with 1 Axes>"
      ]
     },
     "metadata": {
      "needs_background": "light"
     },
     "output_type": "display_data"
    }
   ],
   "source": [
    "#plotting new dataset.\n",
    "sn.FacetGrid(iris_df, hue='Species', height=6)\\\n",
    "    .map(plt.scatter, 'component_1', 'component_2')\\\n",
    "    .add_legend();\n",
    "plt.show()"
   ]
  },
  {
   "cell_type": "markdown",
   "metadata": {},
   "source": [
    "# PCA of iris dataset using sklearn"
   ]
  },
  {
   "cell_type": "code",
   "execution_count": 31,
   "metadata": {},
   "outputs": [],
   "source": [
    "#importing decompositon from sklearn in which PCA is present.\n",
    "from sklearn import decomposition;\n",
    "\n",
    "pca = decomposition.PCA();"
   ]
  },
  {
   "cell_type": "code",
   "execution_count": 32,
   "metadata": {},
   "outputs": [
    {
     "name": "stdout",
     "output_type": "stream",
     "text": [
      "shape of new data-matrix:  (150, 2)\n"
     ]
    }
   ],
   "source": [
    "#configuring PCA for number of components:\n",
    "pca.n_components = 2;\n",
    "\n",
    "#generating new data-matrix with new features.\n",
    "pca_data = pca.fit_transform(std_iris);\n",
    "print('shape of new data-matrix: ', pca_data.shape)"
   ]
  },
  {
   "cell_type": "code",
   "execution_count": 33,
   "metadata": {},
   "outputs": [
    {
     "name": "stdout",
     "output_type": "stream",
     "text": [
      "new data frame: \n",
      "  component_1 component_2      Species\n",
      "0    -2.26454    0.505704  Iris-setosa\n",
      "1    -2.08643   -0.655405  Iris-setosa\n",
      "2    -2.36795   -0.318477  Iris-setosa\n"
     ]
    }
   ],
   "source": [
    "#concating Species with new data-matrix;\n",
    "pca_data = np.vstack((pca_data.T, label)).T\n",
    "\n",
    "#obtaining data frame from obtained dataset\n",
    "iris_df = pd.DataFrame(data=pca_data, columns=['component_1', 'component_2', 'Species']);\n",
    "print('new data frame: ');\n",
    "print(iris_df.head(3))"
   ]
  },
  {
   "cell_type": "code",
   "execution_count": 34,
   "metadata": {},
   "outputs": [
    {
     "data": {
      "image/png": "[encoded data removed]",
      "text/plain": [
       "<Figure size 535.5x432 with 1 Axes>"
      ]
     },
     "metadata": {
      "needs_background": "light"
     },
     "output_type": "display_data"
    }
   ],
   "source": [
    "#plotting new dataframe\n",
    "sn.FacetGrid(iris_df, hue='Species', height=6)\\\n",
    "    .map(plt.scatter, 'component_1', 'component_2')\\\n",
    "    .add_legend();\n",
    "plt.show();"
   ]
  },
  {
   "cell_type": "markdown",
   "metadata": {},
   "source": [
    "# PCA for determining no of new components to use."
   ]
  },
  {
   "cell_type": "code",
   "execution_count": 37,
   "metadata": {},
   "outputs": [
    {
     "name": "stdout",
     "output_type": "stream",
     "text": [
      "shape of obtained dataset  (150, 4)\n"
     ]
    },
    {
     "data": {
      "image/png": "[encoded data removed]",
      "text/plain": [
       "<Figure size 432x432 with 1 Axes>"
      ]
     },
     "metadata": {
      "needs_background": "light"
     },
     "output_type": "display_data"
    }
   ],
   "source": [
    "#configuring PCA for number of components\n",
    "pca.n_components = 4;\n",
    "\n",
    "#obtaining new dataset with new vectors:\n",
    "pca_data = pca.fit_transform(std_iris);\n",
    "print('shape of obtained dataset ', pca_data.shape)\n",
    "\n",
    "#calculating percentage variance explained for each new feature/component;\n",
    "percentage_var_explained = pca.explained_variance_ / sum( pca.explained_variance_ )\n",
    "\n",
    "#finding cumumulative sum of percentage variance explained\n",
    "cum_var_explained = np.cumsum(percentage_var_explained);\n",
    "\n",
    "#plotting cummulative sum to determine how many new components to generate.\n",
    "plt.figure(1, figsize=(6, 6));\n",
    "plt.plot(cum_var_explained, linewidth=2);\n",
    "plt.grid();\n",
    "plt.xlabel('no of components');\n",
    "plt.ylabel('percentage of variance explained');\n",
    "plt.show();"
   ]
  },
  {
   "cell_type": "markdown",
   "metadata": {},
   "source": [
    "## Observations:\n",
    "* we get 40% of var explained for one component.\n",
    "* we get 96% of var explained for two components.\n",
    "* we get 99% of var explained for three components.\n",
    "* we get 100% of var explained for four components."
   ]
  }
 ],
 "metadata": {
  "kernelspec": {
   "display_name": "Python 3",
   "language": "python",
   "name": "python3"
  },
  "language_info": {
   "codemirror_mode": {
    "name": "ipython",
    "version": 3
   },
   "file_extension": ".py",
   "mimetype": "text/x-python",
   "name": "python",
   "nbconvert_exporter": "python",
   "pygments_lexer": "ipython3",
   "version": "3.7.3"
  }
 },
 "nbformat": 4,
 "nbformat_minor": 2
}
