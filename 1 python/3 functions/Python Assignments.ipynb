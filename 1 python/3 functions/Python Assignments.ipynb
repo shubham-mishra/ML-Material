{
 "cells": [
  {
   "cell_type": "code",
   "execution_count": 1,
   "metadata": {},
   "outputs": [
    {
     "name": "stdout",
     "output_type": "stream",
     "text": [
      "Enter no3\n",
      "1 * 3 = 3\n",
      "2 * 3 = 6\n",
      "3 * 3 = 9\n",
      "4 * 3 = 12\n",
      "5 * 3 = 15\n",
      "6 * 3 = 18\n",
      "7 * 3 = 21\n",
      "8 * 3 = 24\n",
      "9 * 3 = 27\n",
      "10 * 3 = 30\n"
     ]
    }
   ],
   "source": [
    "#Assignment 1: Write a function that inputs a number and prints the multiplication table of that number\n",
    "def multiplication_table():\n",
    "    \"\"\"\n",
    "    function to print multiplication table for a given number as input\n",
    "    \"\"\"\n",
    "    no = int(input('Enter no'))\n",
    "    for i in range(1, 11):\n",
    "        print('{} * {} = {}'.format(i, no, i*no))\n",
    "\n",
    "multiplication_table()"
   ]
  },
  {
   "cell_type": "code",
   "execution_count": 10,
   "metadata": {},
   "outputs": [
    {
     "name": "stdout",
     "output_type": "stream",
     "text": [
      "1 3\n",
      "3 5\n",
      "5 7\n",
      "11 13\n",
      "17 19\n",
      "29 31\n",
      "41 43\n",
      "59 61\n",
      "71 73\n",
      "101 103\n",
      "107 109\n",
      "137 139\n",
      "149 151\n",
      "179 181\n",
      "191 193\n",
      "197 199\n",
      "227 229\n",
      "239 241\n",
      "269 271\n",
      "281 283\n",
      "311 313\n",
      "347 349\n",
      "419 421\n",
      "431 433\n",
      "461 463\n",
      "521 523\n",
      "569 571\n",
      "599 601\n",
      "617 619\n",
      "641 643\n",
      "659 661\n",
      "809 811\n",
      "821 823\n",
      "827 829\n",
      "857 859\n",
      "881 883\n"
     ]
    }
   ],
   "source": [
    "\"\"\"Assignment2: Write a program to print twin primes less than 1000. If two consecutive odd numbers are\n",
    "both prime then they are known as twin primes\"\"\"\n",
    "\n",
    "def is_prime(x):\n",
    "    \"\"\"\n",
    "    function to calculate prime no\n",
    "    \"\"\"\n",
    "    for i in range(2, x//2 + 1):\n",
    "        if x%i == 0:\n",
    "            return False;\n",
    "    return True;\n",
    "\n",
    "def twin_primes():\n",
    "    \"\"\"\n",
    "    function to print twin primes less than 1000\n",
    "    \"\"\"\n",
    "    primeDetermined = {};\n",
    "    \n",
    "    for i in range(1, 1000, 2):\n",
    "        curr_no = False;\n",
    "        if(primeDetermined.get(i) != None):\n",
    "            curr_no = primeDetermined[i]\n",
    "        else:\n",
    "            curr_no = is_prime(i);\n",
    "            primeDetermined[i] = curr_no;\n",
    "        \n",
    "        next_no = is_prime(i+2);\n",
    "        if(curr_no and next_no):\n",
    "            print(i, i+2);\n",
    "            \n",
    "            \n",
    "twin_primes()"
   ]
  },
  {
   "cell_type": "code",
   "execution_count": 9,
   "metadata": {},
   "outputs": [
    {
     "name": "stdout",
     "output_type": "stream",
     "text": [
      "120.0\n",
      "5.0\n"
     ]
    }
   ],
   "source": [
    "\"\"\"\n",
    "Assignment4: Write a program to implement these formulae of permutations and combinations.\n",
    "Number of permutations of n objects taken r at a time: p(n, r) = n! / (n-r)!. Number of\n",
    "combinations of n objects taken r at a time is: c(n, r) = n! / (r!*(n-r)!) = p(n,r) / r!\n",
    "\"\"\"\n",
    "\n",
    "from functools import reduce\n",
    "\n",
    "def factorial(n):\n",
    "    \"\"\"\n",
    "    function to find factorial\n",
    "    \"\"\"\n",
    "    return reduce(lambda x,y: x*y, range(1, n+1));\n",
    "\n",
    "def permutations(n, r):\n",
    "    \"\"\"\n",
    "    function to return Number of permutations of n objects taken r at a time\n",
    "    \"\"\"\n",
    "    n_fact = factorial(n);\n",
    "    n_r_fact = factorial(n-r);\n",
    "    perm = n_fact/n_r_fact;\n",
    "    return perm;\n",
    "    \n",
    "    \n",
    "def combinations(n, r):\n",
    "    \"\"\"\n",
    "    Number of\n",
    "    combinations of n objects taken r at a time\n",
    "    \"\"\"\n",
    "    p_n_r = permutations(n, r);\n",
    "    r_fact = factorial(r);\n",
    "    comb = p_n_r / r_fact;\n",
    "    return comb;\n",
    "\n",
    "print(permutations(5,4));\n",
    "print(combinations(5,4))"
   ]
  },
  {
   "cell_type": "code",
   "execution_count": 12,
   "metadata": {},
   "outputs": [
    {
     "name": "stdout",
     "output_type": "stream",
     "text": [
      "1 1 0 "
     ]
    }
   ],
   "source": [
    "\"\"\"\n",
    "Assignment5:Write a function that converts a decimal number to binary number\n",
    "\"\"\"\n",
    "\n",
    "def decimal_to_binary(dec):\n",
    "    \"\"\"\n",
    "    function that converts a decimal number to binary number\n",
    "    \"\"\"\n",
    "    if dec == 1:\n",
    "        print(1, end=\" \");\n",
    "        return;\n",
    "    else:\n",
    "        temp = dec%2;\n",
    "        decimal_to_binary(dec//2);\n",
    "        print(temp, end=\" \");\n",
    "        \n",
    "decimal_to_binary(6);\n",
    "    "
   ]
  }
 ],
 "metadata": {
  "kernelspec": {
   "display_name": "Python 3",
   "language": "python",
   "name": "python3"
  },
  "language_info": {
   "codemirror_mode": {
    "name": "ipython",
    "version": 3
   },
   "file_extension": ".py",
   "mimetype": "text/x-python",
   "name": "python",
   "nbconvert_exporter": "python",
   "pygments_lexer": "ipython3",
   "version": "3.7.3"
  }
 },
 "nbformat": 4,
 "nbformat_minor": 2
}
