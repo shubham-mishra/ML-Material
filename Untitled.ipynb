{
 "cells": [
  {
   "cell_type": "code",
   "execution_count": 2,
   "metadata": {},
   "outputs": [],
   "source": [
    "l = [1, 2, 4]\n",
    "l.append(4)"
   ]
  },
  {
   "cell_type": "code",
   "execution_count": 28,
   "metadata": {},
   "outputs": [
    {
     "name": "stdout",
     "output_type": "stream",
     "text": [
      "hello\n",
      "outside\n",
      "\n",
      "    this is sayali's method\n",
      "    \n",
      "inside\n"
     ]
    }
   ],
   "source": [
    "print('hello')\n",
    "def sayali():\n",
    "    \"\"\"\n",
    "    this is sayali's method\n",
    "    \"\"\"\n",
    "    print('inside')\n",
    "print('outside')\n",
    "\n",
    "print(sayali.__doc__)\n",
    "sayali()"
   ]
  },
  {
   "cell_type": "code",
   "execution_count": 40,
   "metadata": {},
   "outputs": [
    {
     "name": "stdout",
     "output_type": "stream",
     "text": [
      "140735960343248\n",
      "140735960343248\n",
      "True\n",
      "True\n"
     ]
    }
   ],
   "source": [
    "a = 3\n",
    "b = 3\n",
    "print(id(a))\n",
    "print(id(b))\n",
    "print(a == b)\n",
    "a = [1,2,3]\n",
    "b = [1,2,3]\n",
    "print(a == b)"
   ]
  },
  {
   "cell_type": "code",
   "execution_count": 41,
   "metadata": {},
   "outputs": [
    {
     "name": "stdout",
     "output_type": "stream",
     "text": [
      "[0, 1, 4, 9, 16, 25, 36, 49, 64, 81]\n"
     ]
    }
   ],
   "source": [
    "squares = [i**2 for i in range(10)]\n",
    "print(squares)"
   ]
  },
  {
   "cell_type": "code",
   "execution_count": 46,
   "metadata": {},
   "outputs": [
    {
     "name": "stdout",
     "output_type": "stream",
     "text": [
      "[-12, 24]\n",
      "[(24, 576), (53, 2809), (1, 1)]\n"
     ]
    }
   ],
   "source": [
    "l = [-12, -3, 24, 53, 1]\n",
    "positives = [i for i in l if i % 2 == 0]\n",
    "print(positives)\n",
    "new_lst = [(i, i**2) for i in l if i >= 0]\n",
    "print(new_lst)"
   ]
  },
  {
   "cell_type": "code",
   "execution_count": 51,
   "metadata": {},
   "outputs": [
    {
     "name": "stdout",
     "output_type": "stream",
     "text": [
      "[[1, 2, 3, 4], [5, 6, 7, 8], [9, 10, 11, 12]]\n",
      "[[1, 5, 9], [2, 6, 10], [3, 7, 11], [4, 8, 12]]\n"
     ]
    }
   ],
   "source": [
    "mat = [\n",
    "    [1,2,3,4],\n",
    "    [5,6,7,8],\n",
    "    [9,10,11,12]\n",
    "]\n",
    "\n",
    "transposed = [];\n",
    "for i in range(4):\n",
    "    lst = [];\n",
    "    for j in mat:\n",
    "        lst.append(j[i])\n",
    "    transposed.append(lst)\n",
    "        \n",
    "print(mat)\n",
    "print(transposed)"
   ]
  },
  {
   "cell_type": "code",
   "execution_count": 52,
   "metadata": {},
   "outputs": [
    {
     "name": "stdout",
     "output_type": "stream",
     "text": [
      "[[1, 5, 9], [2, 6, 10], [3, 7, 11], [4, 8, 12]]\n"
     ]
    }
   ],
   "source": [
    "mat = [\n",
    "    [1,2,3,4],\n",
    "    [5,6,7,8],\n",
    "    [9,10,11,12]\n",
    "]\n",
    "\n",
    "transposed = [[row[i] for row in mat] for i in range(4)]\n",
    "print(transposed)"
   ]
  },
  {
   "cell_type": "code",
   "execution_count": 3,
   "metadata": {},
   "outputs": [
    {
     "name": "stdout",
     "output_type": "stream",
     "text": [
      "[1, 2, 3, 12, 4, 121, -1]\n",
      "[1, 2, 3, 12, 4, 121, -1, -43]\n",
      "[1, 2, 3, 12, 4, 121, -1, -43, [-32, 4]]\n",
      "[1, 2, 3, 12, 4, 121, -1, -43, [-32, 4], -32, 4]\n",
      "[1, 2, 3, 12, 4, 121, -1, -43, -32, 4]\n",
      "[1, 3, 12, 4, 121, -1, -43, -32, 4]\n",
      "4 [1, 3, 12, 121, -1, -43, -32, 4]\n",
      "[1, 132, 3, 12, 121, -1, -43, -32, 4]\n",
      "[4, -32, -43, -1, 121, 12, 3, 132, 1]\n",
      "[-43, -32, -1, 1, 3, 4, 12, 121, 132]\n",
      "[132, 121, 12, 4, 3, 1, -1, -32, -43]\n",
      "[4, -32, -43, -1, 121, 12, 3, 132, 1]\n",
      "[-43, -32, -1, 1, 3, 4, 12, 121, 132]\n",
      "[132, 121, 12, 4, 3, 1, -1, -32, -43]\n"
     ]
    }
   ],
   "source": [
    "l = [1,2,3,12,4,121,-1]\n",
    "print(l)\n",
    "l.append(-43);\n",
    "print(l)\n",
    "l.append([-32,4])\n",
    "print(l)\n",
    "l.extend([-32,4])\n",
    "print(l)\n",
    "del l[len(l)-3]\n",
    "print(l)\n",
    "l.remove(2)\n",
    "print(l)\n",
    "val = l.pop(3)\n",
    "print(val, l)\n",
    "l.insert(1, 132)\n",
    "print(l)\n",
    "l.reverse()\n",
    "print(l)\n",
    "print(sorted(l))\n",
    "print(sorted(l, reverse = True))\n",
    "print(l)\n",
    "l.sort()\n",
    "print(l)\n",
    "l.reverse()\n",
    "print(l)"
   ]
  },
  {
   "cell_type": "code",
   "execution_count": 71,
   "metadata": {},
   "outputs": [
    {
     "name": "stdout",
     "output_type": "stream",
     "text": [
      "[132, 121, 12, 4, 3, 1, -1, -32, -43, 4, 1, -11]\n"
     ]
    }
   ],
   "source": [
    "l += [4,1, -11]\n",
    "print(l)"
   ]
  },
  {
   "cell_type": "code",
   "execution_count": 73,
   "metadata": {},
   "outputs": [
    {
     "name": "stdout",
     "output_type": "stream",
     "text": [
      "132\n",
      "121\n",
      "12\n",
      "4\n",
      "3\n",
      "1\n",
      "-1\n",
      "-32\n",
      "-43\n",
      "4\n",
      "1\n",
      "-11\n"
     ]
    }
   ],
   "source": [
    "for i in l:\n",
    "    print(i)"
   ]
  },
  {
   "cell_type": "code",
   "execution_count": 76,
   "metadata": {},
   "outputs": [
    {
     "name": "stdout",
     "output_type": "stream",
     "text": [
      "no\n"
     ]
    }
   ],
   "source": [
    "if 1132 in l:\n",
    "    print(l)\n",
    "else:\n",
    "    print('no')"
   ]
  },
  {
   "cell_type": "code",
   "execution_count": 10,
   "metadata": {},
   "outputs": [
    {
     "name": "stdout",
     "output_type": "stream",
     "text": [
      "[1, 3, 4, 12, 121, 132]\n"
     ]
    }
   ],
   "source": [
    "print(l[-4:-15:-1])"
   ]
  },
  {
   "cell_type": "code",
   "execution_count": 80,
   "metadata": {},
   "outputs": [
    {
     "name": "stdout",
     "output_type": "stream",
     "text": [
      "[17424, 14641, 144, 16, 9, 1, 1, 1024, 1849, 16, 1, 121]\n"
     ]
    }
   ],
   "source": [
    "squares = [i**2 for i in l]\n",
    "print(squares)"
   ]
  },
  {
   "cell_type": "code",
   "execution_count": 81,
   "metadata": {},
   "outputs": [
    {
     "name": "stdout",
     "output_type": "stream",
     "text": [
      "[(132, 264), (121, 242), (12, 24), (4, 8), (3, 6), (1, 2), (-1, -2), (-32, -64), (-43, -86), (4, 8), (1, 2), (-11, -22)]\n"
     ]
    }
   ],
   "source": [
    "tup = [(i, i*2) for i in l]\n",
    "print(tup)"
   ]
  },
  {
   "cell_type": "code",
   "execution_count": 82,
   "metadata": {},
   "outputs": [
    {
     "name": "stdout",
     "output_type": "stream",
     "text": [
      "[132, 121, 12, 4, 3, 1, 4, 1]\n"
     ]
    }
   ],
   "source": [
    "new_lst = [i for i in l if i >= 0]\n",
    "print(new_lst)"
   ]
  },
  {
   "cell_type": "code",
   "execution_count": 88,
   "metadata": {},
   "outputs": [
    {
     "name": "stdout",
     "output_type": "stream",
     "text": [
      "[[1, 2, 3, 4], [5, 6, 7, 8], [9, 10, 11, 12]]\n",
      "[[1, 5, 9], [2, 6, 10], [3, 7, 11], [4, 8, 12]]\n",
      "[[1, 5, 9], [2, 6, 10], [3, 7, 11], [4, 8, 12]]\n"
     ]
    }
   ],
   "source": [
    "mat = [\n",
    "    [1,2,3,4],\n",
    "    [5,6,7,8],\n",
    "    [9,10,11,12]\n",
    "]\n",
    "print(mat)\n",
    "\n",
    "transposed = [];\n",
    "\n",
    "for i in range(4):\n",
    "    lst = [];\n",
    "    for row in mat:\n",
    "        lst.append(row[i])\n",
    "    transposed.append(lst)\n",
    "print(transposed)\n",
    "\n",
    "trans= [ [row[i] for row in mat] for i in range(4)]\n",
    "print(trans)"
   ]
  },
  {
   "cell_type": "code",
   "execution_count": 26,
   "metadata": {},
   "outputs": [
    {
     "name": "stdout",
     "output_type": "stream",
     "text": [
      "(1, 2, 4)\n",
      "<class 'tuple'>\n",
      "<class 'int'>\n",
      "<class 'tuple'>\n",
      "2\n",
      "(1, 3, (2, 4), [1, 'hello', 4])\n",
      "('he', 'he', 'he', 'he')\n"
     ]
    }
   ],
   "source": [
    "tup = (1, 2, 4)\n",
    "print(tup)\n",
    "print(type(tup))\n",
    "t = (1)\n",
    "print(type(t))\n",
    "t = (1,)\n",
    "print(type(t))\n",
    "print(tup[1])\n",
    "tup = (1, 3, (2,4), [1,2,4])\n",
    "tup[3][1] = 'hello'\n",
    "print(tup)\n",
    "t = (('he',) * 4)\n",
    "print(t)"
   ]
  },
  {
   "cell_type": "code",
   "execution_count": 31,
   "metadata": {},
   "outputs": [
    {
     "name": "stdout",
     "output_type": "stream",
     "text": [
      "{2}\n",
      "{2, 3, 12}\n"
     ]
    }
   ],
   "source": [
    "s = set()\n",
    "s.add(2)\n",
    "print(s)\n",
    "s.update([12,3], {3,12})\n",
    "print(s)"
   ]
  },
  {
   "cell_type": "code",
   "execution_count": 37,
   "metadata": {},
   "outputs": [
    {
     "ename": "TypeError",
     "evalue": "'set' object is not subscriptable",
     "output_type": "error",
     "traceback": [
      "\u001b[1;31m---------------------------------------------------------------------------\u001b[0m",
      "\u001b[1;31mTypeError\u001b[0m                                 Traceback (most recent call last)",
      "\u001b[1;32m<ipython-input-37-c1d0669698c5>\u001b[0m in \u001b[0;36m<module>\u001b[1;34m\u001b[0m\n\u001b[1;32m----> 1\u001b[1;33m \u001b[0mprint\u001b[0m\u001b[1;33m(\u001b[0m\u001b[0ms\u001b[0m\u001b[1;33m[\u001b[0m\u001b[1;36m1\u001b[0m\u001b[1;33m]\u001b[0m\u001b[1;33m)\u001b[0m\u001b[1;33m\u001b[0m\u001b[1;33m\u001b[0m\u001b[0m\n\u001b[0m",
      "\u001b[1;31mTypeError\u001b[0m: 'set' object is not subscriptable"
     ]
    }
   ],
   "source": [
    "print(s[1])"
   ]
  },
  {
   "cell_type": "code",
   "execution_count": 43,
   "metadata": {},
   "outputs": [
    {
     "name": "stdout",
     "output_type": "stream",
     "text": [
      "{1, 2, 3, 4, 5, 6, 7}\n",
      "{1, 2, 3, 4, 5, 6, 7}\n",
      "{3, 4, 5}\n",
      "{3, 4, 5}\n",
      "{1, 2}\n",
      "{1, 2}\n",
      "{1, 2, 6, 7}\n",
      "{1, 2, 6, 7}\n"
     ]
    }
   ],
   "source": [
    "set1 = {1, 2, 3, 4, 5}\n",
    "set2 = {3, 4, 5, 6, 7}\n",
    "print(set1 | set2)\n",
    "print(set1.union(set2))\n",
    "print(set1 & set2)\n",
    "print(set1.intersection(set2))\n",
    "print(set1 - set2)\n",
    "print(set1.difference(set2))\n",
    "print(set1 ^ set2)\n",
    "print(set1.symmetric_difference(set2))"
   ]
  }
 ],
 "metadata": {
  "kernelspec": {
   "display_name": "Python 3",
   "language": "python",
   "name": "python3"
  },
  "language_info": {
   "codemirror_mode": {
    "name": "ipython",
    "version": 3
   },
   "file_extension": ".py",
   "mimetype": "text/x-python",
   "name": "python",
   "nbconvert_exporter": "python",
   "pygments_lexer": "ipython3",
   "version": "3.7.3"
  }
 },
 "nbformat": 4,
 "nbformat_minor": 2
}
