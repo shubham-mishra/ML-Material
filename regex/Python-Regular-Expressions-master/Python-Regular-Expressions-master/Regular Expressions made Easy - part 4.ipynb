{
 "cells": [
  {
   "cell_type": "markdown",
   "metadata": {},
   "source": [
    "## Other types of characters sets"
   ]
  },
  {
   "cell_type": "markdown",
   "metadata": {
    "collapsed": true
   },
   "source": [
    "\n",
    "'\\d'   =  matches digits [0-9]\n",
    "'\\D'   = matches This matches any non-digit character; ~\\d"
   ]
  },
  {
   "cell_type": "code",
   "execution_count": 2,
   "metadata": {},
   "outputs": [
    {
     "data": {
      "text/plain": [
       "'23'"
      ]
     },
     "execution_count": 2,
     "metadata": {},
     "output_type": "execute_result"
    }
   ],
   "source": [
    "import re\n",
    "string = '23abced++'\n",
    "re.search('\\d+', string).group()"
   ]
  },
  {
   "cell_type": "code",
   "execution_count": null,
   "metadata": {
    "collapsed": true
   },
   "outputs": [],
   "source": [
    "'\\s'  = matches any whitespace character   #new lines, tabs, spaces etc\n",
    "'\\S' = matches any non-whitespace chracter #~\\s"
   ]
  },
  {
   "cell_type": "code",
   "execution_count": 53,
   "metadata": {},
   "outputs": [
    {
     "data": {
      "text/plain": [
       "'23abced++'"
      ]
     },
     "execution_count": 53,
     "metadata": {},
     "output_type": "execute_result"
    }
   ],
   "source": [
    "string = '23abced++'\n",
    "re.search('\\S+', string).group()  #no spaces"
   ]
  },
  {
   "cell_type": "code",
   "execution_count": 3,
   "metadata": {},
   "outputs": [],
   "source": [
    "string = '''Robots are branching out. A new prototype soft robot takes inspiration from plants by growing to explore its environment.\n",
    "\n",
    "Vines and some fungi extend from their tips to explore their surroundings. \n",
    "Elliot Hawkes of the University of California in Santa Barbara \n",
    "and his colleagues designed a bot that works \n",
    "on similar principles. Its mechanical body \n",
    "sits inside a plastic tube reel that extends \n",
    "through pressurized inflation, a method that some \n",
    "invertebrates like peanut worms (Sipunculus nudus)\n",
    "also use to extend their appendages. The plastic \n",
    "tubing has two compartments, and inflating one \n",
    "side or the other changes the extension direction. \n",
    "A camera sensor at the tip alerts the bot when it’s \n",
    "about to run into something.\n",
    "\n",
    "In the lab, Hawkes and his colleagues \n",
    "programmed the robot to form 3-D structures such \n",
    "as a radio antenna, turn off a valve, navigate a maze, \n",
    "swim through glue, act as a fire extinguisher, squeeze \n",
    "through tight gaps, shimmy through fly paper and slither \n",
    "across a bed of nails. The soft bot can extend up to \n",
    "72 meters, and unlike plants, it can grow at a speed of \n",
    "10 meters per second, the team reports July 19 in Science Robotics. \n",
    "The design could serve as a model for building robots \n",
    "that can traverse constrained environments\n",
    "\n",
    "This isn’t the first robot to take \n",
    "inspiration from plants. One plantlike \n",
    "predecessor was a robot modeled on roots.'''"
   ]
  },
  {
   "cell_type": "code",
   "execution_count": 4,
   "metadata": {},
   "outputs": [
    {
     "data": {
      "text/plain": [
       "['Robots',\n",
       " 'are',\n",
       " 'branching',\n",
       " 'out.',\n",
       " 'A',\n",
       " 'new',\n",
       " 'prototype',\n",
       " 'soft',\n",
       " 'robot',\n",
       " 'takes',\n",
       " 'inspiration',\n",
       " 'from',\n",
       " 'plants',\n",
       " 'by',\n",
       " 'growing',\n",
       " 'to',\n",
       " 'explore',\n",
       " 'its',\n",
       " 'environment.',\n",
       " 'Vines',\n",
       " 'and',\n",
       " 'some',\n",
       " 'fungi',\n",
       " 'extend',\n",
       " 'from',\n",
       " 'their',\n",
       " 'tips',\n",
       " 'to',\n",
       " 'explore',\n",
       " 'their',\n",
       " 'surroundings.',\n",
       " 'Elliot',\n",
       " 'Hawkes',\n",
       " 'of',\n",
       " 'the',\n",
       " 'University',\n",
       " 'of',\n",
       " 'California',\n",
       " 'in',\n",
       " 'Santa',\n",
       " 'Barbara',\n",
       " 'and',\n",
       " 'his',\n",
       " 'colleagues',\n",
       " 'designed',\n",
       " 'a',\n",
       " 'bot',\n",
       " 'that',\n",
       " 'works',\n",
       " 'on',\n",
       " 'similar',\n",
       " 'principles.',\n",
       " 'Its',\n",
       " 'mechanical',\n",
       " 'body',\n",
       " 'sits',\n",
       " 'inside',\n",
       " 'a',\n",
       " 'plastic',\n",
       " 'tube',\n",
       " 'reel',\n",
       " 'that',\n",
       " 'extends',\n",
       " 'through',\n",
       " 'pressurized',\n",
       " 'inflation,',\n",
       " 'a',\n",
       " 'method',\n",
       " 'that',\n",
       " 'some',\n",
       " 'invertebrates',\n",
       " 'like',\n",
       " 'peanut',\n",
       " 'worms',\n",
       " '(Sipunculus',\n",
       " 'nudus)',\n",
       " 'also',\n",
       " 'use',\n",
       " 'to',\n",
       " 'extend',\n",
       " 'their',\n",
       " 'appendages.',\n",
       " 'The',\n",
       " 'plastic',\n",
       " 'tubing',\n",
       " 'has',\n",
       " 'two',\n",
       " 'compartments,',\n",
       " 'and',\n",
       " 'inflating',\n",
       " 'one',\n",
       " 'side',\n",
       " 'or',\n",
       " 'the',\n",
       " 'other',\n",
       " 'changes',\n",
       " 'the',\n",
       " 'extension',\n",
       " 'direction.',\n",
       " 'A',\n",
       " 'camera',\n",
       " 'sensor',\n",
       " 'at',\n",
       " 'the',\n",
       " 'tip',\n",
       " 'alerts',\n",
       " 'the',\n",
       " 'bot',\n",
       " 'when',\n",
       " 'it’s',\n",
       " 'about',\n",
       " 'to',\n",
       " 'run',\n",
       " 'into',\n",
       " 'something.',\n",
       " 'In',\n",
       " 'the',\n",
       " 'lab,',\n",
       " 'Hawkes',\n",
       " 'and',\n",
       " 'his',\n",
       " 'colleagues',\n",
       " 'programmed',\n",
       " 'the',\n",
       " 'robot',\n",
       " 'to',\n",
       " 'form',\n",
       " '3-D',\n",
       " 'structures',\n",
       " 'such',\n",
       " 'as',\n",
       " 'a',\n",
       " 'radio',\n",
       " 'antenna,',\n",
       " 'turn',\n",
       " 'off',\n",
       " 'a',\n",
       " 'valve,',\n",
       " 'navigate',\n",
       " 'a',\n",
       " 'maze,',\n",
       " 'swim',\n",
       " 'through',\n",
       " 'glue,',\n",
       " 'act',\n",
       " 'as',\n",
       " 'a',\n",
       " 'fire',\n",
       " 'extinguisher,',\n",
       " 'squeeze',\n",
       " 'through',\n",
       " 'tight',\n",
       " 'gaps,',\n",
       " 'shimmy',\n",
       " 'through',\n",
       " 'fly',\n",
       " 'paper',\n",
       " 'and',\n",
       " 'slither',\n",
       " 'across',\n",
       " 'a',\n",
       " 'bed',\n",
       " 'of',\n",
       " 'nails.',\n",
       " 'The',\n",
       " 'soft',\n",
       " 'bot',\n",
       " 'can',\n",
       " 'extend',\n",
       " 'up',\n",
       " 'to',\n",
       " '72',\n",
       " 'meters,',\n",
       " 'and',\n",
       " 'unlike',\n",
       " 'plants,',\n",
       " 'it',\n",
       " 'can',\n",
       " 'grow',\n",
       " 'at',\n",
       " 'a',\n",
       " 'speed',\n",
       " 'of',\n",
       " '10',\n",
       " 'meters',\n",
       " 'per',\n",
       " 'second,',\n",
       " 'the',\n",
       " 'team',\n",
       " 'reports',\n",
       " 'July',\n",
       " '19',\n",
       " 'in',\n",
       " 'Science',\n",
       " 'Robotics.',\n",
       " 'The',\n",
       " 'design',\n",
       " 'could',\n",
       " 'serve',\n",
       " 'as',\n",
       " 'a',\n",
       " 'model',\n",
       " 'for',\n",
       " 'building',\n",
       " 'robots',\n",
       " 'that',\n",
       " 'can',\n",
       " 'traverse',\n",
       " 'constrained',\n",
       " 'environments',\n",
       " 'This',\n",
       " 'isn’t',\n",
       " 'the',\n",
       " 'first',\n",
       " 'robot',\n",
       " 'to',\n",
       " 'take',\n",
       " 'inspiration',\n",
       " 'from',\n",
       " 'plants.',\n",
       " 'One',\n",
       " 'plantlike',\n",
       " 'predecessor',\n",
       " 'was',\n",
       " 'a',\n",
       " 'robot',\n",
       " 'modeled',\n",
       " 'on',\n",
       " 'roots.']"
      ]
     },
     "execution_count": 4,
     "metadata": {},
     "output_type": "execute_result"
    }
   ],
   "source": [
    "(re.findall('\\S+', string) )"
   ]
  },
  {
   "cell_type": "code",
   "execution_count": 5,
   "metadata": {},
   "outputs": [
    {
     "data": {
      "text/plain": [
       "'Robots are branching out. A new prototype soft robot takes inspiration from plants by growing to explore its environment. Vines and some fungi extend from their tips to explore their surroundings. Elliot Hawkes of the University of California in Santa Barbara and his colleagues designed a bot that works on similar principles. Its mechanical body sits inside a plastic tube reel that extends through pressurized inflation, a method that some invertebrates like peanut worms (Sipunculus nudus) also use to extend their appendages. The plastic tubing has two compartments, and inflating one side or the other changes the extension direction. A camera sensor at the tip alerts the bot when it’s about to run into something. In the lab, Hawkes and his colleagues programmed the robot to form 3-D structures such as a radio antenna, turn off a valve, navigate a maze, swim through glue, act as a fire extinguisher, squeeze through tight gaps, shimmy through fly paper and slither across a bed of nails. The soft bot can extend up to 72 meters, and unlike plants, it can grow at a speed of 10 meters per second, the team reports July 19 in Science Robotics. The design could serve as a model for building robots that can traverse constrained environments This isn’t the first robot to take inspiration from plants. One plantlike predecessor was a robot modeled on roots.'"
      ]
     },
     "execution_count": 5,
     "metadata": {},
     "output_type": "execute_result"
    }
   ],
   "source": [
    "' '.join(re.findall('\\S+', string))"
   ]
  },
  {
   "cell_type": "code",
   "execution_count": null,
   "metadata": {
    "collapsed": true
   },
   "outputs": [],
   "source": []
  },
  {
   "cell_type": "code",
   "execution_count": null,
   "metadata": {
    "collapsed": true
   },
   "outputs": [],
   "source": [
    ". the dot matches any character except the newline."
   ]
  },
  {
   "cell_type": "code",
   "execution_count": 6,
   "metadata": {},
   "outputs": [],
   "source": [
    "string = '''Robots are branching out. A new prototype soft robot takes inspiration from plants by growing to explore its environment.\n",
    "\n",
    "Vines and some fungi extend from their tips to explore their surroundings. Elliot Hawkes of the University of California in Santa Barbara and his colleagues designed a bot that works on similar principles. Its mechanical body sits inside a plastic tube reel that extends through pressurized inflation, a method that some invertebrates like peanut worms (Sipunculus nudus) also use to extend their appendages. The plastic tubing has two compartments, and inflating one side or the other changes the extension direction. A camera sensor at the tip alerts the bot when it’s about to run into something.\n",
    "\n",
    "In the lab, Hawkes and his colleagues programmed the robot to form 3-D structures such as a radio antenna, turn off a valve, navigate a maze, swim through glue, act as a fire extinguisher, squeeze through tight gaps, shimmy through fly paper and slither across a bed of nails. The soft bot can extend up to 72 meters, and unlike plants, it can grow at a speed of 10 meters per second, the team reports July 19 in Science Robotics. The design could serve as a model for building robots that can traverse constrained environments\n",
    "\n",
    "This isn’t the first robot to take inspiration from plants. One plantlike predecessor was a robot modeled on roots.'''"
   ]
  },
  {
   "cell_type": "code",
   "execution_count": 60,
   "metadata": {},
   "outputs": [
    {
     "data": {
      "text/plain": [
       "'Robots are branching out. A new prototype soft robot takes inspiration from plants by growing to explore its environment.'"
      ]
     },
     "execution_count": 60,
     "metadata": {},
     "output_type": "execute_result"
    }
   ],
   "source": [
    "re.search('.+', string).group()  #no new line"
   ]
  },
  {
   "cell_type": "code",
   "execution_count": 7,
   "metadata": {},
   "outputs": [
    {
     "data": {
      "text/plain": [
       "'Robots are branching out. A new prototype soft robot takes inspiration from plants by growing to explore its environment.\\n\\nVines and some fungi extend from their tips to explore their surroundings. Elliot Hawkes of the University of California in Santa Barbara and his colleagues designed a bot that works on similar principles. Its mechanical body sits inside a plastic tube reel that extends through pressurized inflation, a method that some invertebrates like peanut worms (Sipunculus nudus) also use to extend their appendages. The plastic tubing has two compartments, and inflating one side or the other changes the extension direction. A camera sensor at the tip alerts the bot when it’s about to run into something.\\n\\nIn the lab, Hawkes and his colleagues programmed the robot to form 3-D structures such as a radio antenna, turn off a valve, navigate a maze, swim through glue, act as a fire extinguisher, squeeze through tight gaps, shimmy through fly paper and slither across a bed of nails. The soft bot can extend up to 72 meters, and unlike plants, it can grow at a speed of 10 meters per second, the team reports July 19 in Science Robotics. The design could serve as a model for building robots that can traverse constrained environments\\n\\nThis isn’t the first robot to take inspiration from plants. One plantlike predecessor was a robot modeled on roots.'"
      ]
     },
     "execution_count": 7,
     "metadata": {},
     "output_type": "execute_result"
    }
   ],
   "source": [
    "re.search('.+', string, flags = re.DOTALL).group()"
   ]
  },
  {
   "cell_type": "code",
   "execution_count": null,
   "metadata": {
    "collapsed": true
   },
   "outputs": [],
   "source": []
  },
  {
   "cell_type": "markdown",
   "metadata": {},
   "source": [
    "## Creating your own character sets"
   ]
  },
  {
   "cell_type": "code",
   "execution_count": null,
   "metadata": {
    "collapsed": true
   },
   "outputs": [],
   "source": [
    "\n",
    "[A-Z]    '-'  is a metacharacter when used in [] (custom character sets)"
   ]
  },
  {
   "cell_type": "code",
   "execution_count": 63,
   "metadata": {
    "collapsed": true
   },
   "outputs": [],
   "source": [
    "string = 'Hello, There, How, Are, You'"
   ]
  },
  {
   "cell_type": "code",
   "execution_count": 64,
   "metadata": {},
   "outputs": [
    {
     "data": {
      "text/plain": [
       "['H', 'T', 'H', 'A', 'Y']"
      ]
     },
     "execution_count": 64,
     "metadata": {},
     "output_type": "execute_result"
    }
   ],
   "source": [
    "re.findall('[A-Z]', string)  #pulls out all capital letters"
   ]
  },
  {
   "cell_type": "code",
   "execution_count": 65,
   "metadata": {},
   "outputs": [
    {
     "data": {
      "text/plain": [
       "['H', ',', 'T', ',', 'H', ',', 'A', ',', 'Y']"
      ]
     },
     "execution_count": 65,
     "metadata": {},
     "output_type": "execute_result"
    }
   ],
   "source": [
    "re.findall('[A-Z,]', string)  #here we search for any capital letters\n",
    "                                #or a comma"
   ]
  },
  {
   "cell_type": "code",
   "execution_count": 67,
   "metadata": {},
   "outputs": [
    {
     "data": {
      "text/plain": [
       "['H', ',', 'T', ',', 'H', ',', 'A', ',', 'Y', '.', '.', '.']"
      ]
     },
     "execution_count": 67,
     "metadata": {},
     "output_type": "execute_result"
    }
   ],
   "source": [
    "string = 'Hello, There, How, Are, You...'\n",
    "re.findall('[A-Z,.]', string)"
   ]
  },
  {
   "cell_type": "code",
   "execution_count": 8,
   "metadata": {},
   "outputs": [
    {
     "data": {
      "text/plain": [
       "['H',\n",
       " 'e',\n",
       " 'l',\n",
       " 'l',\n",
       " 'o',\n",
       " ',',\n",
       " ' ',\n",
       " 'T',\n",
       " 'h',\n",
       " 'e',\n",
       " 'r',\n",
       " 'e',\n",
       " ',',\n",
       " ' ',\n",
       " 'H',\n",
       " 'o',\n",
       " 'w',\n",
       " ',',\n",
       " ' ',\n",
       " 'A',\n",
       " 'r',\n",
       " 'e',\n",
       " ',',\n",
       " ' ',\n",
       " 'Y',\n",
       " 'o',\n",
       " 'u',\n",
       " '.',\n",
       " '.',\n",
       " '.']"
      ]
     },
     "execution_count": 8,
     "metadata": {},
     "output_type": "execute_result"
    }
   ],
   "source": [
    "string = 'Hello, There, How, Are, You...'\n",
    "re.findall('[A-Za-z,\\s.]', string)"
   ]
  },
  {
   "cell_type": "code",
   "execution_count": null,
   "metadata": {
    "collapsed": true
   },
   "outputs": [],
   "source": []
  },
  {
   "cell_type": "code",
   "execution_count": null,
   "metadata": {
    "collapsed": true
   },
   "outputs": [],
   "source": []
  },
  {
   "cell_type": "code",
   "execution_count": null,
   "metadata": {
    "collapsed": true
   },
   "outputs": [],
   "source": []
  },
  {
   "cell_type": "code",
   "execution_count": null,
   "metadata": {
    "collapsed": true
   },
   "outputs": [],
   "source": []
  },
  {
   "cell_type": "code",
   "execution_count": null,
   "metadata": {
    "collapsed": true
   },
   "outputs": [],
   "source": []
  },
  {
   "cell_type": "code",
   "execution_count": null,
   "metadata": {
    "collapsed": true
   },
   "outputs": [],
   "source": []
  }
 ],
 "metadata": {
  "kernelspec": {
   "display_name": "Python 3",
   "language": "python",
   "name": "python3"
  },
  "language_info": {
   "codemirror_mode": {
    "name": "ipython",
    "version": 3
   },
   "file_extension": ".py",
   "mimetype": "text/x-python",
   "name": "python",
   "nbconvert_exporter": "python",
   "pygments_lexer": "ipython3",
   "version": "3.7.3"
  }
 },
 "nbformat": 4,
 "nbformat_minor": 1
}
