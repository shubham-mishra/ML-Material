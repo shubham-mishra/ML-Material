{
 "cells": [
  {
   "cell_type": "code",
   "execution_count": 1,
   "metadata": {},
   "outputs": [
    {
     "name": "stderr",
     "output_type": "stream",
     "text": [
      "Using TensorFlow backend.\n"
     ]
    }
   ],
   "source": [
    "%matplotlib inline\n",
    "import warnings\n",
    "warnings.filterwarnings(\"ignore\")\n",
    "import sqlite3\n",
    "import pandas as pd\n",
    "import numpy as np\n",
    "import matplotlib.pyplot as plt\n",
    "import seaborn as sns\n",
    "import re\n",
    "import bs4\n",
    "import nltk\n",
    "from numpy import asarray\n",
    "import pickle\n",
    "from tqdm import tqdm\n",
    "from nltk.stem import WordNetLemmatizer \n",
    "from nltk.corpus import wordnet\n",
    "from collections import Counter\n",
    "from time import time \n",
    "\n",
    "from sklearn.preprocessing import OneHotEncoder, StandardScaler\n",
    "from sklearn.feature_extraction.text import CountVectorizer, TfidfVectorizer\n",
    "from sklearn.model_selection import train_test_split\n",
    "from sklearn.metrics import roc_auc_score,accuracy_score\n",
    "\n",
    "from keras.preprocessing import sequence\n",
    "from keras.preprocessing.text import Tokenizer\n",
    "from keras.preprocessing.sequence import pad_sequences\n",
    "from keras.models import Sequential\n",
    "from keras.layers import Embedding, Dense, LSTM, Dropout, Conv1D, MaxPooling1D, concatenate, Input, Flatten\n",
    "import tensorflow as tf\n",
    "from keras.models import Model\n",
    "# from tensorflow.python.keras.callbacks import TensorBoard\n",
    "# from keras.callbacks.tensorboard_v1 import TensorBoard\n",
    "from keras.callbacks import TensorBoard\n",
    "import keras\n",
    "\n",
    "from scipy.sparse import hstack"
   ]
  },
  {
   "cell_type": "markdown",
   "metadata": {},
   "source": [
    "## Reading Data"
   ]
  },
  {
   "cell_type": "code",
   "execution_count": 2,
   "metadata": {},
   "outputs": [],
   "source": [
    "data = pd.read_csv('preprocessed_data.csv')"
   ]
  },
  {
   "cell_type": "code",
   "execution_count": 3,
   "metadata": {},
   "outputs": [
    {
     "data": {
      "text/html": [
       "<div>\n",
       "<style scoped>\n",
       "    .dataframe tbody tr th:only-of-type {\n",
       "        vertical-align: middle;\n",
       "    }\n",
       "\n",
       "    .dataframe tbody tr th {\n",
       "        vertical-align: top;\n",
       "    }\n",
       "\n",
       "    .dataframe thead th {\n",
       "        text-align: right;\n",
       "    }\n",
       "</style>\n",
       "<table border=\"1\" class=\"dataframe\">\n",
       "  <thead>\n",
       "    <tr style=\"text-align: right;\">\n",
       "      <th></th>\n",
       "      <th>school_state</th>\n",
       "      <th>teacher_prefix</th>\n",
       "      <th>project_grade_category</th>\n",
       "      <th>teacher_number_of_previously_posted_projects</th>\n",
       "      <th>project_is_approved</th>\n",
       "      <th>clean_categories</th>\n",
       "      <th>clean_subcategories</th>\n",
       "      <th>essay</th>\n",
       "      <th>price</th>\n",
       "    </tr>\n",
       "  </thead>\n",
       "  <tbody>\n",
       "    <tr>\n",
       "      <td>0</td>\n",
       "      <td>ca</td>\n",
       "      <td>mrs</td>\n",
       "      <td>grades_prek_2</td>\n",
       "      <td>53</td>\n",
       "      <td>1</td>\n",
       "      <td>math_science</td>\n",
       "      <td>appliedsciences health_lifescience</td>\n",
       "      <td>i fortunate enough use fairy tale stem kits cl...</td>\n",
       "      <td>725.05</td>\n",
       "    </tr>\n",
       "    <tr>\n",
       "      <td>1</td>\n",
       "      <td>ut</td>\n",
       "      <td>ms</td>\n",
       "      <td>grades_3_5</td>\n",
       "      <td>4</td>\n",
       "      <td>1</td>\n",
       "      <td>specialneeds</td>\n",
       "      <td>specialneeds</td>\n",
       "      <td>imagine 8 9 years old you third grade classroo...</td>\n",
       "      <td>213.03</td>\n",
       "    </tr>\n",
       "    <tr>\n",
       "      <td>2</td>\n",
       "      <td>ca</td>\n",
       "      <td>mrs</td>\n",
       "      <td>grades_prek_2</td>\n",
       "      <td>10</td>\n",
       "      <td>1</td>\n",
       "      <td>literacy_language</td>\n",
       "      <td>literacy</td>\n",
       "      <td>having class 24 students comes diverse learner...</td>\n",
       "      <td>329.00</td>\n",
       "    </tr>\n",
       "    <tr>\n",
       "      <td>3</td>\n",
       "      <td>ga</td>\n",
       "      <td>mrs</td>\n",
       "      <td>grades_prek_2</td>\n",
       "      <td>2</td>\n",
       "      <td>1</td>\n",
       "      <td>appliedlearning</td>\n",
       "      <td>earlydevelopment</td>\n",
       "      <td>i recently read article giving students choice...</td>\n",
       "      <td>481.04</td>\n",
       "    </tr>\n",
       "    <tr>\n",
       "      <td>4</td>\n",
       "      <td>wa</td>\n",
       "      <td>mrs</td>\n",
       "      <td>grades_3_5</td>\n",
       "      <td>2</td>\n",
       "      <td>1</td>\n",
       "      <td>literacy_language</td>\n",
       "      <td>literacy</td>\n",
       "      <td>my students crave challenge eat obstacles brea...</td>\n",
       "      <td>17.74</td>\n",
       "    </tr>\n",
       "  </tbody>\n",
       "</table>\n",
       "</div>"
      ],
      "text/plain": [
       "  school_state teacher_prefix project_grade_category  \\\n",
       "0           ca            mrs          grades_prek_2   \n",
       "1           ut             ms             grades_3_5   \n",
       "2           ca            mrs          grades_prek_2   \n",
       "3           ga            mrs          grades_prek_2   \n",
       "4           wa            mrs             grades_3_5   \n",
       "\n",
       "   teacher_number_of_previously_posted_projects  project_is_approved  \\\n",
       "0                                            53                    1   \n",
       "1                                             4                    1   \n",
       "2                                            10                    1   \n",
       "3                                             2                    1   \n",
       "4                                             2                    1   \n",
       "\n",
       "    clean_categories                 clean_subcategories  \\\n",
       "0       math_science  appliedsciences health_lifescience   \n",
       "1       specialneeds                        specialneeds   \n",
       "2  literacy_language                            literacy   \n",
       "3    appliedlearning                    earlydevelopment   \n",
       "4  literacy_language                            literacy   \n",
       "\n",
       "                                               essay   price  \n",
       "0  i fortunate enough use fairy tale stem kits cl...  725.05  \n",
       "1  imagine 8 9 years old you third grade classroo...  213.03  \n",
       "2  having class 24 students comes diverse learner...  329.00  \n",
       "3  i recently read article giving students choice...  481.04  \n",
       "4  my students crave challenge eat obstacles brea...   17.74  "
      ]
     },
     "execution_count": 3,
     "metadata": {},
     "output_type": "execute_result"
    }
   ],
   "source": [
    "data.head()"
   ]
  },
  {
   "cell_type": "code",
   "execution_count": 4,
   "metadata": {},
   "outputs": [
    {
     "data": {
      "text/plain": [
       "(109248, 9)"
      ]
     },
     "execution_count": 4,
     "metadata": {},
     "output_type": "execute_result"
    }
   ],
   "source": [
    "data.shape"
   ]
  },
  {
   "cell_type": "code",
   "execution_count": 5,
   "metadata": {},
   "outputs": [],
   "source": [
    "X = data.loc[:,data.columns != 'project_is_approved']\n",
    "y = data['project_is_approved']"
   ]
  },
  {
   "cell_type": "code",
   "execution_count": 6,
   "metadata": {},
   "outputs": [
    {
     "name": "stdout",
     "output_type": "stream",
     "text": [
      "(109248, 8) (109248,)\n"
     ]
    }
   ],
   "source": [
    "print(X.shape, y.shape)"
   ]
  },
  {
   "cell_type": "markdown",
   "metadata": {},
   "source": [
    "## defining function to plot loss"
   ]
  },
  {
   "cell_type": "code",
   "execution_count": 7,
   "metadata": {},
   "outputs": [],
   "source": [
    "def plt_dynamic(x, vy, ty, ax, colors=['b']):\n",
    "    ax.plot(x, vy, 'b', label=\"Validation Loss\")\n",
    "    ax.plot(x, ty, 'r', label=\"Train Loss\")\n",
    "    plt.legend()\n",
    "    plt.grid()\n",
    "    fig.canvas.draw()"
   ]
  },
  {
   "cell_type": "markdown",
   "metadata": {},
   "source": [
    "## Splitting data into train, test and CV "
   ]
  },
  {
   "cell_type": "code",
   "execution_count": 8,
   "metadata": {},
   "outputs": [],
   "source": [
    "X_1, X_test, y_1, y_test = train_test_split(X, y, test_size=0.15, random_state=1, stratify=y)\n",
    "X_train, X_cv, y_train, y_cv = train_test_split(X_1, y_1, test_size=0.2, random_state=1, stratify=y_1);"
   ]
  },
  {
   "cell_type": "markdown",
   "metadata": {},
   "source": [
    "## Converting y to one hot encoded vector"
   ]
  },
  {
   "cell_type": "code",
   "execution_count": 9,
   "metadata": {},
   "outputs": [],
   "source": [
    "encoder = OneHotEncoder()\n",
    "y_train = encoder.fit_transform(np.array(y_train).reshape(-1, 1))\n",
    "y_test = encoder.transform(np.array(y_test).reshape(-1, 1))\n",
    "y_cv = encoder.transform(np.array(y_cv).reshape(-1, 1))\n",
    "\n",
    "y_train = y_train.toarray()\n",
    "y_test = y_test.toarray()\n",
    "y_cv = y_cv.toarray()"
   ]
  },
  {
   "cell_type": "code",
   "execution_count": 10,
   "metadata": {},
   "outputs": [
    {
     "name": "stdout",
     "output_type": "stream",
     "text": [
      "shape of output variable (74288, 2), (16388, 2), (18572, 2)\n"
     ]
    }
   ],
   "source": [
    "print(f'shape of output variable {y_train.shape}, {y_test.shape}, {y_cv.shape}')"
   ]
  },
  {
   "cell_type": "markdown",
   "metadata": {},
   "source": [
    "## encoding Categorical Data"
   ]
  },
  {
   "cell_type": "markdown",
   "metadata": {},
   "source": [
    "### encoding school_state "
   ]
  },
  {
   "cell_type": "code",
   "execution_count": 11,
   "metadata": {},
   "outputs": [],
   "source": [
    "school_states = data['school_state'].values\n",
    "unique_states = list(set(school_states))\n",
    "\n",
    "train_school_state = np.array([unique_states.index(school_state) for school_state in X_train['school_state'].values])\n",
    "test_school_state = np.array([unique_states.index(school_state) for school_state in X_test['school_state'].values])\n",
    "cv_school_state = np.array([unique_states.index(school_state) for school_state in X_cv['school_state'].values])"
   ]
  },
  {
   "cell_type": "markdown",
   "metadata": {},
   "source": [
    "### encoding teacher prefix"
   ]
  },
  {
   "cell_type": "code",
   "execution_count": 12,
   "metadata": {},
   "outputs": [],
   "source": [
    "teacher_prefix = data['teacher_prefix'].values\n",
    "unique_teacher_prefix = list(set(teacher_prefix))\n",
    "\n",
    "train_teacher_prefix = np.array([unique_teacher_prefix.index(teacher_prefix) for teacher_prefix in X_train['teacher_prefix'].values])\n",
    "test_teacher_prefix = np.array([unique_teacher_prefix.index(teacher_prefix) for teacher_prefix in X_test['teacher_prefix'].values])\n",
    "cv_teacher_prefix = np.array([unique_teacher_prefix.index(teacher_prefix) for teacher_prefix in X_cv['teacher_prefix'].values])\n"
   ]
  },
  {
   "cell_type": "markdown",
   "metadata": {},
   "source": [
    "### encoding project_grade_category"
   ]
  },
  {
   "cell_type": "code",
   "execution_count": 13,
   "metadata": {},
   "outputs": [],
   "source": [
    "project_grade_category = data['project_grade_category'].values\n",
    "unique_project_grade_category = list(set(project_grade_category))\n",
    "\n",
    "train_project_grade_category = np.array([unique_project_grade_category.index(project_grade_category) for project_grade_category in X_train['project_grade_category'].values])\n",
    "test_project_grade_category = np.array([unique_project_grade_category.index(project_grade_category) for project_grade_category in X_test['project_grade_category'].values])\n",
    "cv_project_grade_category = np.array([unique_project_grade_category.index(project_grade_category) for project_grade_category in X_cv['project_grade_category'].values])\n"
   ]
  },
  {
   "cell_type": "markdown",
   "metadata": {},
   "source": [
    "### encoding clean_categories"
   ]
  },
  {
   "cell_type": "code",
   "execution_count": 14,
   "metadata": {},
   "outputs": [],
   "source": [
    "#building vocab for category\n",
    "my_counter = Counter()\n",
    "for word in data['clean_categories'].values:\n",
    "    my_counter.update(word.split())\n",
    "    \n",
    "cat_dict = dict(my_counter)\n",
    "vocab_list_categories = [cat for cat, count in cat_dict.items()]"
   ]
  },
  {
   "cell_type": "code",
   "execution_count": 15,
   "metadata": {},
   "outputs": [],
   "source": [
    "\n",
    "train_categories = []\n",
    "max_cat_vector_len = 0\n",
    "for text in X_train['clean_categories']:\n",
    "    new_text = [vocab_list_categories.index(word)+1 for word in text.split()]\n",
    "    train_categories.append(new_text)\n",
    "    if len(new_text) > max_cat_vector_len:\n",
    "        max_cat_vector_len = len(new_text)\n",
    "\n",
    "test_categories = []\n",
    "for text in X_test['clean_categories']:\n",
    "    new_text = [vocab_list_categories.index(word)+1 for word in text.split()]\n",
    "    test_categories.append(new_text)\n",
    "    if len(new_text) > max_cat_vector_len:\n",
    "        max_cat_vector_len = len(new_text)\n",
    "\n",
    "\n",
    "cv_categories = []\n",
    "for text in X_cv['clean_categories']:\n",
    "    new_text = [vocab_list_categories.index(word)+1 for word in text.split()]\n",
    "    cv_categories.append(new_text)\n",
    "    if len(new_text) > max_cat_vector_len:\n",
    "        max_cat_vector_len = len(new_text)"
   ]
  },
  {
   "cell_type": "code",
   "execution_count": 16,
   "metadata": {},
   "outputs": [],
   "source": [
    "train_categories = sequence.pad_sequences(train_categories, maxlen = max_cat_vector_len)\n",
    "test_categories = sequence.pad_sequences(test_categories, maxlen = max_cat_vector_len)\n",
    "cv_categories = sequence.pad_sequences(cv_categories, maxlen=max_cat_vector_len)"
   ]
  },
  {
   "cell_type": "markdown",
   "metadata": {},
   "source": [
    "### performing padding to make all encodings of same length"
   ]
  },
  {
   "cell_type": "code",
   "execution_count": 17,
   "metadata": {},
   "outputs": [
    {
     "name": "stdout",
     "output_type": "stream",
     "text": [
      "vector length => train: 3, test: 3, cv: 3\n"
     ]
    }
   ],
   "source": [
    "\n",
    "print(f'vector length => train: {len(train_categories[0])}, test: {len(test_categories[0])}, cv: {len(cv_categories[0])}')"
   ]
  },
  {
   "cell_type": "markdown",
   "metadata": {},
   "source": [
    "### vectorizing clean_subcategories"
   ]
  },
  {
   "cell_type": "code",
   "execution_count": 18,
   "metadata": {},
   "outputs": [],
   "source": [
    "#building vocab for subcategories\n",
    "counter = Counter()\n",
    "for word in data['clean_subcategories']:\n",
    "    counter.update(word.split())\n",
    "    \n",
    "subcat_dict = dict(counter)\n",
    "vocab_list_subcategories = [subcat for subcat, counts in subcat_dict.items()]"
   ]
  },
  {
   "cell_type": "code",
   "execution_count": 19,
   "metadata": {},
   "outputs": [],
   "source": [
    "max_cat_vector_len = 0\n",
    "train_subcategories = []\n",
    "for text in X_train['clean_subcategories']:\n",
    "    new_text = [vocab_list_subcategories.index(word)+1 for word in text.split()]\n",
    "    train_subcategories.append(new_text)\n",
    "    if len(new_text) > max_cat_vector_len:\n",
    "        max_cat_vector_len = len(new_text)\n",
    "\n",
    "test_subcategories = []\n",
    "for text in X_test['clean_subcategories']:\n",
    "    new_text = [vocab_list_subcategories.index(word)+1 for word in text.split()]\n",
    "    test_subcategories.append(new_text)\n",
    "    if len(new_text) > max_cat_vector_len:\n",
    "        max_cat_vector_len = len(new_text)\n",
    "\n",
    "cv_subcategories = []\n",
    "for text in X_cv['clean_subcategories']:\n",
    "    new_text = [vocab_list_subcategories.index(word)+1 for word in text.split()]\n",
    "    cv_subcategories.append(new_text)\n",
    "    if len(new_text) > max_cat_vector_len:\n",
    "        max_cat_vector_len = len(new_text)\n"
   ]
  },
  {
   "cell_type": "code",
   "execution_count": 20,
   "metadata": {},
   "outputs": [],
   "source": [
    "train_subcategories = sequence.pad_sequences(train_subcategories, maxlen = max_cat_vector_len)\n",
    "test_subcategories = sequence.pad_sequences(test_subcategories, maxlen = max_cat_vector_len)\n",
    "cv_subcategories = sequence.pad_sequences(cv_subcategories, maxlen = max_cat_vector_len)"
   ]
  },
  {
   "cell_type": "markdown",
   "metadata": {},
   "source": [
    "## Encoding Numerical Data"
   ]
  },
  {
   "cell_type": "markdown",
   "metadata": {},
   "source": [
    "### standardizing price"
   ]
  },
  {
   "cell_type": "code",
   "execution_count": 21,
   "metadata": {},
   "outputs": [],
   "source": [
    "scaler = StandardScaler()\n",
    "\n",
    "scaler.fit(X_train['price'].values.reshape(-1, 1))\n",
    "\n",
    "train_price = scaler.transform(X_train['price'].values.reshape(-1, 1))\n",
    "test_price = scaler.transform(X_test['price'].values.reshape(-1, 1))\n",
    "cv_price = scaler.transform(X_cv['price'].values.reshape(-1, 1))"
   ]
  },
  {
   "cell_type": "markdown",
   "metadata": {},
   "source": [
    "### teacher_number_of_previously_posted_projects"
   ]
  },
  {
   "cell_type": "code",
   "execution_count": 22,
   "metadata": {},
   "outputs": [],
   "source": [
    "scaler = StandardScaler()\n",
    "\n",
    "scaler.fit(X_train['teacher_number_of_previously_posted_projects'].values.reshape(-1, 1))\n",
    "\n",
    "train_teacher_number = scaler.transform(X_train['teacher_number_of_previously_posted_projects'].values.reshape(-1,1))\n",
    "test_teacher_number = scaler.transform(X_test['teacher_number_of_previously_posted_projects'].values.reshape(-1, 1))\n",
    "cv_teacher_number = scaler.transform(X_cv['teacher_number_of_previously_posted_projects'].values.reshape(-1, 1))"
   ]
  },
  {
   "cell_type": "code",
   "execution_count": 23,
   "metadata": {},
   "outputs": [],
   "source": [
    "#combining price and np.concatenate((train_price, train_teacher_number), axis=1)\n",
    "train_price_teacher = np.concatenate((train_price, train_teacher_number), axis=1)\n",
    "test_price_teacher = np.concatenate((test_price, test_teacher_number), axis=1)\n",
    "cv_price_teacher = np.concatenate((cv_price, cv_teacher_number), axis=1)"
   ]
  },
  {
   "cell_type": "markdown",
   "metadata": {},
   "source": [
    "## Vectorizing essay using word2vec"
   ]
  },
  {
   "cell_type": "markdown",
   "metadata": {},
   "source": [
    "### loading glove vector used to perform word2vec"
   ]
  },
  {
   "cell_type": "code",
   "execution_count": 24,
   "metadata": {},
   "outputs": [
    {
     "name": "stderr",
     "output_type": "stream",
     "text": [
      "IOPub data rate exceeded.\n",
      "The notebook server will temporarily stop sending output\n",
      "to the client in order to avoid crashing it.\n",
      "To change this limit, set the config variable\n",
      "`--NotebookApp.iopub_data_rate_limit`.\n",
      "\n",
      "Current values:\n",
      "NotebookApp.iopub_data_rate_limit=1000000.0 (bytes/sec)\n",
      "NotebookApp.rate_limit_window=3.0 (secs)\n",
      "\n"
     ]
    },
    {
     "name": "stdout",
     "output_type": "stream",
     "text": [
      "\n",
      "[[   4    1   90 ...    0    0    0]\n",
      " [ 210 2087    1 ...    0    0    0]\n",
      " [ 565    6   87 ...    0    0    0]\n",
      " ...\n",
      " [  46  489   99 ...    0    0    0]\n",
      " [   7    1   23 ...    0    0    0]\n",
      " [   4    1   19 ...    0    0    0]]\n"
     ]
    }
   ],
   "source": [
    "#https://machinelearningmastery.com/use-word-embedding-layers-deep-learning-keras/\n",
    "\n",
    "# prepare tokenizer\n",
    "t = Tokenizer()\n",
    "t.fit_on_texts(X_train[\"essay\"])\n",
    "vocab_size = len(t.word_index) + 1\n",
    "# integer encode the X_train[\"essay\"]\n",
    "encoded_docs_train = t.texts_to_sequences(X_train[\"essay\"])\n",
    "print(encoded_docs_train)\n",
    "# pad documents to a max length of 500 words\n",
    "max_length = 500\n",
    "padded_docs_train = pad_sequences(encoded_docs_train, maxlen=max_length, padding='post')\n",
    "print(padded_docs_train)"
   ]
  },
  {
   "cell_type": "code",
   "execution_count": 25,
   "metadata": {},
   "outputs": [
    {
     "name": "stdout",
     "output_type": "stream",
     "text": [
      "[[   2  211  206 ...    0    0    0]\n",
      " [   4    1 1016 ...    0    0    0]\n",
      " [ 351   30  635 ...    0    0    0]\n",
      " ...\n",
      " [   4   23   17 ...    0    0    0]\n",
      " [  46  343  708 ...    0    0    0]\n",
      " [  14  345  905 ...    0    0    0]]\n"
     ]
    }
   ],
   "source": [
    "# integer encode the X_cv[\"essay\"]\n",
    "encoded_docs_cv = t.texts_to_sequences(X_cv[\"essay\"])\n",
    "padded_docs_cv = pad_sequences(encoded_docs_cv, maxlen=max_length, padding='post')\n",
    "print(padded_docs_cv)"
   ]
  },
  {
   "cell_type": "code",
   "execution_count": 26,
   "metadata": {},
   "outputs": [
    {
     "name": "stdout",
     "output_type": "stream",
     "text": [
      "[[   2   49  954 ...    0    0    0]\n",
      " [   2   49  275 ...    0    0    0]\n",
      " [  25  168  215 ...    0    0    0]\n",
      " ...\n",
      " [   4    1  193 ...    0    0    0]\n",
      " [   2  124  767 ...    0    0    0]\n",
      " [ 737   94 1077 ...    0    0    0]]\n"
     ]
    }
   ],
   "source": [
    "# integer encode the X_test[\"essay\"]\n",
    "encoded_docs_test = t.texts_to_sequences(X_test[\"essay\"])\n",
    "padded_docs_test = pad_sequences(encoded_docs_test, maxlen=max_length, padding='post')\n",
    "print(padded_docs_test)"
   ]
  },
  {
   "cell_type": "code",
   "execution_count": 27,
   "metadata": {},
   "outputs": [
    {
     "name": "stdout",
     "output_type": "stream",
     "text": [
      "Loaded 400000 word vectors.\n"
     ]
    }
   ],
   "source": [
    "# load the whole embedding into memory\n",
    "embeddings_index = dict()\n",
    "f = open('./NLP/glove/glove.6B.300d.txt', encoding=\"utf8\")\n",
    "for line in f:\n",
    "    values = line.split()\n",
    "    word = values[0]\n",
    "    coefs = asarray(values[1:], dtype='float32')\n",
    "    embeddings_index[word] = coefs\n",
    "f.close()\n",
    "print('Loaded %s word vectors.' % len(embeddings_index))"
   ]
  },
  {
   "cell_type": "code",
   "execution_count": 28,
   "metadata": {},
   "outputs": [],
   "source": [
    "# create a weight matrix for words in training docs\n",
    "embedding_matrix = np.zeros((vocab_size, 300))\n",
    "for word, i in t.word_index.items():\n",
    "    embedding_vector = embeddings_index.get(word)\n",
    "    if embedding_vector is not None:\n",
    "        embedding_matrix[i] = embedding_vector"
   ]
  },
  {
   "cell_type": "markdown",
   "metadata": {},
   "source": [
    "### defining epochs"
   ]
  },
  {
   "cell_type": "code",
   "execution_count": 29,
   "metadata": {},
   "outputs": [],
   "source": [
    "epochs = 12"
   ]
  },
  {
   "cell_type": "markdown",
   "metadata": {},
   "source": [
    "<h2>AUCROC For Keras</h2>"
   ]
  },
  {
   "cell_type": "code",
   "execution_count": 30,
   "metadata": {},
   "outputs": [],
   "source": [
    "from keras import backend as K\n",
    "def auc(y_true, y_pred):\n",
    "    auc = tf.metrics.auc(y_true, y_pred)[1]\n",
    "    K.get_session().run(tf.local_variables_initializer())\n",
    "    return auc"
   ]
  },
  {
   "cell_type": "markdown",
   "metadata": {},
   "source": [
    "## Model: 1"
   ]
  },
  {
   "cell_type": "markdown",
   "metadata": {},
   "source": [
    "<img src='https://i.imgur.com/w395Yk9.png'>\n",
    "\n",
    "ref: https://i.imgur.com/w395Yk9.png"
   ]
  },
  {
   "cell_type": "code",
   "execution_count": 31,
   "metadata": {},
   "outputs": [
    {
     "name": "stdout",
     "output_type": "stream",
     "text": [
      "WARNING:tensorflow:From C:\\Users\\mishra_s\\AppData\\Local\\Continuum\\anaconda3\\lib\\site-packages\\tensorflow\\python\\framework\\op_def_library.py:263: colocate_with (from tensorflow.python.framework.ops) is deprecated and will be removed in a future version.\n",
      "Instructions for updating:\n",
      "Colocations handled automatically by placer.\n",
      "WARNING:tensorflow:From C:\\Users\\mishra_s\\AppData\\Local\\Continuum\\anaconda3\\lib\\site-packages\\keras\\backend\\tensorflow_backend.py:3733: calling dropout (from tensorflow.python.ops.nn_ops) with keep_prob is deprecated and will be removed in a future version.\n",
      "Instructions for updating:\n",
      "Please use `rate` instead of `keep_prob`. Rate should be set to `rate = 1 - keep_prob`.\n"
     ]
    }
   ],
   "source": [
    "#clearing the graph of tensorflow\n",
    "keras.backend.clear_session()\n",
    "\n",
    "\n",
    "#input_text branch\n",
    "input_text_data = Input(shape=(500,), name='input_text_data')\n",
    "embedding_essay = Embedding(input_dim=vocab_size, output_dim=300, weights=[embedding_matrix], input_length=500, trainable=False)(input_text_data)\n",
    "lstm_out = LSTM(100, return_sequences=True)(embedding_essay)\n",
    "flatten = Flatten()(lstm_out)\n",
    "\n",
    "#school_state_branch\n",
    "school_state_features_size = 1\n",
    "vocab_size = input_dim=len(unique_states)+1\n",
    "\n",
    "input_school_state = Input(shape=(school_state_features_size,), name='input_school_state')\n",
    "emb_state_data = Embedding(input_dim=vocab_size, output_dim=5, input_length=school_state_features_size)(input_school_state)\n",
    "flatten_1 = Flatten()(emb_state_data)\n",
    "\n",
    "#project_grade_category branch\n",
    "pgc_features_size = 1\n",
    "voacb_size = len(unique_project_grade_category)+1\n",
    "\n",
    "input_pgc = Input(shape=(pgc_features_size, ), name='input_pgc')\n",
    "emb_pgc_data = Embedding(input_dim=voacb_size, output_dim=5, input_length=pgc_features_size)(input_pgc)\n",
    "flatten_2 = Flatten()(emb_pgc_data)\n",
    "\n",
    "#clean_categories branch\n",
    "categories_features_size = len(train_categories[0])\n",
    "vocab_size = len(vocab_list_categories)+1\n",
    "\n",
    "input_categories = Input(shape=(categories_features_size, ), name='input_categories')\n",
    "emb_categories = Embedding(input_dim=vocab_size, output_dim=5, input_length=categories_features_size)(input_categories)\n",
    "flatten_3 = Flatten()(emb_categories)\n",
    "\n",
    "#clean_sub_categories branch\n",
    "sub_categories_features_size = len(train_subcategories[0])\n",
    "vocab_size = len(vocab_list_subcategories)+1\n",
    "\n",
    "input_subcategories = Input(shape=(sub_categories_features_size, ), name='input_subcategories')\n",
    "emb_subcategories = Embedding(input_dim=vocab_size, output_dim=5, input_length=sub_categories_features_size)(input_subcategories)\n",
    "flatten_4 = Flatten()(emb_subcategories)\n",
    "\n",
    "#teacher_prefix branch\n",
    "teacher_prefix_feature_size = 1\n",
    "vocab_size  = len(unique_teacher_prefix)+1\n",
    "\n",
    "input_teacher_prefix = Input(shape=(teacher_prefix_feature_size, ), name='input_teacher_prefix')\n",
    "emb_teacher_prefix = Embedding(input_dim=vocab_size, output_dim=5, input_length=teacher_prefix_feature_size)(input_teacher_prefix)\n",
    "flatten_5 = Flatten()(emb_teacher_prefix)\n",
    "\n",
    "#numeric data branch\n",
    "no_of_features = 2\n",
    "input_for_rem = Input(shape=(no_of_features,), name='input_for_rem')\n",
    "dense_for_rem_input = Dense(10, activation=\"relu\", input_shape=(no_of_features,), kernel_initializer=\"he_normal\")(input_for_rem)\n",
    "\n",
    "#concatenating\n",
    "concated_data = concatenate([flatten, flatten_1, flatten_2, flatten_3, flatten_4, flatten_5, dense_for_rem_input])\n",
    "\n",
    "#first dense layer\n",
    "dense_1 = Dense(256, activation='relu', kernel_initializer='he_normal')(concated_data)\n",
    "dropout = Dropout(0.3)(dense_1)\n",
    "\n",
    "#second dense layer\n",
    "dense_2 = Dense(128, activation='relu', kernel_initializer='he_normal')(dropout)\n",
    "dropout_1 = Dropout(0.3)(dense_2)\n",
    "\n",
    "#thrid dense layer\n",
    "dense_3 =  Dense(64, activation='relu', kernel_initializer='he_normal')(dropout_1)\n",
    "\n",
    "#softmax layer\n",
    "output = Dense(2, activation='softmax')(dense_3)\n",
    "\n",
    "\n",
    "model = Model(\n",
    "    inputs=[input_text_data, input_school_state, \n",
    "            input_pgc, input_categories, \n",
    "            input_subcategories, input_teacher_prefix, \n",
    "            input_for_rem], \n",
    "    outputs=output)"
   ]
  },
  {
   "cell_type": "code",
   "execution_count": 32,
   "metadata": {},
   "outputs": [
    {
     "name": "stdout",
     "output_type": "stream",
     "text": [
      "Model: \"model_1\"\n",
      "__________________________________________________________________________________________________\n",
      "Layer (type)                    Output Shape         Param #     Connected to                     \n",
      "==================================================================================================\n",
      "input_text_data (InputLayer)    (None, 500)          0                                            \n",
      "__________________________________________________________________________________________________\n",
      "embedding_1 (Embedding)         (None, 500, 300)     14511600    input_text_data[0][0]            \n",
      "__________________________________________________________________________________________________\n",
      "input_school_state (InputLayer) (None, 1)            0                                            \n",
      "__________________________________________________________________________________________________\n",
      "input_pgc (InputLayer)          (None, 1)            0                                            \n",
      "__________________________________________________________________________________________________\n",
      "input_categories (InputLayer)   (None, 3)            0                                            \n",
      "__________________________________________________________________________________________________\n",
      "input_subcategories (InputLayer (None, 3)            0                                            \n",
      "__________________________________________________________________________________________________\n",
      "input_teacher_prefix (InputLaye (None, 1)            0                                            \n",
      "__________________________________________________________________________________________________\n",
      "lstm_1 (LSTM)                   (None, 500, 100)     160400      embedding_1[0][0]                \n",
      "__________________________________________________________________________________________________\n",
      "embedding_2 (Embedding)         (None, 1, 5)         260         input_school_state[0][0]         \n",
      "__________________________________________________________________________________________________\n",
      "embedding_3 (Embedding)         (None, 1, 5)         25          input_pgc[0][0]                  \n",
      "__________________________________________________________________________________________________\n",
      "embedding_4 (Embedding)         (None, 3, 5)         50          input_categories[0][0]           \n",
      "__________________________________________________________________________________________________\n",
      "embedding_5 (Embedding)         (None, 3, 5)         155         input_subcategories[0][0]        \n",
      "__________________________________________________________________________________________________\n",
      "embedding_6 (Embedding)         (None, 1, 5)         30          input_teacher_prefix[0][0]       \n",
      "__________________________________________________________________________________________________\n",
      "input_for_rem (InputLayer)      (None, 2)            0                                            \n",
      "__________________________________________________________________________________________________\n",
      "flatten_1 (Flatten)             (None, 50000)        0           lstm_1[0][0]                     \n",
      "__________________________________________________________________________________________________\n",
      "flatten_2 (Flatten)             (None, 5)            0           embedding_2[0][0]                \n",
      "__________________________________________________________________________________________________\n",
      "flatten_3 (Flatten)             (None, 5)            0           embedding_3[0][0]                \n",
      "__________________________________________________________________________________________________\n",
      "flatten_4 (Flatten)             (None, 15)           0           embedding_4[0][0]                \n",
      "__________________________________________________________________________________________________\n",
      "flatten_5 (Flatten)             (None, 15)           0           embedding_5[0][0]                \n",
      "__________________________________________________________________________________________________\n",
      "flatten_6 (Flatten)             (None, 5)            0           embedding_6[0][0]                \n",
      "__________________________________________________________________________________________________\n",
      "dense_1 (Dense)                 (None, 10)           30          input_for_rem[0][0]              \n",
      "__________________________________________________________________________________________________\n",
      "concatenate_1 (Concatenate)     (None, 50055)        0           flatten_1[0][0]                  \n",
      "                                                                 flatten_2[0][0]                  \n",
      "                                                                 flatten_3[0][0]                  \n",
      "                                                                 flatten_4[0][0]                  \n",
      "                                                                 flatten_5[0][0]                  \n",
      "                                                                 flatten_6[0][0]                  \n",
      "                                                                 dense_1[0][0]                    \n",
      "__________________________________________________________________________________________________\n",
      "dense_2 (Dense)                 (None, 256)          12814336    concatenate_1[0][0]              \n",
      "__________________________________________________________________________________________________\n",
      "dropout_1 (Dropout)             (None, 256)          0           dense_2[0][0]                    \n",
      "__________________________________________________________________________________________________\n",
      "dense_3 (Dense)                 (None, 128)          32896       dropout_1[0][0]                  \n",
      "__________________________________________________________________________________________________\n",
      "dropout_2 (Dropout)             (None, 128)          0           dense_3[0][0]                    \n",
      "__________________________________________________________________________________________________\n",
      "dense_4 (Dense)                 (None, 64)           8256        dropout_2[0][0]                  \n",
      "__________________________________________________________________________________________________\n",
      "dense_5 (Dense)                 (None, 2)            130         dense_4[0][0]                    \n",
      "==================================================================================================\n",
      "Total params: 27,528,168\n",
      "Trainable params: 13,016,568\n",
      "Non-trainable params: 14,511,600\n",
      "__________________________________________________________________________________________________\n"
     ]
    }
   ],
   "source": [
    "model.summary()"
   ]
  },
  {
   "cell_type": "code",
   "execution_count": 33,
   "metadata": {},
   "outputs": [
    {
     "name": "stdout",
     "output_type": "stream",
     "text": [
      "WARNING:tensorflow:From C:\\Users\\mishra_s\\AppData\\Local\\Continuum\\anaconda3\\lib\\site-packages\\tensorflow\\python\\ops\\metrics_impl.py:526: to_float (from tensorflow.python.ops.math_ops) is deprecated and will be removed in a future version.\n",
      "Instructions for updating:\n",
      "Use tf.cast instead.\n",
      "WARNING:tensorflow:From C:\\Users\\mishra_s\\AppData\\Local\\Continuum\\anaconda3\\lib\\site-packages\\tensorflow\\python\\ops\\metrics_impl.py:788: div (from tensorflow.python.ops.math_ops) is deprecated and will be removed in a future version.\n",
      "Instructions for updating:\n",
      "Deprecated in favor of operator or tf.math.divide.\n"
     ]
    }
   ],
   "source": [
    "model.compile(optimizer=\"adam\",loss='categorical_crossentropy',metrics=['accuracy',auc])"
   ]
  },
  {
   "cell_type": "markdown",
   "metadata": {},
   "source": [
    "### Tensorboard configuration"
   ]
  },
  {
   "cell_type": "code",
   "execution_count": 34,
   "metadata": {},
   "outputs": [],
   "source": [
    "log_dirs = \"logs/{}\".format(str(time()))\n",
    "\n",
    "tensorboard = keras.callbacks.TensorBoard(log_dir=log_dirs)"
   ]
  },
  {
   "cell_type": "code",
   "execution_count": 35,
   "metadata": {
    "scrolled": true
   },
   "outputs": [
    {
     "name": "stdout",
     "output_type": "stream",
     "text": [
      "WARNING:tensorflow:From C:\\Users\\mishra_s\\AppData\\Local\\Continuum\\anaconda3\\lib\\site-packages\\tensorflow\\python\\ops\\math_ops.py:3066: to_int32 (from tensorflow.python.ops.math_ops) is deprecated and will be removed in a future version.\n",
      "Instructions for updating:\n",
      "Use tf.cast instead.\n",
      "Train on 74288 samples, validate on 18572 samples\n",
      "Epoch 1/12\n"
     ]
    },
    {
     "name": "stdout",
     "output_type": "stream",
     "text": [
      "45300/74288 [=================>............] - ETA: 27:40 - loss: 0.8048 - acc: 0.1967 - auc: 0.18 - ETA: 24:23 - loss: 0.8784 - acc: 0.5333 - auc: 0.44 - ETA: 23:04 - loss: 0.7764 - acc: 0.6422 - auc: 0.55 - ETA: 22:22 - loss: 0.7754 - acc: 0.6192 - auc: 0.60 - ETA: 21:44 - loss: 0.7160 - acc: 0.6600 - auc: 0.64 - ETA: 21:15 - loss: 0.6699 - acc: 0.6922 - auc: 0.66 - ETA: 20:56 - loss: 0.6457 - acc: 0.7138 - auc: 0.68 - ETA: 20:43 - loss: 0.6230 - acc: 0.7308 - auc: 0.70 - ETA: 20:32 - loss: 0.6050 - acc: 0.7444 - auc: 0.71 - ETA: 20:23 - loss: 0.5912 - acc: 0.7540 - auc: 0.73 - ETA: 20:16 - loss: 0.5783 - acc: 0.7645 - auc: 0.74 - ETA: 20:07 - loss: 0.5726 - acc: 0.7669 - auc: 0.74 - ETA: 20:01 - loss: 0.5666 - acc: 0.7697 - auc: 0.75 - ETA: 19:54 - loss: 0.5588 - acc: 0.7743 - auc: 0.76 - ETA: 19:47 - loss: 0.5451 - acc: 0.7813 - auc: 0.76 - ETA: 19:50 - loss: 0.5397 - acc: 0.7844 - auc: 0.77 - ETA: 19:53 - loss: 0.5350 - acc: 0.7876 - auc: 0.77 - ETA: 19:47 - loss: 0.5290 - acc: 0.7911 - auc: 0.78 - ETA: 19:41 - loss: 0.5226 - acc: 0.7946 - auc: 0.78 - ETA: 19:35 - loss: 0.5166 - acc: 0.7980 - auc: 0.78 - ETA: 19:31 - loss: 0.5116 - acc: 0.8010 - auc: 0.79 - ETA: 19:26 - loss: 0.5068 - acc: 0.8032 - auc: 0.79 - ETA: 19:24 - loss: 0.5026 - acc: 0.8055 - auc: 0.79 - ETA: 19:19 - loss: 0.4969 - acc: 0.8089 - auc: 0.79 - ETA: 19:13 - loss: 0.4969 - acc: 0.8095 - auc: 0.80 - ETA: 19:09 - loss: 0.4928 - acc: 0.8114 - auc: 0.80 - ETA: 19:06 - loss: 0.4935 - acc: 0.8109 - auc: 0.80 - ETA: 19:01 - loss: 0.4913 - acc: 0.8123 - auc: 0.80 - ETA: 18:58 - loss: 0.4896 - acc: 0.8131 - auc: 0.80 - ETA: 18:53 - loss: 0.4881 - acc: 0.8141 - auc: 0.80 - ETA: 18:48 - loss: 0.4842 - acc: 0.8162 - auc: 0.81 - ETA: 18:44 - loss: 0.4810 - acc: 0.8178 - auc: 0.81 - ETA: 18:40 - loss: 0.4785 - acc: 0.8191 - auc: 0.81 - ETA: 18:35 - loss: 0.4779 - acc: 0.8197 - auc: 0.81 - ETA: 18:30 - loss: 0.4761 - acc: 0.8208 - auc: 0.81 - ETA: 18:25 - loss: 0.4727 - acc: 0.8223 - auc: 0.81 - ETA: 18:20 - loss: 0.4713 - acc: 0.8229 - auc: 0.81 - ETA: 18:15 - loss: 0.4685 - acc: 0.8246 - auc: 0.82 - ETA: 18:10 - loss: 0.4667 - acc: 0.8256 - auc: 0.82 - ETA: 18:05 - loss: 0.4655 - acc: 0.8257 - auc: 0.82 - ETA: 18:01 - loss: 0.4639 - acc: 0.8263 - auc: 0.82 - ETA: 17:56 - loss: 0.4616 - acc: 0.8273 - auc: 0.82 - ETA: 17:52 - loss: 0.4603 - acc: 0.8280 - auc: 0.82 - ETA: 17:47 - loss: 0.4587 - acc: 0.8285 - auc: 0.82 - ETA: 17:42 - loss: 0.4571 - acc: 0.8292 - auc: 0.82 - ETA: 17:38 - loss: 0.4571 - acc: 0.8290 - auc: 0.82 - ETA: 17:33 - loss: 0.4572 - acc: 0.8288 - auc: 0.82 - ETA: 17:29 - loss: 0.4562 - acc: 0.8292 - auc: 0.83 - ETA: 17:24 - loss: 0.4547 - acc: 0.8297 - auc: 0.83 - ETA: 17:19 - loss: 0.4538 - acc: 0.8304 - auc: 0.83 - ETA: 17:14 - loss: 0.4520 - acc: 0.8312 - auc: 0.83 - ETA: 17:10 - loss: 0.4513 - acc: 0.8316 - auc: 0.83 - ETA: 17:05 - loss: 0.4508 - acc: 0.8318 - auc: 0.83 - ETA: 17:00 - loss: 0.4501 - acc: 0.8320 - auc: 0.83 - ETA: 16:57 - loss: 0.4488 - acc: 0.8324 - auc: 0.83 - ETA: 16:53 - loss: 0.4485 - acc: 0.8323 - auc: 0.83 - ETA: 16:49 - loss: 0.4477 - acc: 0.8326 - auc: 0.83 - ETA: 16:44 - loss: 0.4474 - acc: 0.8329 - auc: 0.83 - ETA: 16:39 - loss: 0.4472 - acc: 0.8331 - auc: 0.83 - ETA: 16:35 - loss: 0.4463 - acc: 0.8333 - auc: 0.83 - ETA: 16:31 - loss: 0.4458 - acc: 0.8336 - auc: 0.83 - ETA: 16:28 - loss: 0.4451 - acc: 0.8337 - auc: 0.83 - ETA: 16:24 - loss: 0.4445 - acc: 0.8341 - auc: 0.84 - ETA: 16:19 - loss: 0.4434 - acc: 0.8344 - auc: 0.84 - ETA: 16:14 - loss: 0.4444 - acc: 0.8337 - auc: 0.84 - ETA: 16:09 - loss: 0.4430 - acc: 0.8342 - auc: 0.84 - ETA: 16:05 - loss: 0.4423 - acc: 0.8345 - auc: 0.84 - ETA: 16:00 - loss: 0.4427 - acc: 0.8341 - auc: 0.84 - ETA: 15:56 - loss: 0.4423 - acc: 0.8340 - auc: 0.84 - ETA: 15:51 - loss: 0.4417 - acc: 0.8342 - auc: 0.84 - ETA: 15:46 - loss: 0.4410 - acc: 0.8345 - auc: 0.84 - ETA: 15:41 - loss: 0.4407 - acc: 0.8344 - auc: 0.84 - ETA: 15:37 - loss: 0.4404 - acc: 0.8344 - auc: 0.84 - ETA: 15:32 - loss: 0.4397 - acc: 0.8346 - auc: 0.84 - ETA: 15:27 - loss: 0.4391 - acc: 0.8348 - auc: 0.84 - ETA: 15:23 - loss: 0.4396 - acc: 0.8345 - auc: 0.84 - ETA: 15:18 - loss: 0.4402 - acc: 0.8344 - auc: 0.84 - ETA: 15:13 - loss: 0.4394 - acc: 0.8349 - auc: 0.84 - ETA: 15:08 - loss: 0.4389 - acc: 0.8349 - auc: 0.84 - ETA: 15:03 - loss: 0.4377 - acc: 0.8355 - auc: 0.84 - ETA: 14:58 - loss: 0.4377 - acc: 0.8356 - auc: 0.84 - ETA: 14:54 - loss: 0.4366 - acc: 0.8360 - auc: 0.84 - ETA: 14:49 - loss: 0.4370 - acc: 0.8357 - auc: 0.84 - ETA: 14:44 - loss: 0.4363 - acc: 0.8360 - auc: 0.84 - ETA: 14:39 - loss: 0.4359 - acc: 0.8362 - auc: 0.84 - ETA: 14:34 - loss: 0.4353 - acc: 0.8363 - auc: 0.84 - ETA: 14:29 - loss: 0.4355 - acc: 0.8360 - auc: 0.85 - ETA: 14:24 - loss: 0.4348 - acc: 0.8363 - auc: 0.85 - ETA: 14:18 - loss: 0.4343 - acc: 0.8365 - auc: 0.85 - ETA: 14:14 - loss: 0.4338 - acc: 0.8366 - auc: 0.85 - ETA: 14:09 - loss: 0.4332 - acc: 0.8368 - auc: 0.85 - ETA: 14:04 - loss: 0.4328 - acc: 0.8371 - auc: 0.85 - ETA: 13:59 - loss: 0.4319 - acc: 0.8373 - auc: 0.85 - ETA: 13:54 - loss: 0.4311 - acc: 0.8375 - auc: 0.85 - ETA: 13:49 - loss: 0.4302 - acc: 0.8379 - auc: 0.85 - ETA: 13:44 - loss: 0.4299 - acc: 0.8381 - auc: 0.85 - ETA: 13:39 - loss: 0.4299 - acc: 0.8381 - auc: 0.85 - ETA: 13:34 - loss: 0.4294 - acc: 0.8383 - auc: 0.85 - ETA: 13:30 - loss: 0.4289 - acc: 0.8388 - auc: 0.85 - ETA: 13:25 - loss: 0.4281 - acc: 0.8391 - auc: 0.85 - ETA: 13:20 - loss: 0.4281 - acc: 0.8392 - auc: 0.85 - ETA: 13:15 - loss: 0.4278 - acc: 0.8394 - auc: 0.85 - ETA: 13:10 - loss: 0.4277 - acc: 0.8395 - auc: 0.85 - ETA: 13:05 - loss: 0.4270 - acc: 0.8397 - auc: 0.85 - ETA: 13:00 - loss: 0.4265 - acc: 0.8400 - auc: 0.85 - ETA: 12:55 - loss: 0.4258 - acc: 0.8402 - auc: 0.85 - ETA: 12:50 - loss: 0.4257 - acc: 0.8402 - auc: 0.85 - ETA: 12:46 - loss: 0.4256 - acc: 0.8403 - auc: 0.85 - ETA: 12:42 - loss: 0.4262 - acc: 0.8398 - auc: 0.85 - ETA: 12:37 - loss: 0.4262 - acc: 0.8397 - auc: 0.85 - ETA: 12:32 - loss: 0.4255 - acc: 0.8402 - auc: 0.85 - ETA: 12:27 - loss: 0.4255 - acc: 0.8401 - auc: 0.85 - ETA: 12:22 - loss: 0.4250 - acc: 0.8404 - auc: 0.85 - ETA: 12:18 - loss: 0.4247 - acc: 0.8404 - auc: 0.85 - ETA: 12:13 - loss: 0.4242 - acc: 0.8406 - auc: 0.85 - ETA: 12:08 - loss: 0.4235 - acc: 0.8409 - auc: 0.85 - ETA: 12:02 - loss: 0.4223 - acc: 0.8415 - auc: 0.85 - ETA: 11:57 - loss: 0.4220 - acc: 0.8416 - auc: 0.85 - ETA: 11:52 - loss: 0.4227 - acc: 0.8412 - auc: 0.85 - ETA: 11:47 - loss: 0.4223 - acc: 0.8412 - auc: 0.85 - ETA: 11:42 - loss: 0.4216 - acc: 0.8416 - auc: 0.85 - ETA: 11:37 - loss: 0.4213 - acc: 0.8418 - auc: 0.85 - ETA: 11:32 - loss: 0.4210 - acc: 0.8418 - auc: 0.85 - ETA: 11:27 - loss: 0.4207 - acc: 0.8418 - auc: 0.85 - ETA: 11:22 - loss: 0.4204 - acc: 0.8421 - auc: 0.85 - ETA: 11:16 - loss: 0.4203 - acc: 0.8420 - auc: 0.86 - ETA: 11:11 - loss: 0.4201 - acc: 0.8422 - auc: 0.86 - ETA: 11:06 - loss: 0.4199 - acc: 0.8421 - auc: 0.86 - ETA: 11:01 - loss: 0.4195 - acc: 0.8423 - auc: 0.86 - ETA: 10:56 - loss: 0.4193 - acc: 0.8425 - auc: 0.86 - ETA: 10:51 - loss: 0.4189 - acc: 0.8426 - auc: 0.86 - ETA: 10:45 - loss: 0.4187 - acc: 0.8427 - auc: 0.86 - ETA: 10:40 - loss: 0.4186 - acc: 0.8427 - auc: 0.86 - ETA: 10:35 - loss: 0.4185 - acc: 0.8427 - auc: 0.86 - ETA: 10:30 - loss: 0.4184 - acc: 0.8426 - auc: 0.86 - ETA: 10:25 - loss: 0.4182 - acc: 0.8428 - auc: 0.86 - ETA: 10:20 - loss: 0.4181 - acc: 0.8428 - auc: 0.86 - ETA: 10:14 - loss: 0.4176 - acc: 0.8429 - auc: 0.86 - ETA: 10:09 - loss: 0.4178 - acc: 0.8429 - auc: 0.86 - ETA: 10:04 - loss: 0.4176 - acc: 0.8429 - auc: 0.86 - ETA: 9:59 - loss: 0.4175 - acc: 0.8430 - auc: 0.8629 - ETA: 9:53 - loss: 0.4173 - acc: 0.8431 - auc: 0.863 - ETA: 9:48 - loss: 0.4174 - acc: 0.8428 - auc: 0.863 - ETA: 9:43 - loss: 0.4172 - acc: 0.8427 - auc: 0.863 - ETA: 9:37 - loss: 0.4169 - acc: 0.8428 - auc: 0.863 - ETA: 9:32 - loss: 0.4171 - acc: 0.8426 - auc: 0.863 - ETA: 9:27 - loss: 0.4170 - acc: 0.8427 - auc: 0.863 - ETA: 9:21 - loss: 0.4168 - acc: 0.8428 - auc: 0.864 - ETA: 9:16 - loss: 0.4168 - acc: 0.8427 - auc: 0.864 - ETA: 9:11 - loss: 0.4164 - acc: 0.8428 - auc: 0.864 - ETA: 9:05 - loss: 0.4160 - acc: 0.8430 - auc: 0.864674288/74288 [==============================] - ETA: 9:00 - loss: 0.4156 - acc: 0.8432 - auc: 0.864 - ETA: 8:54 - loss: 0.4155 - acc: 0.8432 - auc: 0.864 - ETA: 8:49 - loss: 0.4158 - acc: 0.8432 - auc: 0.865 - ETA: 8:44 - loss: 0.4159 - acc: 0.8431 - auc: 0.865 - ETA: 8:38 - loss: 0.4157 - acc: 0.8431 - auc: 0.865 - ETA: 8:33 - loss: 0.4153 - acc: 0.8433 - auc: 0.865 - ETA: 8:28 - loss: 0.4156 - acc: 0.8430 - auc: 0.865 - ETA: 8:22 - loss: 0.4153 - acc: 0.8433 - auc: 0.865 - ETA: 8:17 - loss: 0.4151 - acc: 0.8432 - auc: 0.865 - ETA: 8:11 - loss: 0.4146 - acc: 0.8435 - auc: 0.866 - ETA: 8:06 - loss: 0.4146 - acc: 0.8435 - auc: 0.866 - ETA: 8:00 - loss: 0.4147 - acc: 0.8435 - auc: 0.866 - ETA: 7:55 - loss: 0.4142 - acc: 0.8437 - auc: 0.866 - ETA: 7:50 - loss: 0.4140 - acc: 0.8437 - auc: 0.866 - ETA: 7:44 - loss: 0.4138 - acc: 0.8437 - auc: 0.866 - ETA: 7:39 - loss: 0.4136 - acc: 0.8438 - auc: 0.866 - ETA: 7:33 - loss: 0.4133 - acc: 0.8439 - auc: 0.867 - ETA: 7:28 - loss: 0.4131 - acc: 0.8439 - auc: 0.867 - ETA: 7:22 - loss: 0.4128 - acc: 0.8441 - auc: 0.867 - ETA: 7:17 - loss: 0.4128 - acc: 0.8440 - auc: 0.867 - ETA: 7:11 - loss: 0.4128 - acc: 0.8440 - auc: 0.867 - ETA: 7:06 - loss: 0.4127 - acc: 0.8439 - auc: 0.867 - ETA: 7:00 - loss: 0.4127 - acc: 0.8438 - auc: 0.867 - ETA: 6:55 - loss: 0.4130 - acc: 0.8437 - auc: 0.867 - ETA: 6:49 - loss: 0.4128 - acc: 0.8438 - auc: 0.868 - ETA: 6:44 - loss: 0.4124 - acc: 0.8440 - auc: 0.868 - ETA: 6:38 - loss: 0.4121 - acc: 0.8441 - auc: 0.868 - ETA: 6:33 - loss: 0.4120 - acc: 0.8442 - auc: 0.868 - ETA: 6:27 - loss: 0.4115 - acc: 0.8445 - auc: 0.868 - ETA: 6:22 - loss: 0.4117 - acc: 0.8444 - auc: 0.868 - ETA: 6:16 - loss: 0.4121 - acc: 0.8442 - auc: 0.868 - ETA: 6:10 - loss: 0.4118 - acc: 0.8443 - auc: 0.868 - ETA: 6:05 - loss: 0.4121 - acc: 0.8442 - auc: 0.869 - ETA: 5:59 - loss: 0.4123 - acc: 0.8440 - auc: 0.869 - ETA: 5:54 - loss: 0.4123 - acc: 0.8440 - auc: 0.869 - ETA: 5:48 - loss: 0.4124 - acc: 0.8439 - auc: 0.869 - ETA: 5:43 - loss: 0.4123 - acc: 0.8441 - auc: 0.869 - ETA: 5:37 - loss: 0.4118 - acc: 0.8442 - auc: 0.869 - ETA: 5:31 - loss: 0.4114 - acc: 0.8444 - auc: 0.869 - ETA: 5:26 - loss: 0.4109 - acc: 0.8446 - auc: 0.869 - ETA: 5:20 - loss: 0.4108 - acc: 0.8446 - auc: 0.869 - ETA: 5:15 - loss: 0.4108 - acc: 0.8446 - auc: 0.870 - ETA: 5:09 - loss: 0.4107 - acc: 0.8447 - auc: 0.870 - ETA: 5:03 - loss: 0.4105 - acc: 0.8448 - auc: 0.870 - ETA: 4:58 - loss: 0.4105 - acc: 0.8447 - auc: 0.870 - ETA: 4:52 - loss: 0.4103 - acc: 0.8447 - auc: 0.870 - ETA: 4:46 - loss: 0.4103 - acc: 0.8447 - auc: 0.870 - ETA: 4:41 - loss: 0.4102 - acc: 0.8447 - auc: 0.870 - ETA: 4:35 - loss: 0.4101 - acc: 0.8448 - auc: 0.870 - ETA: 4:29 - loss: 0.4104 - acc: 0.8446 - auc: 0.870 - ETA: 4:24 - loss: 0.4101 - acc: 0.8447 - auc: 0.871 - ETA: 4:18 - loss: 0.4101 - acc: 0.8446 - auc: 0.871 - ETA: 4:12 - loss: 0.4101 - acc: 0.8446 - auc: 0.871 - ETA: 4:07 - loss: 0.4099 - acc: 0.8447 - auc: 0.871 - ETA: 4:01 - loss: 0.4097 - acc: 0.8448 - auc: 0.871 - ETA: 3:55 - loss: 0.4096 - acc: 0.8447 - auc: 0.871 - ETA: 3:50 - loss: 0.4095 - acc: 0.8446 - auc: 0.871 - ETA: 3:44 - loss: 0.4091 - acc: 0.8448 - auc: 0.871 - ETA: 3:38 - loss: 0.4090 - acc: 0.8448 - auc: 0.871 - ETA: 3:33 - loss: 0.4090 - acc: 0.8448 - auc: 0.871 - ETA: 3:27 - loss: 0.4090 - acc: 0.8448 - auc: 0.871 - ETA: 3:21 - loss: 0.4088 - acc: 0.8449 - auc: 0.872 - ETA: 3:15 - loss: 0.4087 - acc: 0.8449 - auc: 0.872 - ETA: 3:10 - loss: 0.4086 - acc: 0.8449 - auc: 0.872 - ETA: 3:04 - loss: 0.4086 - acc: 0.8450 - auc: 0.872 - ETA: 2:58 - loss: 0.4084 - acc: 0.8451 - auc: 0.872 - ETA: 2:52 - loss: 0.4084 - acc: 0.8450 - auc: 0.872 - ETA: 2:47 - loss: 0.4083 - acc: 0.8451 - auc: 0.872 - ETA: 2:41 - loss: 0.4081 - acc: 0.8452 - auc: 0.872 - ETA: 2:35 - loss: 0.4081 - acc: 0.8452 - auc: 0.872 - ETA: 2:29 - loss: 0.4080 - acc: 0.8453 - auc: 0.872 - ETA: 2:24 - loss: 0.4078 - acc: 0.8454 - auc: 0.872 - ETA: 2:18 - loss: 0.4075 - acc: 0.8454 - auc: 0.873 - ETA: 2:12 - loss: 0.4074 - acc: 0.8454 - auc: 0.873 - ETA: 2:06 - loss: 0.4072 - acc: 0.8455 - auc: 0.873 - ETA: 2:00 - loss: 0.4069 - acc: 0.8457 - auc: 0.873 - ETA: 1:55 - loss: 0.4068 - acc: 0.8458 - auc: 0.873 - ETA: 1:49 - loss: 0.4067 - acc: 0.8459 - auc: 0.873 - ETA: 1:43 - loss: 0.4067 - acc: 0.8459 - auc: 0.873 - ETA: 1:37 - loss: 0.4069 - acc: 0.8458 - auc: 0.873 - ETA: 1:31 - loss: 0.4069 - acc: 0.8457 - auc: 0.873 - ETA: 1:25 - loss: 0.4068 - acc: 0.8458 - auc: 0.873 - ETA: 1:20 - loss: 0.4067 - acc: 0.8458 - auc: 0.873 - ETA: 1:14 - loss: 0.4066 - acc: 0.8458 - auc: 0.874 - ETA: 1:08 - loss: 0.4066 - acc: 0.8457 - auc: 0.874 - ETA: 1:02 - loss: 0.4067 - acc: 0.8456 - auc: 0.874 - ETA: 56s - loss: 0.4067 - acc: 0.8456 - auc: 0.874 - ETA: 50s - loss: 0.4065 - acc: 0.8456 - auc: 0.87 - ETA: 44s - loss: 0.4064 - acc: 0.8456 - auc: 0.87 - ETA: 39s - loss: 0.4062 - acc: 0.8457 - auc: 0.87 - ETA: 33s - loss: 0.4062 - acc: 0.8457 - auc: 0.87 - ETA: 27s - loss: 0.4062 - acc: 0.8457 - auc: 0.87 - ETA: 21s - loss: 0.4061 - acc: 0.8457 - auc: 0.87 - ETA: 15s - loss: 0.4062 - acc: 0.8456 - auc: 0.87 - ETA: 9s - loss: 0.4063 - acc: 0.8455 - auc: 0.8748 - ETA: 3s - loss: 0.4063 - acc: 0.8455 - auc: 0.874 - 1578s 21ms/step - loss: 0.4063 - acc: 0.8455 - auc: 0.8750 - val_loss: 0.3987 - val_acc: 0.8525 - val_auc: 0.8940\n",
      "Epoch 2/12\n"
     ]
    },
    {
     "name": "stdout",
     "output_type": "stream",
     "text": [
      "45300/74288 [=================>............] - ETA: 26:26 - loss: 0.3774 - acc: 0.8433 - auc: 0.89 - ETA: 26:30 - loss: 0.3762 - acc: 0.8400 - auc: 0.89 - ETA: 26:29 - loss: 0.3527 - acc: 0.8522 - auc: 0.89 - ETA: 26:23 - loss: 0.3477 - acc: 0.8567 - auc: 0.89 - ETA: 26:17 - loss: 0.3502 - acc: 0.8573 - auc: 0.89 - ETA: 26:10 - loss: 0.3498 - acc: 0.8567 - auc: 0.89 - ETA: 26:02 - loss: 0.3714 - acc: 0.8495 - auc: 0.89 - ETA: 25:55 - loss: 0.3642 - acc: 0.8521 - auc: 0.89 - ETA: 25:50 - loss: 0.3567 - acc: 0.8574 - auc: 0.89 - ETA: 25:46 - loss: 0.3544 - acc: 0.8613 - auc: 0.89 - ETA: 25:39 - loss: 0.3509 - acc: 0.8609 - auc: 0.89 - ETA: 25:34 - loss: 0.3507 - acc: 0.8611 - auc: 0.89 - ETA: 25:27 - loss: 0.3460 - acc: 0.8641 - auc: 0.89 - ETA: 25:20 - loss: 0.3514 - acc: 0.8619 - auc: 0.89 - ETA: 25:13 - loss: 0.3517 - acc: 0.8624 - auc: 0.89 - ETA: 25:06 - loss: 0.3535 - acc: 0.8615 - auc: 0.89 - ETA: 25:00 - loss: 0.3554 - acc: 0.8616 - auc: 0.89 - ETA: 24:56 - loss: 0.3564 - acc: 0.8606 - auc: 0.89 - ETA: 24:49 - loss: 0.3564 - acc: 0.8607 - auc: 0.89 - ETA: 24:43 - loss: 0.3570 - acc: 0.8610 - auc: 0.89 - ETA: 24:36 - loss: 0.3585 - acc: 0.8602 - auc: 0.89 - ETA: 24:30 - loss: 0.3591 - acc: 0.8602 - auc: 0.89 - ETA: 24:23 - loss: 0.3592 - acc: 0.8597 - auc: 0.89 - ETA: 24:17 - loss: 0.3569 - acc: 0.8607 - auc: 0.89 - ETA: 24:11 - loss: 0.3561 - acc: 0.8604 - auc: 0.89 - ETA: 24:05 - loss: 0.3571 - acc: 0.8600 - auc: 0.89 - ETA: 23:58 - loss: 0.3587 - acc: 0.8585 - auc: 0.89 - ETA: 23:52 - loss: 0.3636 - acc: 0.8565 - auc: 0.89 - ETA: 23:46 - loss: 0.3646 - acc: 0.8560 - auc: 0.89 - ETA: 23:40 - loss: 0.3665 - acc: 0.8546 - auc: 0.89 - ETA: 23:35 - loss: 0.3682 - acc: 0.8540 - auc: 0.89 - ETA: 23:29 - loss: 0.3686 - acc: 0.8535 - auc: 0.89 - ETA: 23:25 - loss: 0.3688 - acc: 0.8535 - auc: 0.89 - ETA: 23:20 - loss: 0.3684 - acc: 0.8538 - auc: 0.89 - ETA: 23:14 - loss: 0.3704 - acc: 0.8527 - auc: 0.89 - ETA: 23:09 - loss: 0.3722 - acc: 0.8519 - auc: 0.89 - ETA: 23:04 - loss: 0.3710 - acc: 0.8526 - auc: 0.89 - ETA: 22:58 - loss: 0.3712 - acc: 0.8525 - auc: 0.89 - ETA: 22:52 - loss: 0.3713 - acc: 0.8526 - auc: 0.89 - ETA: 22:47 - loss: 0.3720 - acc: 0.8522 - auc: 0.89 - ETA: 22:41 - loss: 0.3740 - acc: 0.8511 - auc: 0.89 - ETA: 22:35 - loss: 0.3737 - acc: 0.8514 - auc: 0.89 - ETA: 22:30 - loss: 0.3737 - acc: 0.8512 - auc: 0.89 - ETA: 22:24 - loss: 0.3736 - acc: 0.8514 - auc: 0.89 - ETA: 22:18 - loss: 0.3738 - acc: 0.8519 - auc: 0.89 - ETA: 22:11 - loss: 0.3747 - acc: 0.8514 - auc: 0.89 - ETA: 22:05 - loss: 0.3757 - acc: 0.8509 - auc: 0.89 - ETA: 22:00 - loss: 0.3758 - acc: 0.8506 - auc: 0.89 - ETA: 21:54 - loss: 0.3760 - acc: 0.8504 - auc: 0.89 - ETA: 21:48 - loss: 0.3764 - acc: 0.8502 - auc: 0.89 - ETA: 21:42 - loss: 0.3764 - acc: 0.8503 - auc: 0.89 - ETA: 21:36 - loss: 0.3765 - acc: 0.8500 - auc: 0.89 - ETA: 21:30 - loss: 0.3766 - acc: 0.8499 - auc: 0.89 - ETA: 21:24 - loss: 0.3761 - acc: 0.8504 - auc: 0.89 - ETA: 21:18 - loss: 0.3750 - acc: 0.8512 - auc: 0.89 - ETA: 21:12 - loss: 0.3746 - acc: 0.8513 - auc: 0.89 - ETA: 21:05 - loss: 0.3754 - acc: 0.8504 - auc: 0.89 - ETA: 20:59 - loss: 0.3752 - acc: 0.8507 - auc: 0.89 - ETA: 20:54 - loss: 0.3762 - acc: 0.8502 - auc: 0.89 - ETA: 20:48 - loss: 0.3769 - acc: 0.8500 - auc: 0.89 - ETA: 20:42 - loss: 0.3773 - acc: 0.8497 - auc: 0.89 - ETA: 20:36 - loss: 0.3778 - acc: 0.8496 - auc: 0.89 - ETA: 20:29 - loss: 0.3773 - acc: 0.8499 - auc: 0.89 - ETA: 20:24 - loss: 0.3780 - acc: 0.8495 - auc: 0.89 - ETA: 20:17 - loss: 0.3782 - acc: 0.8494 - auc: 0.89 - ETA: 20:12 - loss: 0.3775 - acc: 0.8498 - auc: 0.89 - ETA: 20:05 - loss: 0.3769 - acc: 0.8502 - auc: 0.89 - ETA: 19:59 - loss: 0.3764 - acc: 0.8503 - auc: 0.89 - ETA: 19:53 - loss: 0.3758 - acc: 0.8508 - auc: 0.89 - ETA: 19:48 - loss: 0.3756 - acc: 0.8509 - auc: 0.89 - ETA: 19:42 - loss: 0.3761 - acc: 0.8507 - auc: 0.89 - ETA: 19:35 - loss: 0.3759 - acc: 0.8506 - auc: 0.89 - ETA: 19:29 - loss: 0.3758 - acc: 0.8507 - auc: 0.89 - ETA: 19:23 - loss: 0.3767 - acc: 0.8505 - auc: 0.89 - ETA: 19:17 - loss: 0.3766 - acc: 0.8505 - auc: 0.89 - ETA: 19:11 - loss: 0.3768 - acc: 0.8505 - auc: 0.89 - ETA: 19:04 - loss: 0.3763 - acc: 0.8509 - auc: 0.89 - ETA: 18:58 - loss: 0.3758 - acc: 0.8512 - auc: 0.89 - ETA: 18:52 - loss: 0.3759 - acc: 0.8512 - auc: 0.89 - ETA: 18:46 - loss: 0.3757 - acc: 0.8511 - auc: 0.89 - ETA: 18:40 - loss: 0.3758 - acc: 0.8512 - auc: 0.89 - ETA: 18:34 - loss: 0.3761 - acc: 0.8511 - auc: 0.89 - ETA: 18:28 - loss: 0.3764 - acc: 0.8508 - auc: 0.89 - ETA: 18:21 - loss: 0.3765 - acc: 0.8508 - auc: 0.89 - ETA: 18:15 - loss: 0.3765 - acc: 0.8507 - auc: 0.89 - ETA: 18:09 - loss: 0.3764 - acc: 0.8507 - auc: 0.89 - ETA: 18:02 - loss: 0.3767 - acc: 0.8507 - auc: 0.89 - ETA: 17:56 - loss: 0.3765 - acc: 0.8507 - auc: 0.89 - ETA: 17:50 - loss: 0.3759 - acc: 0.8509 - auc: 0.89 - ETA: 17:43 - loss: 0.3756 - acc: 0.8511 - auc: 0.89 - ETA: 17:37 - loss: 0.3757 - acc: 0.8511 - auc: 0.89 - ETA: 17:31 - loss: 0.3756 - acc: 0.8511 - auc: 0.89 - ETA: 17:25 - loss: 0.3754 - acc: 0.8511 - auc: 0.89 - ETA: 17:18 - loss: 0.3750 - acc: 0.8515 - auc: 0.89 - ETA: 17:12 - loss: 0.3750 - acc: 0.8514 - auc: 0.89 - ETA: 17:06 - loss: 0.3749 - acc: 0.8514 - auc: 0.89 - ETA: 16:59 - loss: 0.3744 - acc: 0.8516 - auc: 0.89 - ETA: 16:53 - loss: 0.3745 - acc: 0.8516 - auc: 0.89 - ETA: 16:47 - loss: 0.3741 - acc: 0.8520 - auc: 0.89 - ETA: 16:40 - loss: 0.3744 - acc: 0.8518 - auc: 0.89 - ETA: 16:34 - loss: 0.3741 - acc: 0.8520 - auc: 0.89 - ETA: 16:27 - loss: 0.3736 - acc: 0.8521 - auc: 0.89 - ETA: 16:21 - loss: 0.3736 - acc: 0.8521 - auc: 0.89 - ETA: 16:14 - loss: 0.3737 - acc: 0.8518 - auc: 0.89 - ETA: 16:08 - loss: 0.3732 - acc: 0.8521 - auc: 0.89 - ETA: 16:02 - loss: 0.3736 - acc: 0.8518 - auc: 0.89 - ETA: 15:55 - loss: 0.3732 - acc: 0.8521 - auc: 0.89 - ETA: 15:49 - loss: 0.3735 - acc: 0.8519 - auc: 0.89 - ETA: 15:42 - loss: 0.3735 - acc: 0.8520 - auc: 0.89 - ETA: 15:36 - loss: 0.3734 - acc: 0.8519 - auc: 0.89 - ETA: 15:29 - loss: 0.3734 - acc: 0.8520 - auc: 0.89 - ETA: 15:23 - loss: 0.3735 - acc: 0.8520 - auc: 0.89 - ETA: 15:16 - loss: 0.3736 - acc: 0.8519 - auc: 0.89 - ETA: 15:10 - loss: 0.3736 - acc: 0.8520 - auc: 0.89 - ETA: 15:03 - loss: 0.3734 - acc: 0.8521 - auc: 0.89 - ETA: 14:57 - loss: 0.3734 - acc: 0.8522 - auc: 0.89 - ETA: 14:51 - loss: 0.3733 - acc: 0.8523 - auc: 0.89 - ETA: 14:44 - loss: 0.3732 - acc: 0.8523 - auc: 0.89 - ETA: 14:38 - loss: 0.3731 - acc: 0.8523 - auc: 0.89 - ETA: 14:31 - loss: 0.3730 - acc: 0.8522 - auc: 0.89 - ETA: 14:25 - loss: 0.3728 - acc: 0.8523 - auc: 0.89 - ETA: 14:19 - loss: 0.3732 - acc: 0.8522 - auc: 0.89 - ETA: 14:13 - loss: 0.3729 - acc: 0.8522 - auc: 0.89 - ETA: 14:06 - loss: 0.3727 - acc: 0.8523 - auc: 0.89 - ETA: 14:00 - loss: 0.3723 - acc: 0.8525 - auc: 0.89 - ETA: 13:53 - loss: 0.3720 - acc: 0.8528 - auc: 0.89 - ETA: 13:47 - loss: 0.3720 - acc: 0.8528 - auc: 0.89 - ETA: 13:40 - loss: 0.3719 - acc: 0.8528 - auc: 0.89 - ETA: 13:34 - loss: 0.3715 - acc: 0.8530 - auc: 0.89 - ETA: 13:27 - loss: 0.3720 - acc: 0.8527 - auc: 0.89 - ETA: 13:21 - loss: 0.3719 - acc: 0.8526 - auc: 0.89 - ETA: 13:14 - loss: 0.3717 - acc: 0.8529 - auc: 0.89 - ETA: 13:08 - loss: 0.3720 - acc: 0.8528 - auc: 0.89 - ETA: 13:01 - loss: 0.3719 - acc: 0.8529 - auc: 0.89 - ETA: 12:54 - loss: 0.3720 - acc: 0.8530 - auc: 0.89 - ETA: 12:48 - loss: 0.3724 - acc: 0.8528 - auc: 0.89 - ETA: 12:41 - loss: 0.3723 - acc: 0.8529 - auc: 0.89 - ETA: 12:35 - loss: 0.3723 - acc: 0.8529 - auc: 0.89 - ETA: 12:28 - loss: 0.3723 - acc: 0.8530 - auc: 0.89 - ETA: 12:21 - loss: 0.3724 - acc: 0.8529 - auc: 0.89 - ETA: 12:15 - loss: 0.3719 - acc: 0.8531 - auc: 0.89 - ETA: 12:08 - loss: 0.3720 - acc: 0.8532 - auc: 0.89 - ETA: 12:01 - loss: 0.3722 - acc: 0.8531 - auc: 0.89 - ETA: 11:55 - loss: 0.3724 - acc: 0.8531 - auc: 0.89 - ETA: 11:48 - loss: 0.3722 - acc: 0.8532 - auc: 0.89 - ETA: 11:42 - loss: 0.3723 - acc: 0.8533 - auc: 0.89 - ETA: 11:35 - loss: 0.3724 - acc: 0.8533 - auc: 0.89 - ETA: 11:28 - loss: 0.3721 - acc: 0.8534 - auc: 0.89 - ETA: 11:22 - loss: 0.3716 - acc: 0.8537 - auc: 0.89 - ETA: 11:15 - loss: 0.3714 - acc: 0.8537 - auc: 0.89 - ETA: 11:08 - loss: 0.3714 - acc: 0.8537 - auc: 0.8978"
     ]
    },
    {
     "name": "stdout",
     "output_type": "stream",
     "text": [
      "74288/74288 [==============================] - ETA: 11:02 - loss: 0.3713 - acc: 0.8538 - auc: 0.89 - ETA: 10:55 - loss: 0.3711 - acc: 0.8539 - auc: 0.89 - ETA: 10:48 - loss: 0.3708 - acc: 0.8541 - auc: 0.89 - ETA: 10:42 - loss: 0.3708 - acc: 0.8541 - auc: 0.89 - ETA: 10:35 - loss: 0.3708 - acc: 0.8541 - auc: 0.89 - ETA: 10:28 - loss: 0.3710 - acc: 0.8538 - auc: 0.89 - ETA: 10:21 - loss: 0.3712 - acc: 0.8538 - auc: 0.89 - ETA: 10:15 - loss: 0.3707 - acc: 0.8541 - auc: 0.89 - ETA: 10:08 - loss: 0.3709 - acc: 0.8539 - auc: 0.89 - ETA: 10:01 - loss: 0.3710 - acc: 0.8538 - auc: 0.89 - ETA: 9:54 - loss: 0.3710 - acc: 0.8538 - auc: 0.8980 - ETA: 9:48 - loss: 0.3709 - acc: 0.8538 - auc: 0.898 - ETA: 9:41 - loss: 0.3704 - acc: 0.8540 - auc: 0.898 - ETA: 9:34 - loss: 0.3705 - acc: 0.8540 - auc: 0.898 - ETA: 9:27 - loss: 0.3704 - acc: 0.8540 - auc: 0.898 - ETA: 9:20 - loss: 0.3704 - acc: 0.8541 - auc: 0.898 - ETA: 9:14 - loss: 0.3707 - acc: 0.8540 - auc: 0.898 - ETA: 9:07 - loss: 0.3707 - acc: 0.8540 - auc: 0.898 - ETA: 9:00 - loss: 0.3709 - acc: 0.8541 - auc: 0.898 - ETA: 8:53 - loss: 0.3709 - acc: 0.8539 - auc: 0.898 - ETA: 8:46 - loss: 0.3709 - acc: 0.8539 - auc: 0.898 - ETA: 8:40 - loss: 0.3709 - acc: 0.8538 - auc: 0.898 - ETA: 8:33 - loss: 0.3708 - acc: 0.8539 - auc: 0.898 - ETA: 8:26 - loss: 0.3704 - acc: 0.8541 - auc: 0.898 - ETA: 8:19 - loss: 0.3702 - acc: 0.8542 - auc: 0.898 - ETA: 8:12 - loss: 0.3701 - acc: 0.8543 - auc: 0.898 - ETA: 8:05 - loss: 0.3704 - acc: 0.8543 - auc: 0.898 - ETA: 7:59 - loss: 0.3704 - acc: 0.8543 - auc: 0.898 - ETA: 7:52 - loss: 0.3708 - acc: 0.8542 - auc: 0.898 - ETA: 7:45 - loss: 0.3710 - acc: 0.8541 - auc: 0.898 - ETA: 7:38 - loss: 0.3711 - acc: 0.8540 - auc: 0.898 - ETA: 7:31 - loss: 0.3710 - acc: 0.8540 - auc: 0.898 - ETA: 7:24 - loss: 0.3712 - acc: 0.8540 - auc: 0.898 - ETA: 7:17 - loss: 0.3711 - acc: 0.8541 - auc: 0.898 - ETA: 7:11 - loss: 0.3714 - acc: 0.8539 - auc: 0.898 - ETA: 7:04 - loss: 0.3715 - acc: 0.8538 - auc: 0.898 - ETA: 6:57 - loss: 0.3718 - acc: 0.8537 - auc: 0.898 - ETA: 6:50 - loss: 0.3719 - acc: 0.8537 - auc: 0.898 - ETA: 6:43 - loss: 0.3721 - acc: 0.8536 - auc: 0.898 - ETA: 6:36 - loss: 0.3720 - acc: 0.8537 - auc: 0.898 - ETA: 6:29 - loss: 0.3719 - acc: 0.8538 - auc: 0.898 - ETA: 6:22 - loss: 0.3720 - acc: 0.8537 - auc: 0.898 - ETA: 6:15 - loss: 0.3719 - acc: 0.8538 - auc: 0.898 - ETA: 6:08 - loss: 0.3717 - acc: 0.8539 - auc: 0.898 - ETA: 6:02 - loss: 0.3717 - acc: 0.8539 - auc: 0.898 - ETA: 5:55 - loss: 0.3718 - acc: 0.8539 - auc: 0.898 - ETA: 5:48 - loss: 0.3718 - acc: 0.8539 - auc: 0.898 - ETA: 5:41 - loss: 0.3717 - acc: 0.8540 - auc: 0.898 - ETA: 5:34 - loss: 0.3712 - acc: 0.8542 - auc: 0.898 - ETA: 5:27 - loss: 0.3711 - acc: 0.8543 - auc: 0.898 - ETA: 5:20 - loss: 0.3708 - acc: 0.8544 - auc: 0.898 - ETA: 5:13 - loss: 0.3708 - acc: 0.8545 - auc: 0.898 - ETA: 5:06 - loss: 0.3708 - acc: 0.8546 - auc: 0.898 - ETA: 4:59 - loss: 0.3707 - acc: 0.8547 - auc: 0.898 - ETA: 4:52 - loss: 0.3705 - acc: 0.8547 - auc: 0.898 - ETA: 4:45 - loss: 0.3705 - acc: 0.8546 - auc: 0.898 - ETA: 4:38 - loss: 0.3706 - acc: 0.8546 - auc: 0.898 - ETA: 4:31 - loss: 0.3706 - acc: 0.8547 - auc: 0.898 - ETA: 4:24 - loss: 0.3706 - acc: 0.8547 - auc: 0.898 - ETA: 4:17 - loss: 0.3705 - acc: 0.8547 - auc: 0.898 - ETA: 4:10 - loss: 0.3706 - acc: 0.8546 - auc: 0.898 - ETA: 4:03 - loss: 0.3703 - acc: 0.8547 - auc: 0.898 - ETA: 3:56 - loss: 0.3703 - acc: 0.8548 - auc: 0.898 - ETA: 3:49 - loss: 0.3702 - acc: 0.8548 - auc: 0.898 - ETA: 3:42 - loss: 0.3702 - acc: 0.8549 - auc: 0.898 - ETA: 3:35 - loss: 0.3699 - acc: 0.8549 - auc: 0.898 - ETA: 3:28 - loss: 0.3699 - acc: 0.8549 - auc: 0.898 - ETA: 3:21 - loss: 0.3699 - acc: 0.8549 - auc: 0.898 - ETA: 3:14 - loss: 0.3698 - acc: 0.8549 - auc: 0.899 - ETA: 3:07 - loss: 0.3698 - acc: 0.8549 - auc: 0.899 - ETA: 3:00 - loss: 0.3697 - acc: 0.8549 - auc: 0.899 - ETA: 2:53 - loss: 0.3697 - acc: 0.8548 - auc: 0.899 - ETA: 2:46 - loss: 0.3697 - acc: 0.8548 - auc: 0.899 - ETA: 2:39 - loss: 0.3698 - acc: 0.8548 - auc: 0.899 - ETA: 2:32 - loss: 0.3698 - acc: 0.8548 - auc: 0.899 - ETA: 2:25 - loss: 0.3698 - acc: 0.8549 - auc: 0.899 - ETA: 2:18 - loss: 0.3696 - acc: 0.8549 - auc: 0.899 - ETA: 2:11 - loss: 0.3696 - acc: 0.8549 - auc: 0.899 - ETA: 2:04 - loss: 0.3694 - acc: 0.8551 - auc: 0.899 - ETA: 1:57 - loss: 0.3695 - acc: 0.8550 - auc: 0.899 - ETA: 1:50 - loss: 0.3695 - acc: 0.8550 - auc: 0.899 - ETA: 1:43 - loss: 0.3695 - acc: 0.8549 - auc: 0.899 - ETA: 1:36 - loss: 0.3693 - acc: 0.8550 - auc: 0.899 - ETA: 1:29 - loss: 0.3690 - acc: 0.8551 - auc: 0.899 - ETA: 1:22 - loss: 0.3691 - acc: 0.8551 - auc: 0.899 - ETA: 1:15 - loss: 0.3692 - acc: 0.8551 - auc: 0.899 - ETA: 1:08 - loss: 0.3691 - acc: 0.8552 - auc: 0.899 - ETA: 1:01 - loss: 0.3692 - acc: 0.8551 - auc: 0.899 - ETA: 54s - loss: 0.3692 - acc: 0.8551 - auc: 0.899 - ETA: 47s - loss: 0.3695 - acc: 0.8550 - auc: 0.89 - ETA: 40s - loss: 0.3695 - acc: 0.8550 - auc: 0.89 - ETA: 32s - loss: 0.3693 - acc: 0.8551 - auc: 0.89 - ETA: 25s - loss: 0.3692 - acc: 0.8551 - auc: 0.89 - ETA: 18s - loss: 0.3693 - acc: 0.8551 - auc: 0.89 - ETA: 11s - loss: 0.3693 - acc: 0.8552 - auc: 0.89 - ETA: 4s - loss: 0.3691 - acc: 0.8553 - auc: 0.8994 - 1883s 25ms/step - loss: 0.3693 - acc: 0.8551 - auc: 0.8994 - val_loss: 0.3756 - val_acc: 0.8525 - val_auc: 0.9035\n",
      "Epoch 3/12\n"
     ]
    },
    {
     "name": "stdout",
     "output_type": "stream",
     "text": [
      "45300/74288 [=================>............] - ETA: 30:05 - loss: 0.3582 - acc: 0.8633 - auc: 0.90 - ETA: 30:17 - loss: 0.3704 - acc: 0.8483 - auc: 0.90 - ETA: 30:18 - loss: 0.3439 - acc: 0.8633 - auc: 0.90 - ETA: 30:24 - loss: 0.3498 - acc: 0.8617 - auc: 0.90 - ETA: 30:28 - loss: 0.3420 - acc: 0.8640 - auc: 0.90 - ETA: 30:17 - loss: 0.3457 - acc: 0.8628 - auc: 0.90 - ETA: 30:05 - loss: 0.3449 - acc: 0.8610 - auc: 0.90 - ETA: 29:55 - loss: 0.3409 - acc: 0.8646 - auc: 0.90 - ETA: 29:48 - loss: 0.3375 - acc: 0.8652 - auc: 0.90 - ETA: 29:39 - loss: 0.3385 - acc: 0.8637 - auc: 0.90 - ETA: 29:27 - loss: 0.3374 - acc: 0.8652 - auc: 0.90 - ETA: 29:16 - loss: 0.3369 - acc: 0.8656 - auc: 0.90 - ETA: 29:07 - loss: 0.3415 - acc: 0.8641 - auc: 0.90 - ETA: 28:59 - loss: 0.3383 - acc: 0.8664 - auc: 0.90 - ETA: 28:51 - loss: 0.3389 - acc: 0.8653 - auc: 0.90 - ETA: 28:43 - loss: 0.3370 - acc: 0.8660 - auc: 0.90 - ETA: 28:33 - loss: 0.3369 - acc: 0.8661 - auc: 0.90 - ETA: 28:26 - loss: 0.3382 - acc: 0.8657 - auc: 0.90 - ETA: 28:18 - loss: 0.3376 - acc: 0.8656 - auc: 0.90 - ETA: 28:10 - loss: 0.3379 - acc: 0.8655 - auc: 0.90 - ETA: 28:05 - loss: 0.3346 - acc: 0.8668 - auc: 0.90 - ETA: 27:57 - loss: 0.3355 - acc: 0.8670 - auc: 0.90 - ETA: 27:49 - loss: 0.3351 - acc: 0.8677 - auc: 0.90 - ETA: 27:43 - loss: 0.3378 - acc: 0.8671 - auc: 0.90 - ETA: 27:35 - loss: 0.3354 - acc: 0.8688 - auc: 0.90 - ETA: 27:31 - loss: 0.3345 - acc: 0.8696 - auc: 0.90 - ETA: 27:21 - loss: 0.3335 - acc: 0.8699 - auc: 0.90 - ETA: 27:14 - loss: 0.3320 - acc: 0.8707 - auc: 0.90 - ETA: 27:06 - loss: 0.3338 - acc: 0.8692 - auc: 0.90 - ETA: 26:59 - loss: 0.3350 - acc: 0.8684 - auc: 0.90 - ETA: 26:51 - loss: 0.3342 - acc: 0.8689 - auc: 0.90 - ETA: 26:43 - loss: 0.3335 - acc: 0.8692 - auc: 0.90 - ETA: 26:36 - loss: 0.3341 - acc: 0.8684 - auc: 0.90 - ETA: 26:28 - loss: 0.3345 - acc: 0.8681 - auc: 0.90 - ETA: 26:21 - loss: 0.3337 - acc: 0.8682 - auc: 0.90 - ETA: 26:13 - loss: 0.3337 - acc: 0.8683 - auc: 0.90 - ETA: 26:05 - loss: 0.3344 - acc: 0.8681 - auc: 0.90 - ETA: 25:57 - loss: 0.3330 - acc: 0.8691 - auc: 0.90 - ETA: 25:50 - loss: 0.3344 - acc: 0.8690 - auc: 0.90 - ETA: 25:42 - loss: 0.3349 - acc: 0.8686 - auc: 0.90 - ETA: 25:35 - loss: 0.3344 - acc: 0.8685 - auc: 0.90 - ETA: 25:27 - loss: 0.3354 - acc: 0.8684 - auc: 0.90 - ETA: 25:20 - loss: 0.3335 - acc: 0.8696 - auc: 0.90 - ETA: 25:12 - loss: 0.3333 - acc: 0.8697 - auc: 0.90 - ETA: 25:04 - loss: 0.3331 - acc: 0.8699 - auc: 0.90 - ETA: 24:56 - loss: 0.3326 - acc: 0.8704 - auc: 0.90 - ETA: 24:48 - loss: 0.3320 - acc: 0.8706 - auc: 0.90 - ETA: 24:41 - loss: 0.3326 - acc: 0.8700 - auc: 0.90 - ETA: 24:33 - loss: 0.3333 - acc: 0.8696 - auc: 0.90 - ETA: 24:26 - loss: 0.3335 - acc: 0.8697 - auc: 0.90 - ETA: 24:18 - loss: 0.3335 - acc: 0.8695 - auc: 0.90 - ETA: 24:11 - loss: 0.3328 - acc: 0.8695 - auc: 0.90 - ETA: 24:04 - loss: 0.3324 - acc: 0.8698 - auc: 0.90 - ETA: 23:56 - loss: 0.3328 - acc: 0.8694 - auc: 0.90 - ETA: 23:49 - loss: 0.3335 - acc: 0.8693 - auc: 0.90 - ETA: 23:42 - loss: 0.3333 - acc: 0.8692 - auc: 0.90 - ETA: 23:35 - loss: 0.3333 - acc: 0.8694 - auc: 0.90 - ETA: 23:27 - loss: 0.3327 - acc: 0.8696 - auc: 0.90 - ETA: 23:19 - loss: 0.3333 - acc: 0.8695 - auc: 0.90 - ETA: 23:12 - loss: 0.3339 - acc: 0.8691 - auc: 0.90 - ETA: 23:04 - loss: 0.3330 - acc: 0.8695 - auc: 0.90 - ETA: 22:56 - loss: 0.3331 - acc: 0.8695 - auc: 0.90 - ETA: 22:49 - loss: 0.3328 - acc: 0.8695 - auc: 0.90 - ETA: 22:42 - loss: 0.3328 - acc: 0.8695 - auc: 0.90 - ETA: 22:34 - loss: 0.3325 - acc: 0.8697 - auc: 0.90 - ETA: 22:27 - loss: 0.3325 - acc: 0.8700 - auc: 0.90 - ETA: 22:19 - loss: 0.3332 - acc: 0.8696 - auc: 0.90 - ETA: 22:12 - loss: 0.3336 - acc: 0.8693 - auc: 0.90 - ETA: 22:05 - loss: 0.3341 - acc: 0.8692 - auc: 0.90 - ETA: 21:57 - loss: 0.3339 - acc: 0.8694 - auc: 0.90 - ETA: 21:50 - loss: 0.3342 - acc: 0.8692 - auc: 0.90 - ETA: 21:42 - loss: 0.3341 - acc: 0.8690 - auc: 0.90 - ETA: 21:34 - loss: 0.3349 - acc: 0.8685 - auc: 0.90 - ETA: 21:27 - loss: 0.3345 - acc: 0.8688 - auc: 0.90 - ETA: 21:20 - loss: 0.3346 - acc: 0.8689 - auc: 0.90 - ETA: 21:12 - loss: 0.3353 - acc: 0.8687 - auc: 0.90 - ETA: 21:04 - loss: 0.3355 - acc: 0.8684 - auc: 0.90 - ETA: 20:57 - loss: 0.3348 - acc: 0.8686 - auc: 0.90 - ETA: 20:50 - loss: 0.3347 - acc: 0.8686 - auc: 0.90 - ETA: 20:43 - loss: 0.3345 - acc: 0.8689 - auc: 0.90 - ETA: 20:35 - loss: 0.3339 - acc: 0.8692 - auc: 0.90 - ETA: 20:28 - loss: 0.3341 - acc: 0.8691 - auc: 0.90 - ETA: 20:20 - loss: 0.3334 - acc: 0.8694 - auc: 0.90 - ETA: 20:13 - loss: 0.3333 - acc: 0.8693 - auc: 0.90 - ETA: 20:06 - loss: 0.3335 - acc: 0.8693 - auc: 0.90 - ETA: 19:59 - loss: 0.3335 - acc: 0.8693 - auc: 0.90 - ETA: 19:51 - loss: 0.3328 - acc: 0.8696 - auc: 0.90 - ETA: 19:44 - loss: 0.3329 - acc: 0.8695 - auc: 0.90 - ETA: 19:37 - loss: 0.3331 - acc: 0.8695 - auc: 0.90 - ETA: 19:30 - loss: 0.3328 - acc: 0.8695 - auc: 0.90 - ETA: 19:22 - loss: 0.3324 - acc: 0.8698 - auc: 0.90 - ETA: 19:15 - loss: 0.3323 - acc: 0.8698 - auc: 0.90 - ETA: 19:07 - loss: 0.3319 - acc: 0.8700 - auc: 0.90 - ETA: 19:00 - loss: 0.3317 - acc: 0.8700 - auc: 0.90 - ETA: 18:53 - loss: 0.3320 - acc: 0.8699 - auc: 0.90 - ETA: 18:45 - loss: 0.3323 - acc: 0.8699 - auc: 0.90 - ETA: 18:38 - loss: 0.3319 - acc: 0.8703 - auc: 0.90 - ETA: 18:30 - loss: 0.3316 - acc: 0.8703 - auc: 0.90 - ETA: 18:23 - loss: 0.3316 - acc: 0.8704 - auc: 0.90 - ETA: 18:16 - loss: 0.3317 - acc: 0.8705 - auc: 0.90 - ETA: 18:08 - loss: 0.3312 - acc: 0.8707 - auc: 0.90 - ETA: 18:01 - loss: 0.3320 - acc: 0.8704 - auc: 0.90 - ETA: 17:54 - loss: 0.3322 - acc: 0.8701 - auc: 0.90 - ETA: 17:47 - loss: 0.3322 - acc: 0.8700 - auc: 0.90 - ETA: 17:39 - loss: 0.3325 - acc: 0.8700 - auc: 0.90 - ETA: 17:32 - loss: 0.3320 - acc: 0.8704 - auc: 0.90 - ETA: 17:25 - loss: 0.3323 - acc: 0.8703 - auc: 0.90 - ETA: 17:17 - loss: 0.3327 - acc: 0.8700 - auc: 0.90 - ETA: 17:10 - loss: 0.3327 - acc: 0.8698 - auc: 0.90 - ETA: 17:03 - loss: 0.3328 - acc: 0.8699 - auc: 0.90 - ETA: 16:55 - loss: 0.3331 - acc: 0.8696 - auc: 0.90 - ETA: 16:48 - loss: 0.3329 - acc: 0.8699 - auc: 0.90 - ETA: 16:40 - loss: 0.3329 - acc: 0.8699 - auc: 0.90 - ETA: 16:33 - loss: 0.3327 - acc: 0.8698 - auc: 0.90 - ETA: 16:25 - loss: 0.3323 - acc: 0.8702 - auc: 0.90 - ETA: 16:18 - loss: 0.3320 - acc: 0.8705 - auc: 0.90 - ETA: 16:10 - loss: 0.3322 - acc: 0.8703 - auc: 0.90 - ETA: 16:03 - loss: 0.3322 - acc: 0.8702 - auc: 0.90 - ETA: 15:55 - loss: 0.3318 - acc: 0.8703 - auc: 0.90 - ETA: 15:48 - loss: 0.3318 - acc: 0.8702 - auc: 0.90 - ETA: 15:41 - loss: 0.3321 - acc: 0.8699 - auc: 0.90 - ETA: 15:33 - loss: 0.3318 - acc: 0.8701 - auc: 0.90 - ETA: 15:26 - loss: 0.3320 - acc: 0.8699 - auc: 0.90 - ETA: 15:18 - loss: 0.3316 - acc: 0.8699 - auc: 0.90 - ETA: 15:11 - loss: 0.3321 - acc: 0.8697 - auc: 0.90 - ETA: 15:03 - loss: 0.3323 - acc: 0.8696 - auc: 0.90 - ETA: 14:56 - loss: 0.3322 - acc: 0.8697 - auc: 0.90 - ETA: 14:48 - loss: 0.3325 - acc: 0.8696 - auc: 0.90 - ETA: 14:41 - loss: 0.3326 - acc: 0.8695 - auc: 0.90 - ETA: 14:34 - loss: 0.3330 - acc: 0.8692 - auc: 0.90 - ETA: 14:26 - loss: 0.3329 - acc: 0.8693 - auc: 0.90 - ETA: 14:19 - loss: 0.3331 - acc: 0.8691 - auc: 0.90 - ETA: 14:11 - loss: 0.3332 - acc: 0.8690 - auc: 0.90 - ETA: 14:04 - loss: 0.3330 - acc: 0.8692 - auc: 0.90 - ETA: 13:57 - loss: 0.3330 - acc: 0.8692 - auc: 0.90 - ETA: 13:50 - loss: 0.3332 - acc: 0.8691 - auc: 0.90 - ETA: 13:43 - loss: 0.3338 - acc: 0.8689 - auc: 0.90 - ETA: 13:36 - loss: 0.3337 - acc: 0.8689 - auc: 0.90 - ETA: 13:28 - loss: 0.3338 - acc: 0.8689 - auc: 0.90 - ETA: 13:21 - loss: 0.3338 - acc: 0.8689 - auc: 0.90 - ETA: 13:14 - loss: 0.3341 - acc: 0.8688 - auc: 0.90 - ETA: 13:06 - loss: 0.3342 - acc: 0.8688 - auc: 0.90 - ETA: 12:59 - loss: 0.3345 - acc: 0.8685 - auc: 0.90 - ETA: 12:51 - loss: 0.3346 - acc: 0.8684 - auc: 0.90 - ETA: 12:44 - loss: 0.3349 - acc: 0.8684 - auc: 0.90 - ETA: 12:36 - loss: 0.3346 - acc: 0.8684 - auc: 0.90 - ETA: 12:29 - loss: 0.3348 - acc: 0.8683 - auc: 0.90 - ETA: 12:21 - loss: 0.3349 - acc: 0.8682 - auc: 0.90 - ETA: 12:14 - loss: 0.3351 - acc: 0.8681 - auc: 0.90 - ETA: 12:06 - loss: 0.3353 - acc: 0.8679 - auc: 0.90 - ETA: 11:59 - loss: 0.3350 - acc: 0.8683 - auc: 0.906774288/74288 [==============================] - ETA: 11:51 - loss: 0.3347 - acc: 0.8683 - auc: 0.90 - ETA: 11:44 - loss: 0.3352 - acc: 0.8681 - auc: 0.90 - ETA: 11:37 - loss: 0.3350 - acc: 0.8683 - auc: 0.90 - ETA: 11:29 - loss: 0.3349 - acc: 0.8683 - auc: 0.90 - ETA: 11:22 - loss: 0.3350 - acc: 0.8683 - auc: 0.90 - ETA: 11:14 - loss: 0.3351 - acc: 0.8682 - auc: 0.90 - ETA: 11:07 - loss: 0.3351 - acc: 0.8681 - auc: 0.90 - ETA: 10:59 - loss: 0.3350 - acc: 0.8682 - auc: 0.90 - ETA: 10:52 - loss: 0.3352 - acc: 0.8680 - auc: 0.90 - ETA: 10:44 - loss: 0.3354 - acc: 0.8679 - auc: 0.90 - ETA: 10:37 - loss: 0.3351 - acc: 0.8681 - auc: 0.90 - ETA: 10:29 - loss: 0.3349 - acc: 0.8682 - auc: 0.90 - ETA: 10:22 - loss: 0.3354 - acc: 0.8679 - auc: 0.90 - ETA: 10:15 - loss: 0.3359 - acc: 0.8677 - auc: 0.90 - ETA: 10:07 - loss: 0.3357 - acc: 0.8677 - auc: 0.90 - ETA: 10:00 - loss: 0.3359 - acc: 0.8674 - auc: 0.90 - ETA: 9:52 - loss: 0.3362 - acc: 0.8674 - auc: 0.9070 - ETA: 9:45 - loss: 0.3365 - acc: 0.8673 - auc: 0.907 - ETA: 9:37 - loss: 0.3363 - acc: 0.8675 - auc: 0.907 - ETA: 9:30 - loss: 0.3368 - acc: 0.8673 - auc: 0.907 - ETA: 9:22 - loss: 0.3368 - acc: 0.8672 - auc: 0.907 - ETA: 9:15 - loss: 0.3370 - acc: 0.8671 - auc: 0.907 - ETA: 9:07 - loss: 0.3369 - acc: 0.8672 - auc: 0.907 - ETA: 9:00 - loss: 0.3370 - acc: 0.8672 - auc: 0.907 - ETA: 8:53 - loss: 0.3371 - acc: 0.8670 - auc: 0.907 - ETA: 8:45 - loss: 0.3370 - acc: 0.8670 - auc: 0.907 - ETA: 8:38 - loss: 0.3373 - acc: 0.8669 - auc: 0.907 - ETA: 8:30 - loss: 0.3373 - acc: 0.8668 - auc: 0.907 - ETA: 8:23 - loss: 0.3376 - acc: 0.8666 - auc: 0.907 - ETA: 8:15 - loss: 0.3378 - acc: 0.8664 - auc: 0.907 - ETA: 8:08 - loss: 0.3378 - acc: 0.8664 - auc: 0.907 - ETA: 8:01 - loss: 0.3380 - acc: 0.8663 - auc: 0.907 - ETA: 7:53 - loss: 0.3383 - acc: 0.8662 - auc: 0.907 - ETA: 7:46 - loss: 0.3383 - acc: 0.8662 - auc: 0.907 - ETA: 7:38 - loss: 0.3383 - acc: 0.8662 - auc: 0.907 - ETA: 7:31 - loss: 0.3382 - acc: 0.8663 - auc: 0.907 - ETA: 7:23 - loss: 0.3382 - acc: 0.8663 - auc: 0.907 - ETA: 7:16 - loss: 0.3383 - acc: 0.8663 - auc: 0.907 - ETA: 7:09 - loss: 0.3385 - acc: 0.8663 - auc: 0.907 - ETA: 7:01 - loss: 0.3386 - acc: 0.8662 - auc: 0.907 - ETA: 6:54 - loss: 0.3384 - acc: 0.8663 - auc: 0.907 - ETA: 6:46 - loss: 0.3384 - acc: 0.8662 - auc: 0.907 - ETA: 6:39 - loss: 0.3383 - acc: 0.8662 - auc: 0.907 - ETA: 6:31 - loss: 0.3381 - acc: 0.8663 - auc: 0.907 - ETA: 6:24 - loss: 0.3380 - acc: 0.8664 - auc: 0.907 - ETA: 6:16 - loss: 0.3377 - acc: 0.8665 - auc: 0.907 - ETA: 6:09 - loss: 0.3379 - acc: 0.8664 - auc: 0.907 - ETA: 6:01 - loss: 0.3376 - acc: 0.8665 - auc: 0.907 - ETA: 5:54 - loss: 0.3372 - acc: 0.8667 - auc: 0.907 - ETA: 5:47 - loss: 0.3376 - acc: 0.8665 - auc: 0.907 - ETA: 5:39 - loss: 0.3377 - acc: 0.8664 - auc: 0.907 - ETA: 5:32 - loss: 0.3379 - acc: 0.8663 - auc: 0.907 - ETA: 5:24 - loss: 0.3381 - acc: 0.8662 - auc: 0.907 - ETA: 5:17 - loss: 0.3380 - acc: 0.8663 - auc: 0.907 - ETA: 5:09 - loss: 0.3382 - acc: 0.8662 - auc: 0.907 - ETA: 5:02 - loss: 0.3380 - acc: 0.8663 - auc: 0.907 - ETA: 4:54 - loss: 0.3379 - acc: 0.8663 - auc: 0.907 - ETA: 4:47 - loss: 0.3381 - acc: 0.8662 - auc: 0.907 - ETA: 4:40 - loss: 0.3381 - acc: 0.8662 - auc: 0.907 - ETA: 4:32 - loss: 0.3381 - acc: 0.8662 - auc: 0.907 - ETA: 4:25 - loss: 0.3380 - acc: 0.8662 - auc: 0.907 - ETA: 4:17 - loss: 0.3380 - acc: 0.8662 - auc: 0.907 - ETA: 4:10 - loss: 0.3378 - acc: 0.8663 - auc: 0.907 - ETA: 4:02 - loss: 0.3376 - acc: 0.8663 - auc: 0.907 - ETA: 3:55 - loss: 0.3377 - acc: 0.8663 - auc: 0.907 - ETA: 3:48 - loss: 0.3377 - acc: 0.8663 - auc: 0.907 - ETA: 3:40 - loss: 0.3377 - acc: 0.8663 - auc: 0.907 - ETA: 3:33 - loss: 0.3380 - acc: 0.8661 - auc: 0.907 - ETA: 3:25 - loss: 0.3383 - acc: 0.8660 - auc: 0.907 - ETA: 3:18 - loss: 0.3381 - acc: 0.8661 - auc: 0.907 - ETA: 3:10 - loss: 0.3383 - acc: 0.8659 - auc: 0.907 - ETA: 3:03 - loss: 0.3385 - acc: 0.8658 - auc: 0.907 - ETA: 2:55 - loss: 0.3385 - acc: 0.8659 - auc: 0.907 - ETA: 2:48 - loss: 0.3387 - acc: 0.8658 - auc: 0.907 - ETA: 2:41 - loss: 0.3386 - acc: 0.8658 - auc: 0.907 - ETA: 2:33 - loss: 0.3385 - acc: 0.8659 - auc: 0.907 - ETA: 2:26 - loss: 0.3386 - acc: 0.8659 - auc: 0.907 - ETA: 2:18 - loss: 0.3389 - acc: 0.8658 - auc: 0.907 - ETA: 2:11 - loss: 0.3391 - acc: 0.8657 - auc: 0.907 - ETA: 2:03 - loss: 0.3393 - acc: 0.8657 - auc: 0.907 - ETA: 1:56 - loss: 0.3393 - acc: 0.8656 - auc: 0.907 - ETA: 1:48 - loss: 0.3394 - acc: 0.8655 - auc: 0.907 - ETA: 1:41 - loss: 0.3393 - acc: 0.8655 - auc: 0.907 - ETA: 1:34 - loss: 0.3394 - acc: 0.8655 - auc: 0.907 - ETA: 1:26 - loss: 0.3394 - acc: 0.8655 - auc: 0.907 - ETA: 1:19 - loss: 0.3394 - acc: 0.8654 - auc: 0.907 - ETA: 1:11 - loss: 0.3394 - acc: 0.8654 - auc: 0.907 - ETA: 1:04 - loss: 0.3394 - acc: 0.8655 - auc: 0.908 - ETA: 56s - loss: 0.3392 - acc: 0.8656 - auc: 0.908 - ETA: 49s - loss: 0.3392 - acc: 0.8656 - auc: 0.90 - ETA: 41s - loss: 0.3391 - acc: 0.8656 - auc: 0.90 - ETA: 34s - loss: 0.3392 - acc: 0.8655 - auc: 0.90 - ETA: 26s - loss: 0.3390 - acc: 0.8657 - auc: 0.90 - ETA: 19s - loss: 0.3389 - acc: 0.8657 - auc: 0.90 - ETA: 12s - loss: 0.3389 - acc: 0.8657 - auc: 0.90 - ETA: 4s - loss: 0.3388 - acc: 0.8657 - auc: 0.9081 - 1964s 26ms/step - loss: 0.3388 - acc: 0.8657 - auc: 0.9081 - val_loss: 0.3929 - val_acc: 0.8458 - val_auc: 0.9109\n",
      "Epoch 4/12\n"
     ]
    },
    {
     "name": "stdout",
     "output_type": "stream",
     "text": [
      "45300/74288 [=================>............] - ETA: 30:52 - loss: 0.2764 - acc: 0.8867 - auc: 0.91 - ETA: 30:37 - loss: 0.2889 - acc: 0.8800 - auc: 0.91 - ETA: 30:16 - loss: 0.2827 - acc: 0.8900 - auc: 0.91 - ETA: 30:02 - loss: 0.2738 - acc: 0.8942 - auc: 0.91 - ETA: 29:56 - loss: 0.2814 - acc: 0.8913 - auc: 0.91 - ETA: 29:51 - loss: 0.2818 - acc: 0.8906 - auc: 0.91 - ETA: 29:47 - loss: 0.2810 - acc: 0.8933 - auc: 0.91 - ETA: 29:35 - loss: 0.2815 - acc: 0.8917 - auc: 0.91 - ETA: 29:27 - loss: 0.2798 - acc: 0.8911 - auc: 0.91 - ETA: 29:19 - loss: 0.2823 - acc: 0.8903 - auc: 0.91 - ETA: 29:12 - loss: 0.2838 - acc: 0.8888 - auc: 0.91 - ETA: 29:03 - loss: 0.2836 - acc: 0.8897 - auc: 0.91 - ETA: 28:56 - loss: 0.2802 - acc: 0.8933 - auc: 0.91 - ETA: 28:49 - loss: 0.2856 - acc: 0.8905 - auc: 0.91 - ETA: 28:45 - loss: 0.2839 - acc: 0.8898 - auc: 0.91 - ETA: 28:37 - loss: 0.2840 - acc: 0.8896 - auc: 0.91 - ETA: 28:29 - loss: 0.2827 - acc: 0.8904 - auc: 0.91 - ETA: 28:21 - loss: 0.2826 - acc: 0.8907 - auc: 0.91 - ETA: 28:13 - loss: 0.2812 - acc: 0.8911 - auc: 0.91 - ETA: 28:06 - loss: 0.2787 - acc: 0.8918 - auc: 0.91 - ETA: 27:57 - loss: 0.2771 - acc: 0.8929 - auc: 0.91 - ETA: 27:48 - loss: 0.2776 - acc: 0.8924 - auc: 0.91 - ETA: 27:41 - loss: 0.2758 - acc: 0.8932 - auc: 0.91 - ETA: 27:33 - loss: 0.2750 - acc: 0.8933 - auc: 0.91 - ETA: 27:27 - loss: 0.2735 - acc: 0.8945 - auc: 0.91 - ETA: 27:20 - loss: 0.2715 - acc: 0.8956 - auc: 0.91 - ETA: 27:13 - loss: 0.2701 - acc: 0.8965 - auc: 0.91 - ETA: 27:06 - loss: 0.2711 - acc: 0.8963 - auc: 0.91 - ETA: 27:00 - loss: 0.2685 - acc: 0.8977 - auc: 0.91 - ETA: 26:53 - loss: 0.2673 - acc: 0.8981 - auc: 0.91 - ETA: 26:47 - loss: 0.2675 - acc: 0.8980 - auc: 0.91 - ETA: 26:40 - loss: 0.2671 - acc: 0.8981 - auc: 0.91 - ETA: 26:32 - loss: 0.2672 - acc: 0.8976 - auc: 0.91 - ETA: 26:25 - loss: 0.2671 - acc: 0.8972 - auc: 0.91 - ETA: 26:18 - loss: 0.2659 - acc: 0.8977 - auc: 0.91 - ETA: 26:11 - loss: 0.2679 - acc: 0.8967 - auc: 0.91 - ETA: 26:04 - loss: 0.2664 - acc: 0.8972 - auc: 0.91 - ETA: 25:57 - loss: 0.2660 - acc: 0.8972 - auc: 0.91 - ETA: 25:50 - loss: 0.2658 - acc: 0.8969 - auc: 0.91 - ETA: 25:43 - loss: 0.2653 - acc: 0.8969 - auc: 0.91 - ETA: 25:36 - loss: 0.2646 - acc: 0.8973 - auc: 0.91 - ETA: 25:29 - loss: 0.2648 - acc: 0.8972 - auc: 0.91 - ETA: 25:22 - loss: 0.2656 - acc: 0.8968 - auc: 0.91 - ETA: 25:15 - loss: 0.2652 - acc: 0.8967 - auc: 0.91 - ETA: 25:08 - loss: 0.2648 - acc: 0.8968 - auc: 0.91 - ETA: 25:00 - loss: 0.2655 - acc: 0.8963 - auc: 0.91 - ETA: 24:53 - loss: 0.2662 - acc: 0.8958 - auc: 0.91 - ETA: 24:45 - loss: 0.2658 - acc: 0.8960 - auc: 0.91 - ETA: 24:37 - loss: 0.2653 - acc: 0.8965 - auc: 0.91 - ETA: 24:30 - loss: 0.2654 - acc: 0.8963 - auc: 0.91 - ETA: 24:22 - loss: 0.2648 - acc: 0.8967 - auc: 0.91 - ETA: 24:15 - loss: 0.2635 - acc: 0.8971 - auc: 0.91 - ETA: 24:08 - loss: 0.2642 - acc: 0.8964 - auc: 0.91 - ETA: 24:00 - loss: 0.2651 - acc: 0.8957 - auc: 0.91 - ETA: 23:53 - loss: 0.2652 - acc: 0.8956 - auc: 0.91 - ETA: 23:46 - loss: 0.2649 - acc: 0.8955 - auc: 0.91 - ETA: 23:38 - loss: 0.2642 - acc: 0.8961 - auc: 0.91 - ETA: 23:31 - loss: 0.2641 - acc: 0.8961 - auc: 0.91 - ETA: 23:25 - loss: 0.2645 - acc: 0.8959 - auc: 0.91 - ETA: 23:18 - loss: 0.2642 - acc: 0.8959 - auc: 0.91 - ETA: 23:11 - loss: 0.2651 - acc: 0.8955 - auc: 0.91 - ETA: 23:03 - loss: 0.2651 - acc: 0.8955 - auc: 0.91 - ETA: 22:56 - loss: 0.2650 - acc: 0.8961 - auc: 0.91 - ETA: 22:49 - loss: 0.2662 - acc: 0.8955 - auc: 0.91 - ETA: 22:41 - loss: 0.2658 - acc: 0.8956 - auc: 0.91 - ETA: 22:34 - loss: 0.2654 - acc: 0.8958 - auc: 0.91 - ETA: 22:27 - loss: 0.2653 - acc: 0.8957 - auc: 0.91 - ETA: 22:19 - loss: 0.2654 - acc: 0.8958 - auc: 0.91 - ETA: 22:12 - loss: 0.2662 - acc: 0.8953 - auc: 0.91 - ETA: 22:04 - loss: 0.2668 - acc: 0.8951 - auc: 0.91 - ETA: 21:57 - loss: 0.2670 - acc: 0.8953 - auc: 0.91 - ETA: 21:49 - loss: 0.2665 - acc: 0.8954 - auc: 0.91 - ETA: 21:42 - loss: 0.2660 - acc: 0.8955 - auc: 0.91 - ETA: 21:35 - loss: 0.2665 - acc: 0.8954 - auc: 0.91 - ETA: 21:28 - loss: 0.2669 - acc: 0.8953 - auc: 0.91 - ETA: 21:20 - loss: 0.2665 - acc: 0.8955 - auc: 0.91 - ETA: 21:12 - loss: 0.2671 - acc: 0.8952 - auc: 0.91 - ETA: 21:05 - loss: 0.2667 - acc: 0.8954 - auc: 0.91 - ETA: 20:58 - loss: 0.2673 - acc: 0.8954 - auc: 0.91 - ETA: 20:51 - loss: 0.2668 - acc: 0.8957 - auc: 0.91 - ETA: 20:44 - loss: 0.2666 - acc: 0.8959 - auc: 0.91 - ETA: 20:37 - loss: 0.2669 - acc: 0.8959 - auc: 0.91 - ETA: 20:29 - loss: 0.2666 - acc: 0.8959 - auc: 0.91 - ETA: 20:22 - loss: 0.2660 - acc: 0.8961 - auc: 0.91 - ETA: 20:15 - loss: 0.2664 - acc: 0.8959 - auc: 0.91 - ETA: 20:07 - loss: 0.2660 - acc: 0.8961 - auc: 0.91 - ETA: 20:00 - loss: 0.2663 - acc: 0.8960 - auc: 0.91 - ETA: 19:52 - loss: 0.2669 - acc: 0.8958 - auc: 0.91 - ETA: 19:45 - loss: 0.2669 - acc: 0.8960 - auc: 0.91 - ETA: 19:38 - loss: 0.2664 - acc: 0.8963 - auc: 0.91 - ETA: 19:30 - loss: 0.2657 - acc: 0.8966 - auc: 0.91 - ETA: 19:23 - loss: 0.2658 - acc: 0.8967 - auc: 0.91 - ETA: 19:15 - loss: 0.2663 - acc: 0.8963 - auc: 0.91 - ETA: 19:08 - loss: 0.2662 - acc: 0.8961 - auc: 0.91 - ETA: 19:01 - loss: 0.2661 - acc: 0.8964 - auc: 0.91 - ETA: 18:53 - loss: 0.2661 - acc: 0.8964 - auc: 0.91 - ETA: 18:46 - loss: 0.2660 - acc: 0.8964 - auc: 0.91 - ETA: 18:38 - loss: 0.2657 - acc: 0.8964 - auc: 0.91 - ETA: 18:31 - loss: 0.2659 - acc: 0.8963 - auc: 0.91 - ETA: 18:23 - loss: 0.2670 - acc: 0.8959 - auc: 0.91 - ETA: 18:16 - loss: 0.2669 - acc: 0.8959 - auc: 0.91 - ETA: 18:08 - loss: 0.2669 - acc: 0.8958 - auc: 0.91 - ETA: 18:01 - loss: 0.2673 - acc: 0.8955 - auc: 0.91 - ETA: 17:53 - loss: 0.2674 - acc: 0.8954 - auc: 0.91 - ETA: 17:46 - loss: 0.2676 - acc: 0.8953 - auc: 0.91 - ETA: 17:38 - loss: 0.2676 - acc: 0.8952 - auc: 0.91 - ETA: 17:31 - loss: 0.2677 - acc: 0.8952 - auc: 0.91 - ETA: 17:23 - loss: 0.2679 - acc: 0.8951 - auc: 0.91 - ETA: 17:16 - loss: 0.2682 - acc: 0.8949 - auc: 0.91 - ETA: 17:08 - loss: 0.2684 - acc: 0.8948 - auc: 0.91 - ETA: 17:01 - loss: 0.2685 - acc: 0.8949 - auc: 0.91 - ETA: 16:53 - loss: 0.2686 - acc: 0.8949 - auc: 0.91 - ETA: 16:46 - loss: 0.2692 - acc: 0.8947 - auc: 0.91 - ETA: 16:38 - loss: 0.2692 - acc: 0.8945 - auc: 0.91 - ETA: 16:31 - loss: 0.2692 - acc: 0.8945 - auc: 0.91 - ETA: 16:23 - loss: 0.2688 - acc: 0.8948 - auc: 0.91 - ETA: 16:16 - loss: 0.2690 - acc: 0.8948 - auc: 0.91 - ETA: 16:09 - loss: 0.2693 - acc: 0.8947 - auc: 0.91 - ETA: 16:01 - loss: 0.2694 - acc: 0.8947 - auc: 0.91 - ETA: 15:54 - loss: 0.2695 - acc: 0.8946 - auc: 0.91 - ETA: 15:46 - loss: 0.2699 - acc: 0.8943 - auc: 0.91 - ETA: 15:39 - loss: 0.2700 - acc: 0.8944 - auc: 0.91 - ETA: 15:31 - loss: 0.2704 - acc: 0.8944 - auc: 0.91 - ETA: 15:24 - loss: 0.2705 - acc: 0.8942 - auc: 0.91 - ETA: 15:16 - loss: 0.2704 - acc: 0.8942 - auc: 0.91 - ETA: 15:09 - loss: 0.2704 - acc: 0.8941 - auc: 0.91 - ETA: 15:01 - loss: 0.2702 - acc: 0.8942 - auc: 0.91 - ETA: 14:54 - loss: 0.2700 - acc: 0.8944 - auc: 0.91 - ETA: 14:46 - loss: 0.2698 - acc: 0.8945 - auc: 0.91 - ETA: 14:39 - loss: 0.2698 - acc: 0.8944 - auc: 0.91 - ETA: 14:31 - loss: 0.2698 - acc: 0.8944 - auc: 0.91 - ETA: 14:24 - loss: 0.2700 - acc: 0.8944 - auc: 0.91 - ETA: 14:16 - loss: 0.2705 - acc: 0.8943 - auc: 0.91 - ETA: 14:09 - loss: 0.2703 - acc: 0.8944 - auc: 0.91 - ETA: 14:01 - loss: 0.2705 - acc: 0.8943 - auc: 0.91 - ETA: 13:54 - loss: 0.2704 - acc: 0.8943 - auc: 0.91 - ETA: 13:46 - loss: 0.2707 - acc: 0.8943 - auc: 0.91 - ETA: 13:39 - loss: 0.2709 - acc: 0.8942 - auc: 0.91 - ETA: 13:31 - loss: 0.2710 - acc: 0.8941 - auc: 0.91 - ETA: 13:24 - loss: 0.2711 - acc: 0.8941 - auc: 0.91 - ETA: 13:16 - loss: 0.2714 - acc: 0.8938 - auc: 0.91 - ETA: 13:09 - loss: 0.2711 - acc: 0.8940 - auc: 0.91 - ETA: 13:01 - loss: 0.2708 - acc: 0.8942 - auc: 0.91 - ETA: 12:54 - loss: 0.2709 - acc: 0.8941 - auc: 0.91 - ETA: 12:46 - loss: 0.2708 - acc: 0.8940 - auc: 0.91 - ETA: 12:39 - loss: 0.2709 - acc: 0.8939 - auc: 0.91 - ETA: 12:31 - loss: 0.2714 - acc: 0.8939 - auc: 0.91 - ETA: 12:24 - loss: 0.2716 - acc: 0.8938 - auc: 0.91 - ETA: 12:16 - loss: 0.2717 - acc: 0.8938 - auc: 0.91 - ETA: 12:09 - loss: 0.2717 - acc: 0.8937 - auc: 0.91 - ETA: 12:01 - loss: 0.2719 - acc: 0.8936 - auc: 0.9145"
     ]
    },
    {
     "name": "stdout",
     "output_type": "stream",
     "text": [
      "74288/74288 [==============================] - ETA: 11:54 - loss: 0.2717 - acc: 0.8937 - auc: 0.91 - ETA: 11:46 - loss: 0.2719 - acc: 0.8936 - auc: 0.91 - ETA: 11:39 - loss: 0.2718 - acc: 0.8936 - auc: 0.91 - ETA: 11:31 - loss: 0.2720 - acc: 0.8935 - auc: 0.91 - ETA: 11:24 - loss: 0.2719 - acc: 0.8936 - auc: 0.91 - ETA: 11:16 - loss: 0.2719 - acc: 0.8936 - auc: 0.91 - ETA: 11:09 - loss: 0.2717 - acc: 0.8937 - auc: 0.91 - ETA: 11:02 - loss: 0.2715 - acc: 0.8937 - auc: 0.91 - ETA: 10:54 - loss: 0.2713 - acc: 0.8938 - auc: 0.91 - ETA: 10:47 - loss: 0.2714 - acc: 0.8937 - auc: 0.91 - ETA: 10:39 - loss: 0.2718 - acc: 0.8934 - auc: 0.91 - ETA: 10:32 - loss: 0.2719 - acc: 0.8934 - auc: 0.91 - ETA: 10:25 - loss: 0.2719 - acc: 0.8934 - auc: 0.91 - ETA: 10:17 - loss: 0.2721 - acc: 0.8934 - auc: 0.91 - ETA: 10:10 - loss: 0.2723 - acc: 0.8934 - auc: 0.91 - ETA: 10:02 - loss: 0.2724 - acc: 0.8933 - auc: 0.91 - ETA: 9:55 - loss: 0.2724 - acc: 0.8934 - auc: 0.9148 - ETA: 9:47 - loss: 0.2723 - acc: 0.8935 - auc: 0.914 - ETA: 9:40 - loss: 0.2723 - acc: 0.8935 - auc: 0.914 - ETA: 9:32 - loss: 0.2722 - acc: 0.8935 - auc: 0.914 - ETA: 9:25 - loss: 0.2726 - acc: 0.8933 - auc: 0.914 - ETA: 9:18 - loss: 0.2727 - acc: 0.8933 - auc: 0.914 - ETA: 9:10 - loss: 0.2730 - acc: 0.8930 - auc: 0.915 - ETA: 9:03 - loss: 0.2732 - acc: 0.8929 - auc: 0.915 - ETA: 8:55 - loss: 0.2732 - acc: 0.8929 - auc: 0.915 - ETA: 8:48 - loss: 0.2736 - acc: 0.8927 - auc: 0.915 - ETA: 8:40 - loss: 0.2739 - acc: 0.8925 - auc: 0.915 - ETA: 8:33 - loss: 0.2737 - acc: 0.8926 - auc: 0.915 - ETA: 8:25 - loss: 0.2743 - acc: 0.8925 - auc: 0.915 - ETA: 8:18 - loss: 0.2741 - acc: 0.8926 - auc: 0.915 - ETA: 8:11 - loss: 0.2739 - acc: 0.8927 - auc: 0.915 - ETA: 8:03 - loss: 0.2740 - acc: 0.8927 - auc: 0.915 - ETA: 7:56 - loss: 0.2740 - acc: 0.8926 - auc: 0.915 - ETA: 7:48 - loss: 0.2746 - acc: 0.8925 - auc: 0.915 - ETA: 7:41 - loss: 0.2748 - acc: 0.8923 - auc: 0.915 - ETA: 7:33 - loss: 0.2750 - acc: 0.8923 - auc: 0.915 - ETA: 7:26 - loss: 0.2752 - acc: 0.8923 - auc: 0.915 - ETA: 7:18 - loss: 0.2751 - acc: 0.8923 - auc: 0.915 - ETA: 7:11 - loss: 0.2752 - acc: 0.8923 - auc: 0.915 - ETA: 7:03 - loss: 0.2753 - acc: 0.8922 - auc: 0.915 - ETA: 6:56 - loss: 0.2753 - acc: 0.8922 - auc: 0.915 - ETA: 6:48 - loss: 0.2753 - acc: 0.8922 - auc: 0.915 - ETA: 6:41 - loss: 0.2753 - acc: 0.8921 - auc: 0.915 - ETA: 6:33 - loss: 0.2753 - acc: 0.8921 - auc: 0.915 - ETA: 6:26 - loss: 0.2753 - acc: 0.8921 - auc: 0.915 - ETA: 6:18 - loss: 0.2757 - acc: 0.8920 - auc: 0.915 - ETA: 6:11 - loss: 0.2758 - acc: 0.8919 - auc: 0.915 - ETA: 6:04 - loss: 0.2759 - acc: 0.8919 - auc: 0.915 - ETA: 5:56 - loss: 0.2761 - acc: 0.8919 - auc: 0.915 - ETA: 5:49 - loss: 0.2762 - acc: 0.8919 - auc: 0.915 - ETA: 5:41 - loss: 0.2761 - acc: 0.8920 - auc: 0.915 - ETA: 5:34 - loss: 0.2765 - acc: 0.8919 - auc: 0.915 - ETA: 5:26 - loss: 0.2766 - acc: 0.8918 - auc: 0.915 - ETA: 5:19 - loss: 0.2770 - acc: 0.8917 - auc: 0.915 - ETA: 5:11 - loss: 0.2770 - acc: 0.8917 - auc: 0.915 - ETA: 5:04 - loss: 0.2771 - acc: 0.8917 - auc: 0.915 - ETA: 4:56 - loss: 0.2772 - acc: 0.8917 - auc: 0.915 - ETA: 4:49 - loss: 0.2773 - acc: 0.8918 - auc: 0.915 - ETA: 4:41 - loss: 0.2773 - acc: 0.8918 - auc: 0.915 - ETA: 4:34 - loss: 0.2774 - acc: 0.8917 - auc: 0.915 - ETA: 4:26 - loss: 0.2775 - acc: 0.8917 - auc: 0.915 - ETA: 4:19 - loss: 0.2776 - acc: 0.8916 - auc: 0.915 - ETA: 4:11 - loss: 0.2779 - acc: 0.8914 - auc: 0.915 - ETA: 4:04 - loss: 0.2779 - acc: 0.8914 - auc: 0.915 - ETA: 3:57 - loss: 0.2779 - acc: 0.8914 - auc: 0.915 - ETA: 3:49 - loss: 0.2779 - acc: 0.8913 - auc: 0.915 - ETA: 3:42 - loss: 0.2779 - acc: 0.8913 - auc: 0.915 - ETA: 3:34 - loss: 0.2779 - acc: 0.8913 - auc: 0.915 - ETA: 3:27 - loss: 0.2778 - acc: 0.8914 - auc: 0.915 - ETA: 3:19 - loss: 0.2778 - acc: 0.8913 - auc: 0.915 - ETA: 3:12 - loss: 0.2778 - acc: 0.8913 - auc: 0.915 - ETA: 3:04 - loss: 0.2779 - acc: 0.8914 - auc: 0.915 - ETA: 2:57 - loss: 0.2782 - acc: 0.8912 - auc: 0.915 - ETA: 2:49 - loss: 0.2786 - acc: 0.8911 - auc: 0.915 - ETA: 2:42 - loss: 0.2785 - acc: 0.8912 - auc: 0.915 - ETA: 2:34 - loss: 0.2784 - acc: 0.8912 - auc: 0.915 - ETA: 2:27 - loss: 0.2784 - acc: 0.8913 - auc: 0.916 - ETA: 2:19 - loss: 0.2785 - acc: 0.8913 - auc: 0.916 - ETA: 2:12 - loss: 0.2785 - acc: 0.8912 - auc: 0.916 - ETA: 2:04 - loss: 0.2784 - acc: 0.8913 - auc: 0.916 - ETA: 1:57 - loss: 0.2785 - acc: 0.8912 - auc: 0.916 - ETA: 1:49 - loss: 0.2785 - acc: 0.8912 - auc: 0.916 - ETA: 1:42 - loss: 0.2786 - acc: 0.8912 - auc: 0.916 - ETA: 1:34 - loss: 0.2787 - acc: 0.8911 - auc: 0.916 - ETA: 1:27 - loss: 0.2790 - acc: 0.8911 - auc: 0.916 - ETA: 1:19 - loss: 0.2789 - acc: 0.8911 - auc: 0.916 - ETA: 1:12 - loss: 0.2789 - acc: 0.8911 - auc: 0.916 - ETA: 1:04 - loss: 0.2790 - acc: 0.8910 - auc: 0.916 - ETA: 57s - loss: 0.2789 - acc: 0.8910 - auc: 0.916 - ETA: 49s - loss: 0.2790 - acc: 0.8909 - auc: 0.91 - ETA: 42s - loss: 0.2789 - acc: 0.8910 - auc: 0.91 - ETA: 34s - loss: 0.2791 - acc: 0.8909 - auc: 0.91 - ETA: 27s - loss: 0.2791 - acc: 0.8909 - auc: 0.91 - ETA: 19s - loss: 0.2792 - acc: 0.8909 - auc: 0.91 - ETA: 12s - loss: 0.2793 - acc: 0.8909 - auc: 0.91 - ETA: 4s - loss: 0.2793 - acc: 0.8909 - auc: 0.9163 - 1977s 27ms/step - loss: 0.2794 - acc: 0.8908 - auc: 0.9163 - val_loss: 0.4235 - val_acc: 0.8471 - val_auc: 0.9198\n",
      "Epoch 5/12\n"
     ]
    },
    {
     "name": "stdout",
     "output_type": "stream",
     "text": [
      "45300/74288 [=================>............] - ETA: 30:30 - loss: 0.1508 - acc: 0.9567 - auc: 0.91 - ETA: 30:25 - loss: 0.1527 - acc: 0.9600 - auc: 0.91 - ETA: 30:25 - loss: 0.1579 - acc: 0.9522 - auc: 0.91 - ETA: 30:24 - loss: 0.1717 - acc: 0.9467 - auc: 0.91 - ETA: 30:14 - loss: 0.1839 - acc: 0.9380 - auc: 0.91 - ETA: 30:01 - loss: 0.1798 - acc: 0.9417 - auc: 0.91 - ETA: 30:01 - loss: 0.1776 - acc: 0.9410 - auc: 0.91 - ETA: 29:50 - loss: 0.1836 - acc: 0.9362 - auc: 0.91 - ETA: 29:43 - loss: 0.1800 - acc: 0.9370 - auc: 0.91 - ETA: 29:36 - loss: 0.1781 - acc: 0.9373 - auc: 0.91 - ETA: 29:28 - loss: 0.1783 - acc: 0.9376 - auc: 0.91 - ETA: 29:19 - loss: 0.1787 - acc: 0.9378 - auc: 0.91 - ETA: 29:10 - loss: 0.1770 - acc: 0.9379 - auc: 0.91 - ETA: 29:05 - loss: 0.1752 - acc: 0.9393 - auc: 0.91 - ETA: 28:59 - loss: 0.1734 - acc: 0.9393 - auc: 0.91 - ETA: 28:52 - loss: 0.1735 - acc: 0.9396 - auc: 0.91 - ETA: 28:47 - loss: 0.1722 - acc: 0.9398 - auc: 0.91 - ETA: 28:42 - loss: 0.1702 - acc: 0.9400 - auc: 0.91 - ETA: 28:34 - loss: 0.1676 - acc: 0.9411 - auc: 0.91 - ETA: 28:26 - loss: 0.1676 - acc: 0.9405 - auc: 0.91 - ETA: 28:19 - loss: 0.1657 - acc: 0.9411 - auc: 0.91 - ETA: 28:13 - loss: 0.1665 - acc: 0.9409 - auc: 0.91 - ETA: 28:05 - loss: 0.1665 - acc: 0.9399 - auc: 0.91 - ETA: 27:57 - loss: 0.1652 - acc: 0.9406 - auc: 0.91 - ETA: 27:50 - loss: 0.1637 - acc: 0.9417 - auc: 0.91 - ETA: 27:42 - loss: 0.1625 - acc: 0.9424 - auc: 0.92 - ETA: 27:34 - loss: 0.1638 - acc: 0.9417 - auc: 0.92 - ETA: 27:26 - loss: 0.1626 - acc: 0.9424 - auc: 0.92 - ETA: 27:18 - loss: 0.1628 - acc: 0.9426 - auc: 0.92 - ETA: 27:10 - loss: 0.1634 - acc: 0.9423 - auc: 0.92 - ETA: 27:03 - loss: 0.1628 - acc: 0.9427 - auc: 0.92 - ETA: 26:55 - loss: 0.1620 - acc: 0.9431 - auc: 0.92 - ETA: 26:47 - loss: 0.1612 - acc: 0.9432 - auc: 0.92 - ETA: 26:40 - loss: 0.1606 - acc: 0.9434 - auc: 0.92 - ETA: 26:32 - loss: 0.1610 - acc: 0.9429 - auc: 0.92 - ETA: 26:25 - loss: 0.1606 - acc: 0.9431 - auc: 0.92 - ETA: 26:18 - loss: 0.1599 - acc: 0.9430 - auc: 0.92 - ETA: 26:10 - loss: 0.1590 - acc: 0.9432 - auc: 0.92 - ETA: 26:02 - loss: 0.1592 - acc: 0.9432 - auc: 0.92 - ETA: 25:55 - loss: 0.1581 - acc: 0.9437 - auc: 0.92 - ETA: 25:48 - loss: 0.1582 - acc: 0.9439 - auc: 0.92 - ETA: 25:40 - loss: 0.1592 - acc: 0.9434 - auc: 0.92 - ETA: 25:32 - loss: 0.1594 - acc: 0.9429 - auc: 0.92 - ETA: 25:24 - loss: 0.1594 - acc: 0.9429 - auc: 0.92 - ETA: 25:17 - loss: 0.1587 - acc: 0.9433 - auc: 0.92 - ETA: 25:10 - loss: 0.1574 - acc: 0.9437 - auc: 0.92 - ETA: 25:02 - loss: 0.1573 - acc: 0.9435 - auc: 0.92 - ETA: 24:55 - loss: 0.1573 - acc: 0.9439 - auc: 0.92 - ETA: 24:47 - loss: 0.1562 - acc: 0.9443 - auc: 0.92 - ETA: 24:43 - loss: 0.1557 - acc: 0.9445 - auc: 0.92 - ETA: 24:36 - loss: 0.1563 - acc: 0.9441 - auc: 0.92 - ETA: 24:29 - loss: 0.1562 - acc: 0.9441 - auc: 0.92 - ETA: 24:21 - loss: 0.1576 - acc: 0.9435 - auc: 0.92 - ETA: 24:13 - loss: 0.1577 - acc: 0.9435 - auc: 0.92 - ETA: 24:06 - loss: 0.1584 - acc: 0.9431 - auc: 0.92 - ETA: 23:58 - loss: 0.1584 - acc: 0.9432 - auc: 0.92 - ETA: 23:51 - loss: 0.1584 - acc: 0.9430 - auc: 0.92 - ETA: 23:43 - loss: 0.1578 - acc: 0.9432 - auc: 0.92 - ETA: 23:36 - loss: 0.1575 - acc: 0.9432 - auc: 0.92 - ETA: 23:28 - loss: 0.1574 - acc: 0.9431 - auc: 0.92 - ETA: 23:21 - loss: 0.1576 - acc: 0.9429 - auc: 0.92 - ETA: 23:13 - loss: 0.1572 - acc: 0.9431 - auc: 0.92 - ETA: 23:05 - loss: 0.1583 - acc: 0.9425 - auc: 0.92 - ETA: 22:58 - loss: 0.1582 - acc: 0.9426 - auc: 0.92 - ETA: 22:50 - loss: 0.1578 - acc: 0.9428 - auc: 0.92 - ETA: 22:42 - loss: 0.1576 - acc: 0.9429 - auc: 0.92 - ETA: 22:35 - loss: 0.1572 - acc: 0.9430 - auc: 0.92 - ETA: 22:27 - loss: 0.1567 - acc: 0.9431 - auc: 0.92 - ETA: 22:19 - loss: 0.1567 - acc: 0.9429 - auc: 0.92 - ETA: 22:12 - loss: 0.1574 - acc: 0.9425 - auc: 0.92 - ETA: 22:04 - loss: 0.1572 - acc: 0.9426 - auc: 0.92 - ETA: 21:56 - loss: 0.1567 - acc: 0.9425 - auc: 0.92 - ETA: 21:49 - loss: 0.1562 - acc: 0.9428 - auc: 0.92 - ETA: 21:42 - loss: 0.1558 - acc: 0.9429 - auc: 0.92 - ETA: 21:34 - loss: 0.1560 - acc: 0.9429 - auc: 0.92 - ETA: 21:27 - loss: 0.1568 - acc: 0.9426 - auc: 0.92 - ETA: 21:20 - loss: 0.1573 - acc: 0.9427 - auc: 0.92 - ETA: 21:12 - loss: 0.1577 - acc: 0.9424 - auc: 0.92 - ETA: 21:05 - loss: 0.1573 - acc: 0.9427 - auc: 0.92 - ETA: 20:57 - loss: 0.1570 - acc: 0.9427 - auc: 0.92 - ETA: 20:50 - loss: 0.1566 - acc: 0.9427 - auc: 0.92 - ETA: 20:42 - loss: 0.1566 - acc: 0.9426 - auc: 0.92 - ETA: 20:35 - loss: 0.1568 - acc: 0.9427 - auc: 0.92 - ETA: 20:27 - loss: 0.1568 - acc: 0.9425 - auc: 0.92 - ETA: 20:20 - loss: 0.1572 - acc: 0.9424 - auc: 0.92 - ETA: 20:12 - loss: 0.1574 - acc: 0.9422 - auc: 0.92 - ETA: 20:05 - loss: 0.1574 - acc: 0.9421 - auc: 0.92 - ETA: 19:57 - loss: 0.1573 - acc: 0.9422 - auc: 0.92 - ETA: 19:50 - loss: 0.1576 - acc: 0.9421 - auc: 0.92 - ETA: 19:42 - loss: 0.1580 - acc: 0.9419 - auc: 0.92 - ETA: 19:35 - loss: 0.1584 - acc: 0.9417 - auc: 0.92 - ETA: 19:27 - loss: 0.1589 - acc: 0.9415 - auc: 0.92 - ETA: 19:19 - loss: 0.1590 - acc: 0.9414 - auc: 0.92 - ETA: 19:12 - loss: 0.1593 - acc: 0.9413 - auc: 0.92 - ETA: 19:05 - loss: 0.1593 - acc: 0.9413 - auc: 0.92 - ETA: 18:57 - loss: 0.1589 - acc: 0.9414 - auc: 0.92 - ETA: 18:50 - loss: 0.1589 - acc: 0.9414 - auc: 0.92 - ETA: 18:42 - loss: 0.1589 - acc: 0.9414 - auc: 0.92 - ETA: 18:35 - loss: 0.1590 - acc: 0.9414 - auc: 0.92 - ETA: 18:28 - loss: 0.1592 - acc: 0.9412 - auc: 0.92 - ETA: 18:20 - loss: 0.1592 - acc: 0.9413 - auc: 0.92 - ETA: 18:13 - loss: 0.1590 - acc: 0.9412 - auc: 0.92 - ETA: 18:05 - loss: 0.1589 - acc: 0.9413 - auc: 0.92 - ETA: 17:58 - loss: 0.1592 - acc: 0.9411 - auc: 0.92 - ETA: 17:50 - loss: 0.1593 - acc: 0.9411 - auc: 0.92 - ETA: 17:43 - loss: 0.1595 - acc: 0.9410 - auc: 0.92 - ETA: 17:35 - loss: 0.1599 - acc: 0.9407 - auc: 0.92 - ETA: 17:28 - loss: 0.1597 - acc: 0.9407 - auc: 0.92 - ETA: 17:20 - loss: 0.1598 - acc: 0.9407 - auc: 0.92 - ETA: 17:13 - loss: 0.1602 - acc: 0.9404 - auc: 0.92 - ETA: 17:05 - loss: 0.1602 - acc: 0.9404 - auc: 0.92 - ETA: 16:58 - loss: 0.1596 - acc: 0.9407 - auc: 0.92 - ETA: 16:50 - loss: 0.1595 - acc: 0.9407 - auc: 0.92 - ETA: 16:43 - loss: 0.1596 - acc: 0.9407 - auc: 0.92 - ETA: 16:35 - loss: 0.1602 - acc: 0.9406 - auc: 0.92 - ETA: 16:28 - loss: 0.1608 - acc: 0.9403 - auc: 0.92 - ETA: 16:20 - loss: 0.1610 - acc: 0.9401 - auc: 0.92 - ETA: 16:13 - loss: 0.1611 - acc: 0.9401 - auc: 0.92 - ETA: 16:05 - loss: 0.1611 - acc: 0.9401 - auc: 0.92 - ETA: 15:58 - loss: 0.1607 - acc: 0.9402 - auc: 0.92 - ETA: 15:50 - loss: 0.1610 - acc: 0.9402 - auc: 0.92 - ETA: 15:43 - loss: 0.1615 - acc: 0.9399 - auc: 0.92 - ETA: 15:35 - loss: 0.1618 - acc: 0.9397 - auc: 0.92 - ETA: 15:28 - loss: 0.1619 - acc: 0.9397 - auc: 0.92 - ETA: 15:20 - loss: 0.1617 - acc: 0.9398 - auc: 0.92 - ETA: 15:13 - loss: 0.1618 - acc: 0.9397 - auc: 0.92 - ETA: 15:05 - loss: 0.1617 - acc: 0.9398 - auc: 0.92 - ETA: 14:58 - loss: 0.1615 - acc: 0.9399 - auc: 0.92 - ETA: 14:50 - loss: 0.1617 - acc: 0.9398 - auc: 0.92 - ETA: 14:43 - loss: 0.1618 - acc: 0.9398 - auc: 0.92 - ETA: 14:35 - loss: 0.1621 - acc: 0.9396 - auc: 0.92 - ETA: 14:28 - loss: 0.1623 - acc: 0.9396 - auc: 0.92 - ETA: 14:20 - loss: 0.1624 - acc: 0.9395 - auc: 0.92 - ETA: 14:13 - loss: 0.1623 - acc: 0.9395 - auc: 0.92 - ETA: 14:05 - loss: 0.1626 - acc: 0.9394 - auc: 0.92 - ETA: 13:58 - loss: 0.1627 - acc: 0.9394 - auc: 0.92 - ETA: 13:50 - loss: 0.1629 - acc: 0.9394 - auc: 0.92 - ETA: 13:43 - loss: 0.1626 - acc: 0.9395 - auc: 0.92 - ETA: 13:35 - loss: 0.1626 - acc: 0.9396 - auc: 0.92 - ETA: 13:28 - loss: 0.1629 - acc: 0.9394 - auc: 0.92 - ETA: 13:20 - loss: 0.1629 - acc: 0.9394 - auc: 0.92 - ETA: 13:13 - loss: 0.1632 - acc: 0.9392 - auc: 0.92 - ETA: 13:05 - loss: 0.1633 - acc: 0.9392 - auc: 0.92 - ETA: 12:58 - loss: 0.1636 - acc: 0.9390 - auc: 0.92 - ETA: 12:50 - loss: 0.1638 - acc: 0.9390 - auc: 0.92 - ETA: 12:43 - loss: 0.1639 - acc: 0.9389 - auc: 0.92 - ETA: 12:35 - loss: 0.1639 - acc: 0.9389 - auc: 0.92 - ETA: 12:28 - loss: 0.1639 - acc: 0.9390 - auc: 0.92 - ETA: 12:20 - loss: 0.1641 - acc: 0.9389 - auc: 0.92 - ETA: 12:13 - loss: 0.1645 - acc: 0.9388 - auc: 0.92 - ETA: 12:05 - loss: 0.1646 - acc: 0.9387 - auc: 0.924174288/74288 [==============================] - ETA: 11:58 - loss: 0.1644 - acc: 0.9387 - auc: 0.92 - ETA: 11:50 - loss: 0.1647 - acc: 0.9385 - auc: 0.92 - ETA: 11:43 - loss: 0.1648 - acc: 0.9384 - auc: 0.92 - ETA: 11:35 - loss: 0.1646 - acc: 0.9386 - auc: 0.92 - ETA: 11:28 - loss: 0.1646 - acc: 0.9385 - auc: 0.92 - ETA: 11:20 - loss: 0.1652 - acc: 0.9383 - auc: 0.92 - ETA: 11:13 - loss: 0.1655 - acc: 0.9381 - auc: 0.92 - ETA: 11:05 - loss: 0.1654 - acc: 0.9381 - auc: 0.92 - ETA: 10:58 - loss: 0.1653 - acc: 0.9382 - auc: 0.92 - ETA: 10:50 - loss: 0.1655 - acc: 0.9382 - auc: 0.92 - ETA: 10:43 - loss: 0.1657 - acc: 0.9381 - auc: 0.92 - ETA: 10:35 - loss: 0.1660 - acc: 0.9380 - auc: 0.92 - ETA: 10:28 - loss: 0.1664 - acc: 0.9378 - auc: 0.92 - ETA: 10:20 - loss: 0.1667 - acc: 0.9378 - auc: 0.92 - ETA: 10:13 - loss: 0.1667 - acc: 0.9379 - auc: 0.92 - ETA: 10:05 - loss: 0.1668 - acc: 0.9378 - auc: 0.92 - ETA: 9:58 - loss: 0.1670 - acc: 0.9376 - auc: 0.9246 - ETA: 9:50 - loss: 0.1676 - acc: 0.9374 - auc: 0.924 - ETA: 9:43 - loss: 0.1679 - acc: 0.9372 - auc: 0.924 - ETA: 9:35 - loss: 0.1681 - acc: 0.9372 - auc: 0.924 - ETA: 9:28 - loss: 0.1681 - acc: 0.9371 - auc: 0.924 - ETA: 9:20 - loss: 0.1682 - acc: 0.9371 - auc: 0.924 - ETA: 9:13 - loss: 0.1683 - acc: 0.9371 - auc: 0.924 - ETA: 9:05 - loss: 0.1683 - acc: 0.9371 - auc: 0.924 - ETA: 8:58 - loss: 0.1681 - acc: 0.9373 - auc: 0.924 - ETA: 8:50 - loss: 0.1683 - acc: 0.9372 - auc: 0.924 - ETA: 8:43 - loss: 0.1686 - acc: 0.9370 - auc: 0.924 - ETA: 8:35 - loss: 0.1688 - acc: 0.9368 - auc: 0.924 - ETA: 8:28 - loss: 0.1692 - acc: 0.9367 - auc: 0.924 - ETA: 8:20 - loss: 0.1692 - acc: 0.9368 - auc: 0.925 - ETA: 8:13 - loss: 0.1691 - acc: 0.9368 - auc: 0.925 - ETA: 8:05 - loss: 0.1692 - acc: 0.9367 - auc: 0.925 - ETA: 7:58 - loss: 0.1695 - acc: 0.9366 - auc: 0.925 - ETA: 7:50 - loss: 0.1699 - acc: 0.9365 - auc: 0.925 - ETA: 7:43 - loss: 0.1699 - acc: 0.9365 - auc: 0.925 - ETA: 7:35 - loss: 0.1700 - acc: 0.9366 - auc: 0.925 - ETA: 7:28 - loss: 0.1702 - acc: 0.9365 - auc: 0.925 - ETA: 7:20 - loss: 0.1706 - acc: 0.9363 - auc: 0.925 - ETA: 7:13 - loss: 0.1708 - acc: 0.9363 - auc: 0.925 - ETA: 7:05 - loss: 0.1711 - acc: 0.9362 - auc: 0.925 - ETA: 6:58 - loss: 0.1714 - acc: 0.9361 - auc: 0.925 - ETA: 6:50 - loss: 0.1717 - acc: 0.9360 - auc: 0.925 - ETA: 6:43 - loss: 0.1717 - acc: 0.9360 - auc: 0.925 - ETA: 6:35 - loss: 0.1718 - acc: 0.9359 - auc: 0.925 - ETA: 6:28 - loss: 0.1721 - acc: 0.9357 - auc: 0.925 - ETA: 6:20 - loss: 0.1722 - acc: 0.9358 - auc: 0.925 - ETA: 6:13 - loss: 0.1724 - acc: 0.9358 - auc: 0.925 - ETA: 6:05 - loss: 0.1724 - acc: 0.9358 - auc: 0.925 - ETA: 5:58 - loss: 0.1725 - acc: 0.9357 - auc: 0.925 - ETA: 5:50 - loss: 0.1726 - acc: 0.9358 - auc: 0.925 - ETA: 5:43 - loss: 0.1729 - acc: 0.9358 - auc: 0.925 - ETA: 5:35 - loss: 0.1731 - acc: 0.9357 - auc: 0.925 - ETA: 5:28 - loss: 0.1730 - acc: 0.9358 - auc: 0.925 - ETA: 5:20 - loss: 0.1731 - acc: 0.9357 - auc: 0.925 - ETA: 5:13 - loss: 0.1735 - acc: 0.9355 - auc: 0.925 - ETA: 5:05 - loss: 0.1737 - acc: 0.9354 - auc: 0.925 - ETA: 4:57 - loss: 0.1736 - acc: 0.9355 - auc: 0.925 - ETA: 4:50 - loss: 0.1737 - acc: 0.9354 - auc: 0.925 - ETA: 4:42 - loss: 0.1741 - acc: 0.9352 - auc: 0.925 - ETA: 4:35 - loss: 0.1742 - acc: 0.9352 - auc: 0.925 - ETA: 4:27 - loss: 0.1742 - acc: 0.9353 - auc: 0.925 - ETA: 4:20 - loss: 0.1743 - acc: 0.9352 - auc: 0.925 - ETA: 4:12 - loss: 0.1744 - acc: 0.9351 - auc: 0.925 - ETA: 4:05 - loss: 0.1743 - acc: 0.9352 - auc: 0.925 - ETA: 3:57 - loss: 0.1749 - acc: 0.9352 - auc: 0.925 - ETA: 3:50 - loss: 0.1750 - acc: 0.9352 - auc: 0.925 - ETA: 3:42 - loss: 0.1752 - acc: 0.9350 - auc: 0.925 - ETA: 3:35 - loss: 0.1754 - acc: 0.9349 - auc: 0.925 - ETA: 3:27 - loss: 0.1753 - acc: 0.9349 - auc: 0.926 - ETA: 3:20 - loss: 0.1755 - acc: 0.9348 - auc: 0.926 - ETA: 3:12 - loss: 0.1753 - acc: 0.9349 - auc: 0.926 - ETA: 3:05 - loss: 0.1751 - acc: 0.9350 - auc: 0.926 - ETA: 2:57 - loss: 0.1750 - acc: 0.9350 - auc: 0.926 - ETA: 2:50 - loss: 0.1750 - acc: 0.9350 - auc: 0.926 - ETA: 2:42 - loss: 0.1752 - acc: 0.9349 - auc: 0.926 - ETA: 2:35 - loss: 0.1753 - acc: 0.9348 - auc: 0.926 - ETA: 2:27 - loss: 0.1753 - acc: 0.9349 - auc: 0.926 - ETA: 2:20 - loss: 0.1754 - acc: 0.9348 - auc: 0.926 - ETA: 2:12 - loss: 0.1757 - acc: 0.9346 - auc: 0.926 - ETA: 2:04 - loss: 0.1757 - acc: 0.9346 - auc: 0.926 - ETA: 1:57 - loss: 0.1758 - acc: 0.9346 - auc: 0.926 - ETA: 1:49 - loss: 0.1761 - acc: 0.9344 - auc: 0.926 - ETA: 1:42 - loss: 0.1761 - acc: 0.9344 - auc: 0.926 - ETA: 1:34 - loss: 0.1763 - acc: 0.9342 - auc: 0.926 - ETA: 1:27 - loss: 0.1766 - acc: 0.9341 - auc: 0.926 - ETA: 1:19 - loss: 0.1771 - acc: 0.9340 - auc: 0.926 - ETA: 1:12 - loss: 0.1775 - acc: 0.9338 - auc: 0.926 - ETA: 1:04 - loss: 0.1776 - acc: 0.9338 - auc: 0.926 - ETA: 57s - loss: 0.1776 - acc: 0.9339 - auc: 0.926 - ETA: 49s - loss: 0.1776 - acc: 0.9339 - auc: 0.92 - ETA: 42s - loss: 0.1776 - acc: 0.9339 - auc: 0.92 - ETA: 34s - loss: 0.1776 - acc: 0.9339 - auc: 0.92 - ETA: 27s - loss: 0.1776 - acc: 0.9339 - auc: 0.92 - ETA: 19s - loss: 0.1776 - acc: 0.9339 - auc: 0.92 - ETA: 12s - loss: 0.1778 - acc: 0.9339 - auc: 0.92 - ETA: 4s - loss: 0.1779 - acc: 0.9339 - auc: 0.9266 - 1982s 27ms/step - loss: 0.1779 - acc: 0.9339 - auc: 0.9266 - val_loss: 0.5377 - val_acc: 0.8384 - val_auc: 0.9311\n",
      "Epoch 6/12\n"
     ]
    },
    {
     "name": "stdout",
     "output_type": "stream",
     "text": [
      "45300/74288 [=================>............] - ETA: 30:59 - loss: 0.1228 - acc: 0.9567 - auc: 0.92 - ETA: 30:56 - loss: 0.1134 - acc: 0.9650 - auc: 0.92 - ETA: 30:37 - loss: 0.1143 - acc: 0.9689 - auc: 0.93 - ETA: 30:28 - loss: 0.1098 - acc: 0.9692 - auc: 0.93 - ETA: 30:22 - loss: 0.1037 - acc: 0.9707 - auc: 0.93 - ETA: 30:12 - loss: 0.1018 - acc: 0.9711 - auc: 0.93 - ETA: 30:03 - loss: 0.1023 - acc: 0.9705 - auc: 0.93 - ETA: 29:54 - loss: 0.0990 - acc: 0.9717 - auc: 0.93 - ETA: 29:47 - loss: 0.0999 - acc: 0.9700 - auc: 0.93 - ETA: 29:41 - loss: 0.0996 - acc: 0.9683 - auc: 0.93 - ETA: 29:33 - loss: 0.0972 - acc: 0.9691 - auc: 0.93 - ETA: 29:25 - loss: 0.0944 - acc: 0.9700 - auc: 0.93 - ETA: 29:16 - loss: 0.0908 - acc: 0.9710 - auc: 0.93 - ETA: 29:08 - loss: 0.0954 - acc: 0.9705 - auc: 0.93 - ETA: 29:02 - loss: 0.0940 - acc: 0.9704 - auc: 0.93 - ETA: 28:55 - loss: 0.0949 - acc: 0.9696 - auc: 0.93 - ETA: 28:47 - loss: 0.0945 - acc: 0.9688 - auc: 0.93 - ETA: 28:40 - loss: 0.0930 - acc: 0.9696 - auc: 0.93 - ETA: 28:32 - loss: 0.0915 - acc: 0.9702 - auc: 0.93 - ETA: 28:25 - loss: 0.0922 - acc: 0.9695 - auc: 0.93 - ETA: 28:17 - loss: 0.0936 - acc: 0.9697 - auc: 0.93 - ETA: 28:09 - loss: 0.0923 - acc: 0.9702 - auc: 0.93 - ETA: 28:01 - loss: 0.0927 - acc: 0.9700 - auc: 0.93 - ETA: 27:54 - loss: 0.0917 - acc: 0.9704 - auc: 0.93 - ETA: 27:47 - loss: 0.0933 - acc: 0.9704 - auc: 0.93 - ETA: 27:40 - loss: 0.0932 - acc: 0.9705 - auc: 0.93 - ETA: 27:31 - loss: 0.0942 - acc: 0.9700 - auc: 0.93 - ETA: 27:23 - loss: 0.0928 - acc: 0.9702 - auc: 0.93 - ETA: 27:15 - loss: 0.0938 - acc: 0.9698 - auc: 0.93 - ETA: 27:08 - loss: 0.0925 - acc: 0.9702 - auc: 0.93 - ETA: 27:01 - loss: 0.0932 - acc: 0.9702 - auc: 0.93 - ETA: 26:53 - loss: 0.0934 - acc: 0.9696 - auc: 0.93 - ETA: 26:45 - loss: 0.0928 - acc: 0.9699 - auc: 0.93 - ETA: 26:38 - loss: 0.0920 - acc: 0.9699 - auc: 0.93 - ETA: 26:31 - loss: 0.0922 - acc: 0.9696 - auc: 0.93 - ETA: 26:24 - loss: 0.0919 - acc: 0.9695 - auc: 0.93 - ETA: 26:16 - loss: 0.0918 - acc: 0.9694 - auc: 0.93 - ETA: 26:09 - loss: 0.0913 - acc: 0.9694 - auc: 0.93 - ETA: 26:02 - loss: 0.0918 - acc: 0.9691 - auc: 0.93 - ETA: 25:54 - loss: 0.0911 - acc: 0.9692 - auc: 0.93 - ETA: 25:48 - loss: 0.0906 - acc: 0.9694 - auc: 0.93 - ETA: 25:40 - loss: 0.0906 - acc: 0.9694 - auc: 0.93 - ETA: 25:32 - loss: 0.0909 - acc: 0.9691 - auc: 0.93 - ETA: 25:25 - loss: 0.0909 - acc: 0.9690 - auc: 0.93 - ETA: 25:17 - loss: 0.0912 - acc: 0.9689 - auc: 0.93 - ETA: 25:10 - loss: 0.0905 - acc: 0.9692 - auc: 0.93 - ETA: 25:03 - loss: 0.0894 - acc: 0.9696 - auc: 0.93 - ETA: 24:56 - loss: 0.0898 - acc: 0.9694 - auc: 0.93 - ETA: 24:48 - loss: 0.0897 - acc: 0.9693 - auc: 0.93 - ETA: 24:41 - loss: 0.0902 - acc: 0.9691 - auc: 0.93 - ETA: 24:34 - loss: 0.0898 - acc: 0.9693 - auc: 0.93 - ETA: 24:27 - loss: 0.0890 - acc: 0.9697 - auc: 0.93 - ETA: 24:20 - loss: 0.0897 - acc: 0.9693 - auc: 0.93 - ETA: 24:12 - loss: 0.0895 - acc: 0.9692 - auc: 0.93 - ETA: 24:05 - loss: 0.0894 - acc: 0.9691 - auc: 0.93 - ETA: 23:59 - loss: 0.0896 - acc: 0.9692 - auc: 0.93 - ETA: 23:51 - loss: 0.0897 - acc: 0.9692 - auc: 0.93 - ETA: 23:43 - loss: 0.0896 - acc: 0.9691 - auc: 0.93 - ETA: 23:35 - loss: 0.0898 - acc: 0.9689 - auc: 0.93 - ETA: 23:28 - loss: 0.0895 - acc: 0.9692 - auc: 0.93 - ETA: 23:21 - loss: 0.0902 - acc: 0.9690 - auc: 0.93 - ETA: 23:14 - loss: 0.0899 - acc: 0.9689 - auc: 0.93 - ETA: 23:06 - loss: 0.0899 - acc: 0.9690 - auc: 0.93 - ETA: 22:59 - loss: 0.0911 - acc: 0.9686 - auc: 0.93 - ETA: 22:51 - loss: 0.0914 - acc: 0.9685 - auc: 0.93 - ETA: 22:45 - loss: 0.0910 - acc: 0.9686 - auc: 0.93 - ETA: 22:37 - loss: 0.0904 - acc: 0.9688 - auc: 0.93 - ETA: 22:30 - loss: 0.0906 - acc: 0.9687 - auc: 0.93 - ETA: 22:22 - loss: 0.0902 - acc: 0.9688 - auc: 0.93 - ETA: 22:14 - loss: 0.0897 - acc: 0.9690 - auc: 0.93 - ETA: 22:07 - loss: 0.0898 - acc: 0.9688 - auc: 0.93 - ETA: 21:59 - loss: 0.0894 - acc: 0.9689 - auc: 0.93 - ETA: 21:52 - loss: 0.0892 - acc: 0.9690 - auc: 0.93 - ETA: 21:44 - loss: 0.0888 - acc: 0.9692 - auc: 0.93 - ETA: 21:37 - loss: 0.0885 - acc: 0.9693 - auc: 0.93 - ETA: 21:30 - loss: 0.0883 - acc: 0.9693 - auc: 0.93 - ETA: 21:22 - loss: 0.0882 - acc: 0.9694 - auc: 0.93 - ETA: 21:14 - loss: 0.0891 - acc: 0.9690 - auc: 0.93 - ETA: 21:07 - loss: 0.0890 - acc: 0.9690 - auc: 0.93 - ETA: 20:59 - loss: 0.0886 - acc: 0.9691 - auc: 0.93 - ETA: 20:52 - loss: 0.0888 - acc: 0.9690 - auc: 0.93 - ETA: 20:44 - loss: 0.0892 - acc: 0.9688 - auc: 0.93 - ETA: 20:36 - loss: 0.0892 - acc: 0.9688 - auc: 0.93 - ETA: 20:29 - loss: 0.0893 - acc: 0.9687 - auc: 0.93 - ETA: 20:21 - loss: 0.0889 - acc: 0.9689 - auc: 0.93 - ETA: 20:14 - loss: 0.0890 - acc: 0.9687 - auc: 0.93 - ETA: 20:06 - loss: 0.0892 - acc: 0.9685 - auc: 0.93 - ETA: 19:58 - loss: 0.0890 - acc: 0.9686 - auc: 0.93 - ETA: 19:51 - loss: 0.0892 - acc: 0.9685 - auc: 0.93 - ETA: 19:43 - loss: 0.0893 - acc: 0.9684 - auc: 0.93 - ETA: 19:36 - loss: 0.0891 - acc: 0.9685 - auc: 0.93 - ETA: 19:28 - loss: 0.0892 - acc: 0.9684 - auc: 0.93 - ETA: 19:20 - loss: 0.0889 - acc: 0.9685 - auc: 0.93 - ETA: 19:13 - loss: 0.0889 - acc: 0.9684 - auc: 0.93 - ETA: 19:05 - loss: 0.0889 - acc: 0.9685 - auc: 0.93 - ETA: 18:58 - loss: 0.0884 - acc: 0.9687 - auc: 0.93 - ETA: 18:50 - loss: 0.0885 - acc: 0.9686 - auc: 0.93 - ETA: 18:42 - loss: 0.0890 - acc: 0.9686 - auc: 0.93 - ETA: 18:35 - loss: 0.0890 - acc: 0.9685 - auc: 0.93 - ETA: 18:27 - loss: 0.0892 - acc: 0.9685 - auc: 0.93 - ETA: 18:20 - loss: 0.0897 - acc: 0.9683 - auc: 0.93 - ETA: 18:12 - loss: 0.0897 - acc: 0.9683 - auc: 0.93 - ETA: 18:05 - loss: 0.0899 - acc: 0.9682 - auc: 0.93 - ETA: 17:57 - loss: 0.0895 - acc: 0.9684 - auc: 0.93 - ETA: 17:50 - loss: 0.0895 - acc: 0.9683 - auc: 0.93 - ETA: 17:42 - loss: 0.0893 - acc: 0.9685 - auc: 0.93 - ETA: 17:35 - loss: 0.0895 - acc: 0.9684 - auc: 0.93 - ETA: 17:28 - loss: 0.0896 - acc: 0.9684 - auc: 0.93 - ETA: 17:20 - loss: 0.0901 - acc: 0.9683 - auc: 0.93 - ETA: 17:13 - loss: 0.0905 - acc: 0.9682 - auc: 0.93 - ETA: 17:05 - loss: 0.0905 - acc: 0.9681 - auc: 0.93 - ETA: 16:58 - loss: 0.0907 - acc: 0.9681 - auc: 0.93 - ETA: 16:50 - loss: 0.0906 - acc: 0.9682 - auc: 0.93 - ETA: 16:43 - loss: 0.0908 - acc: 0.9682 - auc: 0.93 - ETA: 16:36 - loss: 0.0908 - acc: 0.9682 - auc: 0.93 - ETA: 16:28 - loss: 0.0905 - acc: 0.9683 - auc: 0.93 - ETA: 16:21 - loss: 0.0906 - acc: 0.9683 - auc: 0.93 - ETA: 16:13 - loss: 0.0905 - acc: 0.9683 - auc: 0.93 - ETA: 16:06 - loss: 0.0906 - acc: 0.9684 - auc: 0.93 - ETA: 15:58 - loss: 0.0909 - acc: 0.9682 - auc: 0.93 - ETA: 15:51 - loss: 0.0909 - acc: 0.9682 - auc: 0.93 - ETA: 15:43 - loss: 0.0913 - acc: 0.9680 - auc: 0.93 - ETA: 15:36 - loss: 0.0915 - acc: 0.9680 - auc: 0.93 - ETA: 15:28 - loss: 0.0914 - acc: 0.9680 - auc: 0.93 - ETA: 15:21 - loss: 0.0914 - acc: 0.9681 - auc: 0.93 - ETA: 15:13 - loss: 0.0913 - acc: 0.9681 - auc: 0.93 - ETA: 15:06 - loss: 0.0915 - acc: 0.9681 - auc: 0.93 - ETA: 14:58 - loss: 0.0914 - acc: 0.9681 - auc: 0.93 - ETA: 14:51 - loss: 0.0916 - acc: 0.9681 - auc: 0.93 - ETA: 14:43 - loss: 0.0918 - acc: 0.9681 - auc: 0.93 - ETA: 14:36 - loss: 0.0917 - acc: 0.9681 - auc: 0.93 - ETA: 14:28 - loss: 0.0914 - acc: 0.9682 - auc: 0.93 - ETA: 14:21 - loss: 0.0916 - acc: 0.9682 - auc: 0.93 - ETA: 14:13 - loss: 0.0917 - acc: 0.9681 - auc: 0.93 - ETA: 14:06 - loss: 0.0916 - acc: 0.9682 - auc: 0.93 - ETA: 13:58 - loss: 0.0918 - acc: 0.9681 - auc: 0.93 - ETA: 13:51 - loss: 0.0918 - acc: 0.9680 - auc: 0.93 - ETA: 13:43 - loss: 0.0915 - acc: 0.9681 - auc: 0.93 - ETA: 13:36 - loss: 0.0914 - acc: 0.9681 - auc: 0.93 - ETA: 13:28 - loss: 0.0915 - acc: 0.9681 - auc: 0.93 - ETA: 13:21 - loss: 0.0916 - acc: 0.9681 - auc: 0.93 - ETA: 13:13 - loss: 0.0916 - acc: 0.9681 - auc: 0.93 - ETA: 13:06 - loss: 0.0918 - acc: 0.9679 - auc: 0.93 - ETA: 12:58 - loss: 0.0919 - acc: 0.9678 - auc: 0.93 - ETA: 12:51 - loss: 0.0920 - acc: 0.9678 - auc: 0.93 - ETA: 12:43 - loss: 0.0922 - acc: 0.9677 - auc: 0.93 - ETA: 12:36 - loss: 0.0921 - acc: 0.9677 - auc: 0.93 - ETA: 12:28 - loss: 0.0923 - acc: 0.9677 - auc: 0.93 - ETA: 12:21 - loss: 0.0925 - acc: 0.9676 - auc: 0.93 - ETA: 12:13 - loss: 0.0925 - acc: 0.9676 - auc: 0.93 - ETA: 12:06 - loss: 0.0926 - acc: 0.9675 - auc: 0.9345"
     ]
    },
    {
     "name": "stdout",
     "output_type": "stream",
     "text": [
      "74288/74288 [==============================] - ETA: 11:58 - loss: 0.0927 - acc: 0.9675 - auc: 0.93 - ETA: 11:51 - loss: 0.0930 - acc: 0.9674 - auc: 0.93 - ETA: 11:43 - loss: 0.0934 - acc: 0.9672 - auc: 0.93 - ETA: 11:36 - loss: 0.0938 - acc: 0.9671 - auc: 0.93 - ETA: 11:29 - loss: 0.0942 - acc: 0.9671 - auc: 0.93 - ETA: 11:21 - loss: 0.0941 - acc: 0.9671 - auc: 0.93 - ETA: 11:14 - loss: 0.0941 - acc: 0.9671 - auc: 0.93 - ETA: 11:07 - loss: 0.0944 - acc: 0.9670 - auc: 0.93 - ETA: 11:00 - loss: 0.0945 - acc: 0.9670 - auc: 0.93 - ETA: 10:52 - loss: 0.0947 - acc: 0.9669 - auc: 0.93 - ETA: 10:45 - loss: 0.0947 - acc: 0.9668 - auc: 0.93 - ETA: 10:37 - loss: 0.0946 - acc: 0.9668 - auc: 0.93 - ETA: 10:30 - loss: 0.0949 - acc: 0.9668 - auc: 0.93 - ETA: 10:22 - loss: 0.0951 - acc: 0.9668 - auc: 0.93 - ETA: 10:15 - loss: 0.0952 - acc: 0.9667 - auc: 0.93 - ETA: 10:07 - loss: 0.0952 - acc: 0.9668 - auc: 0.93 - ETA: 9:59 - loss: 0.0955 - acc: 0.9667 - auc: 0.9349 - ETA: 9:52 - loss: 0.0954 - acc: 0.9667 - auc: 0.935 - ETA: 9:44 - loss: 0.0955 - acc: 0.9666 - auc: 0.935 - ETA: 9:37 - loss: 0.0954 - acc: 0.9666 - auc: 0.935 - ETA: 9:29 - loss: 0.0952 - acc: 0.9667 - auc: 0.935 - ETA: 9:22 - loss: 0.0955 - acc: 0.9666 - auc: 0.935 - ETA: 9:14 - loss: 0.0958 - acc: 0.9665 - auc: 0.935 - ETA: 9:07 - loss: 0.0958 - acc: 0.9665 - auc: 0.935 - ETA: 8:59 - loss: 0.0956 - acc: 0.9665 - auc: 0.935 - ETA: 8:52 - loss: 0.0957 - acc: 0.9665 - auc: 0.935 - ETA: 8:44 - loss: 0.0958 - acc: 0.9664 - auc: 0.935 - ETA: 8:37 - loss: 0.0958 - acc: 0.9664 - auc: 0.935 - ETA: 8:29 - loss: 0.0956 - acc: 0.9665 - auc: 0.935 - ETA: 8:22 - loss: 0.0958 - acc: 0.9665 - auc: 0.935 - ETA: 8:14 - loss: 0.0958 - acc: 0.9665 - auc: 0.935 - ETA: 8:07 - loss: 0.0957 - acc: 0.9665 - auc: 0.935 - ETA: 7:59 - loss: 0.0960 - acc: 0.9664 - auc: 0.935 - ETA: 7:52 - loss: 0.0959 - acc: 0.9664 - auc: 0.935 - ETA: 7:44 - loss: 0.0960 - acc: 0.9663 - auc: 0.935 - ETA: 7:36 - loss: 0.0961 - acc: 0.9663 - auc: 0.935 - ETA: 7:29 - loss: 0.0963 - acc: 0.9662 - auc: 0.935 - ETA: 7:21 - loss: 0.0963 - acc: 0.9662 - auc: 0.935 - ETA: 7:14 - loss: 0.0967 - acc: 0.9662 - auc: 0.935 - ETA: 7:06 - loss: 0.0967 - acc: 0.9661 - auc: 0.935 - ETA: 6:59 - loss: 0.0966 - acc: 0.9662 - auc: 0.935 - ETA: 6:51 - loss: 0.0966 - acc: 0.9662 - auc: 0.935 - ETA: 6:44 - loss: 0.0967 - acc: 0.9660 - auc: 0.935 - ETA: 6:36 - loss: 0.0968 - acc: 0.9660 - auc: 0.935 - ETA: 6:29 - loss: 0.0968 - acc: 0.9660 - auc: 0.935 - ETA: 6:21 - loss: 0.0969 - acc: 0.9660 - auc: 0.935 - ETA: 6:14 - loss: 0.0968 - acc: 0.9660 - auc: 0.935 - ETA: 6:06 - loss: 0.0967 - acc: 0.9661 - auc: 0.935 - ETA: 5:58 - loss: 0.0968 - acc: 0.9660 - auc: 0.935 - ETA: 5:51 - loss: 0.0968 - acc: 0.9660 - auc: 0.935 - ETA: 5:43 - loss: 0.0973 - acc: 0.9659 - auc: 0.935 - ETA: 5:36 - loss: 0.0972 - acc: 0.9659 - auc: 0.935 - ETA: 5:29 - loss: 0.0973 - acc: 0.9659 - auc: 0.935 - ETA: 5:21 - loss: 0.0974 - acc: 0.9659 - auc: 0.935 - ETA: 5:14 - loss: 0.0974 - acc: 0.9659 - auc: 0.935 - ETA: 5:06 - loss: 0.0977 - acc: 0.9658 - auc: 0.936 - ETA: 4:59 - loss: 0.0977 - acc: 0.9658 - auc: 0.936 - ETA: 4:51 - loss: 0.0977 - acc: 0.9658 - auc: 0.936 - ETA: 4:43 - loss: 0.0978 - acc: 0.9658 - auc: 0.936 - ETA: 4:36 - loss: 0.0981 - acc: 0.9657 - auc: 0.936 - ETA: 4:28 - loss: 0.0986 - acc: 0.9656 - auc: 0.936 - ETA: 4:21 - loss: 0.0986 - acc: 0.9657 - auc: 0.936 - ETA: 4:13 - loss: 0.0986 - acc: 0.9656 - auc: 0.936 - ETA: 4:06 - loss: 0.0987 - acc: 0.9656 - auc: 0.936 - ETA: 3:58 - loss: 0.0986 - acc: 0.9656 - auc: 0.936 - ETA: 3:51 - loss: 0.0986 - acc: 0.9656 - auc: 0.936 - ETA: 3:43 - loss: 0.0986 - acc: 0.9656 - auc: 0.936 - ETA: 3:36 - loss: 0.0986 - acc: 0.9656 - auc: 0.936 - ETA: 3:28 - loss: 0.0986 - acc: 0.9655 - auc: 0.936 - ETA: 3:20 - loss: 0.0987 - acc: 0.9655 - auc: 0.936 - ETA: 3:13 - loss: 0.0988 - acc: 0.9655 - auc: 0.936 - ETA: 3:05 - loss: 0.0987 - acc: 0.9656 - auc: 0.936 - ETA: 2:58 - loss: 0.0985 - acc: 0.9657 - auc: 0.936 - ETA: 2:50 - loss: 0.0987 - acc: 0.9656 - auc: 0.936 - ETA: 2:43 - loss: 0.0988 - acc: 0.9655 - auc: 0.936 - ETA: 2:35 - loss: 0.0989 - acc: 0.9655 - auc: 0.936 - ETA: 2:28 - loss: 0.0990 - acc: 0.9655 - auc: 0.936 - ETA: 2:20 - loss: 0.0991 - acc: 0.9654 - auc: 0.936 - ETA: 2:12 - loss: 0.0990 - acc: 0.9654 - auc: 0.936 - ETA: 2:05 - loss: 0.0990 - acc: 0.9654 - auc: 0.936 - ETA: 1:57 - loss: 0.0991 - acc: 0.9653 - auc: 0.936 - ETA: 1:50 - loss: 0.0991 - acc: 0.9653 - auc: 0.936 - ETA: 1:42 - loss: 0.0992 - acc: 0.9652 - auc: 0.936 - ETA: 1:35 - loss: 0.0992 - acc: 0.9652 - auc: 0.936 - ETA: 1:27 - loss: 0.0993 - acc: 0.9652 - auc: 0.936 - ETA: 1:20 - loss: 0.0992 - acc: 0.9652 - auc: 0.936 - ETA: 1:12 - loss: 0.0994 - acc: 0.9651 - auc: 0.936 - ETA: 1:05 - loss: 0.0993 - acc: 0.9651 - auc: 0.936 - ETA: 57s - loss: 0.0993 - acc: 0.9652 - auc: 0.936 - ETA: 49s - loss: 0.0992 - acc: 0.9652 - auc: 0.93 - ETA: 42s - loss: 0.0992 - acc: 0.9653 - auc: 0.93 - ETA: 34s - loss: 0.0992 - acc: 0.9653 - auc: 0.93 - ETA: 27s - loss: 0.0993 - acc: 0.9652 - auc: 0.93 - ETA: 19s - loss: 0.0993 - acc: 0.9653 - auc: 0.93 - ETA: 12s - loss: 0.0994 - acc: 0.9652 - auc: 0.93 - ETA: 4s - loss: 0.0995 - acc: 0.9651 - auc: 0.9369 - 1989s 27ms/step - loss: 0.0996 - acc: 0.9651 - auc: 0.9370 - val_loss: 0.7739 - val_acc: 0.8301 - val_auc: 0.9411\n",
      "Epoch 7/12\n"
     ]
    },
    {
     "name": "stdout",
     "output_type": "stream",
     "text": [
      "45300/74288 [=================>............] - ETA: 31:01 - loss: 0.0800 - acc: 0.9800 - auc: 0.93 - ETA: 30:53 - loss: 0.0573 - acc: 0.9867 - auc: 0.93 - ETA: 30:44 - loss: 0.0546 - acc: 0.9844 - auc: 0.93 - ETA: 30:38 - loss: 0.0515 - acc: 0.9858 - auc: 0.93 - ETA: 30:41 - loss: 0.0483 - acc: 0.9853 - auc: 0.93 - ETA: 30:30 - loss: 0.0495 - acc: 0.9856 - auc: 0.93 - ETA: 30:29 - loss: 0.0501 - acc: 0.9848 - auc: 0.93 - ETA: 30:19 - loss: 0.0585 - acc: 0.9821 - auc: 0.93 - ETA: 30:10 - loss: 0.0684 - acc: 0.9815 - auc: 0.93 - ETA: 30:05 - loss: 0.0726 - acc: 0.9793 - auc: 0.93 - ETA: 29:56 - loss: 0.0729 - acc: 0.9788 - auc: 0.93 - ETA: 29:48 - loss: 0.0722 - acc: 0.9794 - auc: 0.93 - ETA: 29:38 - loss: 0.0708 - acc: 0.9800 - auc: 0.93 - ETA: 29:28 - loss: 0.0686 - acc: 0.9805 - auc: 0.93 - ETA: 29:22 - loss: 0.0681 - acc: 0.9804 - auc: 0.93 - ETA: 29:16 - loss: 0.0689 - acc: 0.9800 - auc: 0.93 - ETA: 29:11 - loss: 0.0678 - acc: 0.9802 - auc: 0.93 - ETA: 29:02 - loss: 0.0688 - acc: 0.9794 - auc: 0.93 - ETA: 28:55 - loss: 0.0682 - acc: 0.9798 - auc: 0.93 - ETA: 28:49 - loss: 0.0665 - acc: 0.9802 - auc: 0.93 - ETA: 28:42 - loss: 0.0664 - acc: 0.9798 - auc: 0.94 - ETA: 28:34 - loss: 0.0666 - acc: 0.9794 - auc: 0.94 - ETA: 28:25 - loss: 0.0663 - acc: 0.9793 - auc: 0.94 - ETA: 28:16 - loss: 0.0655 - acc: 0.9793 - auc: 0.94 - ETA: 28:08 - loss: 0.0658 - acc: 0.9793 - auc: 0.94 - ETA: 28:00 - loss: 0.0653 - acc: 0.9795 - auc: 0.94 - ETA: 27:51 - loss: 0.0657 - acc: 0.9793 - auc: 0.94 - ETA: 27:42 - loss: 0.0659 - acc: 0.9792 - auc: 0.94 - ETA: 27:34 - loss: 0.0651 - acc: 0.9792 - auc: 0.94 - ETA: 27:25 - loss: 0.0644 - acc: 0.9793 - auc: 0.94 - ETA: 27:18 - loss: 0.0638 - acc: 0.9796 - auc: 0.94 - ETA: 27:10 - loss: 0.0633 - acc: 0.9797 - auc: 0.94 - ETA: 27:02 - loss: 0.0625 - acc: 0.9800 - auc: 0.94 - ETA: 26:54 - loss: 0.0612 - acc: 0.9805 - auc: 0.94 - ETA: 26:45 - loss: 0.0610 - acc: 0.9806 - auc: 0.94 - ETA: 26:37 - loss: 0.0607 - acc: 0.9808 - auc: 0.94 - ETA: 26:31 - loss: 0.0607 - acc: 0.9808 - auc: 0.94 - ETA: 26:23 - loss: 0.0602 - acc: 0.9808 - auc: 0.94 - ETA: 26:14 - loss: 0.0598 - acc: 0.9808 - auc: 0.94 - ETA: 26:07 - loss: 0.0593 - acc: 0.9810 - auc: 0.94 - ETA: 26:00 - loss: 0.0594 - acc: 0.9810 - auc: 0.94 - ETA: 25:52 - loss: 0.0590 - acc: 0.9810 - auc: 0.94 - ETA: 25:44 - loss: 0.0588 - acc: 0.9809 - auc: 0.94 - ETA: 25:36 - loss: 0.0584 - acc: 0.9811 - auc: 0.94 - ETA: 25:28 - loss: 0.0596 - acc: 0.9809 - auc: 0.94 - ETA: 25:21 - loss: 0.0591 - acc: 0.9809 - auc: 0.94 - ETA: 25:13 - loss: 0.0589 - acc: 0.9809 - auc: 0.94 - ETA: 25:05 - loss: 0.0584 - acc: 0.9812 - auc: 0.94 - ETA: 24:57 - loss: 0.0601 - acc: 0.9810 - auc: 0.94 - ETA: 24:50 - loss: 0.0601 - acc: 0.9809 - auc: 0.94 - ETA: 24:43 - loss: 0.0601 - acc: 0.9808 - auc: 0.94 - ETA: 24:35 - loss: 0.0603 - acc: 0.9808 - auc: 0.94 - ETA: 24:28 - loss: 0.0600 - acc: 0.9807 - auc: 0.94 - ETA: 24:21 - loss: 0.0605 - acc: 0.9807 - auc: 0.94 - ETA: 24:13 - loss: 0.0614 - acc: 0.9805 - auc: 0.94 - ETA: 24:06 - loss: 0.0612 - acc: 0.9805 - auc: 0.94 - ETA: 23:59 - loss: 0.0608 - acc: 0.9805 - auc: 0.94 - ETA: 23:52 - loss: 0.0604 - acc: 0.9806 - auc: 0.94 - ETA: 23:44 - loss: 0.0603 - acc: 0.9807 - auc: 0.94 - ETA: 23:37 - loss: 0.0600 - acc: 0.9808 - auc: 0.94 - ETA: 23:29 - loss: 0.0598 - acc: 0.9808 - auc: 0.94 - ETA: 23:22 - loss: 0.0595 - acc: 0.9809 - auc: 0.94 - ETA: 23:14 - loss: 0.0595 - acc: 0.9808 - auc: 0.94 - ETA: 23:07 - loss: 0.0591 - acc: 0.9809 - auc: 0.94 - ETA: 22:59 - loss: 0.0589 - acc: 0.9809 - auc: 0.94 - ETA: 22:52 - loss: 0.0586 - acc: 0.9810 - auc: 0.94 - ETA: 22:44 - loss: 0.0587 - acc: 0.9808 - auc: 0.94 - ETA: 22:36 - loss: 0.0592 - acc: 0.9807 - auc: 0.94 - ETA: 22:29 - loss: 0.0589 - acc: 0.9807 - auc: 0.94 - ETA: 22:21 - loss: 0.0591 - acc: 0.9808 - auc: 0.94 - ETA: 22:14 - loss: 0.0588 - acc: 0.9809 - auc: 0.94 - ETA: 22:07 - loss: 0.0585 - acc: 0.9809 - auc: 0.94 - ETA: 21:59 - loss: 0.0584 - acc: 0.9810 - auc: 0.94 - ETA: 21:51 - loss: 0.0580 - acc: 0.9811 - auc: 0.94 - ETA: 21:44 - loss: 0.0577 - acc: 0.9812 - auc: 0.94 - ETA: 21:36 - loss: 0.0582 - acc: 0.9812 - auc: 0.94 - ETA: 21:29 - loss: 0.0584 - acc: 0.9812 - auc: 0.94 - ETA: 21:21 - loss: 0.0585 - acc: 0.9812 - auc: 0.94 - ETA: 21:14 - loss: 0.0589 - acc: 0.9810 - auc: 0.94 - ETA: 21:07 - loss: 0.0589 - acc: 0.9810 - auc: 0.94 - ETA: 21:00 - loss: 0.0585 - acc: 0.9811 - auc: 0.94 - ETA: 20:52 - loss: 0.0584 - acc: 0.9812 - auc: 0.94 - ETA: 20:44 - loss: 0.0584 - acc: 0.9811 - auc: 0.94 - ETA: 20:37 - loss: 0.0583 - acc: 0.9811 - auc: 0.94 - ETA: 20:29 - loss: 0.0579 - acc: 0.9812 - auc: 0.94 - ETA: 20:22 - loss: 0.0582 - acc: 0.9811 - auc: 0.94 - ETA: 20:14 - loss: 0.0579 - acc: 0.9812 - auc: 0.94 - ETA: 20:07 - loss: 0.0583 - acc: 0.9811 - auc: 0.94 - ETA: 20:00 - loss: 0.0582 - acc: 0.9812 - auc: 0.94 - ETA: 19:52 - loss: 0.0587 - acc: 0.9812 - auc: 0.94 - ETA: 19:45 - loss: 0.0584 - acc: 0.9813 - auc: 0.94 - ETA: 19:37 - loss: 0.0585 - acc: 0.9813 - auc: 0.94 - ETA: 19:29 - loss: 0.0586 - acc: 0.9812 - auc: 0.94 - ETA: 19:22 - loss: 0.0584 - acc: 0.9812 - auc: 0.94 - ETA: 19:14 - loss: 0.0585 - acc: 0.9813 - auc: 0.94 - ETA: 19:07 - loss: 0.0584 - acc: 0.9813 - auc: 0.94 - ETA: 18:59 - loss: 0.0585 - acc: 0.9812 - auc: 0.94 - ETA: 18:51 - loss: 0.0583 - acc: 0.9813 - auc: 0.94 - ETA: 18:43 - loss: 0.0583 - acc: 0.9812 - auc: 0.94 - ETA: 18:36 - loss: 0.0585 - acc: 0.9811 - auc: 0.94 - ETA: 18:28 - loss: 0.0583 - acc: 0.9812 - auc: 0.94 - ETA: 18:20 - loss: 0.0582 - acc: 0.9811 - auc: 0.94 - ETA: 18:13 - loss: 0.0580 - acc: 0.9812 - auc: 0.94 - ETA: 18:05 - loss: 0.0580 - acc: 0.9813 - auc: 0.94 - ETA: 17:57 - loss: 0.0578 - acc: 0.9813 - auc: 0.94 - ETA: 17:50 - loss: 0.0579 - acc: 0.9813 - auc: 0.94 - ETA: 17:42 - loss: 0.0579 - acc: 0.9812 - auc: 0.94 - ETA: 17:35 - loss: 0.0576 - acc: 0.9813 - auc: 0.94 - ETA: 17:27 - loss: 0.0575 - acc: 0.9814 - auc: 0.94 - ETA: 17:20 - loss: 0.0572 - acc: 0.9815 - auc: 0.94 - ETA: 17:12 - loss: 0.0575 - acc: 0.9814 - auc: 0.94 - ETA: 17:05 - loss: 0.0577 - acc: 0.9814 - auc: 0.94 - ETA: 16:57 - loss: 0.0577 - acc: 0.9813 - auc: 0.94 - ETA: 16:49 - loss: 0.0579 - acc: 0.9813 - auc: 0.94 - ETA: 16:42 - loss: 0.0580 - acc: 0.9814 - auc: 0.94 - ETA: 16:34 - loss: 0.0580 - acc: 0.9814 - auc: 0.94 - ETA: 16:27 - loss: 0.0578 - acc: 0.9815 - auc: 0.94 - ETA: 16:19 - loss: 0.0581 - acc: 0.9815 - auc: 0.94 - ETA: 16:11 - loss: 0.0580 - acc: 0.9815 - auc: 0.94 - ETA: 16:04 - loss: 0.0580 - acc: 0.9814 - auc: 0.94 - ETA: 15:56 - loss: 0.0585 - acc: 0.9813 - auc: 0.94 - ETA: 15:49 - loss: 0.0586 - acc: 0.9812 - auc: 0.94 - ETA: 15:41 - loss: 0.0587 - acc: 0.9812 - auc: 0.94 - ETA: 15:33 - loss: 0.0587 - acc: 0.9813 - auc: 0.94 - ETA: 15:26 - loss: 0.0587 - acc: 0.9813 - auc: 0.94 - ETA: 15:18 - loss: 0.0588 - acc: 0.9813 - auc: 0.94 - ETA: 15:10 - loss: 0.0587 - acc: 0.9813 - auc: 0.94 - ETA: 15:03 - loss: 0.0587 - acc: 0.9813 - auc: 0.94 - ETA: 14:55 - loss: 0.0587 - acc: 0.9812 - auc: 0.94 - ETA: 14:47 - loss: 0.0585 - acc: 0.9813 - auc: 0.94 - ETA: 14:40 - loss: 0.0585 - acc: 0.9813 - auc: 0.94 - ETA: 14:32 - loss: 0.0586 - acc: 0.9812 - auc: 0.94 - ETA: 14:25 - loss: 0.0588 - acc: 0.9812 - auc: 0.94 - ETA: 14:17 - loss: 0.0588 - acc: 0.9811 - auc: 0.94 - ETA: 14:10 - loss: 0.0587 - acc: 0.9811 - auc: 0.94 - ETA: 14:02 - loss: 0.0585 - acc: 0.9812 - auc: 0.94 - ETA: 13:54 - loss: 0.0586 - acc: 0.9811 - auc: 0.94 - ETA: 13:47 - loss: 0.0586 - acc: 0.9811 - auc: 0.94 - ETA: 13:39 - loss: 0.0589 - acc: 0.9810 - auc: 0.94 - ETA: 13:32 - loss: 0.0589 - acc: 0.9810 - auc: 0.94 - ETA: 13:24 - loss: 0.0589 - acc: 0.9810 - auc: 0.94 - ETA: 13:17 - loss: 0.0590 - acc: 0.9810 - auc: 0.94 - ETA: 13:09 - loss: 0.0590 - acc: 0.9810 - auc: 0.94 - ETA: 13:02 - loss: 0.0591 - acc: 0.9810 - auc: 0.94 - ETA: 12:54 - loss: 0.0589 - acc: 0.9810 - auc: 0.94 - ETA: 12:46 - loss: 0.0589 - acc: 0.9810 - auc: 0.94 - ETA: 12:39 - loss: 0.0592 - acc: 0.9810 - auc: 0.94 - ETA: 12:31 - loss: 0.0592 - acc: 0.9809 - auc: 0.94 - ETA: 12:24 - loss: 0.0593 - acc: 0.9809 - auc: 0.94 - ETA: 12:16 - loss: 0.0597 - acc: 0.9808 - auc: 0.94 - ETA: 12:09 - loss: 0.0597 - acc: 0.9809 - auc: 0.943174288/74288 [==============================] - ETA: 12:01 - loss: 0.0598 - acc: 0.9808 - auc: 0.94 - ETA: 11:54 - loss: 0.0598 - acc: 0.9808 - auc: 0.94 - ETA: 11:46 - loss: 0.0601 - acc: 0.9807 - auc: 0.94 - ETA: 11:39 - loss: 0.0600 - acc: 0.9808 - auc: 0.94 - ETA: 11:31 - loss: 0.0601 - acc: 0.9808 - auc: 0.94 - ETA: 11:23 - loss: 0.0601 - acc: 0.9808 - auc: 0.94 - ETA: 11:16 - loss: 0.0604 - acc: 0.9807 - auc: 0.94 - ETA: 11:08 - loss: 0.0602 - acc: 0.9807 - auc: 0.94 - ETA: 11:01 - loss: 0.0603 - acc: 0.9808 - auc: 0.94 - ETA: 10:53 - loss: 0.0601 - acc: 0.9808 - auc: 0.94 - ETA: 10:46 - loss: 0.0601 - acc: 0.9808 - auc: 0.94 - ETA: 10:38 - loss: 0.0604 - acc: 0.9807 - auc: 0.94 - ETA: 10:31 - loss: 0.0603 - acc: 0.9807 - auc: 0.94 - ETA: 10:23 - loss: 0.0604 - acc: 0.9806 - auc: 0.94 - ETA: 10:16 - loss: 0.0602 - acc: 0.9807 - auc: 0.94 - ETA: 10:08 - loss: 0.0604 - acc: 0.9807 - auc: 0.94 - ETA: 10:01 - loss: 0.0603 - acc: 0.9807 - auc: 0.94 - ETA: 9:53 - loss: 0.0604 - acc: 0.9807 - auc: 0.9435 - ETA: 9:46 - loss: 0.0603 - acc: 0.9807 - auc: 0.943 - ETA: 9:38 - loss: 0.0605 - acc: 0.9806 - auc: 0.943 - ETA: 9:31 - loss: 0.0606 - acc: 0.9806 - auc: 0.943 - ETA: 9:23 - loss: 0.0606 - acc: 0.9806 - auc: 0.943 - ETA: 9:16 - loss: 0.0606 - acc: 0.9806 - auc: 0.943 - ETA: 9:08 - loss: 0.0606 - acc: 0.9806 - auc: 0.943 - ETA: 9:01 - loss: 0.0608 - acc: 0.9805 - auc: 0.943 - ETA: 8:53 - loss: 0.0609 - acc: 0.9805 - auc: 0.943 - ETA: 8:45 - loss: 0.0608 - acc: 0.9805 - auc: 0.943 - ETA: 8:38 - loss: 0.0608 - acc: 0.9805 - auc: 0.943 - ETA: 8:30 - loss: 0.0609 - acc: 0.9804 - auc: 0.943 - ETA: 8:23 - loss: 0.0609 - acc: 0.9804 - auc: 0.943 - ETA: 8:15 - loss: 0.0611 - acc: 0.9804 - auc: 0.943 - ETA: 8:08 - loss: 0.0613 - acc: 0.9803 - auc: 0.943 - ETA: 8:00 - loss: 0.0613 - acc: 0.9803 - auc: 0.943 - ETA: 7:53 - loss: 0.0614 - acc: 0.9803 - auc: 0.943 - ETA: 7:45 - loss: 0.0614 - acc: 0.9803 - auc: 0.943 - ETA: 7:37 - loss: 0.0613 - acc: 0.9803 - auc: 0.943 - ETA: 7:30 - loss: 0.0614 - acc: 0.9803 - auc: 0.943 - ETA: 7:22 - loss: 0.0612 - acc: 0.9804 - auc: 0.943 - ETA: 7:15 - loss: 0.0613 - acc: 0.9804 - auc: 0.944 - ETA: 7:07 - loss: 0.0614 - acc: 0.9804 - auc: 0.944 - ETA: 6:59 - loss: 0.0613 - acc: 0.9804 - auc: 0.944 - ETA: 6:52 - loss: 0.0613 - acc: 0.9804 - auc: 0.944 - ETA: 6:44 - loss: 0.0615 - acc: 0.9803 - auc: 0.944 - ETA: 6:37 - loss: 0.0614 - acc: 0.9803 - auc: 0.944 - ETA: 6:29 - loss: 0.0614 - acc: 0.9803 - auc: 0.944 - ETA: 6:22 - loss: 0.0616 - acc: 0.9803 - auc: 0.944 - ETA: 6:14 - loss: 0.0616 - acc: 0.9803 - auc: 0.944 - ETA: 6:07 - loss: 0.0616 - acc: 0.9803 - auc: 0.944 - ETA: 5:59 - loss: 0.0616 - acc: 0.9803 - auc: 0.944 - ETA: 5:52 - loss: 0.0616 - acc: 0.9803 - auc: 0.944 - ETA: 5:44 - loss: 0.0617 - acc: 0.9803 - auc: 0.944 - ETA: 5:36 - loss: 0.0617 - acc: 0.9803 - auc: 0.944 - ETA: 5:29 - loss: 0.0616 - acc: 0.9803 - auc: 0.944 - ETA: 5:21 - loss: 0.0618 - acc: 0.9803 - auc: 0.944 - ETA: 5:14 - loss: 0.0617 - acc: 0.9803 - auc: 0.944 - ETA: 5:06 - loss: 0.0617 - acc: 0.9803 - auc: 0.944 - ETA: 4:59 - loss: 0.0617 - acc: 0.9803 - auc: 0.944 - ETA: 4:51 - loss: 0.0616 - acc: 0.9803 - auc: 0.944 - ETA: 4:44 - loss: 0.0616 - acc: 0.9803 - auc: 0.944 - ETA: 4:36 - loss: 0.0616 - acc: 0.9802 - auc: 0.944 - ETA: 4:29 - loss: 0.0616 - acc: 0.9802 - auc: 0.944 - ETA: 4:21 - loss: 0.0617 - acc: 0.9802 - auc: 0.944 - ETA: 4:14 - loss: 0.0618 - acc: 0.9802 - auc: 0.944 - ETA: 4:06 - loss: 0.0618 - acc: 0.9801 - auc: 0.944 - ETA: 3:58 - loss: 0.0620 - acc: 0.9801 - auc: 0.944 - ETA: 3:51 - loss: 0.0621 - acc: 0.9801 - auc: 0.944 - ETA: 3:43 - loss: 0.0622 - acc: 0.9801 - auc: 0.944 - ETA: 3:36 - loss: 0.0620 - acc: 0.9801 - auc: 0.944 - ETA: 3:28 - loss: 0.0619 - acc: 0.9802 - auc: 0.944 - ETA: 3:21 - loss: 0.0619 - acc: 0.9802 - auc: 0.944 - ETA: 3:13 - loss: 0.0619 - acc: 0.9802 - auc: 0.944 - ETA: 3:06 - loss: 0.0618 - acc: 0.9802 - auc: 0.944 - ETA: 2:58 - loss: 0.0617 - acc: 0.9802 - auc: 0.944 - ETA: 2:50 - loss: 0.0617 - acc: 0.9803 - auc: 0.944 - ETA: 2:43 - loss: 0.0617 - acc: 0.9803 - auc: 0.944 - ETA: 2:35 - loss: 0.0618 - acc: 0.9802 - auc: 0.944 - ETA: 2:28 - loss: 0.0619 - acc: 0.9802 - auc: 0.944 - ETA: 2:20 - loss: 0.0619 - acc: 0.9802 - auc: 0.944 - ETA: 2:13 - loss: 0.0618 - acc: 0.9802 - auc: 0.944 - ETA: 2:05 - loss: 0.0620 - acc: 0.9801 - auc: 0.944 - ETA: 1:58 - loss: 0.0620 - acc: 0.9801 - auc: 0.944 - ETA: 1:50 - loss: 0.0619 - acc: 0.9801 - auc: 0.944 - ETA: 1:42 - loss: 0.0620 - acc: 0.9801 - auc: 0.944 - ETA: 1:35 - loss: 0.0620 - acc: 0.9801 - auc: 0.944 - ETA: 1:27 - loss: 0.0620 - acc: 0.9801 - auc: 0.944 - ETA: 1:20 - loss: 0.0619 - acc: 0.9801 - auc: 0.944 - ETA: 1:12 - loss: 0.0619 - acc: 0.9801 - auc: 0.945 - ETA: 1:05 - loss: 0.0617 - acc: 0.9801 - auc: 0.945 - ETA: 57s - loss: 0.0617 - acc: 0.9801 - auc: 0.945 - ETA: 50s - loss: 0.0617 - acc: 0.9802 - auc: 0.94 - ETA: 42s - loss: 0.0620 - acc: 0.9801 - auc: 0.94 - ETA: 34s - loss: 0.0621 - acc: 0.9800 - auc: 0.94 - ETA: 27s - loss: 0.0620 - acc: 0.9800 - auc: 0.94 - ETA: 19s - loss: 0.0622 - acc: 0.9800 - auc: 0.94 - ETA: 12s - loss: 0.0621 - acc: 0.9800 - auc: 0.94 - ETA: 4s - loss: 0.0621 - acc: 0.9801 - auc: 0.9451 - 1992s 27ms/step - loss: 0.0620 - acc: 0.9801 - auc: 0.9452 - val_loss: 0.9129 - val_acc: 0.8314 - val_auc: 0.9484\n",
      "Epoch 8/12\n"
     ]
    },
    {
     "name": "stdout",
     "output_type": "stream",
     "text": [
      "45300/74288 [=================>............] - ETA: 32:24 - loss: 0.0413 - acc: 0.9900 - auc: 0.94 - ETA: 31:29 - loss: 0.0351 - acc: 0.9867 - auc: 0.94 - ETA: 31:06 - loss: 0.0399 - acc: 0.9867 - auc: 0.94 - ETA: 30:47 - loss: 0.0414 - acc: 0.9867 - auc: 0.94 - ETA: 30:36 - loss: 0.0394 - acc: 0.9867 - auc: 0.94 - ETA: 30:28 - loss: 0.0353 - acc: 0.9878 - auc: 0.94 - ETA: 30:22 - loss: 0.0389 - acc: 0.9867 - auc: 0.94 - ETA: 30:18 - loss: 0.0445 - acc: 0.9863 - auc: 0.94 - ETA: 30:07 - loss: 0.0435 - acc: 0.9863 - auc: 0.94 - ETA: 30:00 - loss: 0.0414 - acc: 0.9873 - auc: 0.94 - ETA: 29:53 - loss: 0.0442 - acc: 0.9864 - auc: 0.94 - ETA: 29:45 - loss: 0.0414 - acc: 0.9875 - auc: 0.94 - ETA: 29:35 - loss: 0.0401 - acc: 0.9877 - auc: 0.94 - ETA: 29:24 - loss: 0.0413 - acc: 0.9876 - auc: 0.94 - ETA: 29:17 - loss: 0.0411 - acc: 0.9878 - auc: 0.94 - ETA: 29:11 - loss: 0.0407 - acc: 0.9879 - auc: 0.94 - ETA: 29:01 - loss: 0.0402 - acc: 0.9884 - auc: 0.94 - ETA: 28:53 - loss: 0.0404 - acc: 0.9885 - auc: 0.94 - ETA: 28:44 - loss: 0.0403 - acc: 0.9884 - auc: 0.94 - ETA: 28:38 - loss: 0.0395 - acc: 0.9883 - auc: 0.94 - ETA: 28:29 - loss: 0.0390 - acc: 0.9883 - auc: 0.94 - ETA: 28:22 - loss: 0.0399 - acc: 0.9877 - auc: 0.94 - ETA: 28:15 - loss: 0.0393 - acc: 0.9878 - auc: 0.94 - ETA: 28:07 - loss: 0.0392 - acc: 0.9876 - auc: 0.94 - ETA: 27:58 - loss: 0.0401 - acc: 0.9873 - auc: 0.94 - ETA: 27:50 - loss: 0.0407 - acc: 0.9873 - auc: 0.94 - ETA: 27:43 - loss: 0.0408 - acc: 0.9872 - auc: 0.94 - ETA: 27:36 - loss: 0.0407 - acc: 0.9871 - auc: 0.94 - ETA: 27:28 - loss: 0.0408 - acc: 0.9872 - auc: 0.94 - ETA: 27:20 - loss: 0.0411 - acc: 0.9872 - auc: 0.94 - ETA: 27:14 - loss: 0.0411 - acc: 0.9872 - auc: 0.94 - ETA: 27:06 - loss: 0.0400 - acc: 0.9876 - auc: 0.94 - ETA: 26:59 - loss: 0.0402 - acc: 0.9875 - auc: 0.94 - ETA: 26:51 - loss: 0.0393 - acc: 0.9878 - auc: 0.94 - ETA: 26:44 - loss: 0.0394 - acc: 0.9879 - auc: 0.94 - ETA: 26:37 - loss: 0.0389 - acc: 0.9880 - auc: 0.94 - ETA: 26:30 - loss: 0.0396 - acc: 0.9879 - auc: 0.94 - ETA: 26:22 - loss: 0.0392 - acc: 0.9880 - auc: 0.94 - ETA: 26:14 - loss: 0.0385 - acc: 0.9883 - auc: 0.94 - ETA: 26:06 - loss: 0.0388 - acc: 0.9883 - auc: 0.94 - ETA: 25:58 - loss: 0.0387 - acc: 0.9883 - auc: 0.94 - ETA: 25:51 - loss: 0.0392 - acc: 0.9883 - auc: 0.94 - ETA: 25:43 - loss: 0.0394 - acc: 0.9881 - auc: 0.94 - ETA: 25:35 - loss: 0.0395 - acc: 0.9880 - auc: 0.94 - ETA: 25:28 - loss: 0.0398 - acc: 0.9878 - auc: 0.94 - ETA: 25:20 - loss: 0.0401 - acc: 0.9877 - auc: 0.94 - ETA: 25:12 - loss: 0.0403 - acc: 0.9875 - auc: 0.94 - ETA: 25:05 - loss: 0.0409 - acc: 0.9872 - auc: 0.94 - ETA: 24:57 - loss: 0.0409 - acc: 0.9872 - auc: 0.94 - ETA: 24:49 - loss: 0.0409 - acc: 0.9873 - auc: 0.94 - ETA: 24:42 - loss: 0.0406 - acc: 0.9875 - auc: 0.94 - ETA: 24:34 - loss: 0.0408 - acc: 0.9874 - auc: 0.94 - ETA: 24:26 - loss: 0.0406 - acc: 0.9874 - auc: 0.94 - ETA: 24:19 - loss: 0.0408 - acc: 0.9874 - auc: 0.94 - ETA: 24:11 - loss: 0.0407 - acc: 0.9873 - auc: 0.94 - ETA: 24:04 - loss: 0.0404 - acc: 0.9874 - auc: 0.94 - ETA: 23:56 - loss: 0.0402 - acc: 0.9875 - auc: 0.94 - ETA: 23:48 - loss: 0.0400 - acc: 0.9875 - auc: 0.94 - ETA: 23:41 - loss: 0.0406 - acc: 0.9873 - auc: 0.94 - ETA: 23:33 - loss: 0.0404 - acc: 0.9873 - auc: 0.94 - ETA: 23:25 - loss: 0.0409 - acc: 0.9873 - auc: 0.94 - ETA: 23:18 - loss: 0.0411 - acc: 0.9871 - auc: 0.94 - ETA: 23:10 - loss: 0.0411 - acc: 0.9869 - auc: 0.94 - ETA: 23:03 - loss: 0.0412 - acc: 0.9870 - auc: 0.94 - ETA: 22:55 - loss: 0.0413 - acc: 0.9870 - auc: 0.94 - ETA: 22:48 - loss: 0.0410 - acc: 0.9871 - auc: 0.94 - ETA: 22:41 - loss: 0.0407 - acc: 0.9872 - auc: 0.94 - ETA: 22:33 - loss: 0.0415 - acc: 0.9872 - auc: 0.94 - ETA: 22:25 - loss: 0.0416 - acc: 0.9871 - auc: 0.94 - ETA: 22:18 - loss: 0.0417 - acc: 0.9870 - auc: 0.94 - ETA: 22:10 - loss: 0.0418 - acc: 0.9871 - auc: 0.94 - ETA: 22:03 - loss: 0.0414 - acc: 0.9872 - auc: 0.94 - ETA: 21:55 - loss: 0.0413 - acc: 0.9871 - auc: 0.94 - ETA: 21:48 - loss: 0.0417 - acc: 0.9870 - auc: 0.94 - ETA: 21:40 - loss: 0.0422 - acc: 0.9868 - auc: 0.94 - ETA: 21:33 - loss: 0.0421 - acc: 0.9868 - auc: 0.94 - ETA: 21:25 - loss: 0.0419 - acc: 0.9869 - auc: 0.94 - ETA: 21:17 - loss: 0.0419 - acc: 0.9869 - auc: 0.94 - ETA: 21:10 - loss: 0.0418 - acc: 0.9868 - auc: 0.94 - ETA: 21:02 - loss: 0.0419 - acc: 0.9868 - auc: 0.94 - ETA: 20:55 - loss: 0.0416 - acc: 0.9870 - auc: 0.94 - ETA: 20:47 - loss: 0.0416 - acc: 0.9869 - auc: 0.94 - ETA: 20:40 - loss: 0.0417 - acc: 0.9869 - auc: 0.94 - ETA: 20:32 - loss: 0.0413 - acc: 0.9870 - auc: 0.94 - ETA: 20:25 - loss: 0.0411 - acc: 0.9871 - auc: 0.94 - ETA: 20:17 - loss: 0.0411 - acc: 0.9871 - auc: 0.94 - ETA: 20:10 - loss: 0.0408 - acc: 0.9872 - auc: 0.94 - ETA: 20:02 - loss: 0.0408 - acc: 0.9871 - auc: 0.94 - ETA: 19:55 - loss: 0.0412 - acc: 0.9872 - auc: 0.94 - ETA: 19:47 - loss: 0.0408 - acc: 0.9873 - auc: 0.94 - ETA: 19:40 - loss: 0.0407 - acc: 0.9874 - auc: 0.94 - ETA: 19:32 - loss: 0.0409 - acc: 0.9872 - auc: 0.94 - ETA: 19:25 - loss: 0.0408 - acc: 0.9873 - auc: 0.94 - ETA: 19:17 - loss: 0.0408 - acc: 0.9873 - auc: 0.94 - ETA: 19:09 - loss: 0.0410 - acc: 0.9873 - auc: 0.94 - ETA: 19:02 - loss: 0.0415 - acc: 0.9873 - auc: 0.94 - ETA: 18:54 - loss: 0.0414 - acc: 0.9873 - auc: 0.94 - ETA: 18:46 - loss: 0.0418 - acc: 0.9873 - auc: 0.94 - ETA: 18:39 - loss: 0.0417 - acc: 0.9873 - auc: 0.94 - ETA: 18:31 - loss: 0.0415 - acc: 0.9874 - auc: 0.94 - ETA: 18:24 - loss: 0.0415 - acc: 0.9875 - auc: 0.94 - ETA: 18:16 - loss: 0.0417 - acc: 0.9875 - auc: 0.94 - ETA: 18:09 - loss: 0.0417 - acc: 0.9874 - auc: 0.94 - ETA: 18:01 - loss: 0.0415 - acc: 0.9875 - auc: 0.94 - ETA: 17:54 - loss: 0.0414 - acc: 0.9875 - auc: 0.94 - ETA: 17:46 - loss: 0.0413 - acc: 0.9875 - auc: 0.94 - ETA: 17:39 - loss: 0.0412 - acc: 0.9875 - auc: 0.94 - ETA: 17:31 - loss: 0.0410 - acc: 0.9875 - auc: 0.94 - ETA: 17:24 - loss: 0.0409 - acc: 0.9876 - auc: 0.94 - ETA: 17:16 - loss: 0.0413 - acc: 0.9875 - auc: 0.94 - ETA: 17:09 - loss: 0.0410 - acc: 0.9876 - auc: 0.94 - ETA: 17:01 - loss: 0.0410 - acc: 0.9877 - auc: 0.94 - ETA: 16:54 - loss: 0.0408 - acc: 0.9877 - auc: 0.94 - ETA: 16:46 - loss: 0.0408 - acc: 0.9877 - auc: 0.94 - ETA: 16:39 - loss: 0.0408 - acc: 0.9877 - auc: 0.94 - ETA: 16:31 - loss: 0.0408 - acc: 0.9876 - auc: 0.94 - ETA: 16:24 - loss: 0.0405 - acc: 0.9877 - auc: 0.94 - ETA: 16:16 - loss: 0.0406 - acc: 0.9877 - auc: 0.94 - ETA: 16:09 - loss: 0.0408 - acc: 0.9875 - auc: 0.94 - ETA: 16:01 - loss: 0.0410 - acc: 0.9875 - auc: 0.94 - ETA: 15:54 - loss: 0.0410 - acc: 0.9875 - auc: 0.94 - ETA: 15:46 - loss: 0.0411 - acc: 0.9874 - auc: 0.94 - ETA: 15:39 - loss: 0.0409 - acc: 0.9874 - auc: 0.94 - ETA: 15:31 - loss: 0.0409 - acc: 0.9874 - auc: 0.94 - ETA: 15:24 - loss: 0.0409 - acc: 0.9874 - auc: 0.94 - ETA: 15:16 - loss: 0.0411 - acc: 0.9873 - auc: 0.94 - ETA: 15:09 - loss: 0.0411 - acc: 0.9873 - auc: 0.94 - ETA: 15:01 - loss: 0.0409 - acc: 0.9874 - auc: 0.94 - ETA: 14:53 - loss: 0.0410 - acc: 0.9874 - auc: 0.94 - ETA: 14:46 - loss: 0.0415 - acc: 0.9872 - auc: 0.94 - ETA: 14:38 - loss: 0.0415 - acc: 0.9872 - auc: 0.94 - ETA: 14:31 - loss: 0.0417 - acc: 0.9872 - auc: 0.94 - ETA: 14:23 - loss: 0.0417 - acc: 0.9872 - auc: 0.94 - ETA: 14:16 - loss: 0.0417 - acc: 0.9871 - auc: 0.94 - ETA: 14:08 - loss: 0.0419 - acc: 0.9871 - auc: 0.94 - ETA: 14:01 - loss: 0.0421 - acc: 0.9870 - auc: 0.94 - ETA: 13:53 - loss: 0.0423 - acc: 0.9869 - auc: 0.94 - ETA: 13:46 - loss: 0.0423 - acc: 0.9870 - auc: 0.94 - ETA: 13:38 - loss: 0.0423 - acc: 0.9869 - auc: 0.94 - ETA: 13:30 - loss: 0.0422 - acc: 0.9870 - auc: 0.94 - ETA: 13:23 - loss: 0.0423 - acc: 0.9869 - auc: 0.94 - ETA: 13:15 - loss: 0.0425 - acc: 0.9869 - auc: 0.94 - ETA: 13:08 - loss: 0.0426 - acc: 0.9869 - auc: 0.94 - ETA: 13:00 - loss: 0.0425 - acc: 0.9869 - auc: 0.94 - ETA: 12:53 - loss: 0.0426 - acc: 0.9869 - auc: 0.94 - ETA: 12:45 - loss: 0.0427 - acc: 0.9868 - auc: 0.94 - ETA: 12:38 - loss: 0.0427 - acc: 0.9868 - auc: 0.94 - ETA: 12:30 - loss: 0.0427 - acc: 0.9868 - auc: 0.94 - ETA: 12:23 - loss: 0.0428 - acc: 0.9867 - auc: 0.94 - ETA: 12:15 - loss: 0.0429 - acc: 0.9866 - auc: 0.94 - ETA: 12:08 - loss: 0.0431 - acc: 0.9866 - auc: 0.9496"
     ]
    },
    {
     "name": "stdout",
     "output_type": "stream",
     "text": [
      "74288/74288 [==============================] - ETA: 12:00 - loss: 0.0433 - acc: 0.9865 - auc: 0.94 - ETA: 11:52 - loss: 0.0437 - acc: 0.9864 - auc: 0.94 - ETA: 11:45 - loss: 0.0440 - acc: 0.9863 - auc: 0.94 - ETA: 11:37 - loss: 0.0439 - acc: 0.9863 - auc: 0.94 - ETA: 11:30 - loss: 0.0439 - acc: 0.9863 - auc: 0.94 - ETA: 11:22 - loss: 0.0442 - acc: 0.9862 - auc: 0.94 - ETA: 11:15 - loss: 0.0444 - acc: 0.9861 - auc: 0.94 - ETA: 11:07 - loss: 0.0445 - acc: 0.9861 - auc: 0.94 - ETA: 11:00 - loss: 0.0447 - acc: 0.9861 - auc: 0.94 - ETA: 10:52 - loss: 0.0448 - acc: 0.9861 - auc: 0.94 - ETA: 10:44 - loss: 0.0450 - acc: 0.9860 - auc: 0.94 - ETA: 10:37 - loss: 0.0451 - acc: 0.9860 - auc: 0.94 - ETA: 10:29 - loss: 0.0450 - acc: 0.9860 - auc: 0.94 - ETA: 10:22 - loss: 0.0453 - acc: 0.9860 - auc: 0.94 - ETA: 10:14 - loss: 0.0453 - acc: 0.9860 - auc: 0.94 - ETA: 10:07 - loss: 0.0455 - acc: 0.9859 - auc: 0.94 - ETA: 9:59 - loss: 0.0455 - acc: 0.9859 - auc: 0.9499 - ETA: 9:52 - loss: 0.0457 - acc: 0.9859 - auc: 0.949 - ETA: 9:44 - loss: 0.0459 - acc: 0.9858 - auc: 0.949 - ETA: 9:37 - loss: 0.0460 - acc: 0.9858 - auc: 0.949 - ETA: 9:29 - loss: 0.0460 - acc: 0.9858 - auc: 0.949 - ETA: 9:22 - loss: 0.0460 - acc: 0.9858 - auc: 0.949 - ETA: 9:14 - loss: 0.0461 - acc: 0.9857 - auc: 0.950 - ETA: 9:07 - loss: 0.0461 - acc: 0.9858 - auc: 0.950 - ETA: 8:59 - loss: 0.0461 - acc: 0.9858 - auc: 0.950 - ETA: 8:52 - loss: 0.0462 - acc: 0.9857 - auc: 0.950 - ETA: 8:44 - loss: 0.0462 - acc: 0.9857 - auc: 0.950 - ETA: 8:36 - loss: 0.0463 - acc: 0.9856 - auc: 0.950 - ETA: 8:29 - loss: 0.0464 - acc: 0.9856 - auc: 0.950 - ETA: 8:21 - loss: 0.0465 - acc: 0.9856 - auc: 0.950 - ETA: 8:14 - loss: 0.0466 - acc: 0.9856 - auc: 0.950 - ETA: 8:07 - loss: 0.0466 - acc: 0.9856 - auc: 0.950 - ETA: 7:59 - loss: 0.0467 - acc: 0.9855 - auc: 0.950 - ETA: 7:51 - loss: 0.0469 - acc: 0.9855 - auc: 0.950 - ETA: 7:44 - loss: 0.0468 - acc: 0.9855 - auc: 0.950 - ETA: 7:36 - loss: 0.0467 - acc: 0.9855 - auc: 0.950 - ETA: 7:29 - loss: 0.0469 - acc: 0.9856 - auc: 0.950 - ETA: 7:21 - loss: 0.0472 - acc: 0.9855 - auc: 0.950 - ETA: 7:14 - loss: 0.0471 - acc: 0.9855 - auc: 0.950 - ETA: 7:06 - loss: 0.0471 - acc: 0.9855 - auc: 0.950 - ETA: 6:59 - loss: 0.0470 - acc: 0.9855 - auc: 0.950 - ETA: 6:51 - loss: 0.0470 - acc: 0.9854 - auc: 0.950 - ETA: 6:44 - loss: 0.0471 - acc: 0.9854 - auc: 0.950 - ETA: 6:36 - loss: 0.0472 - acc: 0.9854 - auc: 0.950 - ETA: 6:29 - loss: 0.0474 - acc: 0.9854 - auc: 0.950 - ETA: 6:21 - loss: 0.0474 - acc: 0.9854 - auc: 0.950 - ETA: 6:14 - loss: 0.0474 - acc: 0.9854 - auc: 0.950 - ETA: 6:06 - loss: 0.0473 - acc: 0.9854 - auc: 0.950 - ETA: 5:59 - loss: 0.0473 - acc: 0.9854 - auc: 0.950 - ETA: 5:51 - loss: 0.0472 - acc: 0.9855 - auc: 0.950 - ETA: 5:44 - loss: 0.0473 - acc: 0.9854 - auc: 0.950 - ETA: 5:36 - loss: 0.0473 - acc: 0.9854 - auc: 0.950 - ETA: 5:28 - loss: 0.0472 - acc: 0.9855 - auc: 0.950 - ETA: 5:21 - loss: 0.0472 - acc: 0.9855 - auc: 0.950 - ETA: 5:13 - loss: 0.0471 - acc: 0.9855 - auc: 0.950 - ETA: 5:06 - loss: 0.0472 - acc: 0.9855 - auc: 0.950 - ETA: 4:58 - loss: 0.0472 - acc: 0.9855 - auc: 0.950 - ETA: 4:51 - loss: 0.0472 - acc: 0.9855 - auc: 0.950 - ETA: 4:43 - loss: 0.0471 - acc: 0.9855 - auc: 0.950 - ETA: 4:36 - loss: 0.0474 - acc: 0.9855 - auc: 0.950 - ETA: 4:28 - loss: 0.0473 - acc: 0.9855 - auc: 0.950 - ETA: 4:21 - loss: 0.0474 - acc: 0.9854 - auc: 0.950 - ETA: 4:13 - loss: 0.0474 - acc: 0.9855 - auc: 0.950 - ETA: 4:06 - loss: 0.0474 - acc: 0.9854 - auc: 0.950 - ETA: 3:58 - loss: 0.0475 - acc: 0.9854 - auc: 0.950 - ETA: 3:50 - loss: 0.0476 - acc: 0.9853 - auc: 0.950 - ETA: 3:43 - loss: 0.0477 - acc: 0.9853 - auc: 0.950 - ETA: 3:35 - loss: 0.0477 - acc: 0.9853 - auc: 0.950 - ETA: 3:28 - loss: 0.0476 - acc: 0.9853 - auc: 0.950 - ETA: 3:20 - loss: 0.0478 - acc: 0.9852 - auc: 0.950 - ETA: 3:13 - loss: 0.0477 - acc: 0.9853 - auc: 0.950 - ETA: 3:05 - loss: 0.0479 - acc: 0.9852 - auc: 0.950 - ETA: 2:58 - loss: 0.0478 - acc: 0.9852 - auc: 0.950 - ETA: 2:50 - loss: 0.0477 - acc: 0.9853 - auc: 0.950 - ETA: 2:43 - loss: 0.0478 - acc: 0.9852 - auc: 0.950 - ETA: 2:35 - loss: 0.0479 - acc: 0.9852 - auc: 0.950 - ETA: 2:28 - loss: 0.0479 - acc: 0.9852 - auc: 0.950 - ETA: 2:20 - loss: 0.0478 - acc: 0.9852 - auc: 0.950 - ETA: 2:12 - loss: 0.0480 - acc: 0.9851 - auc: 0.950 - ETA: 2:05 - loss: 0.0479 - acc: 0.9851 - auc: 0.950 - ETA: 1:57 - loss: 0.0479 - acc: 0.9851 - auc: 0.950 - ETA: 1:50 - loss: 0.0479 - acc: 0.9851 - auc: 0.950 - ETA: 1:42 - loss: 0.0480 - acc: 0.9851 - auc: 0.951 - ETA: 1:35 - loss: 0.0478 - acc: 0.9851 - auc: 0.951 - ETA: 1:27 - loss: 0.0480 - acc: 0.9851 - auc: 0.951 - ETA: 1:20 - loss: 0.0484 - acc: 0.9851 - auc: 0.951 - ETA: 1:12 - loss: 0.0485 - acc: 0.9850 - auc: 0.951 - ETA: 1:05 - loss: 0.0486 - acc: 0.9850 - auc: 0.951 - ETA: 57s - loss: 0.0487 - acc: 0.9850 - auc: 0.951 - ETA: 49s - loss: 0.0488 - acc: 0.9850 - auc: 0.95 - ETA: 42s - loss: 0.0487 - acc: 0.9850 - auc: 0.95 - ETA: 34s - loss: 0.0487 - acc: 0.9850 - auc: 0.95 - ETA: 27s - loss: 0.0488 - acc: 0.9849 - auc: 0.95 - ETA: 19s - loss: 0.0487 - acc: 0.9849 - auc: 0.95 - ETA: 12s - loss: 0.0486 - acc: 0.9849 - auc: 0.95 - ETA: 4s - loss: 0.0485 - acc: 0.9850 - auc: 0.9512 - 1988s 27ms/step - loss: 0.0485 - acc: 0.9850 - auc: 0.9512 - val_loss: 0.8858 - val_acc: 0.8351 - val_auc: 0.9536\n",
      "Epoch 9/12\n"
     ]
    },
    {
     "name": "stdout",
     "output_type": "stream",
     "text": [
      "45300/74288 [=================>............] - ETA: 32:38 - loss: 0.0273 - acc: 0.9967 - auc: 0.95 - ETA: 31:39 - loss: 0.0218 - acc: 0.9933 - auc: 0.95 - ETA: 31:25 - loss: 0.0171 - acc: 0.9956 - auc: 0.95 - ETA: 31:04 - loss: 0.0238 - acc: 0.9933 - auc: 0.95 - ETA: 30:51 - loss: 0.0217 - acc: 0.9940 - auc: 0.95 - ETA: 30:42 - loss: 0.0214 - acc: 0.9933 - auc: 0.95 - ETA: 30:36 - loss: 0.0218 - acc: 0.9933 - auc: 0.95 - ETA: 30:27 - loss: 0.0215 - acc: 0.9933 - auc: 0.95 - ETA: 30:46 - loss: 0.0213 - acc: 0.9933 - auc: 0.95 - ETA: 30:33 - loss: 0.0204 - acc: 0.9937 - auc: 0.95 - ETA: 30:21 - loss: 0.0232 - acc: 0.9924 - auc: 0.95 - ETA: 30:14 - loss: 0.0241 - acc: 0.9919 - auc: 0.95 - ETA: 30:07 - loss: 0.0231 - acc: 0.9926 - auc: 0.95 - ETA: 29:57 - loss: 0.0232 - acc: 0.9924 - auc: 0.95 - ETA: 29:46 - loss: 0.0248 - acc: 0.9916 - auc: 0.95 - ETA: 29:37 - loss: 0.0258 - acc: 0.9913 - auc: 0.95 - ETA: 29:29 - loss: 0.0250 - acc: 0.9916 - auc: 0.95 - ETA: 29:21 - loss: 0.0248 - acc: 0.9917 - auc: 0.95 - ETA: 29:11 - loss: 0.0264 - acc: 0.9911 - auc: 0.95 - ETA: 29:03 - loss: 0.0268 - acc: 0.9908 - auc: 0.95 - ETA: 28:54 - loss: 0.0283 - acc: 0.9908 - auc: 0.95 - ETA: 28:45 - loss: 0.0285 - acc: 0.9908 - auc: 0.95 - ETA: 28:37 - loss: 0.0287 - acc: 0.9906 - auc: 0.95 - ETA: 28:28 - loss: 0.0299 - acc: 0.9900 - auc: 0.95 - ETA: 28:20 - loss: 0.0296 - acc: 0.9900 - auc: 0.95 - ETA: 28:12 - loss: 0.0319 - acc: 0.9895 - auc: 0.95 - ETA: 28:03 - loss: 0.0312 - acc: 0.9898 - auc: 0.95 - ETA: 27:55 - loss: 0.0323 - acc: 0.9894 - auc: 0.95 - ETA: 27:46 - loss: 0.0319 - acc: 0.9894 - auc: 0.95 - ETA: 27:38 - loss: 0.0316 - acc: 0.9896 - auc: 0.95 - ETA: 27:31 - loss: 0.0318 - acc: 0.9895 - auc: 0.95 - ETA: 27:22 - loss: 0.0314 - acc: 0.9897 - auc: 0.95 - ETA: 27:13 - loss: 0.0317 - acc: 0.9898 - auc: 0.95 - ETA: 27:06 - loss: 0.0314 - acc: 0.9900 - auc: 0.95 - ETA: 26:57 - loss: 0.0320 - acc: 0.9897 - auc: 0.95 - ETA: 26:49 - loss: 0.0320 - acc: 0.9895 - auc: 0.95 - ETA: 26:42 - loss: 0.0320 - acc: 0.9895 - auc: 0.95 - ETA: 26:34 - loss: 0.0330 - acc: 0.9893 - auc: 0.95 - ETA: 26:25 - loss: 0.0328 - acc: 0.9894 - auc: 0.95 - ETA: 26:17 - loss: 0.0325 - acc: 0.9894 - auc: 0.95 - ETA: 26:09 - loss: 0.0321 - acc: 0.9896 - auc: 0.95 - ETA: 26:01 - loss: 0.0315 - acc: 0.9898 - auc: 0.95 - ETA: 25:53 - loss: 0.0316 - acc: 0.9898 - auc: 0.95 - ETA: 25:45 - loss: 0.0313 - acc: 0.9899 - auc: 0.95 - ETA: 25:37 - loss: 0.0316 - acc: 0.9898 - auc: 0.95 - ETA: 25:29 - loss: 0.0318 - acc: 0.9897 - auc: 0.95 - ETA: 25:21 - loss: 0.0313 - acc: 0.9899 - auc: 0.95 - ETA: 25:14 - loss: 0.0311 - acc: 0.9900 - auc: 0.95 - ETA: 25:06 - loss: 0.0313 - acc: 0.9899 - auc: 0.95 - ETA: 24:59 - loss: 0.0316 - acc: 0.9898 - auc: 0.95 - ETA: 24:50 - loss: 0.0314 - acc: 0.9899 - auc: 0.95 - ETA: 24:43 - loss: 0.0316 - acc: 0.9899 - auc: 0.95 - ETA: 24:35 - loss: 0.0317 - acc: 0.9898 - auc: 0.95 - ETA: 24:27 - loss: 0.0314 - acc: 0.9899 - auc: 0.95 - ETA: 24:20 - loss: 0.0314 - acc: 0.9899 - auc: 0.95 - ETA: 24:12 - loss: 0.0313 - acc: 0.9900 - auc: 0.95 - ETA: 24:05 - loss: 0.0314 - acc: 0.9899 - auc: 0.95 - ETA: 23:57 - loss: 0.0317 - acc: 0.9898 - auc: 0.95 - ETA: 23:50 - loss: 0.0324 - acc: 0.9897 - auc: 0.95 - ETA: 23:42 - loss: 0.0335 - acc: 0.9894 - auc: 0.95 - ETA: 23:34 - loss: 0.0336 - acc: 0.9894 - auc: 0.95 - ETA: 23:27 - loss: 0.0335 - acc: 0.9893 - auc: 0.95 - ETA: 23:19 - loss: 0.0333 - acc: 0.9894 - auc: 0.95 - ETA: 23:12 - loss: 0.0334 - acc: 0.9893 - auc: 0.95 - ETA: 23:05 - loss: 0.0331 - acc: 0.9893 - auc: 0.95 - ETA: 22:57 - loss: 0.0330 - acc: 0.9894 - auc: 0.95 - ETA: 22:50 - loss: 0.0328 - acc: 0.9895 - auc: 0.95 - ETA: 22:42 - loss: 0.0332 - acc: 0.9894 - auc: 0.95 - ETA: 22:34 - loss: 0.0335 - acc: 0.9892 - auc: 0.95 - ETA: 22:26 - loss: 0.0333 - acc: 0.9892 - auc: 0.95 - ETA: 22:19 - loss: 0.0333 - acc: 0.9893 - auc: 0.95 - ETA: 22:11 - loss: 0.0331 - acc: 0.9894 - auc: 0.95 - ETA: 22:03 - loss: 0.0339 - acc: 0.9892 - auc: 0.95 - ETA: 21:55 - loss: 0.0347 - acc: 0.9890 - auc: 0.95 - ETA: 21:48 - loss: 0.0351 - acc: 0.9888 - auc: 0.95 - ETA: 21:40 - loss: 0.0351 - acc: 0.9889 - auc: 0.95 - ETA: 21:32 - loss: 0.0357 - acc: 0.9888 - auc: 0.95 - ETA: 21:25 - loss: 0.0359 - acc: 0.9887 - auc: 0.95 - ETA: 21:17 - loss: 0.0364 - acc: 0.9887 - auc: 0.95 - ETA: 21:09 - loss: 0.0363 - acc: 0.9888 - auc: 0.95 - ETA: 21:02 - loss: 0.0366 - acc: 0.9886 - auc: 0.95 - ETA: 20:54 - loss: 0.0366 - acc: 0.9887 - auc: 0.95 - ETA: 20:47 - loss: 0.0365 - acc: 0.9887 - auc: 0.95 - ETA: 20:39 - loss: 0.0366 - acc: 0.9887 - auc: 0.95 - ETA: 20:32 - loss: 0.0363 - acc: 0.9888 - auc: 0.95 - ETA: 20:24 - loss: 0.0365 - acc: 0.9887 - auc: 0.95 - ETA: 20:17 - loss: 0.0366 - acc: 0.9887 - auc: 0.95 - ETA: 20:09 - loss: 0.0370 - acc: 0.9887 - auc: 0.95 - ETA: 20:01 - loss: 0.0371 - acc: 0.9887 - auc: 0.95 - ETA: 19:54 - loss: 0.0370 - acc: 0.9887 - auc: 0.95 - ETA: 19:46 - loss: 0.0368 - acc: 0.9887 - auc: 0.95 - ETA: 19:38 - loss: 0.0366 - acc: 0.9888 - auc: 0.95 - ETA: 19:31 - loss: 0.0363 - acc: 0.9889 - auc: 0.95 - ETA: 19:23 - loss: 0.0361 - acc: 0.9889 - auc: 0.95 - ETA: 19:16 - loss: 0.0362 - acc: 0.9890 - auc: 0.95 - ETA: 19:08 - loss: 0.0360 - acc: 0.9891 - auc: 0.95 - ETA: 19:01 - loss: 0.0358 - acc: 0.9891 - auc: 0.95 - ETA: 18:54 - loss: 0.0357 - acc: 0.9891 - auc: 0.95 - ETA: 18:46 - loss: 0.0355 - acc: 0.9892 - auc: 0.95 - ETA: 18:39 - loss: 0.0353 - acc: 0.9892 - auc: 0.95 - ETA: 18:31 - loss: 0.0354 - acc: 0.9892 - auc: 0.95 - ETA: 18:24 - loss: 0.0355 - acc: 0.9891 - auc: 0.95 - ETA: 18:16 - loss: 0.0354 - acc: 0.9891 - auc: 0.95 - ETA: 18:09 - loss: 0.0355 - acc: 0.9891 - auc: 0.95 - ETA: 18:01 - loss: 0.0359 - acc: 0.9891 - auc: 0.95 - ETA: 17:53 - loss: 0.0359 - acc: 0.9890 - auc: 0.95 - ETA: 17:46 - loss: 0.0361 - acc: 0.9890 - auc: 0.95 - ETA: 17:38 - loss: 0.0360 - acc: 0.9890 - auc: 0.95 - ETA: 17:31 - loss: 0.0362 - acc: 0.9890 - auc: 0.95 - ETA: 17:23 - loss: 0.0361 - acc: 0.9891 - auc: 0.95 - ETA: 17:16 - loss: 0.0364 - acc: 0.9889 - auc: 0.95 - ETA: 17:08 - loss: 0.0362 - acc: 0.9889 - auc: 0.95 - ETA: 17:01 - loss: 0.0361 - acc: 0.9890 - auc: 0.95 - ETA: 16:53 - loss: 0.0363 - acc: 0.9889 - auc: 0.95 - ETA: 16:46 - loss: 0.0366 - acc: 0.9889 - auc: 0.95 - ETA: 16:38 - loss: 0.0365 - acc: 0.9889 - auc: 0.95 - ETA: 16:31 - loss: 0.0364 - acc: 0.9889 - auc: 0.95 - ETA: 16:23 - loss: 0.0370 - acc: 0.9889 - auc: 0.95 - ETA: 16:16 - loss: 0.0370 - acc: 0.9889 - auc: 0.95 - ETA: 16:08 - loss: 0.0372 - acc: 0.9889 - auc: 0.95 - ETA: 16:00 - loss: 0.0373 - acc: 0.9889 - auc: 0.95 - ETA: 15:53 - loss: 0.0375 - acc: 0.9888 - auc: 0.95 - ETA: 15:45 - loss: 0.0376 - acc: 0.9887 - auc: 0.95 - ETA: 15:38 - loss: 0.0377 - acc: 0.9887 - auc: 0.95 - ETA: 15:30 - loss: 0.0376 - acc: 0.9887 - auc: 0.95 - ETA: 15:23 - loss: 0.0374 - acc: 0.9888 - auc: 0.95 - ETA: 15:15 - loss: 0.0376 - acc: 0.9888 - auc: 0.95 - ETA: 15:08 - loss: 0.0378 - acc: 0.9888 - auc: 0.95 - ETA: 15:00 - loss: 0.0382 - acc: 0.9887 - auc: 0.95 - ETA: 14:52 - loss: 0.0381 - acc: 0.9888 - auc: 0.95 - ETA: 14:45 - loss: 0.0381 - acc: 0.9888 - auc: 0.95 - ETA: 14:37 - loss: 0.0383 - acc: 0.9887 - auc: 0.95 - ETA: 14:30 - loss: 0.0383 - acc: 0.9887 - auc: 0.95 - ETA: 14:22 - loss: 0.0382 - acc: 0.9887 - auc: 0.95 - ETA: 14:14 - loss: 0.0382 - acc: 0.9887 - auc: 0.95 - ETA: 14:07 - loss: 0.0382 - acc: 0.9887 - auc: 0.95 - ETA: 13:59 - loss: 0.0381 - acc: 0.9887 - auc: 0.95 - ETA: 13:52 - loss: 0.0381 - acc: 0.9887 - auc: 0.95 - ETA: 13:44 - loss: 0.0379 - acc: 0.9888 - auc: 0.95 - ETA: 13:37 - loss: 0.0381 - acc: 0.9888 - auc: 0.95 - ETA: 13:29 - loss: 0.0380 - acc: 0.9888 - auc: 0.95 - ETA: 13:22 - loss: 0.0382 - acc: 0.9887 - auc: 0.95 - ETA: 13:14 - loss: 0.0380 - acc: 0.9887 - auc: 0.95 - ETA: 13:07 - loss: 0.0381 - acc: 0.9887 - auc: 0.95 - ETA: 12:59 - loss: 0.0384 - acc: 0.9887 - auc: 0.95 - ETA: 12:51 - loss: 0.0383 - acc: 0.9887 - auc: 0.95 - ETA: 12:44 - loss: 0.0382 - acc: 0.9887 - auc: 0.95 - ETA: 12:36 - loss: 0.0381 - acc: 0.9887 - auc: 0.95 - ETA: 12:29 - loss: 0.0381 - acc: 0.9888 - auc: 0.95 - ETA: 12:21 - loss: 0.0384 - acc: 0.9888 - auc: 0.95 - ETA: 12:14 - loss: 0.0383 - acc: 0.9888 - auc: 0.954574288/74288 [==============================] - ETA: 12:06 - loss: 0.0382 - acc: 0.9888 - auc: 0.95 - ETA: 11:59 - loss: 0.0383 - acc: 0.9887 - auc: 0.95 - ETA: 11:51 - loss: 0.0383 - acc: 0.9887 - auc: 0.95 - ETA: 11:44 - loss: 0.0383 - acc: 0.9887 - auc: 0.95 - ETA: 11:36 - loss: 0.0382 - acc: 0.9887 - auc: 0.95 - ETA: 11:29 - loss: 0.0383 - acc: 0.9887 - auc: 0.95 - ETA: 11:21 - loss: 0.0386 - acc: 0.9887 - auc: 0.95 - ETA: 11:13 - loss: 0.0387 - acc: 0.9886 - auc: 0.95 - ETA: 11:06 - loss: 0.0388 - acc: 0.9886 - auc: 0.95 - ETA: 10:58 - loss: 0.0389 - acc: 0.9886 - auc: 0.95 - ETA: 10:50 - loss: 0.0387 - acc: 0.9887 - auc: 0.95 - ETA: 10:43 - loss: 0.0393 - acc: 0.9886 - auc: 0.95 - ETA: 10:35 - loss: 0.0392 - acc: 0.9886 - auc: 0.95 - ETA: 10:28 - loss: 0.0394 - acc: 0.9886 - auc: 0.95 - ETA: 10:20 - loss: 0.0397 - acc: 0.9885 - auc: 0.95 - ETA: 10:12 - loss: 0.0399 - acc: 0.9884 - auc: 0.95 - ETA: 10:05 - loss: 0.0400 - acc: 0.9884 - auc: 0.95 - ETA: 9:57 - loss: 0.0399 - acc: 0.9884 - auc: 0.9547 - ETA: 9:49 - loss: 0.0398 - acc: 0.9885 - auc: 0.954 - ETA: 9:42 - loss: 0.0401 - acc: 0.9884 - auc: 0.954 - ETA: 9:34 - loss: 0.0401 - acc: 0.9884 - auc: 0.954 - ETA: 9:27 - loss: 0.0400 - acc: 0.9884 - auc: 0.954 - ETA: 9:19 - loss: 0.0401 - acc: 0.9884 - auc: 0.954 - ETA: 9:11 - loss: 0.0402 - acc: 0.9884 - auc: 0.954 - ETA: 9:04 - loss: 0.0403 - acc: 0.9883 - auc: 0.954 - ETA: 8:56 - loss: 0.0407 - acc: 0.9883 - auc: 0.954 - ETA: 8:48 - loss: 0.0407 - acc: 0.9883 - auc: 0.954 - ETA: 8:41 - loss: 0.0407 - acc: 0.9883 - auc: 0.954 - ETA: 8:33 - loss: 0.0407 - acc: 0.9883 - auc: 0.954 - ETA: 8:26 - loss: 0.0409 - acc: 0.9882 - auc: 0.954 - ETA: 8:18 - loss: 0.0408 - acc: 0.9882 - auc: 0.954 - ETA: 8:10 - loss: 0.0409 - acc: 0.9882 - auc: 0.954 - ETA: 8:03 - loss: 0.0410 - acc: 0.9881 - auc: 0.954 - ETA: 7:55 - loss: 0.0411 - acc: 0.9881 - auc: 0.954 - ETA: 7:48 - loss: 0.0410 - acc: 0.9881 - auc: 0.955 - ETA: 7:40 - loss: 0.0409 - acc: 0.9882 - auc: 0.955 - ETA: 7:33 - loss: 0.0408 - acc: 0.9882 - auc: 0.955 - ETA: 7:25 - loss: 0.0408 - acc: 0.9882 - auc: 0.955 - ETA: 7:17 - loss: 0.0407 - acc: 0.9882 - auc: 0.955 - ETA: 7:10 - loss: 0.0407 - acc: 0.9882 - auc: 0.955 - ETA: 7:02 - loss: 0.0407 - acc: 0.9881 - auc: 0.955 - ETA: 6:55 - loss: 0.0407 - acc: 0.9881 - auc: 0.955 - ETA: 6:47 - loss: 0.0407 - acc: 0.9881 - auc: 0.955 - ETA: 6:39 - loss: 0.0407 - acc: 0.9881 - auc: 0.955 - ETA: 6:32 - loss: 0.0406 - acc: 0.9881 - auc: 0.955 - ETA: 6:24 - loss: 0.0407 - acc: 0.9881 - auc: 0.955 - ETA: 6:17 - loss: 0.0407 - acc: 0.9881 - auc: 0.955 - ETA: 6:09 - loss: 0.0406 - acc: 0.9881 - auc: 0.955 - ETA: 6:01 - loss: 0.0410 - acc: 0.9880 - auc: 0.955 - ETA: 5:54 - loss: 0.0410 - acc: 0.9880 - auc: 0.955 - ETA: 5:46 - loss: 0.0412 - acc: 0.9879 - auc: 0.955 - ETA: 5:39 - loss: 0.0414 - acc: 0.9879 - auc: 0.955 - ETA: 5:31 - loss: 0.0415 - acc: 0.9879 - auc: 0.955 - ETA: 5:23 - loss: 0.0414 - acc: 0.9879 - auc: 0.955 - ETA: 5:16 - loss: 0.0413 - acc: 0.9879 - auc: 0.955 - ETA: 5:08 - loss: 0.0413 - acc: 0.9880 - auc: 0.955 - ETA: 5:01 - loss: 0.0412 - acc: 0.9880 - auc: 0.955 - ETA: 4:53 - loss: 0.0415 - acc: 0.9879 - auc: 0.955 - ETA: 4:45 - loss: 0.0414 - acc: 0.9880 - auc: 0.955 - ETA: 4:38 - loss: 0.0413 - acc: 0.9880 - auc: 0.955 - ETA: 4:30 - loss: 0.0412 - acc: 0.9880 - auc: 0.955 - ETA: 4:23 - loss: 0.0412 - acc: 0.9880 - auc: 0.955 - ETA: 4:15 - loss: 0.0412 - acc: 0.9880 - auc: 0.955 - ETA: 4:07 - loss: 0.0415 - acc: 0.9880 - auc: 0.955 - ETA: 4:00 - loss: 0.0417 - acc: 0.9879 - auc: 0.955 - ETA: 3:52 - loss: 0.0417 - acc: 0.9879 - auc: 0.955 - ETA: 3:45 - loss: 0.0415 - acc: 0.9880 - auc: 0.955 - ETA: 3:37 - loss: 0.0415 - acc: 0.9880 - auc: 0.955 - ETA: 3:29 - loss: 0.0415 - acc: 0.9880 - auc: 0.955 - ETA: 3:22 - loss: 0.0415 - acc: 0.9880 - auc: 0.955 - ETA: 3:14 - loss: 0.0414 - acc: 0.9880 - auc: 0.955 - ETA: 3:07 - loss: 0.0415 - acc: 0.9879 - auc: 0.955 - ETA: 2:59 - loss: 0.0415 - acc: 0.9879 - auc: 0.955 - ETA: 2:51 - loss: 0.0417 - acc: 0.9878 - auc: 0.955 - ETA: 2:44 - loss: 0.0416 - acc: 0.9878 - auc: 0.955 - ETA: 2:36 - loss: 0.0416 - acc: 0.9879 - auc: 0.955 - ETA: 2:29 - loss: 0.0415 - acc: 0.9879 - auc: 0.955 - ETA: 2:21 - loss: 0.0414 - acc: 0.9879 - auc: 0.955 - ETA: 2:13 - loss: 0.0415 - acc: 0.9879 - auc: 0.955 - ETA: 2:06 - loss: 0.0414 - acc: 0.9879 - auc: 0.955 - ETA: 1:58 - loss: 0.0417 - acc: 0.9879 - auc: 0.955 - ETA: 1:51 - loss: 0.0417 - acc: 0.9878 - auc: 0.955 - ETA: 1:43 - loss: 0.0418 - acc: 0.9878 - auc: 0.955 - ETA: 1:35 - loss: 0.0418 - acc: 0.9878 - auc: 0.955 - ETA: 1:28 - loss: 0.0418 - acc: 0.9878 - auc: 0.955 - ETA: 1:20 - loss: 0.0418 - acc: 0.9878 - auc: 0.955 - ETA: 1:13 - loss: 0.0418 - acc: 0.9878 - auc: 0.955 - ETA: 1:05 - loss: 0.0418 - acc: 0.9878 - auc: 0.955 - ETA: 57s - loss: 0.0419 - acc: 0.9878 - auc: 0.955 - ETA: 50s - loss: 0.0422 - acc: 0.9877 - auc: 0.95 - ETA: 42s - loss: 0.0421 - acc: 0.9877 - auc: 0.95 - ETA: 35s - loss: 0.0421 - acc: 0.9878 - auc: 0.95 - ETA: 27s - loss: 0.0420 - acc: 0.9878 - auc: 0.95 - ETA: 19s - loss: 0.0420 - acc: 0.9878 - auc: 0.95 - ETA: 12s - loss: 0.0419 - acc: 0.9878 - auc: 0.95 - ETA: 4s - loss: 0.0419 - acc: 0.9878 - auc: 0.9558 - 2004s 27ms/step - loss: 0.0419 - acc: 0.9878 - auc: 0.9558 - val_loss: 0.9511 - val_acc: 0.8322 - val_auc: 0.9576\n",
      "Epoch 10/12\n"
     ]
    },
    {
     "name": "stdout",
     "output_type": "stream",
     "text": [
      "45300/74288 [=================>............] - ETA: 31:39 - loss: 0.0356 - acc: 0.9833 - auc: 0.95 - ETA: 31:20 - loss: 0.0567 - acc: 0.9833 - auc: 0.95 - ETA: 31:18 - loss: 0.0510 - acc: 0.9867 - auc: 0.95 - ETA: 31:10 - loss: 0.0459 - acc: 0.9875 - auc: 0.95 - ETA: 31:00 - loss: 0.0473 - acc: 0.9860 - auc: 0.95 - ETA: 30:54 - loss: 0.0431 - acc: 0.9867 - auc: 0.95 - ETA: 30:47 - loss: 0.0389 - acc: 0.9881 - auc: 0.95 - ETA: 30:34 - loss: 0.0356 - acc: 0.9892 - auc: 0.95 - ETA: 30:22 - loss: 0.0345 - acc: 0.9893 - auc: 0.95 - ETA: 30:17 - loss: 0.0358 - acc: 0.9890 - auc: 0.95 - ETA: 30:08 - loss: 0.0339 - acc: 0.9894 - auc: 0.95 - ETA: 30:02 - loss: 0.0345 - acc: 0.9894 - auc: 0.95 - ETA: 29:55 - loss: 0.0348 - acc: 0.9892 - auc: 0.95 - ETA: 29:46 - loss: 0.0369 - acc: 0.9886 - auc: 0.95 - ETA: 29:38 - loss: 0.0374 - acc: 0.9889 - auc: 0.95 - ETA: 29:29 - loss: 0.0368 - acc: 0.9894 - auc: 0.95 - ETA: 29:21 - loss: 0.0355 - acc: 0.9898 - auc: 0.95 - ETA: 29:12 - loss: 0.0358 - acc: 0.9896 - auc: 0.95 - ETA: 29:03 - loss: 0.0363 - acc: 0.9893 - auc: 0.95 - ETA: 28:53 - loss: 0.0355 - acc: 0.9895 - auc: 0.95 - ETA: 28:44 - loss: 0.0355 - acc: 0.9894 - auc: 0.95 - ETA: 28:36 - loss: 0.0363 - acc: 0.9892 - auc: 0.95 - ETA: 28:29 - loss: 0.0359 - acc: 0.9894 - auc: 0.95 - ETA: 28:20 - loss: 0.0365 - acc: 0.9896 - auc: 0.95 - ETA: 28:12 - loss: 0.0370 - acc: 0.9893 - auc: 0.95 - ETA: 28:03 - loss: 0.0362 - acc: 0.9895 - auc: 0.95 - ETA: 27:55 - loss: 0.0357 - acc: 0.9896 - auc: 0.95 - ETA: 27:47 - loss: 0.0354 - acc: 0.9898 - auc: 0.95 - ETA: 27:38 - loss: 0.0347 - acc: 0.9900 - auc: 0.95 - ETA: 27:30 - loss: 0.0352 - acc: 0.9898 - auc: 0.95 - ETA: 27:23 - loss: 0.0344 - acc: 0.9900 - auc: 0.95 - ETA: 27:15 - loss: 0.0356 - acc: 0.9899 - auc: 0.95 - ETA: 27:07 - loss: 0.0361 - acc: 0.9897 - auc: 0.95 - ETA: 26:58 - loss: 0.0359 - acc: 0.9897 - auc: 0.95 - ETA: 26:50 - loss: 0.0359 - acc: 0.9899 - auc: 0.95 - ETA: 26:43 - loss: 0.0356 - acc: 0.9899 - auc: 0.95 - ETA: 26:35 - loss: 0.0351 - acc: 0.9900 - auc: 0.95 - ETA: 26:28 - loss: 0.0354 - acc: 0.9898 - auc: 0.95 - ETA: 26:21 - loss: 0.0351 - acc: 0.9897 - auc: 0.95 - ETA: 26:13 - loss: 0.0350 - acc: 0.9898 - auc: 0.95 - ETA: 26:06 - loss: 0.0344 - acc: 0.9899 - auc: 0.95 - ETA: 25:59 - loss: 0.0339 - acc: 0.9902 - auc: 0.95 - ETA: 25:51 - loss: 0.0337 - acc: 0.9901 - auc: 0.95 - ETA: 25:44 - loss: 0.0348 - acc: 0.9899 - auc: 0.95 - ETA: 25:36 - loss: 0.0343 - acc: 0.9900 - auc: 0.95 - ETA: 25:28 - loss: 0.0337 - acc: 0.9902 - auc: 0.95 - ETA: 25:20 - loss: 0.0334 - acc: 0.9902 - auc: 0.95 - ETA: 25:13 - loss: 0.0332 - acc: 0.9901 - auc: 0.95 - ETA: 25:06 - loss: 0.0327 - acc: 0.9903 - auc: 0.95 - ETA: 24:58 - loss: 0.0324 - acc: 0.9903 - auc: 0.95 - ETA: 24:51 - loss: 0.0324 - acc: 0.9903 - auc: 0.95 - ETA: 24:43 - loss: 0.0327 - acc: 0.9903 - auc: 0.95 - ETA: 24:36 - loss: 0.0329 - acc: 0.9903 - auc: 0.95 - ETA: 24:28 - loss: 0.0332 - acc: 0.9902 - auc: 0.95 - ETA: 24:21 - loss: 0.0331 - acc: 0.9902 - auc: 0.95 - ETA: 24:13 - loss: 0.0338 - acc: 0.9901 - auc: 0.95 - ETA: 24:06 - loss: 0.0337 - acc: 0.9901 - auc: 0.95 - ETA: 23:59 - loss: 0.0332 - acc: 0.9903 - auc: 0.95 - ETA: 23:52 - loss: 0.0332 - acc: 0.9903 - auc: 0.95 - ETA: 23:44 - loss: 0.0338 - acc: 0.9902 - auc: 0.95 - ETA: 23:36 - loss: 0.0338 - acc: 0.9901 - auc: 0.95 - ETA: 23:28 - loss: 0.0340 - acc: 0.9899 - auc: 0.95 - ETA: 23:21 - loss: 0.0341 - acc: 0.9898 - auc: 0.95 - ETA: 23:13 - loss: 0.0338 - acc: 0.9899 - auc: 0.95 - ETA: 23:05 - loss: 0.0337 - acc: 0.9899 - auc: 0.95 - ETA: 22:57 - loss: 0.0336 - acc: 0.9899 - auc: 0.95 - ETA: 22:50 - loss: 0.0332 - acc: 0.9901 - auc: 0.95 - ETA: 22:42 - loss: 0.0331 - acc: 0.9900 - auc: 0.95 - ETA: 22:35 - loss: 0.0330 - acc: 0.9901 - auc: 0.95 - ETA: 22:26 - loss: 0.0332 - acc: 0.9900 - auc: 0.95 - ETA: 22:19 - loss: 0.0330 - acc: 0.9900 - auc: 0.95 - ETA: 22:11 - loss: 0.0332 - acc: 0.9900 - auc: 0.95 - ETA: 22:04 - loss: 0.0333 - acc: 0.9899 - auc: 0.95 - ETA: 21:56 - loss: 0.0333 - acc: 0.9898 - auc: 0.95 - ETA: 21:49 - loss: 0.0333 - acc: 0.9898 - auc: 0.95 - ETA: 21:41 - loss: 0.0332 - acc: 0.9899 - auc: 0.95 - ETA: 21:33 - loss: 0.0329 - acc: 0.9900 - auc: 0.95 - ETA: 21:26 - loss: 0.0328 - acc: 0.9900 - auc: 0.95 - ETA: 21:18 - loss: 0.0328 - acc: 0.9900 - auc: 0.95 - ETA: 21:11 - loss: 0.0325 - acc: 0.9901 - auc: 0.95 - ETA: 21:03 - loss: 0.0327 - acc: 0.9900 - auc: 0.95 - ETA: 20:55 - loss: 0.0326 - acc: 0.9901 - auc: 0.95 - ETA: 20:48 - loss: 0.0326 - acc: 0.9900 - auc: 0.95 - ETA: 20:40 - loss: 0.0326 - acc: 0.9900 - auc: 0.95 - ETA: 20:32 - loss: 0.0324 - acc: 0.9901 - auc: 0.95 - ETA: 20:25 - loss: 0.0323 - acc: 0.9901 - auc: 0.95 - ETA: 20:17 - loss: 0.0320 - acc: 0.9902 - auc: 0.95 - ETA: 20:10 - loss: 0.0321 - acc: 0.9902 - auc: 0.95 - ETA: 20:02 - loss: 0.0321 - acc: 0.9902 - auc: 0.95 - ETA: 19:54 - loss: 0.0321 - acc: 0.9902 - auc: 0.95 - ETA: 19:46 - loss: 0.0320 - acc: 0.9902 - auc: 0.95 - ETA: 19:39 - loss: 0.0319 - acc: 0.9903 - auc: 0.95 - ETA: 19:31 - loss: 0.0316 - acc: 0.9903 - auc: 0.95 - ETA: 19:23 - loss: 0.0315 - acc: 0.9904 - auc: 0.95 - ETA: 19:16 - loss: 0.0315 - acc: 0.9903 - auc: 0.95 - ETA: 19:08 - loss: 0.0316 - acc: 0.9903 - auc: 0.95 - ETA: 19:01 - loss: 0.0318 - acc: 0.9903 - auc: 0.95 - ETA: 18:53 - loss: 0.0317 - acc: 0.9903 - auc: 0.95 - ETA: 18:46 - loss: 0.0321 - acc: 0.9902 - auc: 0.95 - ETA: 18:38 - loss: 0.0320 - acc: 0.9902 - auc: 0.95 - ETA: 18:30 - loss: 0.0318 - acc: 0.9903 - auc: 0.95 - ETA: 18:23 - loss: 0.0318 - acc: 0.9903 - auc: 0.95 - ETA: 18:15 - loss: 0.0317 - acc: 0.9903 - auc: 0.95 - ETA: 18:08 - loss: 0.0314 - acc: 0.9904 - auc: 0.95 - ETA: 18:00 - loss: 0.0312 - acc: 0.9904 - auc: 0.95 - ETA: 17:52 - loss: 0.0315 - acc: 0.9905 - auc: 0.95 - ETA: 17:45 - loss: 0.0313 - acc: 0.9906 - auc: 0.95 - ETA: 17:37 - loss: 0.0312 - acc: 0.9906 - auc: 0.95 - ETA: 17:30 - loss: 0.0312 - acc: 0.9906 - auc: 0.95 - ETA: 17:22 - loss: 0.0311 - acc: 0.9906 - auc: 0.95 - ETA: 17:14 - loss: 0.0309 - acc: 0.9907 - auc: 0.95 - ETA: 17:07 - loss: 0.0308 - acc: 0.9907 - auc: 0.95 - ETA: 16:59 - loss: 0.0307 - acc: 0.9907 - auc: 0.95 - ETA: 16:52 - loss: 0.0306 - acc: 0.9907 - auc: 0.95 - ETA: 16:44 - loss: 0.0307 - acc: 0.9907 - auc: 0.95 - ETA: 16:37 - loss: 0.0306 - acc: 0.9907 - auc: 0.95 - ETA: 16:29 - loss: 0.0309 - acc: 0.9906 - auc: 0.95 - ETA: 16:21 - loss: 0.0312 - acc: 0.9906 - auc: 0.95 - ETA: 16:14 - loss: 0.0311 - acc: 0.9906 - auc: 0.95 - ETA: 16:06 - loss: 0.0310 - acc: 0.9906 - auc: 0.95 - ETA: 15:59 - loss: 0.0311 - acc: 0.9906 - auc: 0.95 - ETA: 15:51 - loss: 0.0311 - acc: 0.9906 - auc: 0.95 - ETA: 15:44 - loss: 0.0315 - acc: 0.9906 - auc: 0.95 - ETA: 15:36 - loss: 0.0317 - acc: 0.9906 - auc: 0.95 - ETA: 15:29 - loss: 0.0317 - acc: 0.9905 - auc: 0.95 - ETA: 15:21 - loss: 0.0316 - acc: 0.9906 - auc: 0.95 - ETA: 15:14 - loss: 0.0315 - acc: 0.9906 - auc: 0.95 - ETA: 15:06 - loss: 0.0317 - acc: 0.9905 - auc: 0.95 - ETA: 14:58 - loss: 0.0318 - acc: 0.9905 - auc: 0.95 - ETA: 14:51 - loss: 0.0317 - acc: 0.9905 - auc: 0.95 - ETA: 14:43 - loss: 0.0317 - acc: 0.9905 - auc: 0.95 - ETA: 14:36 - loss: 0.0316 - acc: 0.9906 - auc: 0.95 - ETA: 14:28 - loss: 0.0317 - acc: 0.9905 - auc: 0.95 - ETA: 14:21 - loss: 0.0318 - acc: 0.9905 - auc: 0.95 - ETA: 14:13 - loss: 0.0316 - acc: 0.9905 - auc: 0.95 - ETA: 14:05 - loss: 0.0318 - acc: 0.9905 - auc: 0.95 - ETA: 13:58 - loss: 0.0318 - acc: 0.9905 - auc: 0.95 - ETA: 13:50 - loss: 0.0317 - acc: 0.9905 - auc: 0.95 - ETA: 13:43 - loss: 0.0316 - acc: 0.9906 - auc: 0.95 - ETA: 13:35 - loss: 0.0315 - acc: 0.9906 - auc: 0.95 - ETA: 13:27 - loss: 0.0313 - acc: 0.9907 - auc: 0.95 - ETA: 13:20 - loss: 0.0312 - acc: 0.9907 - auc: 0.95 - ETA: 13:12 - loss: 0.0312 - acc: 0.9907 - auc: 0.95 - ETA: 13:04 - loss: 0.0313 - acc: 0.9906 - auc: 0.95 - ETA: 12:57 - loss: 0.0315 - acc: 0.9906 - auc: 0.95 - ETA: 12:49 - loss: 0.0314 - acc: 0.9906 - auc: 0.95 - ETA: 12:42 - loss: 0.0312 - acc: 0.9907 - auc: 0.95 - ETA: 12:34 - loss: 0.0313 - acc: 0.9907 - auc: 0.95 - ETA: 12:26 - loss: 0.0313 - acc: 0.9907 - auc: 0.95 - ETA: 12:19 - loss: 0.0315 - acc: 0.9906 - auc: 0.95 - ETA: 12:11 - loss: 0.0316 - acc: 0.9906 - auc: 0.9581"
     ]
    },
    {
     "name": "stdout",
     "output_type": "stream",
     "text": [
      "74288/74288 [==============================] - ETA: 12:04 - loss: 0.0316 - acc: 0.9905 - auc: 0.95 - ETA: 11:56 - loss: 0.0315 - acc: 0.9906 - auc: 0.95 - ETA: 11:48 - loss: 0.0315 - acc: 0.9906 - auc: 0.95 - ETA: 11:41 - loss: 0.0315 - acc: 0.9906 - auc: 0.95 - ETA: 11:33 - loss: 0.0316 - acc: 0.9906 - auc: 0.95 - ETA: 11:26 - loss: 0.0315 - acc: 0.9906 - auc: 0.95 - ETA: 11:18 - loss: 0.0314 - acc: 0.9907 - auc: 0.95 - ETA: 11:10 - loss: 0.0313 - acc: 0.9907 - auc: 0.95 - ETA: 11:03 - loss: 0.0313 - acc: 0.9907 - auc: 0.95 - ETA: 10:55 - loss: 0.0313 - acc: 0.9907 - auc: 0.95 - ETA: 10:48 - loss: 0.0312 - acc: 0.9907 - auc: 0.95 - ETA: 10:40 - loss: 0.0312 - acc: 0.9907 - auc: 0.95 - ETA: 10:33 - loss: 0.0311 - acc: 0.9908 - auc: 0.95 - ETA: 10:25 - loss: 0.0310 - acc: 0.9908 - auc: 0.95 - ETA: 10:17 - loss: 0.0312 - acc: 0.9907 - auc: 0.95 - ETA: 10:10 - loss: 0.0314 - acc: 0.9907 - auc: 0.95 - ETA: 10:02 - loss: 0.0319 - acc: 0.9906 - auc: 0.95 - ETA: 9:55 - loss: 0.0324 - acc: 0.9905 - auc: 0.9583 - ETA: 9:47 - loss: 0.0326 - acc: 0.9905 - auc: 0.958 - ETA: 9:40 - loss: 0.0325 - acc: 0.9905 - auc: 0.958 - ETA: 9:32 - loss: 0.0327 - acc: 0.9904 - auc: 0.958 - ETA: 9:24 - loss: 0.0328 - acc: 0.9904 - auc: 0.958 - ETA: 9:17 - loss: 0.0327 - acc: 0.9904 - auc: 0.958 - ETA: 9:09 - loss: 0.0329 - acc: 0.9903 - auc: 0.958 - ETA: 9:02 - loss: 0.0329 - acc: 0.9903 - auc: 0.958 - ETA: 8:54 - loss: 0.0329 - acc: 0.9903 - auc: 0.958 - ETA: 8:47 - loss: 0.0330 - acc: 0.9903 - auc: 0.958 - ETA: 8:39 - loss: 0.0332 - acc: 0.9902 - auc: 0.958 - ETA: 8:31 - loss: 0.0331 - acc: 0.9903 - auc: 0.958 - ETA: 8:24 - loss: 0.0331 - acc: 0.9903 - auc: 0.958 - ETA: 8:16 - loss: 0.0334 - acc: 0.9902 - auc: 0.958 - ETA: 8:09 - loss: 0.0334 - acc: 0.9902 - auc: 0.958 - ETA: 8:01 - loss: 0.0333 - acc: 0.9902 - auc: 0.958 - ETA: 7:54 - loss: 0.0333 - acc: 0.9902 - auc: 0.958 - ETA: 7:46 - loss: 0.0333 - acc: 0.9902 - auc: 0.958 - ETA: 7:39 - loss: 0.0333 - acc: 0.9902 - auc: 0.958 - ETA: 7:31 - loss: 0.0332 - acc: 0.9902 - auc: 0.958 - ETA: 7:23 - loss: 0.0333 - acc: 0.9902 - auc: 0.958 - ETA: 7:16 - loss: 0.0333 - acc: 0.9902 - auc: 0.958 - ETA: 7:08 - loss: 0.0337 - acc: 0.9901 - auc: 0.958 - ETA: 7:01 - loss: 0.0337 - acc: 0.9901 - auc: 0.958 - ETA: 6:53 - loss: 0.0339 - acc: 0.9900 - auc: 0.958 - ETA: 6:46 - loss: 0.0340 - acc: 0.9900 - auc: 0.958 - ETA: 6:38 - loss: 0.0339 - acc: 0.9900 - auc: 0.958 - ETA: 6:30 - loss: 0.0339 - acc: 0.9900 - auc: 0.958 - ETA: 6:23 - loss: 0.0340 - acc: 0.9900 - auc: 0.958 - ETA: 6:15 - loss: 0.0341 - acc: 0.9899 - auc: 0.958 - ETA: 6:08 - loss: 0.0345 - acc: 0.9899 - auc: 0.958 - ETA: 6:00 - loss: 0.0344 - acc: 0.9899 - auc: 0.958 - ETA: 5:53 - loss: 0.0344 - acc: 0.9899 - auc: 0.958 - ETA: 5:45 - loss: 0.0345 - acc: 0.9899 - auc: 0.958 - ETA: 5:37 - loss: 0.0344 - acc: 0.9899 - auc: 0.958 - ETA: 5:30 - loss: 0.0344 - acc: 0.9899 - auc: 0.958 - ETA: 5:22 - loss: 0.0344 - acc: 0.9899 - auc: 0.958 - ETA: 5:15 - loss: 0.0343 - acc: 0.9899 - auc: 0.958 - ETA: 5:07 - loss: 0.0342 - acc: 0.9899 - auc: 0.958 - ETA: 5:00 - loss: 0.0344 - acc: 0.9899 - auc: 0.958 - ETA: 4:52 - loss: 0.0344 - acc: 0.9899 - auc: 0.958 - ETA: 4:44 - loss: 0.0345 - acc: 0.9898 - auc: 0.958 - ETA: 4:37 - loss: 0.0344 - acc: 0.9899 - auc: 0.958 - ETA: 4:29 - loss: 0.0344 - acc: 0.9898 - auc: 0.958 - ETA: 4:22 - loss: 0.0344 - acc: 0.9898 - auc: 0.958 - ETA: 4:14 - loss: 0.0345 - acc: 0.9898 - auc: 0.958 - ETA: 4:07 - loss: 0.0344 - acc: 0.9899 - auc: 0.958 - ETA: 3:59 - loss: 0.0343 - acc: 0.9899 - auc: 0.958 - ETA: 3:52 - loss: 0.0343 - acc: 0.9899 - auc: 0.958 - ETA: 3:44 - loss: 0.0344 - acc: 0.9899 - auc: 0.958 - ETA: 3:36 - loss: 0.0344 - acc: 0.9899 - auc: 0.958 - ETA: 3:29 - loss: 0.0343 - acc: 0.9900 - auc: 0.958 - ETA: 3:21 - loss: 0.0343 - acc: 0.9899 - auc: 0.958 - ETA: 3:14 - loss: 0.0344 - acc: 0.9899 - auc: 0.958 - ETA: 3:06 - loss: 0.0344 - acc: 0.9900 - auc: 0.958 - ETA: 2:59 - loss: 0.0343 - acc: 0.9900 - auc: 0.958 - ETA: 2:51 - loss: 0.0342 - acc: 0.9900 - auc: 0.958 - ETA: 2:43 - loss: 0.0344 - acc: 0.9900 - auc: 0.958 - ETA: 2:36 - loss: 0.0343 - acc: 0.9900 - auc: 0.958 - ETA: 2:28 - loss: 0.0343 - acc: 0.9900 - auc: 0.958 - ETA: 2:21 - loss: 0.0343 - acc: 0.9899 - auc: 0.959 - ETA: 2:13 - loss: 0.0343 - acc: 0.9900 - auc: 0.959 - ETA: 2:06 - loss: 0.0343 - acc: 0.9900 - auc: 0.959 - ETA: 1:58 - loss: 0.0342 - acc: 0.9900 - auc: 0.959 - ETA: 1:50 - loss: 0.0342 - acc: 0.9900 - auc: 0.959 - ETA: 1:43 - loss: 0.0341 - acc: 0.9900 - auc: 0.959 - ETA: 1:35 - loss: 0.0341 - acc: 0.9900 - auc: 0.959 - ETA: 1:28 - loss: 0.0340 - acc: 0.9900 - auc: 0.959 - ETA: 1:20 - loss: 0.0341 - acc: 0.9900 - auc: 0.959 - ETA: 1:12 - loss: 0.0341 - acc: 0.9901 - auc: 0.959 - ETA: 1:05 - loss: 0.0342 - acc: 0.9900 - auc: 0.959 - ETA: 57s - loss: 0.0341 - acc: 0.9900 - auc: 0.959 - ETA: 50s - loss: 0.0343 - acc: 0.9900 - auc: 0.95 - ETA: 42s - loss: 0.0342 - acc: 0.9900 - auc: 0.95 - ETA: 35s - loss: 0.0343 - acc: 0.9900 - auc: 0.95 - ETA: 27s - loss: 0.0342 - acc: 0.9900 - auc: 0.95 - ETA: 19s - loss: 0.0342 - acc: 0.9900 - auc: 0.95 - ETA: 12s - loss: 0.0342 - acc: 0.9900 - auc: 0.95 - ETA: 4s - loss: 0.0344 - acc: 0.9899 - auc: 0.9591 - 2000s 27ms/step - loss: 0.0344 - acc: 0.9899 - auc: 0.9592 - val_loss: 0.8948 - val_acc: 0.8253 - val_auc: 0.9606\n",
      "Epoch 11/12\n"
     ]
    },
    {
     "name": "stdout",
     "output_type": "stream",
     "text": [
      "45300/74288 [=================>............] - ETA: 30:57 - loss: 0.0261 - acc: 0.9900 - auc: 0.95 - ETA: 31:06 - loss: 0.0360 - acc: 0.9867 - auc: 0.95 - ETA: 30:49 - loss: 0.0332 - acc: 0.9889 - auc: 0.95 - ETA: 30:43 - loss: 0.0312 - acc: 0.9900 - auc: 0.95 - ETA: 30:34 - loss: 0.0338 - acc: 0.9900 - auc: 0.95 - ETA: 30:29 - loss: 0.0299 - acc: 0.9911 - auc: 0.95 - ETA: 30:22 - loss: 0.0286 - acc: 0.9914 - auc: 0.95 - ETA: 30:17 - loss: 0.0317 - acc: 0.9904 - auc: 0.95 - ETA: 30:12 - loss: 0.0305 - acc: 0.9911 - auc: 0.95 - ETA: 30:01 - loss: 0.0289 - acc: 0.9913 - auc: 0.95 - ETA: 29:51 - loss: 0.0291 - acc: 0.9912 - auc: 0.95 - ETA: 29:44 - loss: 0.0280 - acc: 0.9917 - auc: 0.95 - ETA: 29:38 - loss: 0.0264 - acc: 0.9923 - auc: 0.95 - ETA: 29:29 - loss: 0.0260 - acc: 0.9921 - auc: 0.95 - ETA: 29:26 - loss: 0.0257 - acc: 0.9924 - auc: 0.95 - ETA: 29:20 - loss: 0.0257 - acc: 0.9921 - auc: 0.95 - ETA: 29:13 - loss: 0.0258 - acc: 0.9920 - auc: 0.95 - ETA: 29:06 - loss: 0.0266 - acc: 0.9915 - auc: 0.95 - ETA: 28:57 - loss: 0.0261 - acc: 0.9916 - auc: 0.95 - ETA: 28:48 - loss: 0.0253 - acc: 0.9918 - auc: 0.95 - ETA: 28:41 - loss: 0.0248 - acc: 0.9921 - auc: 0.95 - ETA: 28:33 - loss: 0.0250 - acc: 0.9918 - auc: 0.95 - ETA: 28:26 - loss: 0.0246 - acc: 0.9919 - auc: 0.95 - ETA: 28:18 - loss: 0.0245 - acc: 0.9918 - auc: 0.95 - ETA: 28:10 - loss: 0.0248 - acc: 0.9917 - auc: 0.95 - ETA: 28:01 - loss: 0.0253 - acc: 0.9915 - auc: 0.95 - ETA: 27:54 - loss: 0.0246 - acc: 0.9919 - auc: 0.95 - ETA: 27:48 - loss: 0.0244 - acc: 0.9919 - auc: 0.95 - ETA: 27:41 - loss: 0.0247 - acc: 0.9918 - auc: 0.95 - ETA: 27:34 - loss: 0.0256 - acc: 0.9917 - auc: 0.95 - ETA: 27:26 - loss: 0.0253 - acc: 0.9918 - auc: 0.95 - ETA: 27:18 - loss: 0.0248 - acc: 0.9921 - auc: 0.95 - ETA: 27:11 - loss: 0.0252 - acc: 0.9920 - auc: 0.95 - ETA: 27:03 - loss: 0.0261 - acc: 0.9919 - auc: 0.95 - ETA: 26:54 - loss: 0.0269 - acc: 0.9915 - auc: 0.95 - ETA: 26:47 - loss: 0.0276 - acc: 0.9915 - auc: 0.95 - ETA: 26:39 - loss: 0.0274 - acc: 0.9916 - auc: 0.95 - ETA: 26:32 - loss: 0.0277 - acc: 0.9914 - auc: 0.95 - ETA: 26:23 - loss: 0.0275 - acc: 0.9915 - auc: 0.95 - ETA: 26:16 - loss: 0.0273 - acc: 0.9916 - auc: 0.95 - ETA: 26:08 - loss: 0.0272 - acc: 0.9916 - auc: 0.95 - ETA: 26:01 - loss: 0.0271 - acc: 0.9917 - auc: 0.95 - ETA: 25:54 - loss: 0.0266 - acc: 0.9919 - auc: 0.95 - ETA: 25:47 - loss: 0.0280 - acc: 0.9917 - auc: 0.95 - ETA: 25:39 - loss: 0.0280 - acc: 0.9916 - auc: 0.95 - ETA: 25:31 - loss: 0.0281 - acc: 0.9916 - auc: 0.95 - ETA: 25:23 - loss: 0.0287 - acc: 0.9913 - auc: 0.95 - ETA: 25:15 - loss: 0.0285 - acc: 0.9914 - auc: 0.95 - ETA: 25:08 - loss: 0.0290 - acc: 0.9912 - auc: 0.96 - ETA: 25:00 - loss: 0.0290 - acc: 0.9912 - auc: 0.96 - ETA: 24:52 - loss: 0.0291 - acc: 0.9913 - auc: 0.96 - ETA: 24:44 - loss: 0.0292 - acc: 0.9913 - auc: 0.96 - ETA: 24:36 - loss: 0.0297 - acc: 0.9913 - auc: 0.96 - ETA: 24:29 - loss: 0.0297 - acc: 0.9912 - auc: 0.96 - ETA: 24:21 - loss: 0.0294 - acc: 0.9913 - auc: 0.96 - ETA: 24:13 - loss: 0.0295 - acc: 0.9914 - auc: 0.96 - ETA: 24:06 - loss: 0.0296 - acc: 0.9913 - auc: 0.96 - ETA: 23:58 - loss: 0.0298 - acc: 0.9911 - auc: 0.96 - ETA: 23:51 - loss: 0.0295 - acc: 0.9912 - auc: 0.96 - ETA: 23:44 - loss: 0.0294 - acc: 0.9913 - auc: 0.96 - ETA: 23:36 - loss: 0.0294 - acc: 0.9912 - auc: 0.96 - ETA: 23:28 - loss: 0.0293 - acc: 0.9912 - auc: 0.96 - ETA: 23:21 - loss: 0.0290 - acc: 0.9913 - auc: 0.96 - ETA: 23:13 - loss: 0.0295 - acc: 0.9914 - auc: 0.96 - ETA: 23:05 - loss: 0.0307 - acc: 0.9909 - auc: 0.96 - ETA: 22:57 - loss: 0.0310 - acc: 0.9908 - auc: 0.96 - ETA: 22:50 - loss: 0.0313 - acc: 0.9907 - auc: 0.96 - ETA: 22:42 - loss: 0.0311 - acc: 0.9908 - auc: 0.96 - ETA: 22:35 - loss: 0.0309 - acc: 0.9908 - auc: 0.96 - ETA: 22:27 - loss: 0.0308 - acc: 0.9908 - auc: 0.96 - ETA: 22:20 - loss: 0.0308 - acc: 0.9908 - auc: 0.96 - ETA: 22:13 - loss: 0.0308 - acc: 0.9907 - auc: 0.96 - ETA: 22:05 - loss: 0.0310 - acc: 0.9906 - auc: 0.96 - ETA: 21:58 - loss: 0.0308 - acc: 0.9908 - auc: 0.96 - ETA: 21:50 - loss: 0.0304 - acc: 0.9909 - auc: 0.96 - ETA: 21:43 - loss: 0.0306 - acc: 0.9908 - auc: 0.96 - ETA: 21:35 - loss: 0.0304 - acc: 0.9908 - auc: 0.96 - ETA: 21:28 - loss: 0.0301 - acc: 0.9909 - auc: 0.96 - ETA: 21:21 - loss: 0.0305 - acc: 0.9908 - auc: 0.96 - ETA: 21:13 - loss: 0.0302 - acc: 0.9909 - auc: 0.96 - ETA: 21:06 - loss: 0.0306 - acc: 0.9908 - auc: 0.96 - ETA: 20:58 - loss: 0.0304 - acc: 0.9909 - auc: 0.96 - ETA: 20:51 - loss: 0.0308 - acc: 0.9906 - auc: 0.96 - ETA: 20:43 - loss: 0.0306 - acc: 0.9907 - auc: 0.96 - ETA: 20:35 - loss: 0.0306 - acc: 0.9906 - auc: 0.96 - ETA: 20:28 - loss: 0.0307 - acc: 0.9906 - auc: 0.96 - ETA: 20:20 - loss: 0.0306 - acc: 0.9907 - auc: 0.96 - ETA: 20:13 - loss: 0.0305 - acc: 0.9907 - auc: 0.96 - ETA: 20:05 - loss: 0.0303 - acc: 0.9908 - auc: 0.96 - ETA: 19:57 - loss: 0.0301 - acc: 0.9909 - auc: 0.96 - ETA: 19:50 - loss: 0.0299 - acc: 0.9910 - auc: 0.96 - ETA: 19:42 - loss: 0.0304 - acc: 0.9908 - auc: 0.96 - ETA: 19:35 - loss: 0.0302 - acc: 0.9909 - auc: 0.96 - ETA: 19:27 - loss: 0.0301 - acc: 0.9909 - auc: 0.96 - ETA: 19:20 - loss: 0.0300 - acc: 0.9909 - auc: 0.96 - ETA: 19:12 - loss: 0.0300 - acc: 0.9909 - auc: 0.96 - ETA: 19:04 - loss: 0.0300 - acc: 0.9908 - auc: 0.96 - ETA: 18:57 - loss: 0.0301 - acc: 0.9908 - auc: 0.96 - ETA: 18:49 - loss: 0.0300 - acc: 0.9909 - auc: 0.96 - ETA: 18:41 - loss: 0.0304 - acc: 0.9907 - auc: 0.96 - ETA: 18:34 - loss: 0.0302 - acc: 0.9908 - auc: 0.96 - ETA: 18:27 - loss: 0.0303 - acc: 0.9908 - auc: 0.96 - ETA: 18:19 - loss: 0.0304 - acc: 0.9907 - auc: 0.96 - ETA: 18:12 - loss: 0.0303 - acc: 0.9908 - auc: 0.96 - ETA: 18:04 - loss: 0.0301 - acc: 0.9908 - auc: 0.96 - ETA: 17:56 - loss: 0.0301 - acc: 0.9908 - auc: 0.96 - ETA: 17:49 - loss: 0.0299 - acc: 0.9908 - auc: 0.96 - ETA: 17:41 - loss: 0.0302 - acc: 0.9909 - auc: 0.96 - ETA: 17:33 - loss: 0.0302 - acc: 0.9909 - auc: 0.96 - ETA: 17:26 - loss: 0.0300 - acc: 0.9909 - auc: 0.96 - ETA: 17:18 - loss: 0.0307 - acc: 0.9908 - auc: 0.96 - ETA: 17:11 - loss: 0.0305 - acc: 0.9909 - auc: 0.96 - ETA: 17:03 - loss: 0.0303 - acc: 0.9910 - auc: 0.96 - ETA: 16:56 - loss: 0.0303 - acc: 0.9910 - auc: 0.96 - ETA: 16:48 - loss: 0.0306 - acc: 0.9910 - auc: 0.96 - ETA: 16:41 - loss: 0.0305 - acc: 0.9910 - auc: 0.96 - ETA: 16:33 - loss: 0.0310 - acc: 0.9909 - auc: 0.96 - ETA: 16:26 - loss: 0.0308 - acc: 0.9910 - auc: 0.96 - ETA: 16:18 - loss: 0.0308 - acc: 0.9910 - auc: 0.96 - ETA: 16:10 - loss: 0.0306 - acc: 0.9911 - auc: 0.96 - ETA: 16:03 - loss: 0.0306 - acc: 0.9911 - auc: 0.96 - ETA: 15:55 - loss: 0.0305 - acc: 0.9911 - auc: 0.96 - ETA: 15:48 - loss: 0.0306 - acc: 0.9911 - auc: 0.96 - ETA: 15:40 - loss: 0.0306 - acc: 0.9911 - auc: 0.96 - ETA: 15:32 - loss: 0.0304 - acc: 0.9911 - auc: 0.96 - ETA: 15:25 - loss: 0.0302 - acc: 0.9912 - auc: 0.96 - ETA: 15:17 - loss: 0.0304 - acc: 0.9912 - auc: 0.96 - ETA: 15:10 - loss: 0.0305 - acc: 0.9911 - auc: 0.96 - ETA: 15:02 - loss: 0.0308 - acc: 0.9911 - auc: 0.96 - ETA: 14:55 - loss: 0.0308 - acc: 0.9911 - auc: 0.96 - ETA: 14:47 - loss: 0.0312 - acc: 0.9910 - auc: 0.96 - ETA: 14:39 - loss: 0.0311 - acc: 0.9910 - auc: 0.96 - ETA: 14:32 - loss: 0.0309 - acc: 0.9911 - auc: 0.96 - ETA: 14:24 - loss: 0.0308 - acc: 0.9911 - auc: 0.96 - ETA: 14:17 - loss: 0.0307 - acc: 0.9911 - auc: 0.96 - ETA: 14:09 - loss: 0.0306 - acc: 0.9912 - auc: 0.96 - ETA: 14:01 - loss: 0.0307 - acc: 0.9911 - auc: 0.96 - ETA: 13:54 - loss: 0.0305 - acc: 0.9912 - auc: 0.96 - ETA: 13:46 - loss: 0.0306 - acc: 0.9912 - auc: 0.96 - ETA: 13:38 - loss: 0.0306 - acc: 0.9912 - auc: 0.96 - ETA: 13:31 - loss: 0.0304 - acc: 0.9912 - auc: 0.96 - ETA: 13:23 - loss: 0.0305 - acc: 0.9912 - auc: 0.96 - ETA: 13:16 - loss: 0.0304 - acc: 0.9912 - auc: 0.96 - ETA: 13:08 - loss: 0.0304 - acc: 0.9912 - auc: 0.96 - ETA: 13:00 - loss: 0.0303 - acc: 0.9912 - auc: 0.96 - ETA: 12:53 - loss: 0.0303 - acc: 0.9912 - auc: 0.96 - ETA: 12:45 - loss: 0.0305 - acc: 0.9912 - auc: 0.96 - ETA: 12:38 - loss: 0.0304 - acc: 0.9912 - auc: 0.96 - ETA: 12:30 - loss: 0.0303 - acc: 0.9912 - auc: 0.96 - ETA: 12:22 - loss: 0.0305 - acc: 0.9912 - auc: 0.96 - ETA: 12:15 - loss: 0.0305 - acc: 0.9912 - auc: 0.961074288/74288 [==============================] - ETA: 12:07 - loss: 0.0304 - acc: 0.9912 - auc: 0.96 - ETA: 11:59 - loss: 0.0302 - acc: 0.9913 - auc: 0.96 - ETA: 11:52 - loss: 0.0302 - acc: 0.9913 - auc: 0.96 - ETA: 11:44 - loss: 0.0301 - acc: 0.9913 - auc: 0.96 - ETA: 11:36 - loss: 0.0300 - acc: 0.9913 - auc: 0.96 - ETA: 11:29 - loss: 0.0301 - acc: 0.9914 - auc: 0.96 - ETA: 11:21 - loss: 0.0300 - acc: 0.9914 - auc: 0.96 - ETA: 11:14 - loss: 0.0299 - acc: 0.9914 - auc: 0.96 - ETA: 11:06 - loss: 0.0298 - acc: 0.9914 - auc: 0.96 - ETA: 10:58 - loss: 0.0299 - acc: 0.9913 - auc: 0.96 - ETA: 10:51 - loss: 0.0297 - acc: 0.9914 - auc: 0.96 - ETA: 10:43 - loss: 0.0300 - acc: 0.9913 - auc: 0.96 - ETA: 10:36 - loss: 0.0299 - acc: 0.9913 - auc: 0.96 - ETA: 10:28 - loss: 0.0298 - acc: 0.9914 - auc: 0.96 - ETA: 10:20 - loss: 0.0298 - acc: 0.9914 - auc: 0.96 - ETA: 10:13 - loss: 0.0297 - acc: 0.9914 - auc: 0.96 - ETA: 10:05 - loss: 0.0299 - acc: 0.9913 - auc: 0.96 - ETA: 9:57 - loss: 0.0299 - acc: 0.9913 - auc: 0.9611 - ETA: 9:50 - loss: 0.0298 - acc: 0.9914 - auc: 0.961 - ETA: 9:42 - loss: 0.0296 - acc: 0.9914 - auc: 0.961 - ETA: 9:35 - loss: 0.0296 - acc: 0.9914 - auc: 0.961 - ETA: 9:27 - loss: 0.0295 - acc: 0.9914 - auc: 0.961 - ETA: 9:20 - loss: 0.0295 - acc: 0.9914 - auc: 0.961 - ETA: 9:12 - loss: 0.0296 - acc: 0.9914 - auc: 0.961 - ETA: 9:04 - loss: 0.0300 - acc: 0.9913 - auc: 0.961 - ETA: 8:57 - loss: 0.0299 - acc: 0.9913 - auc: 0.961 - ETA: 8:49 - loss: 0.0300 - acc: 0.9913 - auc: 0.961 - ETA: 8:42 - loss: 0.0299 - acc: 0.9913 - auc: 0.961 - ETA: 8:34 - loss: 0.0298 - acc: 0.9914 - auc: 0.961 - ETA: 8:27 - loss: 0.0298 - acc: 0.9913 - auc: 0.961 - ETA: 8:19 - loss: 0.0298 - acc: 0.9914 - auc: 0.961 - ETA: 8:11 - loss: 0.0297 - acc: 0.9914 - auc: 0.961 - ETA: 8:04 - loss: 0.0297 - acc: 0.9914 - auc: 0.961 - ETA: 7:56 - loss: 0.0298 - acc: 0.9914 - auc: 0.961 - ETA: 7:49 - loss: 0.0298 - acc: 0.9913 - auc: 0.961 - ETA: 7:41 - loss: 0.0298 - acc: 0.9914 - auc: 0.961 - ETA: 7:33 - loss: 0.0298 - acc: 0.9913 - auc: 0.961 - ETA: 7:26 - loss: 0.0301 - acc: 0.9913 - auc: 0.961 - ETA: 7:18 - loss: 0.0301 - acc: 0.9912 - auc: 0.961 - ETA: 7:11 - loss: 0.0304 - acc: 0.9912 - auc: 0.961 - ETA: 7:03 - loss: 0.0303 - acc: 0.9912 - auc: 0.961 - ETA: 6:55 - loss: 0.0303 - acc: 0.9912 - auc: 0.961 - ETA: 6:48 - loss: 0.0302 - acc: 0.9912 - auc: 0.961 - ETA: 6:40 - loss: 0.0302 - acc: 0.9912 - auc: 0.961 - ETA: 6:33 - loss: 0.0301 - acc: 0.9913 - auc: 0.961 - ETA: 6:25 - loss: 0.0302 - acc: 0.9913 - auc: 0.961 - ETA: 6:17 - loss: 0.0301 - acc: 0.9913 - auc: 0.961 - ETA: 6:10 - loss: 0.0302 - acc: 0.9912 - auc: 0.961 - ETA: 6:02 - loss: 0.0302 - acc: 0.9912 - auc: 0.961 - ETA: 5:55 - loss: 0.0302 - acc: 0.9911 - auc: 0.961 - ETA: 5:47 - loss: 0.0303 - acc: 0.9911 - auc: 0.961 - ETA: 5:39 - loss: 0.0303 - acc: 0.9911 - auc: 0.961 - ETA: 5:32 - loss: 0.0302 - acc: 0.9912 - auc: 0.961 - ETA: 5:24 - loss: 0.0301 - acc: 0.9912 - auc: 0.961 - ETA: 5:16 - loss: 0.0302 - acc: 0.9912 - auc: 0.961 - ETA: 5:09 - loss: 0.0303 - acc: 0.9912 - auc: 0.961 - ETA: 5:01 - loss: 0.0303 - acc: 0.9912 - auc: 0.961 - ETA: 4:54 - loss: 0.0303 - acc: 0.9912 - auc: 0.961 - ETA: 4:46 - loss: 0.0304 - acc: 0.9911 - auc: 0.961 - ETA: 4:38 - loss: 0.0305 - acc: 0.9911 - auc: 0.961 - ETA: 4:31 - loss: 0.0305 - acc: 0.9911 - auc: 0.961 - ETA: 4:23 - loss: 0.0306 - acc: 0.9911 - auc: 0.961 - ETA: 4:16 - loss: 0.0305 - acc: 0.9911 - auc: 0.961 - ETA: 4:08 - loss: 0.0305 - acc: 0.9911 - auc: 0.961 - ETA: 4:00 - loss: 0.0305 - acc: 0.9911 - auc: 0.961 - ETA: 3:53 - loss: 0.0305 - acc: 0.9911 - auc: 0.961 - ETA: 3:45 - loss: 0.0308 - acc: 0.9911 - auc: 0.961 - ETA: 3:38 - loss: 0.0307 - acc: 0.9911 - auc: 0.961 - ETA: 3:30 - loss: 0.0307 - acc: 0.9911 - auc: 0.961 - ETA: 3:22 - loss: 0.0306 - acc: 0.9911 - auc: 0.961 - ETA: 3:15 - loss: 0.0308 - acc: 0.9911 - auc: 0.961 - ETA: 3:07 - loss: 0.0307 - acc: 0.9911 - auc: 0.961 - ETA: 3:00 - loss: 0.0307 - acc: 0.9911 - auc: 0.961 - ETA: 2:52 - loss: 0.0307 - acc: 0.9911 - auc: 0.961 - ETA: 2:44 - loss: 0.0309 - acc: 0.9911 - auc: 0.961 - ETA: 2:37 - loss: 0.0308 - acc: 0.9911 - auc: 0.961 - ETA: 2:29 - loss: 0.0308 - acc: 0.9911 - auc: 0.961 - ETA: 2:21 - loss: 0.0309 - acc: 0.9910 - auc: 0.961 - ETA: 2:14 - loss: 0.0309 - acc: 0.9910 - auc: 0.961 - ETA: 2:06 - loss: 0.0309 - acc: 0.9910 - auc: 0.961 - ETA: 1:59 - loss: 0.0311 - acc: 0.9910 - auc: 0.961 - ETA: 1:51 - loss: 0.0311 - acc: 0.9910 - auc: 0.961 - ETA: 1:43 - loss: 0.0311 - acc: 0.9910 - auc: 0.961 - ETA: 1:36 - loss: 0.0313 - acc: 0.9910 - auc: 0.961 - ETA: 1:28 - loss: 0.0313 - acc: 0.9910 - auc: 0.961 - ETA: 1:20 - loss: 0.0313 - acc: 0.9910 - auc: 0.961 - ETA: 1:13 - loss: 0.0312 - acc: 0.9910 - auc: 0.961 - ETA: 1:05 - loss: 0.0312 - acc: 0.9910 - auc: 0.961 - ETA: 58s - loss: 0.0312 - acc: 0.9910 - auc: 0.961 - ETA: 50s - loss: 0.0312 - acc: 0.9910 - auc: 0.96 - ETA: 42s - loss: 0.0311 - acc: 0.9910 - auc: 0.96 - ETA: 35s - loss: 0.0311 - acc: 0.9910 - auc: 0.96 - ETA: 27s - loss: 0.0311 - acc: 0.9910 - auc: 0.96 - ETA: 20s - loss: 0.0312 - acc: 0.9910 - auc: 0.96 - ETA: 12s - loss: 0.0312 - acc: 0.9910 - auc: 0.96 - ETA: 4s - loss: 0.0311 - acc: 0.9910 - auc: 0.9618 - 2009s 27ms/step - loss: 0.0311 - acc: 0.9910 - auc: 0.9619 - val_loss: 0.9611 - val_acc: 0.8258 - val_auc: 0.9630\n",
      "Epoch 12/12\n"
     ]
    },
    {
     "name": "stdout",
     "output_type": "stream",
     "text": [
      "45300/74288 [=================>............] - ETA: 31:11 - loss: 0.0203 - acc: 0.9933 - auc: 0.96 - ETA: 31:12 - loss: 0.0258 - acc: 0.9933 - auc: 0.96 - ETA: 31:17 - loss: 0.0248 - acc: 0.9933 - auc: 0.96 - ETA: 31:24 - loss: 0.0272 - acc: 0.9917 - auc: 0.96 - ETA: 31:17 - loss: 0.0295 - acc: 0.9900 - auc: 0.96 - ETA: 31:06 - loss: 0.0343 - acc: 0.9894 - auc: 0.96 - ETA: 30:56 - loss: 0.0358 - acc: 0.9900 - auc: 0.96 - ETA: 30:46 - loss: 0.0324 - acc: 0.9913 - auc: 0.96 - ETA: 30:37 - loss: 0.0350 - acc: 0.9900 - auc: 0.96 - ETA: 30:28 - loss: 0.0337 - acc: 0.9903 - auc: 0.96 - ETA: 30:17 - loss: 0.0326 - acc: 0.9906 - auc: 0.96 - ETA: 30:07 - loss: 0.0303 - acc: 0.9914 - auc: 0.96 - ETA: 29:59 - loss: 0.0292 - acc: 0.9915 - auc: 0.96 - ETA: 29:54 - loss: 0.0291 - acc: 0.9914 - auc: 0.96 - ETA: 29:48 - loss: 0.0278 - acc: 0.9920 - auc: 0.96 - ETA: 29:38 - loss: 0.0265 - acc: 0.9925 - auc: 0.96 - ETA: 29:30 - loss: 0.0259 - acc: 0.9925 - auc: 0.96 - ETA: 29:21 - loss: 0.0252 - acc: 0.9928 - auc: 0.96 - ETA: 29:14 - loss: 0.0243 - acc: 0.9930 - auc: 0.96 - ETA: 29:07 - loss: 0.0241 - acc: 0.9930 - auc: 0.96 - ETA: 28:58 - loss: 0.0246 - acc: 0.9929 - auc: 0.96 - ETA: 28:48 - loss: 0.0244 - acc: 0.9930 - auc: 0.96 - ETA: 28:41 - loss: 0.0239 - acc: 0.9932 - auc: 0.96 - ETA: 28:34 - loss: 0.0241 - acc: 0.9931 - auc: 0.96 - ETA: 28:26 - loss: 0.0238 - acc: 0.9931 - auc: 0.96 - ETA: 28:18 - loss: 0.0242 - acc: 0.9931 - auc: 0.96 - ETA: 28:10 - loss: 0.0244 - acc: 0.9927 - auc: 0.96 - ETA: 28:03 - loss: 0.0248 - acc: 0.9927 - auc: 0.96 - ETA: 27:55 - loss: 0.0243 - acc: 0.9929 - auc: 0.96 - ETA: 27:47 - loss: 0.0236 - acc: 0.9931 - auc: 0.96 - ETA: 27:39 - loss: 0.0239 - acc: 0.9929 - auc: 0.96 - ETA: 27:32 - loss: 0.0238 - acc: 0.9930 - auc: 0.96 - ETA: 27:24 - loss: 0.0240 - acc: 0.9929 - auc: 0.96 - ETA: 27:17 - loss: 0.0242 - acc: 0.9926 - auc: 0.96 - ETA: 27:08 - loss: 0.0241 - acc: 0.9926 - auc: 0.96 - ETA: 27:00 - loss: 0.0236 - acc: 0.9928 - auc: 0.96 - ETA: 26:52 - loss: 0.0236 - acc: 0.9928 - auc: 0.96 - ETA: 26:44 - loss: 0.0243 - acc: 0.9927 - auc: 0.96 - ETA: 26:36 - loss: 0.0245 - acc: 0.9926 - auc: 0.96 - ETA: 26:27 - loss: 0.0253 - acc: 0.9923 - auc: 0.96 - ETA: 26:19 - loss: 0.0265 - acc: 0.9920 - auc: 0.96 - ETA: 26:11 - loss: 0.0261 - acc: 0.9921 - auc: 0.96 - ETA: 26:04 - loss: 0.0261 - acc: 0.9920 - auc: 0.96 - ETA: 25:56 - loss: 0.0260 - acc: 0.9920 - auc: 0.96 - ETA: 25:47 - loss: 0.0256 - acc: 0.9921 - auc: 0.96 - ETA: 25:39 - loss: 0.0253 - acc: 0.9922 - auc: 0.96 - ETA: 25:32 - loss: 0.0250 - acc: 0.9923 - auc: 0.96 - ETA: 25:24 - loss: 0.0249 - acc: 0.9924 - auc: 0.96 - ETA: 25:16 - loss: 0.0249 - acc: 0.9924 - auc: 0.96 - ETA: 25:08 - loss: 0.0250 - acc: 0.9923 - auc: 0.96 - ETA: 25:00 - loss: 0.0250 - acc: 0.9924 - auc: 0.96 - ETA: 24:52 - loss: 0.0250 - acc: 0.9925 - auc: 0.96 - ETA: 24:45 - loss: 0.0246 - acc: 0.9926 - auc: 0.96 - ETA: 24:37 - loss: 0.0244 - acc: 0.9927 - auc: 0.96 - ETA: 24:30 - loss: 0.0246 - acc: 0.9925 - auc: 0.96 - ETA: 24:21 - loss: 0.0244 - acc: 0.9926 - auc: 0.96 - ETA: 24:14 - loss: 0.0241 - acc: 0.9927 - auc: 0.96 - ETA: 24:06 - loss: 0.0243 - acc: 0.9927 - auc: 0.96 - ETA: 23:58 - loss: 0.0242 - acc: 0.9927 - auc: 0.96 - ETA: 23:51 - loss: 0.0252 - acc: 0.9924 - auc: 0.96 - ETA: 23:43 - loss: 0.0252 - acc: 0.9925 - auc: 0.96 - ETA: 23:36 - loss: 0.0251 - acc: 0.9925 - auc: 0.96 - ETA: 23:28 - loss: 0.0254 - acc: 0.9925 - auc: 0.96 - ETA: 23:20 - loss: 0.0256 - acc: 0.9924 - auc: 0.96 - ETA: 23:13 - loss: 0.0260 - acc: 0.9924 - auc: 0.96 - ETA: 23:06 - loss: 0.0257 - acc: 0.9925 - auc: 0.96 - ETA: 22:58 - loss: 0.0254 - acc: 0.9926 - auc: 0.96 - ETA: 22:50 - loss: 0.0255 - acc: 0.9925 - auc: 0.96 - ETA: 22:43 - loss: 0.0254 - acc: 0.9926 - auc: 0.96 - ETA: 22:35 - loss: 0.0254 - acc: 0.9925 - auc: 0.96 - ETA: 22:27 - loss: 0.0255 - acc: 0.9925 - auc: 0.96 - ETA: 22:20 - loss: 0.0256 - acc: 0.9925 - auc: 0.96 - ETA: 22:12 - loss: 0.0255 - acc: 0.9925 - auc: 0.96 - ETA: 22:05 - loss: 0.0261 - acc: 0.9924 - auc: 0.96 - ETA: 21:58 - loss: 0.0259 - acc: 0.9924 - auc: 0.96 - ETA: 21:50 - loss: 0.0257 - acc: 0.9925 - auc: 0.96 - ETA: 21:43 - loss: 0.0255 - acc: 0.9926 - auc: 0.96 - ETA: 21:35 - loss: 0.0256 - acc: 0.9925 - auc: 0.96 - ETA: 21:28 - loss: 0.0256 - acc: 0.9925 - auc: 0.96 - ETA: 21:20 - loss: 0.0254 - acc: 0.9926 - auc: 0.96 - ETA: 21:13 - loss: 0.0252 - acc: 0.9927 - auc: 0.96 - ETA: 21:05 - loss: 0.0251 - acc: 0.9926 - auc: 0.96 - ETA: 20:58 - loss: 0.0251 - acc: 0.9926 - auc: 0.96 - ETA: 20:50 - loss: 0.0257 - acc: 0.9925 - auc: 0.96 - ETA: 20:42 - loss: 0.0255 - acc: 0.9926 - auc: 0.96 - ETA: 20:34 - loss: 0.0256 - acc: 0.9926 - auc: 0.96 - ETA: 20:27 - loss: 0.0255 - acc: 0.9926 - auc: 0.96 - ETA: 20:19 - loss: 0.0257 - acc: 0.9926 - auc: 0.96 - ETA: 20:11 - loss: 0.0255 - acc: 0.9927 - auc: 0.96 - ETA: 20:04 - loss: 0.0255 - acc: 0.9927 - auc: 0.96 - ETA: 19:56 - loss: 0.0255 - acc: 0.9926 - auc: 0.96 - ETA: 19:48 - loss: 0.0253 - acc: 0.9927 - auc: 0.96 - ETA: 19:40 - loss: 0.0254 - acc: 0.9926 - auc: 0.96 - ETA: 19:33 - loss: 0.0257 - acc: 0.9926 - auc: 0.96 - ETA: 19:27 - loss: 0.0259 - acc: 0.9925 - auc: 0.96 - ETA: 19:19 - loss: 0.0262 - acc: 0.9924 - auc: 0.96 - ETA: 19:11 - loss: 0.0260 - acc: 0.9924 - auc: 0.96 - ETA: 19:04 - loss: 0.0261 - acc: 0.9924 - auc: 0.96 - ETA: 18:56 - loss: 0.0259 - acc: 0.9925 - auc: 0.96 - ETA: 18:48 - loss: 0.0257 - acc: 0.9925 - auc: 0.96 - ETA: 18:41 - loss: 0.0258 - acc: 0.9926 - auc: 0.96 - ETA: 18:33 - loss: 0.0257 - acc: 0.9926 - auc: 0.96 - ETA: 18:25 - loss: 0.0261 - acc: 0.9925 - auc: 0.96 - ETA: 18:18 - loss: 0.0260 - acc: 0.9925 - auc: 0.96 - ETA: 18:10 - loss: 0.0260 - acc: 0.9925 - auc: 0.96 - ETA: 18:04 - loss: 0.0261 - acc: 0.9925 - auc: 0.96 - ETA: 17:56 - loss: 0.0261 - acc: 0.9925 - auc: 0.96 - ETA: 17:49 - loss: 0.0259 - acc: 0.9925 - auc: 0.96 - ETA: 17:41 - loss: 0.0260 - acc: 0.9925 - auc: 0.96 - ETA: 17:33 - loss: 0.0261 - acc: 0.9925 - auc: 0.96 - ETA: 17:26 - loss: 0.0260 - acc: 0.9926 - auc: 0.96 - ETA: 17:18 - loss: 0.0261 - acc: 0.9925 - auc: 0.96 - ETA: 17:10 - loss: 0.0262 - acc: 0.9925 - auc: 0.96 - ETA: 17:03 - loss: 0.0262 - acc: 0.9925 - auc: 0.96 - ETA: 16:55 - loss: 0.0261 - acc: 0.9925 - auc: 0.96 - ETA: 16:47 - loss: 0.0259 - acc: 0.9926 - auc: 0.96 - ETA: 16:39 - loss: 0.0258 - acc: 0.9926 - auc: 0.96 - ETA: 16:32 - loss: 0.0258 - acc: 0.9926 - auc: 0.96 - ETA: 16:24 - loss: 0.0261 - acc: 0.9926 - auc: 0.96 - ETA: 16:16 - loss: 0.0261 - acc: 0.9926 - auc: 0.96 - ETA: 16:08 - loss: 0.0263 - acc: 0.9926 - auc: 0.96 - ETA: 16:01 - loss: 0.0263 - acc: 0.9925 - auc: 0.96 - ETA: 15:53 - loss: 0.0263 - acc: 0.9925 - auc: 0.96 - ETA: 15:45 - loss: 0.0264 - acc: 0.9924 - auc: 0.96 - ETA: 15:38 - loss: 0.0263 - acc: 0.9924 - auc: 0.96 - ETA: 15:30 - loss: 0.0262 - acc: 0.9924 - auc: 0.96 - ETA: 15:22 - loss: 0.0265 - acc: 0.9923 - auc: 0.96 - ETA: 15:15 - loss: 0.0266 - acc: 0.9922 - auc: 0.96 - ETA: 15:07 - loss: 0.0267 - acc: 0.9922 - auc: 0.96 - ETA: 14:59 - loss: 0.0271 - acc: 0.9922 - auc: 0.96 - ETA: 14:51 - loss: 0.0271 - acc: 0.9922 - auc: 0.96 - ETA: 14:44 - loss: 0.0270 - acc: 0.9922 - auc: 0.96 - ETA: 14:36 - loss: 0.0271 - acc: 0.9921 - auc: 0.96 - ETA: 14:29 - loss: 0.0270 - acc: 0.9921 - auc: 0.96 - ETA: 14:21 - loss: 0.0269 - acc: 0.9922 - auc: 0.96 - ETA: 14:13 - loss: 0.0269 - acc: 0.9921 - auc: 0.96 - ETA: 14:05 - loss: 0.0269 - acc: 0.9921 - auc: 0.96 - ETA: 13:58 - loss: 0.0268 - acc: 0.9922 - auc: 0.96 - ETA: 13:50 - loss: 0.0267 - acc: 0.9922 - auc: 0.96 - ETA: 13:42 - loss: 0.0269 - acc: 0.9922 - auc: 0.96 - ETA: 13:35 - loss: 0.0268 - acc: 0.9922 - auc: 0.96 - ETA: 13:27 - loss: 0.0267 - acc: 0.9923 - auc: 0.96 - ETA: 13:20 - loss: 0.0268 - acc: 0.9922 - auc: 0.96 - ETA: 13:12 - loss: 0.0269 - acc: 0.9922 - auc: 0.96 - ETA: 13:04 - loss: 0.0270 - acc: 0.9922 - auc: 0.96 - ETA: 12:57 - loss: 0.0270 - acc: 0.9922 - auc: 0.96 - ETA: 12:49 - loss: 0.0269 - acc: 0.9922 - auc: 0.96 - ETA: 12:41 - loss: 0.0268 - acc: 0.9923 - auc: 0.96 - ETA: 12:34 - loss: 0.0267 - acc: 0.9923 - auc: 0.96 - ETA: 12:26 - loss: 0.0267 - acc: 0.9923 - auc: 0.96 - ETA: 12:19 - loss: 0.0265 - acc: 0.9924 - auc: 0.9632"
     ]
    },
    {
     "name": "stdout",
     "output_type": "stream",
     "text": [
      "74288/74288 [==============================] - ETA: 12:11 - loss: 0.0266 - acc: 0.9923 - auc: 0.96 - ETA: 12:03 - loss: 0.0266 - acc: 0.9923 - auc: 0.96 - ETA: 11:56 - loss: 0.0267 - acc: 0.9923 - auc: 0.96 - ETA: 11:48 - loss: 0.0267 - acc: 0.9923 - auc: 0.96 - ETA: 11:40 - loss: 0.0267 - acc: 0.9923 - auc: 0.96 - ETA: 11:33 - loss: 0.0267 - acc: 0.9923 - auc: 0.96 - ETA: 11:25 - loss: 0.0267 - acc: 0.9922 - auc: 0.96 - ETA: 11:17 - loss: 0.0266 - acc: 0.9922 - auc: 0.96 - ETA: 11:10 - loss: 0.0269 - acc: 0.9922 - auc: 0.96 - ETA: 11:02 - loss: 0.0271 - acc: 0.9922 - auc: 0.96 - ETA: 10:54 - loss: 0.0270 - acc: 0.9921 - auc: 0.96 - ETA: 10:47 - loss: 0.0270 - acc: 0.9921 - auc: 0.96 - ETA: 10:39 - loss: 0.0269 - acc: 0.9922 - auc: 0.96 - ETA: 10:32 - loss: 0.0270 - acc: 0.9921 - auc: 0.96 - ETA: 10:24 - loss: 0.0270 - acc: 0.9921 - auc: 0.96 - ETA: 10:16 - loss: 0.0269 - acc: 0.9922 - auc: 0.96 - ETA: 10:09 - loss: 0.0269 - acc: 0.9921 - auc: 0.96 - ETA: 10:01 - loss: 0.0268 - acc: 0.9922 - auc: 0.96 - ETA: 9:53 - loss: 0.0270 - acc: 0.9921 - auc: 0.9633 - ETA: 9:46 - loss: 0.0270 - acc: 0.9921 - auc: 0.963 - ETA: 9:38 - loss: 0.0269 - acc: 0.9921 - auc: 0.963 - ETA: 9:30 - loss: 0.0268 - acc: 0.9922 - auc: 0.963 - ETA: 9:23 - loss: 0.0268 - acc: 0.9922 - auc: 0.963 - ETA: 9:15 - loss: 0.0268 - acc: 0.9921 - auc: 0.963 - ETA: 9:07 - loss: 0.0268 - acc: 0.9922 - auc: 0.963 - ETA: 9:00 - loss: 0.0270 - acc: 0.9921 - auc: 0.963 - ETA: 8:52 - loss: 0.0270 - acc: 0.9921 - auc: 0.963 - ETA: 8:44 - loss: 0.0270 - acc: 0.9921 - auc: 0.963 - ETA: 8:37 - loss: 0.0270 - acc: 0.9921 - auc: 0.963 - ETA: 8:29 - loss: 0.0270 - acc: 0.9921 - auc: 0.963 - ETA: 8:21 - loss: 0.0271 - acc: 0.9920 - auc: 0.963 - ETA: 8:14 - loss: 0.0270 - acc: 0.9921 - auc: 0.963 - ETA: 8:06 - loss: 0.0269 - acc: 0.9921 - auc: 0.963 - ETA: 7:59 - loss: 0.0269 - acc: 0.9921 - auc: 0.963 - ETA: 7:51 - loss: 0.0269 - acc: 0.9921 - auc: 0.963 - ETA: 7:43 - loss: 0.0269 - acc: 0.9922 - auc: 0.963 - ETA: 7:36 - loss: 0.0269 - acc: 0.9922 - auc: 0.963 - ETA: 7:28 - loss: 0.0269 - acc: 0.9922 - auc: 0.963 - ETA: 7:20 - loss: 0.0268 - acc: 0.9922 - auc: 0.963 - ETA: 7:13 - loss: 0.0268 - acc: 0.9922 - auc: 0.963 - ETA: 7:05 - loss: 0.0267 - acc: 0.9923 - auc: 0.963 - ETA: 6:57 - loss: 0.0266 - acc: 0.9923 - auc: 0.963 - ETA: 6:50 - loss: 0.0267 - acc: 0.9923 - auc: 0.963 - ETA: 6:42 - loss: 0.0266 - acc: 0.9923 - auc: 0.963 - ETA: 6:35 - loss: 0.0267 - acc: 0.9923 - auc: 0.963 - ETA: 6:27 - loss: 0.0270 - acc: 0.9921 - auc: 0.963 - ETA: 6:19 - loss: 0.0270 - acc: 0.9921 - auc: 0.963 - ETA: 6:12 - loss: 0.0270 - acc: 0.9922 - auc: 0.963 - ETA: 6:04 - loss: 0.0271 - acc: 0.9921 - auc: 0.963 - ETA: 5:56 - loss: 0.0270 - acc: 0.9921 - auc: 0.963 - ETA: 5:49 - loss: 0.0270 - acc: 0.9921 - auc: 0.963 - ETA: 5:41 - loss: 0.0270 - acc: 0.9921 - auc: 0.963 - ETA: 5:33 - loss: 0.0269 - acc: 0.9921 - auc: 0.963 - ETA: 5:26 - loss: 0.0269 - acc: 0.9922 - auc: 0.963 - ETA: 5:18 - loss: 0.0267 - acc: 0.9922 - auc: 0.963 - ETA: 5:10 - loss: 0.0270 - acc: 0.9922 - auc: 0.963 - ETA: 5:03 - loss: 0.0270 - acc: 0.9922 - auc: 0.963 - ETA: 4:55 - loss: 0.0269 - acc: 0.9922 - auc: 0.963 - ETA: 4:47 - loss: 0.0271 - acc: 0.9922 - auc: 0.963 - ETA: 4:40 - loss: 0.0271 - acc: 0.9922 - auc: 0.963 - ETA: 4:32 - loss: 0.0272 - acc: 0.9922 - auc: 0.963 - ETA: 4:24 - loss: 0.0275 - acc: 0.9921 - auc: 0.963 - ETA: 4:17 - loss: 0.0275 - acc: 0.9921 - auc: 0.963 - ETA: 4:09 - loss: 0.0276 - acc: 0.9921 - auc: 0.963 - ETA: 4:01 - loss: 0.0277 - acc: 0.9921 - auc: 0.963 - ETA: 3:54 - loss: 0.0277 - acc: 0.9921 - auc: 0.963 - ETA: 3:46 - loss: 0.0278 - acc: 0.9921 - auc: 0.963 - ETA: 3:38 - loss: 0.0277 - acc: 0.9921 - auc: 0.963 - ETA: 3:31 - loss: 0.0278 - acc: 0.9921 - auc: 0.963 - ETA: 3:23 - loss: 0.0277 - acc: 0.9921 - auc: 0.963 - ETA: 3:15 - loss: 0.0277 - acc: 0.9921 - auc: 0.963 - ETA: 3:08 - loss: 0.0278 - acc: 0.9921 - auc: 0.963 - ETA: 3:00 - loss: 0.0278 - acc: 0.9920 - auc: 0.963 - ETA: 2:53 - loss: 0.0277 - acc: 0.9921 - auc: 0.963 - ETA: 2:45 - loss: 0.0277 - acc: 0.9921 - auc: 0.963 - ETA: 2:37 - loss: 0.0277 - acc: 0.9920 - auc: 0.963 - ETA: 2:30 - loss: 0.0277 - acc: 0.9921 - auc: 0.963 - ETA: 2:22 - loss: 0.0276 - acc: 0.9920 - auc: 0.963 - ETA: 2:14 - loss: 0.0277 - acc: 0.9920 - auc: 0.963 - ETA: 2:07 - loss: 0.0277 - acc: 0.9920 - auc: 0.963 - ETA: 1:59 - loss: 0.0278 - acc: 0.9920 - auc: 0.963 - ETA: 1:51 - loss: 0.0278 - acc: 0.9920 - auc: 0.963 - ETA: 1:44 - loss: 0.0278 - acc: 0.9920 - auc: 0.963 - ETA: 1:36 - loss: 0.0278 - acc: 0.9920 - auc: 0.963 - ETA: 1:28 - loss: 0.0279 - acc: 0.9920 - auc: 0.963 - ETA: 1:21 - loss: 0.0279 - acc: 0.9920 - auc: 0.963 - ETA: 1:13 - loss: 0.0279 - acc: 0.9920 - auc: 0.963 - ETA: 1:05 - loss: 0.0283 - acc: 0.9919 - auc: 0.963 - ETA: 58s - loss: 0.0284 - acc: 0.9918 - auc: 0.963 - ETA: 50s - loss: 0.0283 - acc: 0.9919 - auc: 0.96 - ETA: 43s - loss: 0.0283 - acc: 0.9919 - auc: 0.96 - ETA: 35s - loss: 0.0283 - acc: 0.9919 - auc: 0.96 - ETA: 27s - loss: 0.0284 - acc: 0.9919 - auc: 0.96 - ETA: 20s - loss: 0.0284 - acc: 0.9918 - auc: 0.96 - ETA: 12s - loss: 0.0283 - acc: 0.9919 - auc: 0.96 - ETA: 4s - loss: 0.0283 - acc: 0.9919 - auc: 0.9639 - 2014s 27ms/step - loss: 0.0283 - acc: 0.9919 - auc: 0.9639 - val_loss: 0.9946 - val_acc: 0.8349 - val_auc: 0.9648\n"
     ]
    }
   ],
   "source": [
    "\n",
    "history = model.fit(\n",
    "    {\n",
    "        'input_text_data': padded_docs_train, \n",
    "        'input_school_state':train_school_state, \n",
    "        'input_pgc':train_project_grade_category, \n",
    "        'input_categories':train_categories,\n",
    "        'input_subcategories': train_subcategories,\n",
    "        'input_teacher_prefix': train_teacher_prefix,\n",
    "        'input_for_rem':train_price_teacher\n",
    "    },\n",
    "    y_train,\n",
    "    nb_epoch=epochs, \n",
    "    batch_size=300,\n",
    "    callbacks=[tensorboard],\n",
    "    validation_data = (\n",
    "        {\n",
    "            'input_text_data':padded_docs_cv, \n",
    "            'input_school_state':cv_school_state, \n",
    "            'input_pgc':cv_project_grade_category, \n",
    "            'input_categories':cv_categories,\n",
    "            'input_subcategories':cv_subcategories,\n",
    "            'input_teacher_prefix':cv_teacher_prefix,\n",
    "            'input_for_rem':cv_price_teacher\n",
    "            },\n",
    "        y_cv \n",
    "    ) \n",
    ")"
   ]
  },
  {
   "cell_type": "code",
   "execution_count": 36,
   "metadata": {},
   "outputs": [
    {
     "data": {
      "text/plain": [
       "['loss', 'acc', 'auc']"
      ]
     },
     "execution_count": 36,
     "metadata": {},
     "output_type": "execute_result"
    }
   ],
   "source": [
    "model.metrics_names"
   ]
  },
  {
   "cell_type": "code",
   "execution_count": 37,
   "metadata": {},
   "outputs": [
    {
     "name": "stdout",
     "output_type": "stream",
     "text": [
      "Test auc: 0.9629662860478603\n",
      "Test accuracy: 0.8337808152306566\n"
     ]
    }
   ],
   "source": [
    "model1_score = model.evaluate({\n",
    "        'input_text_data': padded_docs_test, \n",
    "        'input_school_state':test_school_state, \n",
    "        'input_pgc':test_project_grade_category, \n",
    "        'input_categories':test_categories,\n",
    "        'input_subcategories': test_subcategories,\n",
    "        'input_teacher_prefix': test_teacher_prefix,\n",
    "        'input_for_rem':test_price_teacher\n",
    "    },\n",
    "    y_test, verbose=0)\n",
    "model1_auc = model1_score[2]\n",
    "model1_acc = model1_score[1]\n",
    "print('Test auc:', model1_auc) \n",
    "print('Test accuracy:', model1_acc)"
   ]
  },
  {
   "cell_type": "markdown",
   "metadata": {},
   "source": [
    "## Tensorboard Plots"
   ]
  },
  {
   "cell_type": "markdown",
   "metadata": {},
   "source": [
    "<h2>AUC</h2>\n",
    "<img src = \"plots/model1_Auc.png\">\n",
    "\n",
    "<br/>\n",
    "<h2>Accuracy</h2>\n",
    "<img src=\"plots/model1_Acc.png\">\n",
    "\n",
    "<br/>\n",
    "<h2>Loss</h2>\n",
    "<img src=\"plots/model1_Loss.png\">\n",
    "\n"
   ]
  },
  {
   "cell_type": "markdown",
   "metadata": {},
   "source": [
    "## Model-2"
   ]
  },
  {
   "cell_type": "markdown",
   "metadata": {},
   "source": [
    "- This model is similar to first model except that in essay we are selecting only few words based on idf value.\n",
    "- we select words having idf score not very high and not very low."
   ]
  },
  {
   "cell_type": "code",
   "execution_count": 31,
   "metadata": {},
   "outputs": [],
   "source": [
    "#vectorizing using TfidfVectorizer, to obtain idf score and removing words having low and high idf, because very rare\n",
    "#and very frequent word don't give much information\n",
    "vectorizer = TfidfVectorizer()\n",
    "vectorizer.fit(X_train['essay'])\n",
    "feature_names = vectorizer.get_feature_names()\n",
    "idf_score = list(vectorizer.idf_)"
   ]
  },
  {
   "cell_type": "code",
   "execution_count": 32,
   "metadata": {},
   "outputs": [],
   "source": [
    "sorted_idf_score_index = np.argsort(idf_score) \n",
    "sorted_idf_score = sorted(idf_score)"
   ]
  },
  {
   "cell_type": "code",
   "execution_count": 33,
   "metadata": {},
   "outputs": [
    {
     "data": {
      "image/png": "[encoded data removed]",
      "text/plain": [
       "<Figure size 1440x576 with 1 Axes>"
      ]
     },
     "metadata": {
      "needs_background": "light"
     },
     "output_type": "display_data"
    }
   ],
   "source": [
    "plt.figure(figsize=(20,8))\n",
    "plt.plot(sorted_idf_score)\n",
    "plt.yticks(np.arange(0, 12, 0.5))\n",
    "plt.title('idf score plot')\n",
    "plt.grid()"
   ]
  },
  {
   "cell_type": "code",
   "execution_count": 34,
   "metadata": {},
   "outputs": [
    {
     "data": {
      "image/png": "[encoded data removed]",
      "text/plain": [
       "<Figure size 360x720 with 1 Axes>"
      ]
     },
     "metadata": {
      "needs_background": "light"
     },
     "output_type": "display_data"
    }
   ],
   "source": [
    "plt.figure(figsize=(5, 10))\n",
    "plt.boxplot(idf_score)\n",
    "plt.grid()\n",
    "plt.yticks(np.arange(0,12,0.5))\n",
    "plt.ylabel('idf score')\n",
    "plt.title('idf score box plot')\n",
    "plt.show()"
   ]
  },
  {
   "cell_type": "code",
   "execution_count": 35,
   "metadata": {},
   "outputs": [],
   "source": [
    "#getting index of selected feature according to range of idf score\n",
    "selected_features = []\n",
    "for index, idf in enumerate(idf_score):\n",
    "    if idf >= 9.5:\n",
    "        selected_features.append(feature_names[index])"
   ]
  },
  {
   "cell_type": "code",
   "execution_count": 36,
   "metadata": {},
   "outputs": [
    {
     "name": "stdout",
     "output_type": "stream",
     "text": [
      "percentage of features retained: 75.05741181338574\n"
     ]
    }
   ],
   "source": [
    "features_retain = len(selected_features)/len(feature_names) * 100.0\n",
    "print(f'percentage of features retained: {features_retain}')"
   ]
  },
  {
   "cell_type": "markdown",
   "metadata": {},
   "source": [
    "## transforming essay, which contains only useful words"
   ]
  },
  {
   "cell_type": "code",
   "execution_count": 37,
   "metadata": {},
   "outputs": [
    {
     "name": "stderr",
     "output_type": "stream",
     "text": [
      "100%|███████████████████████████████████████████████████████████████████████████████████████████████████████| 74288/74288 [2:37:04<00:00,  7.96it/s]\n"
     ]
    }
   ],
   "source": [
    "train_updated_essay = []\n",
    "for sentence in tqdm(X_train['essay']):\n",
    "    text = ' '.join([word for word in sentence.split() if word in selected_features])\n",
    "    train_updated_essay.append(text)"
   ]
  },
  {
   "cell_type": "code",
   "execution_count": 38,
   "metadata": {},
   "outputs": [
    {
     "name": "stderr",
     "output_type": "stream",
     "text": [
      "100%|█████████████████████████████████████████████████████████████████████████████████████████████████████████| 16388/16388 [37:08<00:00,  5.99it/s]\n"
     ]
    }
   ],
   "source": [
    "test_updated_essay = []\n",
    "for sentence in tqdm(X_test['essay']):\n",
    "    text = ' '.join([word for word in sentence.split() if word in selected_features])\n",
    "    test_updated_essay.append(text)"
   ]
  },
  {
   "cell_type": "code",
   "execution_count": 39,
   "metadata": {},
   "outputs": [
    {
     "name": "stderr",
     "output_type": "stream",
     "text": [
      "100%|█████████████████████████████████████████████████████████████████████████████████████████████████████████| 18572/18572 [38:51<00:00,  7.97it/s]\n"
     ]
    }
   ],
   "source": [
    "cv_updated_essay = []\n",
    "for sentence in tqdm(X_cv['essay']):\n",
    "    text = ' '.join([word for word in sentence.split() if word in selected_features])\n",
    "    cv_updated_essay.append(text)"
   ]
  },
  {
   "cell_type": "markdown",
   "metadata": {},
   "source": [
    "## Tokeninzing essay"
   ]
  },
  {
   "cell_type": "code",
   "execution_count": 40,
   "metadata": {},
   "outputs": [],
   "source": [
    "tokenizer = Tokenizer()\n",
    "tokenizer.fit_on_texts(train_updated_essay)\n",
    "\n",
    "vocab_size2 = len(tokenizer.word_index) + 1\n",
    "\n",
    "train_essay_sequence = tokenizer.texts_to_sequences(train_updated_essay)\n",
    "\n",
    "#padding essay to max length of 500 words\n",
    "max_length = 500\n",
    "padded_updated_essay_train = pad_sequences(train_essay_sequence, maxlen=max_length, padding='post')"
   ]
  },
  {
   "cell_type": "code",
   "execution_count": 41,
   "metadata": {},
   "outputs": [],
   "source": [
    "test_essay_sequence = tokenizer.texts_to_sequences(test_updated_essay)\n",
    "\n",
    "#padding\n",
    "padded_updated_essay_test = pad_sequences(test_essay_sequence, maxlen=max_length, padding='post')"
   ]
  },
  {
   "cell_type": "code",
   "execution_count": 42,
   "metadata": {},
   "outputs": [],
   "source": [
    "cv_essay_sequence = tokenizer.texts_to_sequences(cv_updated_essay)\n",
    "\n",
    "#padding\n",
    "padded_updated_essay_cv = pad_sequences(cv_essay_sequence, maxlen=max_length, padding='post')"
   ]
  },
  {
   "cell_type": "code",
   "execution_count": 43,
   "metadata": {},
   "outputs": [
    {
     "data": {
      "text/plain": [
       "36280"
      ]
     },
     "execution_count": 43,
     "metadata": {},
     "output_type": "execute_result"
    }
   ],
   "source": [
    "vocab_size2"
   ]
  },
  {
   "cell_type": "code",
   "execution_count": 44,
   "metadata": {},
   "outputs": [
    {
     "data": {
      "text/plain": [
       "36279"
      ]
     },
     "execution_count": 44,
     "metadata": {},
     "output_type": "execute_result"
    }
   ],
   "source": [
    "len(tokenizer.word_index)"
   ]
  },
  {
   "cell_type": "code",
   "execution_count": 45,
   "metadata": {},
   "outputs": [],
   "source": [
    "# create a weight matrix for words in training docs\n",
    "embedding_matrix2 = np.zeros((vocab_size2, 300))\n",
    "for word, i in tokenizer.word_index.items():\n",
    "    embedding_vector = embeddings_index.get(word)\n",
    "    if embedding_vector is not None:\n",
    "        embedding_matrix2[i] = embedding_vector"
   ]
  },
  {
   "cell_type": "code",
   "execution_count": 46,
   "metadata": {},
   "outputs": [
    {
     "name": "stdout",
     "output_type": "stream",
     "text": [
      "WARNING:tensorflow:From C:\\Users\\mishra_s\\AppData\\Local\\Continuum\\anaconda3\\lib\\site-packages\\tensorflow\\python\\framework\\op_def_library.py:263: colocate_with (from tensorflow.python.framework.ops) is deprecated and will be removed in a future version.\n",
      "Instructions for updating:\n",
      "Colocations handled automatically by placer.\n",
      "WARNING:tensorflow:From C:\\Users\\mishra_s\\AppData\\Local\\Continuum\\anaconda3\\lib\\site-packages\\keras\\backend\\tensorflow_backend.py:3733: calling dropout (from tensorflow.python.ops.nn_ops) with keep_prob is deprecated and will be removed in a future version.\n",
      "Instructions for updating:\n",
      "Please use `rate` instead of `keep_prob`. Rate should be set to `rate = 1 - keep_prob`.\n"
     ]
    }
   ],
   "source": [
    "#clearing the graph of tensorflow\n",
    "keras.backend.clear_session()\n",
    "\n",
    "\n",
    "#input_text branch\n",
    "input_text_data = Input(shape=(500,), name='input_text_data')\n",
    "embedding_essay = Embedding(input_dim=vocab_size2, output_dim=300, weights=[embedding_matrix2], input_length=500, trainable=False)(input_text_data)\n",
    "lstm_out = LSTM(100, return_sequences=True)(embedding_essay)\n",
    "flatten = Flatten()(lstm_out)\n",
    "\n",
    "#school_state_branch\n",
    "school_state_features_size = 1\n",
    "vocab_size = input_dim=len(unique_states)+1\n",
    "\n",
    "input_school_state = Input(shape=(school_state_features_size,), name='input_school_state')\n",
    "emb_state_data = Embedding(input_dim=vocab_size, output_dim=5, input_length=school_state_features_size)(input_school_state)\n",
    "flatten_1 = Flatten()(emb_state_data)\n",
    "\n",
    "#project_grade_category branch\n",
    "pgc_features_size = 1\n",
    "voacb_size = len(unique_project_grade_category)+1\n",
    "\n",
    "input_pgc = Input(shape=(pgc_features_size, ), name='input_pgc')\n",
    "emb_pgc_data = Embedding(input_dim=voacb_size, output_dim=5, input_length=pgc_features_size)(input_pgc)\n",
    "flatten_2 = Flatten()(emb_pgc_data)\n",
    "\n",
    "#clean_categories branch\n",
    "categories_features_size = len(train_categories[0])\n",
    "vocab_size = len(vocab_list_categories)+1\n",
    "\n",
    "input_categories = Input(shape=(categories_features_size, ), name='input_categories')\n",
    "emb_categories = Embedding(input_dim=vocab_size, output_dim=5, input_length=categories_features_size)(input_categories)\n",
    "flatten_3 = Flatten()(emb_categories)\n",
    "\n",
    "#clean_sub_categories branch\n",
    "sub_categories_features_size = len(train_subcategories[0])\n",
    "vocab_size = len(vocab_list_subcategories)+1\n",
    "\n",
    "input_subcategories = Input(shape=(sub_categories_features_size, ), name='input_subcategories')\n",
    "emb_subcategories = Embedding(input_dim=vocab_size, output_dim=5, input_length=sub_categories_features_size)(input_subcategories)\n",
    "flatten_4 = Flatten()(emb_subcategories)\n",
    "\n",
    "#teacher_prefix branch\n",
    "teacher_prefix_feature_size = 1\n",
    "vocab_size  = len(unique_teacher_prefix)+1\n",
    "\n",
    "input_teacher_prefix = Input(shape=(teacher_prefix_feature_size, ), name='input_teacher_prefix')\n",
    "emb_teacher_prefix = Embedding(input_dim=vocab_size, output_dim=5, input_length=teacher_prefix_feature_size)(input_teacher_prefix)\n",
    "flatten_5 = Flatten()(emb_teacher_prefix)\n",
    "\n",
    "#numeric data branch\n",
    "no_of_features = 2\n",
    "input_for_rem = Input(shape=(no_of_features,), name='input_for_rem')\n",
    "dense_for_rem_input = Dense(10, activation=\"relu\", input_shape=(no_of_features,), kernel_initializer=\"he_normal\")(input_for_rem)\n",
    "\n",
    "#concatenating\n",
    "concated_data = concatenate([flatten, flatten_1, flatten_2, flatten_3, flatten_4, flatten_5, dense_for_rem_input])\n",
    "\n",
    "#first dense layer\n",
    "dense_1 = Dense(256, activation='relu', kernel_initializer='he_normal')(concated_data)\n",
    "dropout = Dropout(0.3)(dense_1)\n",
    "\n",
    "#second dense layer\n",
    "dense_2 = Dense(128, activation='relu', kernel_initializer='he_normal')(dropout)\n",
    "dropout_1 = Dropout(0.3)(dense_2)\n",
    "\n",
    "#thrid dense layer\n",
    "dense_3 =  Dense(64, activation='relu', kernel_initializer='he_normal')(dropout_1)\n",
    "\n",
    "#softmax layer\n",
    "output = Dense(2, activation='softmax')(dense_3)\n",
    "\n",
    "\n",
    "model2 = Model(\n",
    "    inputs=[input_text_data, input_school_state, \n",
    "            input_pgc, input_categories, \n",
    "            input_subcategories, input_teacher_prefix, \n",
    "            input_for_rem], \n",
    "    outputs=output)"
   ]
  },
  {
   "cell_type": "code",
   "execution_count": 47,
   "metadata": {},
   "outputs": [
    {
     "name": "stdout",
     "output_type": "stream",
     "text": [
      "Model: \"model_1\"\n",
      "__________________________________________________________________________________________________\n",
      "Layer (type)                    Output Shape         Param #     Connected to                     \n",
      "==================================================================================================\n",
      "input_text_data (InputLayer)    (None, 500)          0                                            \n",
      "__________________________________________________________________________________________________\n",
      "embedding_1 (Embedding)         (None, 500, 300)     10884000    input_text_data[0][0]            \n",
      "__________________________________________________________________________________________________\n",
      "input_school_state (InputLayer) (None, 1)            0                                            \n",
      "__________________________________________________________________________________________________\n",
      "input_pgc (InputLayer)          (None, 1)            0                                            \n",
      "__________________________________________________________________________________________________\n",
      "input_categories (InputLayer)   (None, 3)            0                                            \n",
      "__________________________________________________________________________________________________\n",
      "input_subcategories (InputLayer (None, 3)            0                                            \n",
      "__________________________________________________________________________________________________\n",
      "input_teacher_prefix (InputLaye (None, 1)            0                                            \n",
      "__________________________________________________________________________________________________\n",
      "lstm_1 (LSTM)                   (None, 500, 100)     160400      embedding_1[0][0]                \n",
      "__________________________________________________________________________________________________\n",
      "embedding_2 (Embedding)         (None, 1, 5)         260         input_school_state[0][0]         \n",
      "__________________________________________________________________________________________________\n",
      "embedding_3 (Embedding)         (None, 1, 5)         25          input_pgc[0][0]                  \n",
      "__________________________________________________________________________________________________\n",
      "embedding_4 (Embedding)         (None, 3, 5)         50          input_categories[0][0]           \n",
      "__________________________________________________________________________________________________\n",
      "embedding_5 (Embedding)         (None, 3, 5)         155         input_subcategories[0][0]        \n",
      "__________________________________________________________________________________________________\n",
      "embedding_6 (Embedding)         (None, 1, 5)         30          input_teacher_prefix[0][0]       \n",
      "__________________________________________________________________________________________________\n",
      "input_for_rem (InputLayer)      (None, 2)            0                                            \n",
      "__________________________________________________________________________________________________\n",
      "flatten_1 (Flatten)             (None, 50000)        0           lstm_1[0][0]                     \n",
      "__________________________________________________________________________________________________\n",
      "flatten_2 (Flatten)             (None, 5)            0           embedding_2[0][0]                \n",
      "__________________________________________________________________________________________________\n",
      "flatten_3 (Flatten)             (None, 5)            0           embedding_3[0][0]                \n",
      "__________________________________________________________________________________________________\n",
      "flatten_4 (Flatten)             (None, 15)           0           embedding_4[0][0]                \n",
      "__________________________________________________________________________________________________\n",
      "flatten_5 (Flatten)             (None, 15)           0           embedding_5[0][0]                \n",
      "__________________________________________________________________________________________________\n",
      "flatten_6 (Flatten)             (None, 5)            0           embedding_6[0][0]                \n",
      "__________________________________________________________________________________________________\n",
      "dense_1 (Dense)                 (None, 10)           30          input_for_rem[0][0]              \n",
      "__________________________________________________________________________________________________\n",
      "concatenate_1 (Concatenate)     (None, 50055)        0           flatten_1[0][0]                  \n",
      "                                                                 flatten_2[0][0]                  \n",
      "                                                                 flatten_3[0][0]                  \n",
      "                                                                 flatten_4[0][0]                  \n",
      "                                                                 flatten_5[0][0]                  \n",
      "                                                                 flatten_6[0][0]                  \n",
      "                                                                 dense_1[0][0]                    \n",
      "__________________________________________________________________________________________________\n",
      "dense_2 (Dense)                 (None, 256)          12814336    concatenate_1[0][0]              \n",
      "__________________________________________________________________________________________________\n",
      "dropout_1 (Dropout)             (None, 256)          0           dense_2[0][0]                    \n",
      "__________________________________________________________________________________________________\n",
      "dense_3 (Dense)                 (None, 128)          32896       dropout_1[0][0]                  \n",
      "__________________________________________________________________________________________________\n",
      "dropout_2 (Dropout)             (None, 128)          0           dense_3[0][0]                    \n",
      "__________________________________________________________________________________________________\n",
      "dense_4 (Dense)                 (None, 64)           8256        dropout_2[0][0]                  \n",
      "__________________________________________________________________________________________________\n",
      "dense_5 (Dense)                 (None, 2)            130         dense_4[0][0]                    \n",
      "==================================================================================================\n",
      "Total params: 23,900,568\n",
      "Trainable params: 13,016,568\n",
      "Non-trainable params: 10,884,000\n",
      "__________________________________________________________________________________________________\n"
     ]
    }
   ],
   "source": [
    "model2.summary()"
   ]
  },
  {
   "cell_type": "code",
   "execution_count": 48,
   "metadata": {},
   "outputs": [
    {
     "name": "stdout",
     "output_type": "stream",
     "text": [
      "WARNING:tensorflow:From C:\\Users\\mishra_s\\AppData\\Local\\Continuum\\anaconda3\\lib\\site-packages\\tensorflow\\python\\ops\\metrics_impl.py:526: to_float (from tensorflow.python.ops.math_ops) is deprecated and will be removed in a future version.\n",
      "Instructions for updating:\n",
      "Use tf.cast instead.\n",
      "WARNING:tensorflow:From C:\\Users\\mishra_s\\AppData\\Local\\Continuum\\anaconda3\\lib\\site-packages\\tensorflow\\python\\ops\\metrics_impl.py:788: div (from tensorflow.python.ops.math_ops) is deprecated and will be removed in a future version.\n",
      "Instructions for updating:\n",
      "Deprecated in favor of operator or tf.math.divide.\n"
     ]
    }
   ],
   "source": [
    "model2.compile(optimizer=\"adam\",loss='categorical_crossentropy',metrics=['accuracy',auc])"
   ]
  },
  {
   "cell_type": "code",
   "execution_count": 67,
   "metadata": {},
   "outputs": [
    {
     "name": "stdout",
     "output_type": "stream",
     "text": [
      "Train on 74288 samples, validate on 18572 samples\n",
      "Epoch 1/12\n"
     ]
    },
    {
     "name": "stdout",
     "output_type": "stream",
     "text": [
      "45000/74288 [=================>............] - ETA: 58:03 - loss: 0.6966 - acc: 0.3167 - auc: 0.37 - ETA: 45:14 - loss: 0.6879 - acc: 0.5600 - auc: 0.51 - ETA: 42:11 - loss: 0.6443 - acc: 0.6589 - auc: 0.59 - ETA: 40:02 - loss: 0.5938 - acc: 0.7042 - auc: 0.64 - ETA: 38:45 - loss: 0.5678 - acc: 0.7373 - auc: 0.68 - ETA: 37:11 - loss: 0.5581 - acc: 0.7561 - auc: 0.70 - ETA: 36:14 - loss: 0.5404 - acc: 0.7676 - auc: 0.72 - ETA: 35:19 - loss: 0.5300 - acc: 0.7771 - auc: 0.74 - ETA: 34:31 - loss: 0.5220 - acc: 0.7863 - auc: 0.75 - ETA: 33:56 - loss: 0.5210 - acc: 0.7873 - auc: 0.76 - ETA: 33:27 - loss: 0.5156 - acc: 0.7927 - auc: 0.76 - ETA: 32:58 - loss: 0.5136 - acc: 0.7944 - auc: 0.77 - ETA: 32:39 - loss: 0.5024 - acc: 0.8008 - auc: 0.77 - ETA: 32:14 - loss: 0.5107 - acc: 0.7990 - auc: 0.78 - ETA: 31:51 - loss: 0.5061 - acc: 0.8022 - auc: 0.78 - ETA: 31:32 - loss: 0.4983 - acc: 0.8065 - auc: 0.79 - ETA: 31:13 - loss: 0.4913 - acc: 0.8114 - auc: 0.79 - ETA: 30:55 - loss: 0.4852 - acc: 0.8148 - auc: 0.79 - ETA: 30:40 - loss: 0.4838 - acc: 0.8156 - auc: 0.79 - ETA: 30:29 - loss: 0.4821 - acc: 0.8170 - auc: 0.80 - ETA: 30:12 - loss: 0.4816 - acc: 0.8173 - auc: 0.80 - ETA: 29:58 - loss: 0.4791 - acc: 0.8186 - auc: 0.80 - ETA: 29:47 - loss: 0.4775 - acc: 0.8199 - auc: 0.80 - ETA: 29:36 - loss: 0.4762 - acc: 0.8206 - auc: 0.80 - ETA: 29:30 - loss: 0.4745 - acc: 0.8211 - auc: 0.81 - ETA: 29:17 - loss: 0.4722 - acc: 0.8227 - auc: 0.81 - ETA: 29:04 - loss: 0.4724 - acc: 0.8225 - auc: 0.81 - ETA: 28:52 - loss: 0.4701 - acc: 0.8238 - auc: 0.81 - ETA: 28:42 - loss: 0.4669 - acc: 0.8256 - auc: 0.81 - ETA: 28:31 - loss: 0.4645 - acc: 0.8269 - auc: 0.81 - ETA: 28:20 - loss: 0.4631 - acc: 0.8276 - auc: 0.81 - ETA: 28:09 - loss: 0.4604 - acc: 0.8289 - auc: 0.81 - ETA: 27:59 - loss: 0.4580 - acc: 0.8302 - auc: 0.82 - ETA: 27:51 - loss: 0.4560 - acc: 0.8313 - auc: 0.82 - ETA: 27:42 - loss: 0.4562 - acc: 0.8311 - auc: 0.82 - ETA: 27:32 - loss: 0.4563 - acc: 0.8309 - auc: 0.82 - ETA: 27:22 - loss: 0.4552 - acc: 0.8315 - auc: 0.82 - ETA: 27:13 - loss: 0.4536 - acc: 0.8327 - auc: 0.82 - ETA: 27:03 - loss: 0.4523 - acc: 0.8337 - auc: 0.82 - ETA: 26:54 - loss: 0.4499 - acc: 0.8350 - auc: 0.82 - ETA: 26:44 - loss: 0.4512 - acc: 0.8346 - auc: 0.82 - ETA: 26:35 - loss: 0.4514 - acc: 0.8345 - auc: 0.82 - ETA: 26:26 - loss: 0.4502 - acc: 0.8350 - auc: 0.82 - ETA: 26:17 - loss: 0.4497 - acc: 0.8352 - auc: 0.82 - ETA: 26:07 - loss: 0.4499 - acc: 0.8348 - auc: 0.83 - ETA: 25:58 - loss: 0.4497 - acc: 0.8348 - auc: 0.83 - ETA: 25:49 - loss: 0.4493 - acc: 0.8351 - auc: 0.83 - ETA: 25:40 - loss: 0.4490 - acc: 0.8351 - auc: 0.83 - ETA: 25:31 - loss: 0.4478 - acc: 0.8359 - auc: 0.83 - ETA: 25:23 - loss: 0.4466 - acc: 0.8367 - auc: 0.83 - ETA: 25:14 - loss: 0.4469 - acc: 0.8367 - auc: 0.83 - ETA: 25:07 - loss: 0.4465 - acc: 0.8369 - auc: 0.83 - ETA: 24:58 - loss: 0.4479 - acc: 0.8362 - auc: 0.83 - ETA: 24:50 - loss: 0.4475 - acc: 0.8362 - auc: 0.83 - ETA: 24:41 - loss: 0.4463 - acc: 0.8370 - auc: 0.83 - ETA: 24:33 - loss: 0.4460 - acc: 0.8371 - auc: 0.83 - ETA: 24:24 - loss: 0.4467 - acc: 0.8365 - auc: 0.83 - ETA: 24:16 - loss: 0.4455 - acc: 0.8372 - auc: 0.83 - ETA: 24:08 - loss: 0.4459 - acc: 0.8369 - auc: 0.83 - ETA: 23:59 - loss: 0.4451 - acc: 0.8373 - auc: 0.83 - ETA: 23:51 - loss: 0.4443 - acc: 0.8378 - auc: 0.83 - ETA: 23:42 - loss: 0.4431 - acc: 0.8383 - auc: 0.83 - ETA: 23:34 - loss: 0.4428 - acc: 0.8386 - auc: 0.83 - ETA: 23:26 - loss: 0.4431 - acc: 0.8387 - auc: 0.83 - ETA: 23:18 - loss: 0.4428 - acc: 0.8390 - auc: 0.83 - ETA: 23:10 - loss: 0.4423 - acc: 0.8393 - auc: 0.83 - ETA: 23:03 - loss: 0.4422 - acc: 0.8394 - auc: 0.83 - ETA: 22:55 - loss: 0.4416 - acc: 0.8396 - auc: 0.83 - ETA: 22:47 - loss: 0.4412 - acc: 0.8397 - auc: 0.84 - ETA: 22:38 - loss: 0.4410 - acc: 0.8398 - auc: 0.84 - ETA: 22:30 - loss: 0.4402 - acc: 0.8401 - auc: 0.84 - ETA: 22:22 - loss: 0.4392 - acc: 0.8406 - auc: 0.84 - ETA: 22:14 - loss: 0.4389 - acc: 0.8408 - auc: 0.84 - ETA: 22:06 - loss: 0.4402 - acc: 0.8404 - auc: 0.84 - ETA: 21:57 - loss: 0.4408 - acc: 0.8400 - auc: 0.84 - ETA: 21:49 - loss: 0.4407 - acc: 0.8400 - auc: 0.84 - ETA: 21:42 - loss: 0.4404 - acc: 0.8403 - auc: 0.84 - ETA: 21:34 - loss: 0.4399 - acc: 0.8406 - auc: 0.84 - ETA: 21:26 - loss: 0.4395 - acc: 0.8408 - auc: 0.84 - ETA: 21:17 - loss: 0.4401 - acc: 0.8405 - auc: 0.84 - ETA: 21:09 - loss: 0.4396 - acc: 0.8408 - auc: 0.84 - ETA: 21:01 - loss: 0.4389 - acc: 0.8411 - auc: 0.84 - ETA: 20:54 - loss: 0.4385 - acc: 0.8414 - auc: 0.84 - ETA: 20:46 - loss: 0.4392 - acc: 0.8410 - auc: 0.84 - ETA: 20:38 - loss: 0.4393 - acc: 0.8410 - auc: 0.84 - ETA: 20:30 - loss: 0.4392 - acc: 0.8410 - auc: 0.84 - ETA: 20:22 - loss: 0.4388 - acc: 0.8412 - auc: 0.84 - ETA: 20:14 - loss: 0.4382 - acc: 0.8416 - auc: 0.84 - ETA: 20:07 - loss: 0.4377 - acc: 0.8418 - auc: 0.84 - ETA: 20:01 - loss: 0.4373 - acc: 0.8420 - auc: 0.84 - ETA: 19:54 - loss: 0.4370 - acc: 0.8423 - auc: 0.84 - ETA: 19:46 - loss: 0.4375 - acc: 0.8420 - auc: 0.84 - ETA: 19:39 - loss: 0.4372 - acc: 0.8421 - auc: 0.84 - ETA: 19:31 - loss: 0.4374 - acc: 0.8420 - auc: 0.84 - ETA: 19:23 - loss: 0.4366 - acc: 0.8424 - auc: 0.84 - ETA: 19:15 - loss: 0.4361 - acc: 0.8425 - auc: 0.84 - ETA: 19:07 - loss: 0.4363 - acc: 0.8424 - auc: 0.84 - ETA: 19:00 - loss: 0.4359 - acc: 0.8427 - auc: 0.84 - ETA: 18:52 - loss: 0.4362 - acc: 0.8425 - auc: 0.84 - ETA: 18:44 - loss: 0.4363 - acc: 0.8425 - auc: 0.84 - ETA: 18:36 - loss: 0.4362 - acc: 0.8425 - auc: 0.84 - ETA: 18:28 - loss: 0.4363 - acc: 0.8424 - auc: 0.84 - ETA: 18:20 - loss: 0.4359 - acc: 0.8427 - auc: 0.84 - ETA: 18:13 - loss: 0.4357 - acc: 0.8427 - auc: 0.84 - ETA: 18:05 - loss: 0.4356 - acc: 0.8429 - auc: 0.84 - ETA: 17:58 - loss: 0.4350 - acc: 0.8431 - auc: 0.84 - ETA: 17:50 - loss: 0.4353 - acc: 0.8430 - auc: 0.84 - ETA: 17:42 - loss: 0.4352 - acc: 0.8431 - auc: 0.84 - ETA: 17:34 - loss: 0.4349 - acc: 0.8432 - auc: 0.84 - ETA: 17:27 - loss: 0.4345 - acc: 0.8434 - auc: 0.84 - ETA: 17:19 - loss: 0.4344 - acc: 0.8436 - auc: 0.84 - ETA: 17:11 - loss: 0.4337 - acc: 0.8440 - auc: 0.84 - ETA: 17:04 - loss: 0.4334 - acc: 0.8441 - auc: 0.84 - ETA: 16:56 - loss: 0.4330 - acc: 0.8443 - auc: 0.84 - ETA: 16:48 - loss: 0.4335 - acc: 0.8439 - auc: 0.84 - ETA: 16:40 - loss: 0.4335 - acc: 0.8439 - auc: 0.84 - ETA: 16:33 - loss: 0.4336 - acc: 0.8438 - auc: 0.84 - ETA: 16:25 - loss: 0.4336 - acc: 0.8437 - auc: 0.84 - ETA: 16:17 - loss: 0.4332 - acc: 0.8440 - auc: 0.84 - ETA: 16:10 - loss: 0.4333 - acc: 0.8439 - auc: 0.84 - ETA: 16:02 - loss: 0.4326 - acc: 0.8442 - auc: 0.84 - ETA: 15:54 - loss: 0.4323 - acc: 0.8444 - auc: 0.84 - ETA: 15:47 - loss: 0.4321 - acc: 0.8446 - auc: 0.84 - ETA: 15:39 - loss: 0.4325 - acc: 0.8444 - auc: 0.84 - ETA: 15:31 - loss: 0.4325 - acc: 0.8445 - auc: 0.84 - ETA: 15:24 - loss: 0.4327 - acc: 0.8443 - auc: 0.84 - ETA: 15:16 - loss: 0.4323 - acc: 0.8445 - auc: 0.85 - ETA: 15:08 - loss: 0.4323 - acc: 0.8446 - auc: 0.85 - ETA: 15:01 - loss: 0.4324 - acc: 0.8445 - auc: 0.85 - ETA: 14:53 - loss: 0.4324 - acc: 0.8445 - auc: 0.85 - ETA: 14:46 - loss: 0.4320 - acc: 0.8448 - auc: 0.85 - ETA: 14:38 - loss: 0.4316 - acc: 0.8450 - auc: 0.85 - ETA: 14:30 - loss: 0.4312 - acc: 0.8451 - auc: 0.85 - ETA: 14:23 - loss: 0.4312 - acc: 0.8451 - auc: 0.85 - ETA: 14:15 - loss: 0.4310 - acc: 0.8452 - auc: 0.85 - ETA: 14:07 - loss: 0.4310 - acc: 0.8452 - auc: 0.85 - ETA: 13:59 - loss: 0.4311 - acc: 0.8452 - auc: 0.85 - ETA: 13:52 - loss: 0.4312 - acc: 0.8450 - auc: 0.85 - ETA: 13:44 - loss: 0.4313 - acc: 0.8449 - auc: 0.85 - ETA: 13:36 - loss: 0.4314 - acc: 0.8448 - auc: 0.85 - ETA: 13:29 - loss: 0.4315 - acc: 0.8448 - auc: 0.85 - ETA: 13:21 - loss: 0.4318 - acc: 0.8446 - auc: 0.85 - ETA: 13:14 - loss: 0.4314 - acc: 0.8449 - auc: 0.85 - ETA: 13:06 - loss: 0.4312 - acc: 0.8451 - auc: 0.85 - ETA: 12:58 - loss: 0.4312 - acc: 0.8451 - auc: 0.85 - ETA: 12:51 - loss: 0.4314 - acc: 0.8450 - auc: 0.85 - ETA: 12:43 - loss: 0.4321 - acc: 0.8448 - auc: 0.85 - ETA: 12:36 - loss: 0.4319 - acc: 0.8448 - auc: 0.85 - ETA: 12:28 - loss: 0.4317 - acc: 0.8449 - auc: 0.85 - ETA: 12:20 - loss: 0.4317 - acc: 0.8448 - auc: 0.8574288/74288 [==============================] - ETA: 12:13 - loss: 0.4317 - acc: 0.8448 - auc: 0.85 - ETA: 12:05 - loss: 0.4317 - acc: 0.8447 - auc: 0.85 - ETA: 11:57 - loss: 0.4314 - acc: 0.8449 - auc: 0.85 - ETA: 11:50 - loss: 0.4315 - acc: 0.8448 - auc: 0.85 - ETA: 11:42 - loss: 0.4315 - acc: 0.8449 - auc: 0.85 - ETA: 11:34 - loss: 0.4312 - acc: 0.8450 - auc: 0.85 - ETA: 11:27 - loss: 0.4310 - acc: 0.8451 - auc: 0.85 - ETA: 11:19 - loss: 0.4313 - acc: 0.8449 - auc: 0.85 - ETA: 11:12 - loss: 0.4317 - acc: 0.8447 - auc: 0.85 - ETA: 11:04 - loss: 0.4317 - acc: 0.8447 - auc: 0.85 - ETA: 10:56 - loss: 0.4313 - acc: 0.8449 - auc: 0.85 - ETA: 10:49 - loss: 0.4316 - acc: 0.8446 - auc: 0.85 - ETA: 10:41 - loss: 0.4317 - acc: 0.8446 - auc: 0.85 - ETA: 10:33 - loss: 0.4316 - acc: 0.8447 - auc: 0.85 - ETA: 10:26 - loss: 0.4314 - acc: 0.8448 - auc: 0.85 - ETA: 10:18 - loss: 0.4313 - acc: 0.8449 - auc: 0.85 - ETA: 10:10 - loss: 0.4312 - acc: 0.8449 - auc: 0.85 - ETA: 10:03 - loss: 0.4310 - acc: 0.8451 - auc: 0.85 - ETA: 9:55 - loss: 0.4314 - acc: 0.8450 - auc: 0.8535 - ETA: 9:48 - loss: 0.4308 - acc: 0.8452 - auc: 0.853 - ETA: 9:40 - loss: 0.4310 - acc: 0.8451 - auc: 0.853 - ETA: 9:32 - loss: 0.4305 - acc: 0.8454 - auc: 0.853 - ETA: 9:25 - loss: 0.4306 - acc: 0.8452 - auc: 0.853 - ETA: 9:17 - loss: 0.4308 - acc: 0.8451 - auc: 0.853 - ETA: 9:10 - loss: 0.4309 - acc: 0.8450 - auc: 0.853 - ETA: 9:02 - loss: 0.4305 - acc: 0.8453 - auc: 0.854 - ETA: 8:54 - loss: 0.4303 - acc: 0.8455 - auc: 0.854 - ETA: 8:47 - loss: 0.4303 - acc: 0.8455 - auc: 0.854 - ETA: 8:39 - loss: 0.4305 - acc: 0.8453 - auc: 0.854 - ETA: 8:32 - loss: 0.4306 - acc: 0.8452 - auc: 0.854 - ETA: 8:24 - loss: 0.4303 - acc: 0.8453 - auc: 0.854 - ETA: 8:17 - loss: 0.4299 - acc: 0.8455 - auc: 0.854 - ETA: 8:09 - loss: 0.4300 - acc: 0.8455 - auc: 0.854 - ETA: 8:01 - loss: 0.4301 - acc: 0.8454 - auc: 0.854 - ETA: 7:54 - loss: 0.4298 - acc: 0.8456 - auc: 0.854 - ETA: 7:46 - loss: 0.4296 - acc: 0.8457 - auc: 0.854 - ETA: 7:39 - loss: 0.4296 - acc: 0.8457 - auc: 0.854 - ETA: 7:31 - loss: 0.4293 - acc: 0.8458 - auc: 0.854 - ETA: 7:23 - loss: 0.4293 - acc: 0.8458 - auc: 0.854 - ETA: 7:16 - loss: 0.4296 - acc: 0.8456 - auc: 0.854 - ETA: 7:08 - loss: 0.4294 - acc: 0.8458 - auc: 0.854 - ETA: 7:01 - loss: 0.4292 - acc: 0.8459 - auc: 0.854 - ETA: 6:53 - loss: 0.4290 - acc: 0.8460 - auc: 0.855 - ETA: 6:45 - loss: 0.4286 - acc: 0.8462 - auc: 0.855 - ETA: 6:38 - loss: 0.4285 - acc: 0.8463 - auc: 0.855 - ETA: 6:30 - loss: 0.4283 - acc: 0.8463 - auc: 0.855 - ETA: 6:23 - loss: 0.4282 - acc: 0.8464 - auc: 0.855 - ETA: 6:15 - loss: 0.4282 - acc: 0.8464 - auc: 0.855 - ETA: 6:07 - loss: 0.4281 - acc: 0.8464 - auc: 0.855 - ETA: 6:00 - loss: 0.4284 - acc: 0.8462 - auc: 0.855 - ETA: 5:52 - loss: 0.4283 - acc: 0.8462 - auc: 0.855 - ETA: 5:45 - loss: 0.4285 - acc: 0.8462 - auc: 0.855 - ETA: 5:37 - loss: 0.4284 - acc: 0.8462 - auc: 0.855 - ETA: 5:30 - loss: 0.4283 - acc: 0.8463 - auc: 0.855 - ETA: 5:22 - loss: 0.4282 - acc: 0.8464 - auc: 0.855 - ETA: 5:14 - loss: 0.4282 - acc: 0.8464 - auc: 0.855 - ETA: 5:07 - loss: 0.4283 - acc: 0.8463 - auc: 0.855 - ETA: 4:59 - loss: 0.4283 - acc: 0.8463 - auc: 0.855 - ETA: 4:52 - loss: 0.4280 - acc: 0.8464 - auc: 0.855 - ETA: 4:44 - loss: 0.4282 - acc: 0.8463 - auc: 0.855 - ETA: 4:37 - loss: 0.4281 - acc: 0.8463 - auc: 0.855 - ETA: 4:29 - loss: 0.4281 - acc: 0.8464 - auc: 0.856 - ETA: 4:21 - loss: 0.4279 - acc: 0.8465 - auc: 0.856 - ETA: 4:14 - loss: 0.4279 - acc: 0.8465 - auc: 0.856 - ETA: 4:06 - loss: 0.4278 - acc: 0.8465 - auc: 0.856 - ETA: 3:59 - loss: 0.4277 - acc: 0.8466 - auc: 0.856 - ETA: 3:51 - loss: 0.4277 - acc: 0.8466 - auc: 0.856 - ETA: 3:44 - loss: 0.4278 - acc: 0.8466 - auc: 0.856 - ETA: 3:36 - loss: 0.4277 - acc: 0.8467 - auc: 0.856 - ETA: 3:28 - loss: 0.4276 - acc: 0.8467 - auc: 0.856 - ETA: 3:21 - loss: 0.4274 - acc: 0.8468 - auc: 0.856 - ETA: 3:13 - loss: 0.4276 - acc: 0.8467 - auc: 0.856 - ETA: 3:06 - loss: 0.4277 - acc: 0.8466 - auc: 0.856 - ETA: 2:58 - loss: 0.4273 - acc: 0.8467 - auc: 0.856 - ETA: 2:51 - loss: 0.4273 - acc: 0.8467 - auc: 0.856 - ETA: 2:43 - loss: 0.4274 - acc: 0.8467 - auc: 0.856 - ETA: 2:35 - loss: 0.4274 - acc: 0.8467 - auc: 0.856 - ETA: 2:28 - loss: 0.4272 - acc: 0.8468 - auc: 0.856 - ETA: 2:20 - loss: 0.4274 - acc: 0.8467 - auc: 0.856 - ETA: 2:13 - loss: 0.4274 - acc: 0.8467 - auc: 0.856 - ETA: 2:05 - loss: 0.4272 - acc: 0.8468 - auc: 0.856 - ETA: 1:58 - loss: 0.4272 - acc: 0.8467 - auc: 0.856 - ETA: 1:50 - loss: 0.4274 - acc: 0.8466 - auc: 0.856 - ETA: 1:43 - loss: 0.4273 - acc: 0.8466 - auc: 0.857 - ETA: 1:35 - loss: 0.4275 - acc: 0.8465 - auc: 0.857 - ETA: 1:27 - loss: 0.4277 - acc: 0.8464 - auc: 0.857 - ETA: 1:20 - loss: 0.4276 - acc: 0.8464 - auc: 0.857 - ETA: 1:12 - loss: 0.4276 - acc: 0.8464 - auc: 0.857 - ETA: 1:05 - loss: 0.4276 - acc: 0.8464 - auc: 0.857 - ETA: 57s - loss: 0.4277 - acc: 0.8463 - auc: 0.857 - ETA: 50s - loss: 0.4276 - acc: 0.8464 - auc: 0.85 - ETA: 42s - loss: 0.4274 - acc: 0.8465 - auc: 0.85 - ETA: 34s - loss: 0.4274 - acc: 0.8465 - auc: 0.85 - ETA: 27s - loss: 0.4271 - acc: 0.8466 - auc: 0.85 - ETA: 19s - loss: 0.4272 - acc: 0.8466 - auc: 0.85 - ETA: 12s - loss: 0.4270 - acc: 0.8467 - auc: 0.85 - ETA: 4s - loss: 0.4272 - acc: 0.8466 - auc: 0.8575 - 1994s 27ms/step - loss: 0.4272 - acc: 0.8466 - auc: 0.8575 - val_loss: 0.4191 - val_acc: 0.8486 - val_auc: 0.8678\n",
      "Epoch 2/12\n"
     ]
    },
    {
     "name": "stdout",
     "output_type": "stream",
     "text": [
      "45300/74288 [=================>............] - ETA: 30:07 - loss: 0.3794 - acc: 0.8733 - auc: 0.86 - ETA: 30:40 - loss: 0.3919 - acc: 0.8667 - auc: 0.86 - ETA: 30:29 - loss: 0.4041 - acc: 0.8589 - auc: 0.86 - ETA: 30:26 - loss: 0.4218 - acc: 0.8492 - auc: 0.86 - ETA: 30:27 - loss: 0.4208 - acc: 0.8467 - auc: 0.86 - ETA: 30:17 - loss: 0.4143 - acc: 0.8483 - auc: 0.86 - ETA: 30:05 - loss: 0.4128 - acc: 0.8490 - auc: 0.86 - ETA: 29:59 - loss: 0.4109 - acc: 0.8496 - auc: 0.86 - ETA: 29:57 - loss: 0.4089 - acc: 0.8507 - auc: 0.86 - ETA: 29:52 - loss: 0.4137 - acc: 0.8483 - auc: 0.86 - ETA: 29:45 - loss: 0.4121 - acc: 0.8503 - auc: 0.86 - ETA: 29:37 - loss: 0.4107 - acc: 0.8506 - auc: 0.86 - ETA: 29:30 - loss: 0.4087 - acc: 0.8526 - auc: 0.86 - ETA: 29:21 - loss: 0.4092 - acc: 0.8524 - auc: 0.86 - ETA: 29:11 - loss: 0.4052 - acc: 0.8538 - auc: 0.86 - ETA: 29:03 - loss: 0.4085 - acc: 0.8523 - auc: 0.86 - ETA: 28:55 - loss: 0.4070 - acc: 0.8533 - auc: 0.86 - ETA: 28:46 - loss: 0.4077 - acc: 0.8530 - auc: 0.86 - ETA: 28:39 - loss: 0.4072 - acc: 0.8530 - auc: 0.86 - ETA: 28:30 - loss: 0.4083 - acc: 0.8523 - auc: 0.86 - ETA: 28:22 - loss: 0.4103 - acc: 0.8510 - auc: 0.86 - ETA: 28:13 - loss: 0.4108 - acc: 0.8506 - auc: 0.86 - ETA: 28:05 - loss: 0.4093 - acc: 0.8520 - auc: 0.86 - ETA: 27:57 - loss: 0.4118 - acc: 0.8503 - auc: 0.86 - ETA: 27:51 - loss: 0.4121 - acc: 0.8503 - auc: 0.86 - ETA: 27:43 - loss: 0.4119 - acc: 0.8503 - auc: 0.86 - ETA: 27:36 - loss: 0.4119 - acc: 0.8504 - auc: 0.86 - ETA: 27:29 - loss: 0.4116 - acc: 0.8505 - auc: 0.86 - ETA: 27:21 - loss: 0.4129 - acc: 0.8499 - auc: 0.86 - ETA: 27:14 - loss: 0.4129 - acc: 0.8501 - auc: 0.86 - ETA: 27:06 - loss: 0.4103 - acc: 0.8516 - auc: 0.86 - ETA: 26:58 - loss: 0.4104 - acc: 0.8510 - auc: 0.86 - ETA: 26:50 - loss: 0.4128 - acc: 0.8499 - auc: 0.86 - ETA: 26:43 - loss: 0.4133 - acc: 0.8496 - auc: 0.86 - ETA: 26:35 - loss: 0.4131 - acc: 0.8498 - auc: 0.86 - ETA: 26:28 - loss: 0.4129 - acc: 0.8499 - auc: 0.86 - ETA: 26:20 - loss: 0.4133 - acc: 0.8495 - auc: 0.86 - ETA: 26:12 - loss: 0.4143 - acc: 0.8489 - auc: 0.86 - ETA: 26:05 - loss: 0.4140 - acc: 0.8491 - auc: 0.86 - ETA: 25:58 - loss: 0.4139 - acc: 0.8492 - auc: 0.86 - ETA: 25:50 - loss: 0.4136 - acc: 0.8493 - auc: 0.86 - ETA: 25:43 - loss: 0.4138 - acc: 0.8490 - auc: 0.86 - ETA: 25:36 - loss: 0.4133 - acc: 0.8493 - auc: 0.86 - ETA: 25:28 - loss: 0.4126 - acc: 0.8495 - auc: 0.86 - ETA: 25:21 - loss: 0.4126 - acc: 0.8497 - auc: 0.86 - ETA: 25:13 - loss: 0.4125 - acc: 0.8500 - auc: 0.86 - ETA: 25:05 - loss: 0.4113 - acc: 0.8506 - auc: 0.86 - ETA: 24:57 - loss: 0.4115 - acc: 0.8503 - auc: 0.86 - ETA: 24:50 - loss: 0.4116 - acc: 0.8504 - auc: 0.86 - ETA: 24:43 - loss: 0.4132 - acc: 0.8495 - auc: 0.86 - ETA: 24:35 - loss: 0.4132 - acc: 0.8495 - auc: 0.86 - ETA: 24:28 - loss: 0.4127 - acc: 0.8494 - auc: 0.86 - ETA: 24:21 - loss: 0.4123 - acc: 0.8496 - auc: 0.86 - ETA: 24:13 - loss: 0.4123 - acc: 0.8496 - auc: 0.86 - ETA: 24:06 - loss: 0.4122 - acc: 0.8498 - auc: 0.86 - ETA: 23:59 - loss: 0.4120 - acc: 0.8499 - auc: 0.86 - ETA: 23:52 - loss: 0.4131 - acc: 0.8495 - auc: 0.86 - ETA: 23:44 - loss: 0.4136 - acc: 0.8493 - auc: 0.86 - ETA: 23:37 - loss: 0.4143 - acc: 0.8489 - auc: 0.86 - ETA: 23:30 - loss: 0.4142 - acc: 0.8491 - auc: 0.86 - ETA: 23:23 - loss: 0.4152 - acc: 0.8486 - auc: 0.86 - ETA: 23:16 - loss: 0.4153 - acc: 0.8485 - auc: 0.86 - ETA: 23:09 - loss: 0.4145 - acc: 0.8488 - auc: 0.86 - ETA: 23:02 - loss: 0.4146 - acc: 0.8487 - auc: 0.86 - ETA: 22:55 - loss: 0.4151 - acc: 0.8485 - auc: 0.86 - ETA: 22:47 - loss: 0.4154 - acc: 0.8484 - auc: 0.86 - ETA: 22:40 - loss: 0.4154 - acc: 0.8483 - auc: 0.86 - ETA: 22:32 - loss: 0.4152 - acc: 0.8485 - auc: 0.86 - ETA: 22:25 - loss: 0.4158 - acc: 0.8482 - auc: 0.86 - ETA: 22:18 - loss: 0.4161 - acc: 0.8481 - auc: 0.86 - ETA: 22:10 - loss: 0.4165 - acc: 0.8480 - auc: 0.86 - ETA: 22:03 - loss: 0.4168 - acc: 0.8477 - auc: 0.86 - ETA: 21:55 - loss: 0.4164 - acc: 0.8479 - auc: 0.86 - ETA: 21:48 - loss: 0.4162 - acc: 0.8481 - auc: 0.86 - ETA: 21:41 - loss: 0.4169 - acc: 0.8476 - auc: 0.86 - ETA: 21:33 - loss: 0.4167 - acc: 0.8478 - auc: 0.86 - ETA: 21:25 - loss: 0.4164 - acc: 0.8478 - auc: 0.86 - ETA: 21:17 - loss: 0.4169 - acc: 0.8475 - auc: 0.86 - ETA: 21:10 - loss: 0.4170 - acc: 0.8476 - auc: 0.86 - ETA: 21:02 - loss: 0.4161 - acc: 0.8481 - auc: 0.86 - ETA: 20:55 - loss: 0.4160 - acc: 0.8482 - auc: 0.86 - ETA: 20:48 - loss: 0.4153 - acc: 0.8485 - auc: 0.86 - ETA: 20:41 - loss: 0.4150 - acc: 0.8487 - auc: 0.86 - ETA: 20:33 - loss: 0.4143 - acc: 0.8490 - auc: 0.86 - ETA: 20:26 - loss: 0.4150 - acc: 0.8486 - auc: 0.86 - ETA: 20:18 - loss: 0.4148 - acc: 0.8486 - auc: 0.86 - ETA: 20:11 - loss: 0.4152 - acc: 0.8485 - auc: 0.86 - ETA: 20:04 - loss: 0.4150 - acc: 0.8486 - auc: 0.86 - ETA: 19:56 - loss: 0.4148 - acc: 0.8488 - auc: 0.86 - ETA: 19:49 - loss: 0.4152 - acc: 0.8485 - auc: 0.86 - ETA: 19:41 - loss: 0.4155 - acc: 0.8483 - auc: 0.86 - ETA: 19:34 - loss: 0.4156 - acc: 0.8482 - auc: 0.86 - ETA: 19:27 - loss: 0.4152 - acc: 0.8485 - auc: 0.86 - ETA: 19:19 - loss: 0.4151 - acc: 0.8485 - auc: 0.86 - ETA: 19:12 - loss: 0.4150 - acc: 0.8487 - auc: 0.86 - ETA: 19:04 - loss: 0.4147 - acc: 0.8488 - auc: 0.86 - ETA: 18:57 - loss: 0.4141 - acc: 0.8491 - auc: 0.86 - ETA: 18:50 - loss: 0.4142 - acc: 0.8490 - auc: 0.86 - ETA: 18:42 - loss: 0.4141 - acc: 0.8490 - auc: 0.86 - ETA: 18:35 - loss: 0.4145 - acc: 0.8488 - auc: 0.86 - ETA: 18:27 - loss: 0.4148 - acc: 0.8486 - auc: 0.86 - ETA: 18:25 - loss: 0.4144 - acc: 0.8489 - auc: 0.86 - ETA: 18:26 - loss: 0.4144 - acc: 0.8490 - auc: 0.86 - ETA: 18:20 - loss: 0.4143 - acc: 0.8491 - auc: 0.86 - ETA: 18:13 - loss: 0.4149 - acc: 0.8489 - auc: 0.86 - ETA: 18:06 - loss: 0.4147 - acc: 0.8489 - auc: 0.86 - ETA: 17:59 - loss: 0.4151 - acc: 0.8487 - auc: 0.86 - ETA: 17:52 - loss: 0.4153 - acc: 0.8485 - auc: 0.86 - ETA: 17:44 - loss: 0.4153 - acc: 0.8486 - auc: 0.86 - ETA: 17:36 - loss: 0.4156 - acc: 0.8483 - auc: 0.86 - ETA: 17:28 - loss: 0.4159 - acc: 0.8481 - auc: 0.86 - ETA: 17:21 - loss: 0.4155 - acc: 0.8483 - auc: 0.86 - ETA: 17:13 - loss: 0.4157 - acc: 0.8482 - auc: 0.86 - ETA: 17:05 - loss: 0.4161 - acc: 0.8480 - auc: 0.86 - ETA: 16:57 - loss: 0.4156 - acc: 0.8484 - auc: 0.86 - ETA: 16:50 - loss: 0.4153 - acc: 0.8486 - auc: 0.86 - ETA: 16:42 - loss: 0.4150 - acc: 0.8488 - auc: 0.86 - ETA: 16:35 - loss: 0.4153 - acc: 0.8486 - auc: 0.87 - ETA: 16:27 - loss: 0.4151 - acc: 0.8488 - auc: 0.87 - ETA: 16:19 - loss: 0.4150 - acc: 0.8489 - auc: 0.87 - ETA: 16:11 - loss: 0.4150 - acc: 0.8488 - auc: 0.87 - ETA: 16:03 - loss: 0.4149 - acc: 0.8488 - auc: 0.87 - ETA: 15:56 - loss: 0.4145 - acc: 0.8491 - auc: 0.87 - ETA: 15:48 - loss: 0.4145 - acc: 0.8492 - auc: 0.87 - ETA: 15:40 - loss: 0.4144 - acc: 0.8493 - auc: 0.87 - ETA: 15:32 - loss: 0.4139 - acc: 0.8496 - auc: 0.87 - ETA: 15:24 - loss: 0.4139 - acc: 0.8495 - auc: 0.87 - ETA: 15:17 - loss: 0.4142 - acc: 0.8495 - auc: 0.87 - ETA: 15:09 - loss: 0.4138 - acc: 0.8497 - auc: 0.87 - ETA: 15:01 - loss: 0.4140 - acc: 0.8496 - auc: 0.87 - ETA: 14:53 - loss: 0.4136 - acc: 0.8498 - auc: 0.87 - ETA: 14:45 - loss: 0.4134 - acc: 0.8499 - auc: 0.87 - ETA: 14:38 - loss: 0.4134 - acc: 0.8499 - auc: 0.87 - ETA: 14:30 - loss: 0.4135 - acc: 0.8498 - auc: 0.87 - ETA: 14:22 - loss: 0.4137 - acc: 0.8498 - auc: 0.87 - ETA: 14:15 - loss: 0.4138 - acc: 0.8496 - auc: 0.87 - ETA: 14:07 - loss: 0.4145 - acc: 0.8491 - auc: 0.87 - ETA: 13:59 - loss: 0.4145 - acc: 0.8490 - auc: 0.87 - ETA: 13:52 - loss: 0.4147 - acc: 0.8489 - auc: 0.87 - ETA: 13:44 - loss: 0.4147 - acc: 0.8489 - auc: 0.87 - ETA: 13:36 - loss: 0.4148 - acc: 0.8488 - auc: 0.87 - ETA: 13:28 - loss: 0.4147 - acc: 0.8489 - auc: 0.87 - ETA: 13:21 - loss: 0.4146 - acc: 0.8490 - auc: 0.87 - ETA: 13:13 - loss: 0.4151 - acc: 0.8487 - auc: 0.87 - ETA: 13:05 - loss: 0.4152 - acc: 0.8487 - auc: 0.87 - ETA: 12:57 - loss: 0.4155 - acc: 0.8485 - auc: 0.87 - ETA: 12:50 - loss: 0.4155 - acc: 0.8485 - auc: 0.87 - ETA: 12:42 - loss: 0.4157 - acc: 0.8484 - auc: 0.87 - ETA: 12:34 - loss: 0.4160 - acc: 0.8483 - auc: 0.87 - ETA: 12:27 - loss: 0.4156 - acc: 0.8485 - auc: 0.87 - ETA: 12:19 - loss: 0.4155 - acc: 0.8485 - auc: 0.8703"
     ]
    },
    {
     "name": "stdout",
     "output_type": "stream",
     "text": [
      "74288/74288 [==============================] - ETA: 12:11 - loss: 0.4155 - acc: 0.8485 - auc: 0.87 - ETA: 12:04 - loss: 0.4157 - acc: 0.8483 - auc: 0.87 - ETA: 11:56 - loss: 0.4160 - acc: 0.8482 - auc: 0.87 - ETA: 11:49 - loss: 0.4161 - acc: 0.8482 - auc: 0.87 - ETA: 11:41 - loss: 0.4167 - acc: 0.8478 - auc: 0.87 - ETA: 11:33 - loss: 0.4169 - acc: 0.8477 - auc: 0.87 - ETA: 11:26 - loss: 0.4167 - acc: 0.8478 - auc: 0.87 - ETA: 11:18 - loss: 0.4164 - acc: 0.8480 - auc: 0.87 - ETA: 11:11 - loss: 0.4164 - acc: 0.8480 - auc: 0.87 - ETA: 11:03 - loss: 0.4164 - acc: 0.8481 - auc: 0.87 - ETA: 10:55 - loss: 0.4164 - acc: 0.8481 - auc: 0.87 - ETA: 10:48 - loss: 0.4164 - acc: 0.8481 - auc: 0.87 - ETA: 10:40 - loss: 0.4169 - acc: 0.8478 - auc: 0.87 - ETA: 10:32 - loss: 0.4170 - acc: 0.8478 - auc: 0.87 - ETA: 10:25 - loss: 0.4167 - acc: 0.8480 - auc: 0.87 - ETA: 10:17 - loss: 0.4167 - acc: 0.8480 - auc: 0.87 - ETA: 10:09 - loss: 0.4167 - acc: 0.8479 - auc: 0.87 - ETA: 10:01 - loss: 0.4168 - acc: 0.8479 - auc: 0.87 - ETA: 9:54 - loss: 0.4167 - acc: 0.8479 - auc: 0.8704 - ETA: 9:46 - loss: 0.4164 - acc: 0.8481 - auc: 0.870 - ETA: 9:38 - loss: 0.4164 - acc: 0.8481 - auc: 0.870 - ETA: 9:31 - loss: 0.4162 - acc: 0.8481 - auc: 0.870 - ETA: 9:23 - loss: 0.4159 - acc: 0.8482 - auc: 0.870 - ETA: 9:15 - loss: 0.4160 - acc: 0.8482 - auc: 0.870 - ETA: 9:07 - loss: 0.4161 - acc: 0.8481 - auc: 0.870 - ETA: 9:00 - loss: 0.4161 - acc: 0.8481 - auc: 0.870 - ETA: 8:52 - loss: 0.4158 - acc: 0.8483 - auc: 0.870 - ETA: 8:44 - loss: 0.4159 - acc: 0.8482 - auc: 0.870 - ETA: 8:37 - loss: 0.4157 - acc: 0.8483 - auc: 0.870 - ETA: 8:29 - loss: 0.4157 - acc: 0.8483 - auc: 0.870 - ETA: 8:21 - loss: 0.4156 - acc: 0.8483 - auc: 0.870 - ETA: 8:14 - loss: 0.4159 - acc: 0.8482 - auc: 0.870 - ETA: 8:06 - loss: 0.4157 - acc: 0.8484 - auc: 0.870 - ETA: 7:58 - loss: 0.4157 - acc: 0.8484 - auc: 0.870 - ETA: 7:51 - loss: 0.4161 - acc: 0.8481 - auc: 0.870 - ETA: 7:43 - loss: 0.4157 - acc: 0.8483 - auc: 0.870 - ETA: 7:35 - loss: 0.4154 - acc: 0.8484 - auc: 0.870 - ETA: 7:28 - loss: 0.4153 - acc: 0.8485 - auc: 0.870 - ETA: 7:20 - loss: 0.4154 - acc: 0.8484 - auc: 0.870 - ETA: 7:12 - loss: 0.4155 - acc: 0.8484 - auc: 0.870 - ETA: 7:05 - loss: 0.4154 - acc: 0.8484 - auc: 0.870 - ETA: 6:57 - loss: 0.4154 - acc: 0.8484 - auc: 0.870 - ETA: 6:49 - loss: 0.4156 - acc: 0.8482 - auc: 0.870 - ETA: 6:42 - loss: 0.4155 - acc: 0.8483 - auc: 0.870 - ETA: 6:34 - loss: 0.4155 - acc: 0.8483 - auc: 0.870 - ETA: 6:26 - loss: 0.4153 - acc: 0.8485 - auc: 0.870 - ETA: 6:19 - loss: 0.4152 - acc: 0.8485 - auc: 0.870 - ETA: 6:11 - loss: 0.4149 - acc: 0.8487 - auc: 0.870 - ETA: 6:03 - loss: 0.4147 - acc: 0.8488 - auc: 0.870 - ETA: 5:56 - loss: 0.4151 - acc: 0.8486 - auc: 0.870 - ETA: 5:48 - loss: 0.4148 - acc: 0.8488 - auc: 0.870 - ETA: 5:40 - loss: 0.4145 - acc: 0.8490 - auc: 0.870 - ETA: 5:33 - loss: 0.4143 - acc: 0.8490 - auc: 0.870 - ETA: 5:25 - loss: 0.4144 - acc: 0.8490 - auc: 0.870 - ETA: 5:17 - loss: 0.4144 - acc: 0.8490 - auc: 0.870 - ETA: 5:10 - loss: 0.4146 - acc: 0.8489 - auc: 0.870 - ETA: 5:02 - loss: 0.4146 - acc: 0.8488 - auc: 0.870 - ETA: 4:54 - loss: 0.4147 - acc: 0.8488 - auc: 0.870 - ETA: 4:47 - loss: 0.4146 - acc: 0.8489 - auc: 0.870 - ETA: 4:39 - loss: 0.4148 - acc: 0.8487 - auc: 0.870 - ETA: 4:31 - loss: 0.4148 - acc: 0.8487 - auc: 0.870 - ETA: 4:24 - loss: 0.4147 - acc: 0.8487 - auc: 0.870 - ETA: 4:16 - loss: 0.4146 - acc: 0.8488 - auc: 0.870 - ETA: 4:09 - loss: 0.4148 - acc: 0.8487 - auc: 0.870 - ETA: 4:01 - loss: 0.4147 - acc: 0.8488 - auc: 0.870 - ETA: 3:53 - loss: 0.4145 - acc: 0.8489 - auc: 0.870 - ETA: 3:46 - loss: 0.4145 - acc: 0.8489 - auc: 0.870 - ETA: 3:38 - loss: 0.4145 - acc: 0.8488 - auc: 0.870 - ETA: 3:30 - loss: 0.4150 - acc: 0.8486 - auc: 0.870 - ETA: 3:23 - loss: 0.4151 - acc: 0.8486 - auc: 0.870 - ETA: 3:15 - loss: 0.4150 - acc: 0.8486 - auc: 0.870 - ETA: 3:08 - loss: 0.4149 - acc: 0.8487 - auc: 0.870 - ETA: 3:00 - loss: 0.4152 - acc: 0.8486 - auc: 0.870 - ETA: 2:52 - loss: 0.4151 - acc: 0.8487 - auc: 0.870 - ETA: 2:45 - loss: 0.4150 - acc: 0.8487 - auc: 0.870 - ETA: 2:37 - loss: 0.4151 - acc: 0.8487 - auc: 0.870 - ETA: 2:29 - loss: 0.4151 - acc: 0.8487 - auc: 0.870 - ETA: 2:22 - loss: 0.4152 - acc: 0.8486 - auc: 0.870 - ETA: 2:14 - loss: 0.4150 - acc: 0.8487 - auc: 0.871 - ETA: 2:06 - loss: 0.4148 - acc: 0.8488 - auc: 0.871 - ETA: 1:59 - loss: 0.4149 - acc: 0.8488 - auc: 0.871 - ETA: 1:51 - loss: 0.4151 - acc: 0.8487 - auc: 0.871 - ETA: 1:43 - loss: 0.4151 - acc: 0.8486 - auc: 0.871 - ETA: 1:36 - loss: 0.4149 - acc: 0.8487 - auc: 0.871 - ETA: 1:28 - loss: 0.4147 - acc: 0.8487 - auc: 0.871 - ETA: 1:21 - loss: 0.4152 - acc: 0.8485 - auc: 0.871 - ETA: 1:13 - loss: 0.4151 - acc: 0.8485 - auc: 0.871 - ETA: 1:05 - loss: 0.4149 - acc: 0.8486 - auc: 0.871 - ETA: 58s - loss: 0.4151 - acc: 0.8485 - auc: 0.871 - ETA: 50s - loss: 0.4150 - acc: 0.8486 - auc: 0.87 - ETA: 42s - loss: 0.4150 - acc: 0.8486 - auc: 0.87 - ETA: 35s - loss: 0.4148 - acc: 0.8487 - auc: 0.87 - ETA: 27s - loss: 0.4147 - acc: 0.8488 - auc: 0.87 - ETA: 20s - loss: 0.4148 - acc: 0.8487 - auc: 0.87 - ETA: 12s - loss: 0.4149 - acc: 0.8487 - auc: 0.87 - ETA: 4s - loss: 0.4149 - acc: 0.8487 - auc: 0.8711 - 2013s 27ms/step - loss: 0.4152 - acc: 0.8486 - auc: 0.8711 - val_loss: 0.4170 - val_acc: 0.8486 - val_auc: 0.8732\n",
      "Epoch 3/12\n"
     ]
    },
    {
     "name": "stdout",
     "output_type": "stream",
     "text": [
      "45300/74288 [=================>............] - ETA: 30:48 - loss: 0.4096 - acc: 0.8433 - auc: 0.87 - ETA: 30:36 - loss: 0.4328 - acc: 0.8317 - auc: 0.87 - ETA: 30:43 - loss: 0.4330 - acc: 0.8356 - auc: 0.87 - ETA: 30:45 - loss: 0.4204 - acc: 0.8433 - auc: 0.87 - ETA: 30:35 - loss: 0.4206 - acc: 0.8440 - auc: 0.87 - ETA: 30:29 - loss: 0.4093 - acc: 0.8522 - auc: 0.87 - ETA: 30:20 - loss: 0.4131 - acc: 0.8490 - auc: 0.87 - ETA: 30:17 - loss: 0.4102 - acc: 0.8500 - auc: 0.87 - ETA: 30:11 - loss: 0.4020 - acc: 0.8541 - auc: 0.87 - ETA: 30:01 - loss: 0.4003 - acc: 0.8543 - auc: 0.87 - ETA: 29:51 - loss: 0.3991 - acc: 0.8552 - auc: 0.87 - ETA: 29:42 - loss: 0.3993 - acc: 0.8550 - auc: 0.87 - ETA: 29:34 - loss: 0.4010 - acc: 0.8546 - auc: 0.87 - ETA: 29:28 - loss: 0.3972 - acc: 0.8569 - auc: 0.87 - ETA: 29:22 - loss: 0.4015 - acc: 0.8549 - auc: 0.87 - ETA: 29:13 - loss: 0.4007 - acc: 0.8552 - auc: 0.87 - ETA: 29:04 - loss: 0.3969 - acc: 0.8576 - auc: 0.87 - ETA: 28:57 - loss: 0.3985 - acc: 0.8567 - auc: 0.87 - ETA: 28:48 - loss: 0.3988 - acc: 0.8570 - auc: 0.87 - ETA: 28:42 - loss: 0.3986 - acc: 0.8572 - auc: 0.87 - ETA: 28:34 - loss: 0.3989 - acc: 0.8565 - auc: 0.87 - ETA: 28:24 - loss: 0.3997 - acc: 0.8561 - auc: 0.87 - ETA: 28:16 - loss: 0.3975 - acc: 0.8574 - auc: 0.87 - ETA: 28:09 - loss: 0.3989 - acc: 0.8569 - auc: 0.87 - ETA: 28:01 - loss: 0.3985 - acc: 0.8568 - auc: 0.87 - ETA: 27:53 - loss: 0.3997 - acc: 0.8559 - auc: 0.87 - ETA: 27:45 - loss: 0.3988 - acc: 0.8559 - auc: 0.87 - ETA: 27:36 - loss: 0.3982 - acc: 0.8562 - auc: 0.87 - ETA: 27:28 - loss: 0.3993 - acc: 0.8555 - auc: 0.87 - ETA: 27:23 - loss: 0.3981 - acc: 0.8562 - auc: 0.87 - ETA: 27:15 - loss: 0.3995 - acc: 0.8549 - auc: 0.87 - ETA: 27:08 - loss: 0.4027 - acc: 0.8530 - auc: 0.87 - ETA: 27:00 - loss: 0.4036 - acc: 0.8531 - auc: 0.87 - ETA: 26:52 - loss: 0.4048 - acc: 0.8526 - auc: 0.87 - ETA: 26:44 - loss: 0.4061 - acc: 0.8519 - auc: 0.87 - ETA: 26:36 - loss: 0.4071 - acc: 0.8510 - auc: 0.87 - ETA: 26:29 - loss: 0.4072 - acc: 0.8506 - auc: 0.87 - ETA: 26:22 - loss: 0.4063 - acc: 0.8511 - auc: 0.87 - ETA: 26:18 - loss: 0.4060 - acc: 0.8511 - auc: 0.87 - ETA: 26:12 - loss: 0.4069 - acc: 0.8507 - auc: 0.87 - ETA: 26:04 - loss: 0.4085 - acc: 0.8499 - auc: 0.87 - ETA: 25:56 - loss: 0.4070 - acc: 0.8506 - auc: 0.87 - ETA: 25:48 - loss: 0.4075 - acc: 0.8503 - auc: 0.87 - ETA: 25:41 - loss: 0.4086 - acc: 0.8495 - auc: 0.87 - ETA: 25:33 - loss: 0.4079 - acc: 0.8498 - auc: 0.87 - ETA: 25:26 - loss: 0.4079 - acc: 0.8497 - auc: 0.87 - ETA: 25:18 - loss: 0.4084 - acc: 0.8493 - auc: 0.87 - ETA: 25:10 - loss: 0.4074 - acc: 0.8499 - auc: 0.87 - ETA: 25:02 - loss: 0.4073 - acc: 0.8501 - auc: 0.87 - ETA: 24:54 - loss: 0.4066 - acc: 0.8504 - auc: 0.87 - ETA: 24:47 - loss: 0.4069 - acc: 0.8501 - auc: 0.87 - ETA: 24:39 - loss: 0.4079 - acc: 0.8495 - auc: 0.87 - ETA: 24:31 - loss: 0.4082 - acc: 0.8493 - auc: 0.87 - ETA: 24:24 - loss: 0.4070 - acc: 0.8498 - auc: 0.87 - ETA: 24:17 - loss: 0.4072 - acc: 0.8497 - auc: 0.87 - ETA: 24:09 - loss: 0.4071 - acc: 0.8498 - auc: 0.87 - ETA: 24:02 - loss: 0.4076 - acc: 0.8494 - auc: 0.87 - ETA: 23:54 - loss: 0.4073 - acc: 0.8495 - auc: 0.87 - ETA: 23:47 - loss: 0.4069 - acc: 0.8498 - auc: 0.87 - ETA: 23:39 - loss: 0.4064 - acc: 0.8503 - auc: 0.87 - ETA: 23:31 - loss: 0.4059 - acc: 0.8507 - auc: 0.87 - ETA: 23:24 - loss: 0.4059 - acc: 0.8505 - auc: 0.87 - ETA: 23:17 - loss: 0.4050 - acc: 0.8511 - auc: 0.87 - ETA: 23:09 - loss: 0.4049 - acc: 0.8511 - auc: 0.87 - ETA: 23:01 - loss: 0.4052 - acc: 0.8509 - auc: 0.87 - ETA: 22:54 - loss: 0.4056 - acc: 0.8507 - auc: 0.87 - ETA: 22:46 - loss: 0.4057 - acc: 0.8506 - auc: 0.87 - ETA: 22:38 - loss: 0.4057 - acc: 0.8507 - auc: 0.87 - ETA: 22:31 - loss: 0.4058 - acc: 0.8506 - auc: 0.87 - ETA: 22:24 - loss: 0.4054 - acc: 0.8508 - auc: 0.87 - ETA: 22:16 - loss: 0.4056 - acc: 0.8508 - auc: 0.87 - ETA: 22:08 - loss: 0.4058 - acc: 0.8505 - auc: 0.87 - ETA: 22:01 - loss: 0.4061 - acc: 0.8504 - auc: 0.87 - ETA: 21:54 - loss: 0.4069 - acc: 0.8500 - auc: 0.87 - ETA: 21:46 - loss: 0.4072 - acc: 0.8498 - auc: 0.87 - ETA: 21:39 - loss: 0.4072 - acc: 0.8498 - auc: 0.87 - ETA: 21:31 - loss: 0.4084 - acc: 0.8489 - auc: 0.87 - ETA: 21:24 - loss: 0.4083 - acc: 0.8488 - auc: 0.87 - ETA: 21:17 - loss: 0.4076 - acc: 0.8494 - auc: 0.87 - ETA: 21:10 - loss: 0.4075 - acc: 0.8496 - auc: 0.87 - ETA: 21:02 - loss: 0.4074 - acc: 0.8496 - auc: 0.87 - ETA: 20:55 - loss: 0.4068 - acc: 0.8500 - auc: 0.87 - ETA: 20:47 - loss: 0.4066 - acc: 0.8499 - auc: 0.87 - ETA: 20:40 - loss: 0.4065 - acc: 0.8500 - auc: 0.87 - ETA: 20:32 - loss: 0.4057 - acc: 0.8504 - auc: 0.87 - ETA: 20:25 - loss: 0.4064 - acc: 0.8502 - auc: 0.87 - ETA: 20:17 - loss: 0.4060 - acc: 0.8505 - auc: 0.87 - ETA: 20:10 - loss: 0.4062 - acc: 0.8502 - auc: 0.87 - ETA: 20:02 - loss: 0.4061 - acc: 0.8503 - auc: 0.87 - ETA: 19:54 - loss: 0.4062 - acc: 0.8502 - auc: 0.87 - ETA: 19:47 - loss: 0.4058 - acc: 0.8504 - auc: 0.87 - ETA: 19:39 - loss: 0.4057 - acc: 0.8504 - auc: 0.87 - ETA: 19:32 - loss: 0.4056 - acc: 0.8504 - auc: 0.87 - ETA: 19:24 - loss: 0.4059 - acc: 0.8504 - auc: 0.87 - ETA: 19:17 - loss: 0.4060 - acc: 0.8503 - auc: 0.87 - ETA: 19:09 - loss: 0.4061 - acc: 0.8503 - auc: 0.87 - ETA: 19:01 - loss: 0.4062 - acc: 0.8504 - auc: 0.87 - ETA: 18:54 - loss: 0.4068 - acc: 0.8500 - auc: 0.87 - ETA: 18:46 - loss: 0.4065 - acc: 0.8501 - auc: 0.87 - ETA: 18:39 - loss: 0.4069 - acc: 0.8499 - auc: 0.87 - ETA: 18:31 - loss: 0.4065 - acc: 0.8501 - auc: 0.87 - ETA: 18:24 - loss: 0.4064 - acc: 0.8501 - auc: 0.87 - ETA: 18:16 - loss: 0.4066 - acc: 0.8499 - auc: 0.87 - ETA: 18:08 - loss: 0.4066 - acc: 0.8499 - auc: 0.87 - ETA: 18:01 - loss: 0.4064 - acc: 0.8501 - auc: 0.87 - ETA: 17:53 - loss: 0.4062 - acc: 0.8502 - auc: 0.87 - ETA: 17:45 - loss: 0.4063 - acc: 0.8501 - auc: 0.87 - ETA: 17:38 - loss: 0.4066 - acc: 0.8499 - auc: 0.87 - ETA: 17:30 - loss: 0.4068 - acc: 0.8498 - auc: 0.87 - ETA: 17:22 - loss: 0.4068 - acc: 0.8498 - auc: 0.87 - ETA: 17:15 - loss: 0.4065 - acc: 0.8500 - auc: 0.87 - ETA: 17:07 - loss: 0.4070 - acc: 0.8497 - auc: 0.87 - ETA: 16:59 - loss: 0.4067 - acc: 0.8498 - auc: 0.87 - ETA: 16:52 - loss: 0.4067 - acc: 0.8499 - auc: 0.87 - ETA: 16:44 - loss: 0.4068 - acc: 0.8498 - auc: 0.87 - ETA: 16:37 - loss: 0.4068 - acc: 0.8499 - auc: 0.87 - ETA: 16:29 - loss: 0.4070 - acc: 0.8497 - auc: 0.87 - ETA: 16:22 - loss: 0.4070 - acc: 0.8497 - auc: 0.87 - ETA: 16:14 - loss: 0.4073 - acc: 0.8495 - auc: 0.87 - ETA: 16:06 - loss: 0.4072 - acc: 0.8495 - auc: 0.87 - ETA: 15:59 - loss: 0.4079 - acc: 0.8491 - auc: 0.87 - ETA: 15:51 - loss: 0.4083 - acc: 0.8490 - auc: 0.87 - ETA: 15:43 - loss: 0.4082 - acc: 0.8491 - auc: 0.87 - ETA: 15:36 - loss: 0.4086 - acc: 0.8487 - auc: 0.87 - ETA: 15:28 - loss: 0.4084 - acc: 0.8489 - auc: 0.87 - ETA: 15:21 - loss: 0.4086 - acc: 0.8488 - auc: 0.87 - ETA: 15:13 - loss: 0.4085 - acc: 0.8489 - auc: 0.87 - ETA: 15:06 - loss: 0.4086 - acc: 0.8487 - auc: 0.87 - ETA: 14:58 - loss: 0.4087 - acc: 0.8487 - auc: 0.87 - ETA: 14:50 - loss: 0.4090 - acc: 0.8485 - auc: 0.87 - ETA: 14:43 - loss: 0.4086 - acc: 0.8488 - auc: 0.87 - ETA: 14:35 - loss: 0.4084 - acc: 0.8489 - auc: 0.87 - ETA: 14:28 - loss: 0.4087 - acc: 0.8488 - auc: 0.87 - ETA: 14:20 - loss: 0.4090 - acc: 0.8485 - auc: 0.87 - ETA: 14:13 - loss: 0.4089 - acc: 0.8486 - auc: 0.87 - ETA: 14:05 - loss: 0.4088 - acc: 0.8486 - auc: 0.87 - ETA: 13:58 - loss: 0.4084 - acc: 0.8488 - auc: 0.87 - ETA: 13:50 - loss: 0.4086 - acc: 0.8487 - auc: 0.87 - ETA: 13:42 - loss: 0.4082 - acc: 0.8490 - auc: 0.87 - ETA: 13:35 - loss: 0.4077 - acc: 0.8492 - auc: 0.87 - ETA: 13:27 - loss: 0.4076 - acc: 0.8493 - auc: 0.87 - ETA: 13:20 - loss: 0.4080 - acc: 0.8492 - auc: 0.87 - ETA: 13:12 - loss: 0.4074 - acc: 0.8494 - auc: 0.87 - ETA: 13:04 - loss: 0.4079 - acc: 0.8493 - auc: 0.87 - ETA: 12:57 - loss: 0.4079 - acc: 0.8492 - auc: 0.87 - ETA: 12:49 - loss: 0.4081 - acc: 0.8491 - auc: 0.87 - ETA: 12:42 - loss: 0.4080 - acc: 0.8492 - auc: 0.87 - ETA: 12:34 - loss: 0.4078 - acc: 0.8493 - auc: 0.87 - ETA: 12:26 - loss: 0.4077 - acc: 0.8494 - auc: 0.87 - ETA: 12:19 - loss: 0.4075 - acc: 0.8494 - auc: 0.87 - ETA: 12:11 - loss: 0.4073 - acc: 0.8496 - auc: 0.874674288/74288 [==============================] - ETA: 12:04 - loss: 0.4069 - acc: 0.8498 - auc: 0.87 - ETA: 11:56 - loss: 0.4070 - acc: 0.8498 - auc: 0.87 - ETA: 11:49 - loss: 0.4071 - acc: 0.8497 - auc: 0.87 - ETA: 11:41 - loss: 0.4070 - acc: 0.8498 - auc: 0.87 - ETA: 11:33 - loss: 0.4070 - acc: 0.8497 - auc: 0.87 - ETA: 11:26 - loss: 0.4072 - acc: 0.8496 - auc: 0.87 - ETA: 11:18 - loss: 0.4073 - acc: 0.8495 - auc: 0.87 - ETA: 11:11 - loss: 0.4075 - acc: 0.8495 - auc: 0.87 - ETA: 11:03 - loss: 0.4075 - acc: 0.8494 - auc: 0.87 - ETA: 10:56 - loss: 0.4078 - acc: 0.8494 - auc: 0.87 - ETA: 10:48 - loss: 0.4075 - acc: 0.8495 - auc: 0.87 - ETA: 10:41 - loss: 0.4077 - acc: 0.8494 - auc: 0.87 - ETA: 10:33 - loss: 0.4072 - acc: 0.8497 - auc: 0.87 - ETA: 10:26 - loss: 0.4072 - acc: 0.8497 - auc: 0.87 - ETA: 10:18 - loss: 0.4074 - acc: 0.8496 - auc: 0.87 - ETA: 10:11 - loss: 0.4075 - acc: 0.8496 - auc: 0.87 - ETA: 10:03 - loss: 0.4077 - acc: 0.8495 - auc: 0.87 - ETA: 9:56 - loss: 0.4076 - acc: 0.8495 - auc: 0.8748 - ETA: 9:48 - loss: 0.4075 - acc: 0.8496 - auc: 0.874 - ETA: 9:41 - loss: 0.4073 - acc: 0.8498 - auc: 0.874 - ETA: 9:33 - loss: 0.4073 - acc: 0.8497 - auc: 0.874 - ETA: 9:26 - loss: 0.4073 - acc: 0.8497 - auc: 0.874 - ETA: 9:18 - loss: 0.4077 - acc: 0.8495 - auc: 0.874 - ETA: 9:11 - loss: 0.4075 - acc: 0.8496 - auc: 0.874 - ETA: 9:03 - loss: 0.4077 - acc: 0.8495 - auc: 0.874 - ETA: 8:56 - loss: 0.4076 - acc: 0.8495 - auc: 0.874 - ETA: 8:48 - loss: 0.4080 - acc: 0.8493 - auc: 0.874 - ETA: 8:40 - loss: 0.4083 - acc: 0.8492 - auc: 0.874 - ETA: 8:33 - loss: 0.4086 - acc: 0.8490 - auc: 0.874 - ETA: 8:25 - loss: 0.4087 - acc: 0.8490 - auc: 0.874 - ETA: 8:18 - loss: 0.4089 - acc: 0.8489 - auc: 0.874 - ETA: 8:10 - loss: 0.4089 - acc: 0.8489 - auc: 0.874 - ETA: 8:03 - loss: 0.4091 - acc: 0.8488 - auc: 0.874 - ETA: 7:55 - loss: 0.4090 - acc: 0.8489 - auc: 0.874 - ETA: 7:48 - loss: 0.4089 - acc: 0.8490 - auc: 0.874 - ETA: 7:40 - loss: 0.4090 - acc: 0.8489 - auc: 0.874 - ETA: 7:33 - loss: 0.4087 - acc: 0.8490 - auc: 0.874 - ETA: 7:25 - loss: 0.4087 - acc: 0.8490 - auc: 0.874 - ETA: 7:18 - loss: 0.4088 - acc: 0.8490 - auc: 0.874 - ETA: 7:10 - loss: 0.4089 - acc: 0.8490 - auc: 0.874 - ETA: 7:02 - loss: 0.4091 - acc: 0.8489 - auc: 0.874 - ETA: 6:55 - loss: 0.4093 - acc: 0.8488 - auc: 0.874 - ETA: 6:47 - loss: 0.4094 - acc: 0.8487 - auc: 0.874 - ETA: 6:40 - loss: 0.4093 - acc: 0.8489 - auc: 0.874 - ETA: 6:32 - loss: 0.4093 - acc: 0.8489 - auc: 0.874 - ETA: 6:24 - loss: 0.4096 - acc: 0.8487 - auc: 0.874 - ETA: 6:17 - loss: 0.4096 - acc: 0.8487 - auc: 0.874 - ETA: 6:09 - loss: 0.4095 - acc: 0.8488 - auc: 0.874 - ETA: 6:02 - loss: 0.4098 - acc: 0.8486 - auc: 0.874 - ETA: 5:54 - loss: 0.4097 - acc: 0.8487 - auc: 0.875 - ETA: 5:46 - loss: 0.4099 - acc: 0.8486 - auc: 0.875 - ETA: 5:39 - loss: 0.4097 - acc: 0.8487 - auc: 0.875 - ETA: 5:31 - loss: 0.4099 - acc: 0.8486 - auc: 0.875 - ETA: 5:24 - loss: 0.4097 - acc: 0.8487 - auc: 0.875 - ETA: 5:16 - loss: 0.4098 - acc: 0.8487 - auc: 0.875 - ETA: 5:08 - loss: 0.4097 - acc: 0.8486 - auc: 0.875 - ETA: 5:01 - loss: 0.4096 - acc: 0.8487 - auc: 0.875 - ETA: 4:53 - loss: 0.4094 - acc: 0.8489 - auc: 0.875 - ETA: 4:46 - loss: 0.4093 - acc: 0.8489 - auc: 0.875 - ETA: 4:38 - loss: 0.4095 - acc: 0.8488 - auc: 0.875 - ETA: 4:30 - loss: 0.4095 - acc: 0.8489 - auc: 0.875 - ETA: 4:23 - loss: 0.4095 - acc: 0.8489 - auc: 0.875 - ETA: 4:15 - loss: 0.4095 - acc: 0.8488 - auc: 0.875 - ETA: 4:08 - loss: 0.4096 - acc: 0.8487 - auc: 0.875 - ETA: 4:00 - loss: 0.4097 - acc: 0.8486 - auc: 0.875 - ETA: 3:52 - loss: 0.4099 - acc: 0.8485 - auc: 0.875 - ETA: 3:45 - loss: 0.4098 - acc: 0.8485 - auc: 0.875 - ETA: 3:37 - loss: 0.4097 - acc: 0.8485 - auc: 0.875 - ETA: 3:30 - loss: 0.4098 - acc: 0.8485 - auc: 0.875 - ETA: 3:22 - loss: 0.4098 - acc: 0.8484 - auc: 0.875 - ETA: 3:14 - loss: 0.4098 - acc: 0.8484 - auc: 0.875 - ETA: 3:07 - loss: 0.4100 - acc: 0.8483 - auc: 0.875 - ETA: 2:59 - loss: 0.4099 - acc: 0.8485 - auc: 0.875 - ETA: 2:52 - loss: 0.4097 - acc: 0.8485 - auc: 0.875 - ETA: 2:44 - loss: 0.4097 - acc: 0.8485 - auc: 0.875 - ETA: 2:36 - loss: 0.4101 - acc: 0.8483 - auc: 0.875 - ETA: 2:29 - loss: 0.4099 - acc: 0.8484 - auc: 0.875 - ETA: 2:21 - loss: 0.4100 - acc: 0.8484 - auc: 0.875 - ETA: 2:14 - loss: 0.4103 - acc: 0.8482 - auc: 0.875 - ETA: 2:06 - loss: 0.4104 - acc: 0.8482 - auc: 0.875 - ETA: 1:58 - loss: 0.4105 - acc: 0.8482 - auc: 0.875 - ETA: 1:51 - loss: 0.4104 - acc: 0.8482 - auc: 0.875 - ETA: 1:43 - loss: 0.4104 - acc: 0.8482 - auc: 0.875 - ETA: 1:36 - loss: 0.4105 - acc: 0.8482 - auc: 0.875 - ETA: 1:28 - loss: 0.4102 - acc: 0.8484 - auc: 0.875 - ETA: 1:20 - loss: 0.4100 - acc: 0.8485 - auc: 0.875 - ETA: 1:13 - loss: 0.4099 - acc: 0.8486 - auc: 0.875 - ETA: 1:05 - loss: 0.4098 - acc: 0.8486 - auc: 0.875 - ETA: 57s - loss: 0.4100 - acc: 0.8486 - auc: 0.875 - ETA: 50s - loss: 0.4098 - acc: 0.8486 - auc: 0.87 - ETA: 42s - loss: 0.4099 - acc: 0.8486 - auc: 0.87 - ETA: 35s - loss: 0.4100 - acc: 0.8486 - auc: 0.87 - ETA: 27s - loss: 0.4101 - acc: 0.8485 - auc: 0.87 - ETA: 19s - loss: 0.4100 - acc: 0.8486 - auc: 0.87 - ETA: 12s - loss: 0.4100 - acc: 0.8486 - auc: 0.87 - ETA: 4s - loss: 0.4099 - acc: 0.8486 - auc: 0.8752 - 2007s 27ms/step - loss: 0.4099 - acc: 0.8486 - auc: 0.8752 - val_loss: 0.4219 - val_acc: 0.8482 - val_auc: 0.8763\n",
      "Epoch 4/12\n"
     ]
    },
    {
     "name": "stdout",
     "output_type": "stream",
     "text": [
      "45300/74288 [=================>............] - ETA: 31:45 - loss: 0.3418 - acc: 0.8800 - auc: 0.87 - ETA: 31:30 - loss: 0.3726 - acc: 0.8683 - auc: 0.87 - ETA: 31:32 - loss: 0.3966 - acc: 0.8522 - auc: 0.87 - ETA: 31:16 - loss: 0.3948 - acc: 0.8542 - auc: 0.87 - ETA: 31:02 - loss: 0.3938 - acc: 0.8540 - auc: 0.87 - ETA: 30:56 - loss: 0.3971 - acc: 0.8522 - auc: 0.87 - ETA: 30:43 - loss: 0.4047 - acc: 0.8476 - auc: 0.87 - ETA: 30:31 - loss: 0.4150 - acc: 0.8400 - auc: 0.87 - ETA: 30:21 - loss: 0.4095 - acc: 0.8426 - auc: 0.87 - ETA: 30:19 - loss: 0.4131 - acc: 0.8410 - auc: 0.87 - ETA: 30:11 - loss: 0.4123 - acc: 0.8415 - auc: 0.87 - ETA: 30:03 - loss: 0.4134 - acc: 0.8411 - auc: 0.87 - ETA: 29:56 - loss: 0.4123 - acc: 0.8428 - auc: 0.87 - ETA: 29:45 - loss: 0.4153 - acc: 0.8414 - auc: 0.87 - ETA: 29:37 - loss: 0.4129 - acc: 0.8429 - auc: 0.87 - ETA: 29:28 - loss: 0.4133 - acc: 0.8421 - auc: 0.87 - ETA: 29:19 - loss: 0.4097 - acc: 0.8441 - auc: 0.87 - ETA: 29:13 - loss: 0.4089 - acc: 0.8439 - auc: 0.87 - ETA: 29:06 - loss: 0.4076 - acc: 0.8454 - auc: 0.87 - ETA: 28:58 - loss: 0.4073 - acc: 0.8453 - auc: 0.87 - ETA: 28:49 - loss: 0.4044 - acc: 0.8467 - auc: 0.87 - ETA: 28:40 - loss: 0.4069 - acc: 0.8453 - auc: 0.87 - ETA: 28:32 - loss: 0.4058 - acc: 0.8459 - auc: 0.87 - ETA: 28:23 - loss: 0.4052 - acc: 0.8460 - auc: 0.87 - ETA: 28:15 - loss: 0.4054 - acc: 0.8459 - auc: 0.87 - ETA: 28:07 - loss: 0.4066 - acc: 0.8449 - auc: 0.87 - ETA: 27:59 - loss: 0.4049 - acc: 0.8458 - auc: 0.87 - ETA: 27:53 - loss: 0.4060 - acc: 0.8449 - auc: 0.87 - ETA: 27:52 - loss: 0.4048 - acc: 0.8456 - auc: 0.87 - ETA: 27:44 - loss: 0.4046 - acc: 0.8454 - auc: 0.87 - ETA: 27:37 - loss: 0.4038 - acc: 0.8459 - auc: 0.87 - ETA: 27:28 - loss: 0.4043 - acc: 0.8458 - auc: 0.87 - ETA: 27:20 - loss: 0.4043 - acc: 0.8462 - auc: 0.87 - ETA: 27:14 - loss: 0.4047 - acc: 0.8456 - auc: 0.87 - ETA: 27:07 - loss: 0.4055 - acc: 0.8450 - auc: 0.87 - ETA: 27:00 - loss: 0.4051 - acc: 0.8453 - auc: 0.87 - ETA: 26:51 - loss: 0.4047 - acc: 0.8451 - auc: 0.87 - ETA: 26:44 - loss: 0.4051 - acc: 0.8449 - auc: 0.87 - ETA: 26:35 - loss: 0.4044 - acc: 0.8455 - auc: 0.87 - ETA: 26:27 - loss: 0.4036 - acc: 0.8462 - auc: 0.87 - ETA: 26:19 - loss: 0.4037 - acc: 0.8465 - auc: 0.87 - ETA: 26:11 - loss: 0.4053 - acc: 0.8456 - auc: 0.87 - ETA: 26:03 - loss: 0.4041 - acc: 0.8462 - auc: 0.87 - ETA: 25:55 - loss: 0.4050 - acc: 0.8456 - auc: 0.87 - ETA: 25:48 - loss: 0.4049 - acc: 0.8459 - auc: 0.87 - ETA: 25:40 - loss: 0.4067 - acc: 0.8449 - auc: 0.87 - ETA: 25:33 - loss: 0.4067 - acc: 0.8449 - auc: 0.87 - ETA: 25:26 - loss: 0.4074 - acc: 0.8444 - auc: 0.87 - ETA: 25:18 - loss: 0.4079 - acc: 0.8442 - auc: 0.87 - ETA: 25:12 - loss: 0.4081 - acc: 0.8439 - auc: 0.87 - ETA: 25:04 - loss: 0.4081 - acc: 0.8439 - auc: 0.87 - ETA: 24:56 - loss: 0.4082 - acc: 0.8439 - auc: 0.87 - ETA: 24:48 - loss: 0.4081 - acc: 0.8440 - auc: 0.87 - ETA: 24:41 - loss: 0.4077 - acc: 0.8445 - auc: 0.87 - ETA: 24:33 - loss: 0.4072 - acc: 0.8448 - auc: 0.87 - ETA: 24:26 - loss: 0.4070 - acc: 0.8450 - auc: 0.87 - ETA: 24:18 - loss: 0.4074 - acc: 0.8449 - auc: 0.87 - ETA: 24:11 - loss: 0.4080 - acc: 0.8446 - auc: 0.87 - ETA: 24:03 - loss: 0.4090 - acc: 0.8440 - auc: 0.87 - ETA: 23:55 - loss: 0.4083 - acc: 0.8444 - auc: 0.87 - ETA: 23:47 - loss: 0.4079 - acc: 0.8447 - auc: 0.87 - ETA: 23:40 - loss: 0.4080 - acc: 0.8447 - auc: 0.87 - ETA: 23:32 - loss: 0.4078 - acc: 0.8448 - auc: 0.87 - ETA: 23:23 - loss: 0.4069 - acc: 0.8455 - auc: 0.87 - ETA: 23:16 - loss: 0.4075 - acc: 0.8451 - auc: 0.87 - ETA: 23:08 - loss: 0.4075 - acc: 0.8452 - auc: 0.87 - ETA: 23:01 - loss: 0.4076 - acc: 0.8451 - auc: 0.87 - ETA: 22:53 - loss: 0.4072 - acc: 0.8455 - auc: 0.87 - ETA: 22:46 - loss: 0.4066 - acc: 0.8458 - auc: 0.87 - ETA: 22:39 - loss: 0.4075 - acc: 0.8454 - auc: 0.87 - ETA: 22:31 - loss: 0.4087 - acc: 0.8447 - auc: 0.87 - ETA: 22:24 - loss: 0.4085 - acc: 0.8447 - auc: 0.87 - ETA: 22:16 - loss: 0.4079 - acc: 0.8451 - auc: 0.87 - ETA: 22:08 - loss: 0.4080 - acc: 0.8451 - auc: 0.87 - ETA: 22:01 - loss: 0.4075 - acc: 0.8455 - auc: 0.87 - ETA: 21:53 - loss: 0.4079 - acc: 0.8451 - auc: 0.87 - ETA: 21:45 - loss: 0.4079 - acc: 0.8450 - auc: 0.87 - ETA: 21:38 - loss: 0.4074 - acc: 0.8454 - auc: 0.87 - ETA: 21:31 - loss: 0.4065 - acc: 0.8458 - auc: 0.87 - ETA: 21:23 - loss: 0.4059 - acc: 0.8460 - auc: 0.87 - ETA: 21:16 - loss: 0.4055 - acc: 0.8461 - auc: 0.87 - ETA: 21:08 - loss: 0.4055 - acc: 0.8461 - auc: 0.87 - ETA: 21:01 - loss: 0.4056 - acc: 0.8464 - auc: 0.87 - ETA: 20:53 - loss: 0.4053 - acc: 0.8466 - auc: 0.87 - ETA: 20:45 - loss: 0.4053 - acc: 0.8466 - auc: 0.87 - ETA: 20:38 - loss: 0.4049 - acc: 0.8469 - auc: 0.87 - ETA: 20:30 - loss: 0.4054 - acc: 0.8467 - auc: 0.87 - ETA: 20:22 - loss: 0.4059 - acc: 0.8464 - auc: 0.87 - ETA: 20:14 - loss: 0.4059 - acc: 0.8463 - auc: 0.87 - ETA: 20:07 - loss: 0.4066 - acc: 0.8459 - auc: 0.87 - ETA: 19:59 - loss: 0.4070 - acc: 0.8457 - auc: 0.87 - ETA: 19:51 - loss: 0.4070 - acc: 0.8456 - auc: 0.87 - ETA: 19:44 - loss: 0.4070 - acc: 0.8457 - auc: 0.87 - ETA: 19:36 - loss: 0.4064 - acc: 0.8462 - auc: 0.87 - ETA: 19:28 - loss: 0.4069 - acc: 0.8459 - auc: 0.87 - ETA: 19:20 - loss: 0.4071 - acc: 0.8460 - auc: 0.87 - ETA: 19:13 - loss: 0.4068 - acc: 0.8461 - auc: 0.87 - ETA: 19:05 - loss: 0.4065 - acc: 0.8463 - auc: 0.87 - ETA: 18:57 - loss: 0.4061 - acc: 0.8467 - auc: 0.87 - ETA: 18:49 - loss: 0.4059 - acc: 0.8467 - auc: 0.87 - ETA: 18:42 - loss: 0.4052 - acc: 0.8472 - auc: 0.87 - ETA: 18:34 - loss: 0.4054 - acc: 0.8471 - auc: 0.87 - ETA: 18:26 - loss: 0.4062 - acc: 0.8466 - auc: 0.87 - ETA: 18:18 - loss: 0.4066 - acc: 0.8463 - auc: 0.87 - ETA: 18:10 - loss: 0.4060 - acc: 0.8466 - auc: 0.87 - ETA: 18:03 - loss: 0.4059 - acc: 0.8467 - auc: 0.87 - ETA: 17:55 - loss: 0.4061 - acc: 0.8464 - auc: 0.87 - ETA: 17:48 - loss: 0.4064 - acc: 0.8464 - auc: 0.87 - ETA: 17:40 - loss: 0.4065 - acc: 0.8463 - auc: 0.87 - ETA: 17:32 - loss: 0.4067 - acc: 0.8462 - auc: 0.87 - ETA: 17:24 - loss: 0.4069 - acc: 0.8460 - auc: 0.87 - ETA: 17:17 - loss: 0.4064 - acc: 0.8462 - auc: 0.87 - ETA: 17:09 - loss: 0.4065 - acc: 0.8461 - auc: 0.87 - ETA: 17:02 - loss: 0.4069 - acc: 0.8460 - auc: 0.87 - ETA: 16:54 - loss: 0.4070 - acc: 0.8460 - auc: 0.87 - ETA: 16:46 - loss: 0.4066 - acc: 0.8462 - auc: 0.87 - ETA: 16:38 - loss: 0.4065 - acc: 0.8462 - auc: 0.87 - ETA: 16:31 - loss: 0.4063 - acc: 0.8464 - auc: 0.87 - ETA: 16:23 - loss: 0.4059 - acc: 0.8467 - auc: 0.87 - ETA: 16:15 - loss: 0.4060 - acc: 0.8466 - auc: 0.87 - ETA: 16:08 - loss: 0.4060 - acc: 0.8467 - auc: 0.87 - ETA: 16:00 - loss: 0.4062 - acc: 0.8466 - auc: 0.87 - ETA: 15:52 - loss: 0.4067 - acc: 0.8463 - auc: 0.87 - ETA: 15:44 - loss: 0.4070 - acc: 0.8462 - auc: 0.87 - ETA: 15:37 - loss: 0.4071 - acc: 0.8461 - auc: 0.87 - ETA: 15:29 - loss: 0.4070 - acc: 0.8463 - auc: 0.87 - ETA: 15:21 - loss: 0.4068 - acc: 0.8464 - auc: 0.87 - ETA: 15:13 - loss: 0.4068 - acc: 0.8465 - auc: 0.87 - ETA: 15:06 - loss: 0.4065 - acc: 0.8467 - auc: 0.87 - ETA: 14:58 - loss: 0.4067 - acc: 0.8466 - auc: 0.87 - ETA: 14:50 - loss: 0.4063 - acc: 0.8468 - auc: 0.87 - ETA: 14:43 - loss: 0.4066 - acc: 0.8466 - auc: 0.87 - ETA: 14:35 - loss: 0.4066 - acc: 0.8466 - auc: 0.87 - ETA: 14:27 - loss: 0.4068 - acc: 0.8465 - auc: 0.87 - ETA: 14:21 - loss: 0.4067 - acc: 0.8466 - auc: 0.87 - ETA: 14:13 - loss: 0.4069 - acc: 0.8463 - auc: 0.87 - ETA: 14:06 - loss: 0.4070 - acc: 0.8463 - auc: 0.87 - ETA: 13:58 - loss: 0.4071 - acc: 0.8462 - auc: 0.87 - ETA: 13:50 - loss: 0.4073 - acc: 0.8462 - auc: 0.87 - ETA: 13:43 - loss: 0.4072 - acc: 0.8463 - auc: 0.87 - ETA: 13:35 - loss: 0.4073 - acc: 0.8463 - auc: 0.87 - ETA: 13:27 - loss: 0.4072 - acc: 0.8464 - auc: 0.87 - ETA: 13:19 - loss: 0.4069 - acc: 0.8466 - auc: 0.87 - ETA: 13:12 - loss: 0.4067 - acc: 0.8466 - auc: 0.87 - ETA: 13:04 - loss: 0.4067 - acc: 0.8466 - auc: 0.87 - ETA: 12:56 - loss: 0.4064 - acc: 0.8467 - auc: 0.87 - ETA: 12:49 - loss: 0.4065 - acc: 0.8467 - auc: 0.87 - ETA: 12:41 - loss: 0.4064 - acc: 0.8467 - auc: 0.87 - ETA: 12:33 - loss: 0.4060 - acc: 0.8470 - auc: 0.87 - ETA: 12:26 - loss: 0.4059 - acc: 0.8470 - auc: 0.87 - ETA: 12:18 - loss: 0.4058 - acc: 0.8470 - auc: 0.8771"
     ]
    },
    {
     "name": "stdout",
     "output_type": "stream",
     "text": [
      "74288/74288 [==============================] - ETA: 12:10 - loss: 0.4057 - acc: 0.8470 - auc: 0.87 - ETA: 12:03 - loss: 0.4057 - acc: 0.8469 - auc: 0.87 - ETA: 11:55 - loss: 0.4057 - acc: 0.8470 - auc: 0.87 - ETA: 11:47 - loss: 0.4055 - acc: 0.8470 - auc: 0.87 - ETA: 11:40 - loss: 0.4058 - acc: 0.8469 - auc: 0.87 - ETA: 11:32 - loss: 0.4057 - acc: 0.8469 - auc: 0.87 - ETA: 11:24 - loss: 0.4056 - acc: 0.8469 - auc: 0.87 - ETA: 11:17 - loss: 0.4056 - acc: 0.8470 - auc: 0.87 - ETA: 11:09 - loss: 0.4053 - acc: 0.8472 - auc: 0.87 - ETA: 11:01 - loss: 0.4053 - acc: 0.8472 - auc: 0.87 - ETA: 10:54 - loss: 0.4050 - acc: 0.8472 - auc: 0.87 - ETA: 10:46 - loss: 0.4048 - acc: 0.8473 - auc: 0.87 - ETA: 10:39 - loss: 0.4047 - acc: 0.8475 - auc: 0.87 - ETA: 10:31 - loss: 0.4047 - acc: 0.8475 - auc: 0.87 - ETA: 10:23 - loss: 0.4045 - acc: 0.8477 - auc: 0.87 - ETA: 10:16 - loss: 0.4044 - acc: 0.8477 - auc: 0.87 - ETA: 10:08 - loss: 0.4046 - acc: 0.8476 - auc: 0.87 - ETA: 10:00 - loss: 0.4045 - acc: 0.8476 - auc: 0.87 - ETA: 9:53 - loss: 0.4047 - acc: 0.8475 - auc: 0.8772 - ETA: 9:45 - loss: 0.4049 - acc: 0.8475 - auc: 0.877 - ETA: 9:37 - loss: 0.4049 - acc: 0.8475 - auc: 0.877 - ETA: 9:30 - loss: 0.4047 - acc: 0.8476 - auc: 0.877 - ETA: 9:22 - loss: 0.4052 - acc: 0.8473 - auc: 0.877 - ETA: 9:15 - loss: 0.4051 - acc: 0.8473 - auc: 0.877 - ETA: 9:07 - loss: 0.4050 - acc: 0.8473 - auc: 0.877 - ETA: 9:00 - loss: 0.4053 - acc: 0.8472 - auc: 0.877 - ETA: 8:52 - loss: 0.4055 - acc: 0.8471 - auc: 0.877 - ETA: 8:44 - loss: 0.4055 - acc: 0.8472 - auc: 0.877 - ETA: 8:37 - loss: 0.4053 - acc: 0.8472 - auc: 0.877 - ETA: 8:29 - loss: 0.4052 - acc: 0.8473 - auc: 0.877 - ETA: 8:21 - loss: 0.4050 - acc: 0.8475 - auc: 0.877 - ETA: 8:13 - loss: 0.4050 - acc: 0.8475 - auc: 0.877 - ETA: 8:06 - loss: 0.4054 - acc: 0.8474 - auc: 0.877 - ETA: 7:58 - loss: 0.4053 - acc: 0.8474 - auc: 0.877 - ETA: 7:51 - loss: 0.4055 - acc: 0.8473 - auc: 0.877 - ETA: 7:43 - loss: 0.4054 - acc: 0.8475 - auc: 0.877 - ETA: 7:35 - loss: 0.4054 - acc: 0.8475 - auc: 0.877 - ETA: 7:28 - loss: 0.4056 - acc: 0.8473 - auc: 0.877 - ETA: 7:20 - loss: 0.4055 - acc: 0.8474 - auc: 0.877 - ETA: 7:12 - loss: 0.4053 - acc: 0.8475 - auc: 0.877 - ETA: 7:05 - loss: 0.4053 - acc: 0.8475 - auc: 0.877 - ETA: 6:57 - loss: 0.4054 - acc: 0.8475 - auc: 0.877 - ETA: 6:49 - loss: 0.4054 - acc: 0.8474 - auc: 0.877 - ETA: 6:42 - loss: 0.4054 - acc: 0.8474 - auc: 0.877 - ETA: 6:34 - loss: 0.4051 - acc: 0.8476 - auc: 0.877 - ETA: 6:26 - loss: 0.4048 - acc: 0.8477 - auc: 0.877 - ETA: 6:19 - loss: 0.4051 - acc: 0.8476 - auc: 0.877 - ETA: 6:11 - loss: 0.4047 - acc: 0.8478 - auc: 0.877 - ETA: 6:03 - loss: 0.4047 - acc: 0.8478 - auc: 0.877 - ETA: 5:56 - loss: 0.4046 - acc: 0.8478 - auc: 0.877 - ETA: 5:48 - loss: 0.4047 - acc: 0.8477 - auc: 0.877 - ETA: 5:40 - loss: 0.4046 - acc: 0.8478 - auc: 0.877 - ETA: 5:33 - loss: 0.4045 - acc: 0.8479 - auc: 0.877 - ETA: 5:25 - loss: 0.4042 - acc: 0.8481 - auc: 0.877 - ETA: 5:17 - loss: 0.4039 - acc: 0.8482 - auc: 0.877 - ETA: 5:10 - loss: 0.4038 - acc: 0.8483 - auc: 0.877 - ETA: 5:02 - loss: 0.4034 - acc: 0.8485 - auc: 0.877 - ETA: 4:54 - loss: 0.4033 - acc: 0.8486 - auc: 0.877 - ETA: 4:47 - loss: 0.4035 - acc: 0.8486 - auc: 0.877 - ETA: 4:39 - loss: 0.4032 - acc: 0.8488 - auc: 0.877 - ETA: 4:32 - loss: 0.4034 - acc: 0.8486 - auc: 0.877 - ETA: 4:24 - loss: 0.4034 - acc: 0.8487 - auc: 0.877 - ETA: 4:16 - loss: 0.4034 - acc: 0.8487 - auc: 0.877 - ETA: 4:09 - loss: 0.4032 - acc: 0.8488 - auc: 0.877 - ETA: 4:01 - loss: 0.4029 - acc: 0.8490 - auc: 0.877 - ETA: 3:53 - loss: 0.4032 - acc: 0.8489 - auc: 0.877 - ETA: 3:46 - loss: 0.4033 - acc: 0.8489 - auc: 0.877 - ETA: 3:38 - loss: 0.4034 - acc: 0.8488 - auc: 0.877 - ETA: 3:30 - loss: 0.4037 - acc: 0.8487 - auc: 0.877 - ETA: 3:23 - loss: 0.4037 - acc: 0.8487 - auc: 0.877 - ETA: 3:15 - loss: 0.4037 - acc: 0.8487 - auc: 0.877 - ETA: 3:08 - loss: 0.4035 - acc: 0.8489 - auc: 0.877 - ETA: 3:00 - loss: 0.4035 - acc: 0.8489 - auc: 0.877 - ETA: 2:52 - loss: 0.4036 - acc: 0.8488 - auc: 0.877 - ETA: 2:45 - loss: 0.4034 - acc: 0.8489 - auc: 0.877 - ETA: 2:37 - loss: 0.4035 - acc: 0.8489 - auc: 0.877 - ETA: 2:29 - loss: 0.4035 - acc: 0.8488 - auc: 0.877 - ETA: 2:22 - loss: 0.4036 - acc: 0.8488 - auc: 0.877 - ETA: 2:14 - loss: 0.4034 - acc: 0.8489 - auc: 0.877 - ETA: 2:06 - loss: 0.4036 - acc: 0.8489 - auc: 0.877 - ETA: 1:59 - loss: 0.4034 - acc: 0.8490 - auc: 0.877 - ETA: 1:51 - loss: 0.4035 - acc: 0.8489 - auc: 0.877 - ETA: 1:44 - loss: 0.4034 - acc: 0.8490 - auc: 0.877 - ETA: 1:36 - loss: 0.4033 - acc: 0.8490 - auc: 0.877 - ETA: 1:28 - loss: 0.4032 - acc: 0.8491 - auc: 0.877 - ETA: 1:21 - loss: 0.4034 - acc: 0.8490 - auc: 0.877 - ETA: 1:13 - loss: 0.4032 - acc: 0.8491 - auc: 0.877 - ETA: 1:05 - loss: 0.4032 - acc: 0.8491 - auc: 0.877 - ETA: 58s - loss: 0.4031 - acc: 0.8492 - auc: 0.877 - ETA: 50s - loss: 0.4030 - acc: 0.8493 - auc: 0.87 - ETA: 42s - loss: 0.4032 - acc: 0.8491 - auc: 0.87 - ETA: 35s - loss: 0.4032 - acc: 0.8491 - auc: 0.87 - ETA: 27s - loss: 0.4032 - acc: 0.8492 - auc: 0.87 - ETA: 20s - loss: 0.4031 - acc: 0.8492 - auc: 0.87 - ETA: 12s - loss: 0.4030 - acc: 0.8493 - auc: 0.87 - ETA: 4s - loss: 0.4030 - acc: 0.8493 - auc: 0.8777 - 2015s 27ms/step - loss: 0.4029 - acc: 0.8493 - auc: 0.8777 - val_loss: 0.4213 - val_acc: 0.8474 - val_auc: 0.8791\n",
      "Epoch 5/12\n"
     ]
    },
    {
     "name": "stdout",
     "output_type": "stream",
     "text": [
      "45300/74288 [=================>............] - ETA: 33:25 - loss: 0.4307 - acc: 0.8333 - auc: 0.87 - ETA: 32:14 - loss: 0.3971 - acc: 0.8500 - auc: 0.87 - ETA: 31:38 - loss: 0.3984 - acc: 0.8478 - auc: 0.87 - ETA: 31:15 - loss: 0.4044 - acc: 0.8433 - auc: 0.87 - ETA: 31:02 - loss: 0.4020 - acc: 0.8467 - auc: 0.87 - ETA: 30:53 - loss: 0.4025 - acc: 0.8478 - auc: 0.87 - ETA: 30:51 - loss: 0.4042 - acc: 0.8467 - auc: 0.87 - ETA: 30:43 - loss: 0.3983 - acc: 0.8500 - auc: 0.87 - ETA: 30:34 - loss: 0.3955 - acc: 0.8504 - auc: 0.87 - ETA: 30:23 - loss: 0.3997 - acc: 0.8473 - auc: 0.87 - ETA: 30:14 - loss: 0.3981 - acc: 0.8485 - auc: 0.87 - ETA: 30:03 - loss: 0.3983 - acc: 0.8478 - auc: 0.87 - ETA: 29:54 - loss: 0.3953 - acc: 0.8497 - auc: 0.87 - ETA: 29:45 - loss: 0.3929 - acc: 0.8502 - auc: 0.87 - ETA: 29:37 - loss: 0.3940 - acc: 0.8500 - auc: 0.87 - ETA: 29:27 - loss: 0.3963 - acc: 0.8492 - auc: 0.87 - ETA: 29:19 - loss: 0.3922 - acc: 0.8516 - auc: 0.87 - ETA: 29:11 - loss: 0.3935 - acc: 0.8506 - auc: 0.87 - ETA: 29:03 - loss: 0.3917 - acc: 0.8512 - auc: 0.87 - ETA: 28:55 - loss: 0.3907 - acc: 0.8518 - auc: 0.87 - ETA: 28:46 - loss: 0.3910 - acc: 0.8510 - auc: 0.87 - ETA: 28:40 - loss: 0.3904 - acc: 0.8508 - auc: 0.87 - ETA: 28:32 - loss: 0.3906 - acc: 0.8509 - auc: 0.87 - ETA: 28:22 - loss: 0.3879 - acc: 0.8521 - auc: 0.87 - ETA: 28:15 - loss: 0.3874 - acc: 0.8524 - auc: 0.87 - ETA: 28:08 - loss: 0.3898 - acc: 0.8509 - auc: 0.87 - ETA: 28:00 - loss: 0.3894 - acc: 0.8510 - auc: 0.87 - ETA: 27:52 - loss: 0.3876 - acc: 0.8519 - auc: 0.87 - ETA: 27:44 - loss: 0.3883 - acc: 0.8522 - auc: 0.87 - ETA: 27:35 - loss: 0.3876 - acc: 0.8526 - auc: 0.87 - ETA: 27:28 - loss: 0.3879 - acc: 0.8520 - auc: 0.87 - ETA: 27:21 - loss: 0.3870 - acc: 0.8524 - auc: 0.87 - ETA: 27:13 - loss: 0.3856 - acc: 0.8533 - auc: 0.87 - ETA: 27:06 - loss: 0.3838 - acc: 0.8541 - auc: 0.87 - ETA: 26:58 - loss: 0.3862 - acc: 0.8528 - auc: 0.87 - ETA: 26:50 - loss: 0.3862 - acc: 0.8528 - auc: 0.87 - ETA: 26:43 - loss: 0.3862 - acc: 0.8530 - auc: 0.87 - ETA: 26:35 - loss: 0.3870 - acc: 0.8521 - auc: 0.87 - ETA: 26:28 - loss: 0.3861 - acc: 0.8528 - auc: 0.87 - ETA: 26:20 - loss: 0.3866 - acc: 0.8525 - auc: 0.87 - ETA: 26:12 - loss: 0.3868 - acc: 0.8528 - auc: 0.87 - ETA: 26:04 - loss: 0.3869 - acc: 0.8528 - auc: 0.87 - ETA: 25:56 - loss: 0.3855 - acc: 0.8533 - auc: 0.87 - ETA: 25:49 - loss: 0.3852 - acc: 0.8535 - auc: 0.87 - ETA: 25:41 - loss: 0.3868 - acc: 0.8529 - auc: 0.87 - ETA: 25:35 - loss: 0.3866 - acc: 0.8529 - auc: 0.87 - ETA: 25:27 - loss: 0.3852 - acc: 0.8536 - auc: 0.87 - ETA: 25:19 - loss: 0.3860 - acc: 0.8533 - auc: 0.87 - ETA: 25:12 - loss: 0.3860 - acc: 0.8533 - auc: 0.87 - ETA: 25:04 - loss: 0.3857 - acc: 0.8535 - auc: 0.87 - ETA: 24:56 - loss: 0.3864 - acc: 0.8532 - auc: 0.87 - ETA: 24:48 - loss: 0.3859 - acc: 0.8535 - auc: 0.87 - ETA: 24:41 - loss: 0.3865 - acc: 0.8530 - auc: 0.87 - ETA: 24:33 - loss: 0.3876 - acc: 0.8522 - auc: 0.87 - ETA: 24:25 - loss: 0.3878 - acc: 0.8519 - auc: 0.87 - ETA: 24:18 - loss: 0.3879 - acc: 0.8518 - auc: 0.87 - ETA: 24:10 - loss: 0.3880 - acc: 0.8518 - auc: 0.87 - ETA: 24:03 - loss: 0.3882 - acc: 0.8514 - auc: 0.87 - ETA: 23:54 - loss: 0.3883 - acc: 0.8514 - auc: 0.87 - ETA: 23:47 - loss: 0.3885 - acc: 0.8512 - auc: 0.87 - ETA: 23:39 - loss: 0.3891 - acc: 0.8506 - auc: 0.87 - ETA: 23:32 - loss: 0.3887 - acc: 0.8507 - auc: 0.87 - ETA: 23:24 - loss: 0.3882 - acc: 0.8510 - auc: 0.87 - ETA: 23:17 - loss: 0.3875 - acc: 0.8514 - auc: 0.87 - ETA: 23:09 - loss: 0.3871 - acc: 0.8517 - auc: 0.87 - ETA: 23:01 - loss: 0.3870 - acc: 0.8521 - auc: 0.87 - ETA: 22:53 - loss: 0.3878 - acc: 0.8517 - auc: 0.87 - ETA: 22:46 - loss: 0.3878 - acc: 0.8518 - auc: 0.87 - ETA: 22:38 - loss: 0.3884 - acc: 0.8513 - auc: 0.87 - ETA: 22:31 - loss: 0.3879 - acc: 0.8519 - auc: 0.87 - ETA: 22:23 - loss: 0.3870 - acc: 0.8526 - auc: 0.87 - ETA: 22:16 - loss: 0.3867 - acc: 0.8529 - auc: 0.87 - ETA: 22:08 - loss: 0.3865 - acc: 0.8531 - auc: 0.87 - ETA: 22:00 - loss: 0.3863 - acc: 0.8532 - auc: 0.87 - ETA: 21:53 - loss: 0.3873 - acc: 0.8527 - auc: 0.87 - ETA: 21:45 - loss: 0.3880 - acc: 0.8522 - auc: 0.87 - ETA: 21:38 - loss: 0.3886 - acc: 0.8519 - auc: 0.87 - ETA: 21:30 - loss: 0.3893 - acc: 0.8517 - auc: 0.87 - ETA: 21:23 - loss: 0.3894 - acc: 0.8515 - auc: 0.87 - ETA: 21:15 - loss: 0.3891 - acc: 0.8516 - auc: 0.87 - ETA: 21:08 - loss: 0.3888 - acc: 0.8518 - auc: 0.87 - ETA: 21:00 - loss: 0.3891 - acc: 0.8517 - auc: 0.87 - ETA: 20:53 - loss: 0.3896 - acc: 0.8516 - auc: 0.87 - ETA: 20:45 - loss: 0.3896 - acc: 0.8515 - auc: 0.87 - ETA: 20:38 - loss: 0.3898 - acc: 0.8515 - auc: 0.87 - ETA: 20:30 - loss: 0.3899 - acc: 0.8515 - auc: 0.87 - ETA: 20:23 - loss: 0.3902 - acc: 0.8511 - auc: 0.87 - ETA: 20:15 - loss: 0.3900 - acc: 0.8511 - auc: 0.87 - ETA: 20:07 - loss: 0.3905 - acc: 0.8509 - auc: 0.87 - ETA: 20:00 - loss: 0.3911 - acc: 0.8506 - auc: 0.87 - ETA: 19:52 - loss: 0.3912 - acc: 0.8506 - auc: 0.87 - ETA: 19:44 - loss: 0.3913 - acc: 0.8506 - auc: 0.87 - ETA: 19:37 - loss: 0.3919 - acc: 0.8501 - auc: 0.87 - ETA: 19:29 - loss: 0.3917 - acc: 0.8502 - auc: 0.87 - ETA: 19:22 - loss: 0.3915 - acc: 0.8503 - auc: 0.87 - ETA: 19:14 - loss: 0.3917 - acc: 0.8501 - auc: 0.87 - ETA: 19:07 - loss: 0.3918 - acc: 0.8502 - auc: 0.87 - ETA: 18:59 - loss: 0.3917 - acc: 0.8502 - auc: 0.87 - ETA: 18:51 - loss: 0.3916 - acc: 0.8504 - auc: 0.87 - ETA: 18:44 - loss: 0.3912 - acc: 0.8506 - auc: 0.87 - ETA: 18:36 - loss: 0.3916 - acc: 0.8504 - auc: 0.87 - ETA: 18:29 - loss: 0.3915 - acc: 0.8505 - auc: 0.87 - ETA: 18:21 - loss: 0.3923 - acc: 0.8501 - auc: 0.87 - ETA: 18:14 - loss: 0.3923 - acc: 0.8502 - auc: 0.87 - ETA: 18:06 - loss: 0.3922 - acc: 0.8503 - auc: 0.87 - ETA: 17:58 - loss: 0.3918 - acc: 0.8507 - auc: 0.87 - ETA: 17:51 - loss: 0.3915 - acc: 0.8508 - auc: 0.87 - ETA: 17:43 - loss: 0.3913 - acc: 0.8509 - auc: 0.87 - ETA: 17:35 - loss: 0.3914 - acc: 0.8508 - auc: 0.87 - ETA: 17:28 - loss: 0.3914 - acc: 0.8508 - auc: 0.87 - ETA: 17:20 - loss: 0.3917 - acc: 0.8506 - auc: 0.87 - ETA: 17:13 - loss: 0.3921 - acc: 0.8505 - auc: 0.87 - ETA: 17:05 - loss: 0.3918 - acc: 0.8506 - auc: 0.87 - ETA: 16:57 - loss: 0.3917 - acc: 0.8507 - auc: 0.87 - ETA: 16:50 - loss: 0.3915 - acc: 0.8508 - auc: 0.87 - ETA: 16:42 - loss: 0.3919 - acc: 0.8505 - auc: 0.87 - ETA: 16:34 - loss: 0.3922 - acc: 0.8503 - auc: 0.87 - ETA: 16:27 - loss: 0.3923 - acc: 0.8504 - auc: 0.87 - ETA: 16:19 - loss: 0.3924 - acc: 0.8505 - auc: 0.87 - ETA: 16:11 - loss: 0.3921 - acc: 0.8507 - auc: 0.87 - ETA: 16:03 - loss: 0.3920 - acc: 0.8507 - auc: 0.88 - ETA: 15:56 - loss: 0.3920 - acc: 0.8507 - auc: 0.88 - ETA: 15:48 - loss: 0.3921 - acc: 0.8506 - auc: 0.88 - ETA: 15:40 - loss: 0.3925 - acc: 0.8504 - auc: 0.88 - ETA: 15:33 - loss: 0.3927 - acc: 0.8503 - auc: 0.88 - ETA: 15:25 - loss: 0.3927 - acc: 0.8504 - auc: 0.88 - ETA: 15:18 - loss: 0.3929 - acc: 0.8503 - auc: 0.88 - ETA: 15:10 - loss: 0.3931 - acc: 0.8502 - auc: 0.88 - ETA: 15:02 - loss: 0.3930 - acc: 0.8503 - auc: 0.88 - ETA: 14:55 - loss: 0.3929 - acc: 0.8504 - auc: 0.88 - ETA: 14:48 - loss: 0.3936 - acc: 0.8501 - auc: 0.88 - ETA: 14:40 - loss: 0.3939 - acc: 0.8500 - auc: 0.88 - ETA: 14:33 - loss: 0.3937 - acc: 0.8501 - auc: 0.88 - ETA: 14:25 - loss: 0.3934 - acc: 0.8503 - auc: 0.88 - ETA: 14:17 - loss: 0.3929 - acc: 0.8506 - auc: 0.88 - ETA: 14:10 - loss: 0.3928 - acc: 0.8506 - auc: 0.88 - ETA: 14:02 - loss: 0.3929 - acc: 0.8507 - auc: 0.88 - ETA: 13:55 - loss: 0.3926 - acc: 0.8508 - auc: 0.88 - ETA: 13:47 - loss: 0.3922 - acc: 0.8510 - auc: 0.88 - ETA: 13:39 - loss: 0.3926 - acc: 0.8509 - auc: 0.88 - ETA: 13:32 - loss: 0.3926 - acc: 0.8510 - auc: 0.88 - ETA: 13:24 - loss: 0.3927 - acc: 0.8510 - auc: 0.88 - ETA: 13:17 - loss: 0.3929 - acc: 0.8509 - auc: 0.88 - ETA: 13:09 - loss: 0.3924 - acc: 0.8512 - auc: 0.88 - ETA: 13:01 - loss: 0.3925 - acc: 0.8510 - auc: 0.88 - ETA: 12:54 - loss: 0.3926 - acc: 0.8510 - auc: 0.88 - ETA: 12:46 - loss: 0.3924 - acc: 0.8511 - auc: 0.88 - ETA: 12:39 - loss: 0.3924 - acc: 0.8512 - auc: 0.88 - ETA: 12:31 - loss: 0.3923 - acc: 0.8513 - auc: 0.88 - ETA: 12:24 - loss: 0.3921 - acc: 0.8514 - auc: 0.88 - ETA: 12:16 - loss: 0.3917 - acc: 0.8516 - auc: 0.880174288/74288 [==============================] - ETA: 12:08 - loss: 0.3917 - acc: 0.8517 - auc: 0.88 - ETA: 12:01 - loss: 0.3911 - acc: 0.8519 - auc: 0.88 - ETA: 11:53 - loss: 0.3914 - acc: 0.8518 - auc: 0.88 - ETA: 11:45 - loss: 0.3911 - acc: 0.8519 - auc: 0.88 - ETA: 11:38 - loss: 0.3912 - acc: 0.8519 - auc: 0.88 - ETA: 11:30 - loss: 0.3913 - acc: 0.8519 - auc: 0.88 - ETA: 11:23 - loss: 0.3912 - acc: 0.8519 - auc: 0.88 - ETA: 11:15 - loss: 0.3911 - acc: 0.8520 - auc: 0.88 - ETA: 11:07 - loss: 0.3915 - acc: 0.8517 - auc: 0.88 - ETA: 11:00 - loss: 0.3912 - acc: 0.8518 - auc: 0.88 - ETA: 10:52 - loss: 0.3913 - acc: 0.8517 - auc: 0.88 - ETA: 10:44 - loss: 0.3916 - acc: 0.8516 - auc: 0.88 - ETA: 10:37 - loss: 0.3914 - acc: 0.8517 - auc: 0.88 - ETA: 10:29 - loss: 0.3917 - acc: 0.8516 - auc: 0.88 - ETA: 10:22 - loss: 0.3917 - acc: 0.8516 - auc: 0.88 - ETA: 10:14 - loss: 0.3921 - acc: 0.8514 - auc: 0.88 - ETA: 10:06 - loss: 0.3922 - acc: 0.8513 - auc: 0.88 - ETA: 9:59 - loss: 0.3925 - acc: 0.8511 - auc: 0.8802 - ETA: 9:51 - loss: 0.3927 - acc: 0.8511 - auc: 0.880 - ETA: 9:43 - loss: 0.3926 - acc: 0.8512 - auc: 0.880 - ETA: 9:36 - loss: 0.3924 - acc: 0.8513 - auc: 0.880 - ETA: 9:28 - loss: 0.3923 - acc: 0.8514 - auc: 0.880 - ETA: 9:20 - loss: 0.3923 - acc: 0.8514 - auc: 0.880 - ETA: 9:13 - loss: 0.3925 - acc: 0.8514 - auc: 0.880 - ETA: 9:05 - loss: 0.3926 - acc: 0.8513 - auc: 0.880 - ETA: 8:58 - loss: 0.3927 - acc: 0.8512 - auc: 0.880 - ETA: 8:50 - loss: 0.3928 - acc: 0.8511 - auc: 0.880 - ETA: 8:42 - loss: 0.3927 - acc: 0.8512 - auc: 0.880 - ETA: 8:35 - loss: 0.3927 - acc: 0.8512 - auc: 0.880 - ETA: 8:27 - loss: 0.3929 - acc: 0.8510 - auc: 0.880 - ETA: 8:20 - loss: 0.3929 - acc: 0.8510 - auc: 0.880 - ETA: 8:12 - loss: 0.3928 - acc: 0.8511 - auc: 0.880 - ETA: 8:04 - loss: 0.3926 - acc: 0.8512 - auc: 0.880 - ETA: 7:57 - loss: 0.3926 - acc: 0.8512 - auc: 0.880 - ETA: 7:49 - loss: 0.3926 - acc: 0.8512 - auc: 0.880 - ETA: 7:41 - loss: 0.3923 - acc: 0.8513 - auc: 0.880 - ETA: 7:34 - loss: 0.3924 - acc: 0.8513 - auc: 0.880 - ETA: 7:26 - loss: 0.3923 - acc: 0.8514 - auc: 0.880 - ETA: 7:18 - loss: 0.3922 - acc: 0.8515 - auc: 0.880 - ETA: 7:11 - loss: 0.3922 - acc: 0.8515 - auc: 0.880 - ETA: 7:03 - loss: 0.3923 - acc: 0.8515 - auc: 0.880 - ETA: 6:56 - loss: 0.3925 - acc: 0.8515 - auc: 0.880 - ETA: 6:48 - loss: 0.3924 - acc: 0.8515 - auc: 0.880 - ETA: 6:40 - loss: 0.3924 - acc: 0.8515 - auc: 0.880 - ETA: 6:33 - loss: 0.3923 - acc: 0.8516 - auc: 0.880 - ETA: 6:25 - loss: 0.3921 - acc: 0.8517 - auc: 0.880 - ETA: 6:18 - loss: 0.3919 - acc: 0.8518 - auc: 0.880 - ETA: 6:10 - loss: 0.3921 - acc: 0.8517 - auc: 0.880 - ETA: 6:02 - loss: 0.3921 - acc: 0.8517 - auc: 0.880 - ETA: 5:55 - loss: 0.3921 - acc: 0.8517 - auc: 0.880 - ETA: 5:47 - loss: 0.3920 - acc: 0.8517 - auc: 0.880 - ETA: 5:39 - loss: 0.3920 - acc: 0.8518 - auc: 0.880 - ETA: 5:32 - loss: 0.3919 - acc: 0.8518 - auc: 0.880 - ETA: 5:24 - loss: 0.3919 - acc: 0.8518 - auc: 0.880 - ETA: 5:17 - loss: 0.3919 - acc: 0.8518 - auc: 0.880 - ETA: 5:09 - loss: 0.3920 - acc: 0.8518 - auc: 0.880 - ETA: 5:01 - loss: 0.3920 - acc: 0.8518 - auc: 0.880 - ETA: 4:54 - loss: 0.3921 - acc: 0.8517 - auc: 0.880 - ETA: 4:46 - loss: 0.3922 - acc: 0.8517 - auc: 0.880 - ETA: 4:39 - loss: 0.3919 - acc: 0.8519 - auc: 0.880 - ETA: 4:31 - loss: 0.3918 - acc: 0.8520 - auc: 0.880 - ETA: 4:23 - loss: 0.3916 - acc: 0.8521 - auc: 0.880 - ETA: 4:16 - loss: 0.3915 - acc: 0.8522 - auc: 0.880 - ETA: 4:08 - loss: 0.3916 - acc: 0.8522 - auc: 0.880 - ETA: 4:01 - loss: 0.3917 - acc: 0.8521 - auc: 0.880 - ETA: 3:53 - loss: 0.3917 - acc: 0.8521 - auc: 0.880 - ETA: 3:45 - loss: 0.3918 - acc: 0.8520 - auc: 0.880 - ETA: 3:38 - loss: 0.3917 - acc: 0.8521 - auc: 0.880 - ETA: 3:30 - loss: 0.3915 - acc: 0.8523 - auc: 0.880 - ETA: 3:22 - loss: 0.3915 - acc: 0.8523 - auc: 0.880 - ETA: 3:15 - loss: 0.3915 - acc: 0.8523 - auc: 0.880 - ETA: 3:07 - loss: 0.3914 - acc: 0.8524 - auc: 0.880 - ETA: 3:00 - loss: 0.3915 - acc: 0.8523 - auc: 0.880 - ETA: 2:52 - loss: 0.3917 - acc: 0.8523 - auc: 0.880 - ETA: 2:44 - loss: 0.3918 - acc: 0.8522 - auc: 0.880 - ETA: 2:37 - loss: 0.3921 - acc: 0.8520 - auc: 0.880 - ETA: 2:29 - loss: 0.3922 - acc: 0.8520 - auc: 0.880 - ETA: 2:21 - loss: 0.3922 - acc: 0.8521 - auc: 0.880 - ETA: 2:14 - loss: 0.3922 - acc: 0.8520 - auc: 0.880 - ETA: 2:06 - loss: 0.3922 - acc: 0.8521 - auc: 0.880 - ETA: 1:59 - loss: 0.3922 - acc: 0.8521 - auc: 0.880 - ETA: 1:51 - loss: 0.3923 - acc: 0.8520 - auc: 0.880 - ETA: 1:43 - loss: 0.3924 - acc: 0.8520 - auc: 0.880 - ETA: 1:36 - loss: 0.3926 - acc: 0.8519 - auc: 0.880 - ETA: 1:28 - loss: 0.3928 - acc: 0.8517 - auc: 0.880 - ETA: 1:20 - loss: 0.3932 - acc: 0.8514 - auc: 0.880 - ETA: 1:13 - loss: 0.3931 - acc: 0.8515 - auc: 0.880 - ETA: 1:05 - loss: 0.3932 - acc: 0.8514 - auc: 0.880 - ETA: 58s - loss: 0.3932 - acc: 0.8514 - auc: 0.880 - ETA: 50s - loss: 0.3930 - acc: 0.8515 - auc: 0.88 - ETA: 42s - loss: 0.3930 - acc: 0.8516 - auc: 0.88 - ETA: 35s - loss: 0.3932 - acc: 0.8515 - auc: 0.88 - ETA: 27s - loss: 0.3931 - acc: 0.8516 - auc: 0.88 - ETA: 20s - loss: 0.3930 - acc: 0.8516 - auc: 0.88 - ETA: 12s - loss: 0.3930 - acc: 0.8515 - auc: 0.88 - ETA: 4s - loss: 0.3931 - acc: 0.8515 - auc: 0.8807 - 2012s 27ms/step - loss: 0.3931 - acc: 0.8515 - auc: 0.8807 - val_loss: 0.4288 - val_acc: 0.8449 - val_auc: 0.8818\n",
      "Epoch 6/12\n"
     ]
    },
    {
     "name": "stdout",
     "output_type": "stream",
     "text": [
      "45300/74288 [=================>............] - ETA: 32:36 - loss: 0.3932 - acc: 0.8533 - auc: 0.88 - ETA: 32:05 - loss: 0.3752 - acc: 0.8633 - auc: 0.88 - ETA: 31:40 - loss: 0.3791 - acc: 0.8556 - auc: 0.88 - ETA: 31:26 - loss: 0.3765 - acc: 0.8567 - auc: 0.88 - ETA: 31:14 - loss: 0.3925 - acc: 0.8467 - auc: 0.88 - ETA: 31:17 - loss: 0.3821 - acc: 0.8528 - auc: 0.88 - ETA: 31:06 - loss: 0.3766 - acc: 0.8576 - auc: 0.88 - ETA: 30:54 - loss: 0.3724 - acc: 0.8608 - auc: 0.88 - ETA: 30:46 - loss: 0.3744 - acc: 0.8596 - auc: 0.88 - ETA: 30:39 - loss: 0.3710 - acc: 0.8610 - auc: 0.88 - ETA: 30:29 - loss: 0.3719 - acc: 0.8603 - auc: 0.88 - ETA: 30:20 - loss: 0.3725 - acc: 0.8597 - auc: 0.88 - ETA: 30:11 - loss: 0.3739 - acc: 0.8569 - auc: 0.88 - ETA: 30:00 - loss: 0.3738 - acc: 0.8555 - auc: 0.88 - ETA: 29:51 - loss: 0.3762 - acc: 0.8542 - auc: 0.88 - ETA: 29:41 - loss: 0.3800 - acc: 0.8519 - auc: 0.88 - ETA: 29:32 - loss: 0.3789 - acc: 0.8524 - auc: 0.88 - ETA: 29:25 - loss: 0.3782 - acc: 0.8526 - auc: 0.88 - ETA: 29:28 - loss: 0.3792 - acc: 0.8523 - auc: 0.88 - ETA: 29:28 - loss: 0.3762 - acc: 0.8545 - auc: 0.88 - ETA: 29:26 - loss: 0.3737 - acc: 0.8554 - auc: 0.88 - ETA: 29:31 - loss: 0.3736 - acc: 0.8556 - auc: 0.88 - ETA: 29:29 - loss: 0.3720 - acc: 0.8565 - auc: 0.88 - ETA: 29:24 - loss: 0.3729 - acc: 0.8560 - auc: 0.88 - ETA: 29:23 - loss: 0.3727 - acc: 0.8560 - auc: 0.88 - ETA: 29:18 - loss: 0.3737 - acc: 0.8551 - auc: 0.88 - ETA: 29:14 - loss: 0.3747 - acc: 0.8540 - auc: 0.88 - ETA: 29:09 - loss: 0.3735 - acc: 0.8543 - auc: 0.88 - ETA: 29:06 - loss: 0.3768 - acc: 0.8523 - auc: 0.88 - ETA: 29:02 - loss: 0.3760 - acc: 0.8526 - auc: 0.88 - ETA: 28:56 - loss: 0.3748 - acc: 0.8532 - auc: 0.88 - ETA: 28:52 - loss: 0.3750 - acc: 0.8533 - auc: 0.88 - ETA: 28:47 - loss: 0.3776 - acc: 0.8522 - auc: 0.88 - ETA: 28:41 - loss: 0.3782 - acc: 0.8521 - auc: 0.88 - ETA: 28:30 - loss: 0.3774 - acc: 0.8524 - auc: 0.88 - ETA: 28:20 - loss: 0.3768 - acc: 0.8529 - auc: 0.88 - ETA: 28:10 - loss: 0.3763 - acc: 0.8532 - auc: 0.88 - ETA: 28:00 - loss: 0.3739 - acc: 0.8545 - auc: 0.88 - ETA: 27:50 - loss: 0.3723 - acc: 0.8554 - auc: 0.88 - ETA: 27:40 - loss: 0.3703 - acc: 0.8565 - auc: 0.88 - ETA: 27:29 - loss: 0.3725 - acc: 0.8557 - auc: 0.88 - ETA: 27:19 - loss: 0.3724 - acc: 0.8557 - auc: 0.88 - ETA: 27:10 - loss: 0.3736 - acc: 0.8550 - auc: 0.88 - ETA: 27:00 - loss: 0.3722 - acc: 0.8558 - auc: 0.88 - ETA: 26:51 - loss: 0.3728 - acc: 0.8554 - auc: 0.88 - ETA: 26:41 - loss: 0.3735 - acc: 0.8550 - auc: 0.88 - ETA: 26:32 - loss: 0.3737 - acc: 0.8548 - auc: 0.88 - ETA: 26:23 - loss: 0.3735 - acc: 0.8550 - auc: 0.88 - ETA: 26:14 - loss: 0.3744 - acc: 0.8546 - auc: 0.88 - ETA: 26:04 - loss: 0.3751 - acc: 0.8541 - auc: 0.88 - ETA: 25:56 - loss: 0.3748 - acc: 0.8542 - auc: 0.88 - ETA: 25:48 - loss: 0.3753 - acc: 0.8538 - auc: 0.88 - ETA: 25:39 - loss: 0.3752 - acc: 0.8542 - auc: 0.88 - ETA: 25:30 - loss: 0.3746 - acc: 0.8546 - auc: 0.88 - ETA: 25:21 - loss: 0.3752 - acc: 0.8540 - auc: 0.88 - ETA: 25:12 - loss: 0.3749 - acc: 0.8542 - auc: 0.88 - ETA: 25:04 - loss: 0.3748 - acc: 0.8542 - auc: 0.88 - ETA: 24:56 - loss: 0.3754 - acc: 0.8538 - auc: 0.88 - ETA: 24:50 - loss: 0.3758 - acc: 0.8536 - auc: 0.88 - ETA: 24:43 - loss: 0.3758 - acc: 0.8534 - auc: 0.88 - ETA: 24:34 - loss: 0.3752 - acc: 0.8539 - auc: 0.88 - ETA: 24:26 - loss: 0.3752 - acc: 0.8540 - auc: 0.88 - ETA: 24:18 - loss: 0.3755 - acc: 0.8540 - auc: 0.88 - ETA: 24:09 - loss: 0.3756 - acc: 0.8540 - auc: 0.88 - ETA: 24:01 - loss: 0.3761 - acc: 0.8536 - auc: 0.88 - ETA: 23:53 - loss: 0.3758 - acc: 0.8538 - auc: 0.88 - ETA: 23:44 - loss: 0.3753 - acc: 0.8541 - auc: 0.88 - ETA: 23:36 - loss: 0.3749 - acc: 0.8546 - auc: 0.88 - ETA: 23:27 - loss: 0.3751 - acc: 0.8545 - auc: 0.88 - ETA: 23:19 - loss: 0.3756 - acc: 0.8543 - auc: 0.88 - ETA: 23:10 - loss: 0.3765 - acc: 0.8538 - auc: 0.88 - ETA: 23:02 - loss: 0.3765 - acc: 0.8538 - auc: 0.88 - ETA: 22:53 - loss: 0.3768 - acc: 0.8539 - auc: 0.88 - ETA: 22:45 - loss: 0.3776 - acc: 0.8535 - auc: 0.88 - ETA: 22:37 - loss: 0.3776 - acc: 0.8535 - auc: 0.88 - ETA: 22:29 - loss: 0.3776 - acc: 0.8534 - auc: 0.88 - ETA: 22:20 - loss: 0.3775 - acc: 0.8537 - auc: 0.88 - ETA: 22:12 - loss: 0.3773 - acc: 0.8536 - auc: 0.88 - ETA: 22:04 - loss: 0.3774 - acc: 0.8536 - auc: 0.88 - ETA: 21:56 - loss: 0.3774 - acc: 0.8538 - auc: 0.88 - ETA: 21:47 - loss: 0.3774 - acc: 0.8537 - auc: 0.88 - ETA: 21:39 - loss: 0.3779 - acc: 0.8535 - auc: 0.88 - ETA: 21:31 - loss: 0.3790 - acc: 0.8530 - auc: 0.88 - ETA: 21:24 - loss: 0.3796 - acc: 0.8526 - auc: 0.88 - ETA: 21:20 - loss: 0.3796 - acc: 0.8526 - auc: 0.88 - ETA: 21:15 - loss: 0.3795 - acc: 0.8524 - auc: 0.88 - ETA: 21:10 - loss: 0.3792 - acc: 0.8527 - auc: 0.88 - ETA: 21:06 - loss: 0.3790 - acc: 0.8529 - auc: 0.88 - ETA: 21:01 - loss: 0.3792 - acc: 0.8529 - auc: 0.88 - ETA: 20:56 - loss: 0.3791 - acc: 0.8530 - auc: 0.88 - ETA: 20:51 - loss: 0.3793 - acc: 0.8528 - auc: 0.88 - ETA: 20:45 - loss: 0.3792 - acc: 0.8528 - auc: 0.88 - ETA: 20:40 - loss: 0.3791 - acc: 0.8528 - auc: 0.88 - ETA: 20:35 - loss: 0.3794 - acc: 0.8526 - auc: 0.88 - ETA: 20:28 - loss: 0.3792 - acc: 0.8526 - auc: 0.88 - ETA: 20:27 - loss: 0.3789 - acc: 0.8528 - auc: 0.88 - ETA: 20:22 - loss: 0.3790 - acc: 0.8527 - auc: 0.88 - ETA: 20:15 - loss: 0.3789 - acc: 0.8527 - auc: 0.88 - ETA: 20:09 - loss: 0.3786 - acc: 0.8530 - auc: 0.88 - ETA: 20:03 - loss: 0.3789 - acc: 0.8527 - auc: 0.88 - ETA: 19:57 - loss: 0.3788 - acc: 0.8528 - auc: 0.88 - ETA: 19:50 - loss: 0.3786 - acc: 0.8529 - auc: 0.88 - ETA: 19:42 - loss: 0.3786 - acc: 0.8529 - auc: 0.88 - ETA: 19:33 - loss: 0.3793 - acc: 0.8526 - auc: 0.88 - ETA: 19:24 - loss: 0.3795 - acc: 0.8525 - auc: 0.88 - ETA: 19:16 - loss: 0.3797 - acc: 0.8523 - auc: 0.88 - ETA: 19:08 - loss: 0.3796 - acc: 0.8525 - auc: 0.88 - ETA: 18:59 - loss: 0.3797 - acc: 0.8524 - auc: 0.88 - ETA: 18:50 - loss: 0.3797 - acc: 0.8524 - auc: 0.88 - ETA: 18:42 - loss: 0.3793 - acc: 0.8527 - auc: 0.88 - ETA: 18:33 - loss: 0.3789 - acc: 0.8529 - auc: 0.88 - ETA: 18:24 - loss: 0.3783 - acc: 0.8532 - auc: 0.88 - ETA: 18:16 - loss: 0.3782 - acc: 0.8532 - auc: 0.88 - ETA: 18:07 - loss: 0.3784 - acc: 0.8532 - auc: 0.88 - ETA: 17:58 - loss: 0.3782 - acc: 0.8533 - auc: 0.88 - ETA: 17:49 - loss: 0.3781 - acc: 0.8534 - auc: 0.88 - ETA: 17:41 - loss: 0.3778 - acc: 0.8535 - auc: 0.88 - ETA: 17:32 - loss: 0.3771 - acc: 0.8539 - auc: 0.88 - ETA: 17:23 - loss: 0.3774 - acc: 0.8539 - auc: 0.88 - ETA: 17:14 - loss: 0.3773 - acc: 0.8540 - auc: 0.88 - ETA: 17:06 - loss: 0.3772 - acc: 0.8540 - auc: 0.88 - ETA: 16:57 - loss: 0.3771 - acc: 0.8542 - auc: 0.88 - ETA: 16:48 - loss: 0.3770 - acc: 0.8543 - auc: 0.88 - ETA: 16:40 - loss: 0.3772 - acc: 0.8541 - auc: 0.88 - ETA: 16:31 - loss: 0.3769 - acc: 0.8543 - auc: 0.88 - ETA: 16:23 - loss: 0.3766 - acc: 0.8544 - auc: 0.88 - ETA: 16:14 - loss: 0.3768 - acc: 0.8544 - auc: 0.88 - ETA: 16:06 - loss: 0.3765 - acc: 0.8546 - auc: 0.88 - ETA: 15:57 - loss: 0.3762 - acc: 0.8548 - auc: 0.88 - ETA: 15:49 - loss: 0.3764 - acc: 0.8547 - auc: 0.88 - ETA: 15:40 - loss: 0.3765 - acc: 0.8547 - auc: 0.88 - ETA: 15:32 - loss: 0.3768 - acc: 0.8546 - auc: 0.88 - ETA: 15:24 - loss: 0.3767 - acc: 0.8547 - auc: 0.88 - ETA: 15:15 - loss: 0.3764 - acc: 0.8548 - auc: 0.88 - ETA: 15:07 - loss: 0.3763 - acc: 0.8548 - auc: 0.88 - ETA: 14:58 - loss: 0.3765 - acc: 0.8546 - auc: 0.88 - ETA: 14:50 - loss: 0.3765 - acc: 0.8546 - auc: 0.88 - ETA: 14:42 - loss: 0.3762 - acc: 0.8548 - auc: 0.88 - ETA: 14:33 - loss: 0.3762 - acc: 0.8549 - auc: 0.88 - ETA: 14:25 - loss: 0.3758 - acc: 0.8550 - auc: 0.88 - ETA: 14:16 - loss: 0.3763 - acc: 0.8548 - auc: 0.88 - ETA: 14:08 - loss: 0.3765 - acc: 0.8547 - auc: 0.88 - ETA: 14:00 - loss: 0.3768 - acc: 0.8545 - auc: 0.88 - ETA: 13:51 - loss: 0.3770 - acc: 0.8544 - auc: 0.88 - ETA: 13:43 - loss: 0.3769 - acc: 0.8546 - auc: 0.88 - ETA: 13:35 - loss: 0.3765 - acc: 0.8548 - auc: 0.88 - ETA: 13:27 - loss: 0.3761 - acc: 0.8551 - auc: 0.88 - ETA: 13:18 - loss: 0.3764 - acc: 0.8549 - auc: 0.88 - ETA: 13:10 - loss: 0.3761 - acc: 0.8551 - auc: 0.88 - ETA: 13:01 - loss: 0.3761 - acc: 0.8552 - auc: 0.88 - ETA: 12:53 - loss: 0.3759 - acc: 0.8554 - auc: 0.8829"
     ]
    },
    {
     "name": "stdout",
     "output_type": "stream",
     "text": [
      "74288/74288 [==============================] - ETA: 12:45 - loss: 0.3758 - acc: 0.8555 - auc: 0.88 - ETA: 12:37 - loss: 0.3755 - acc: 0.8557 - auc: 0.88 - ETA: 12:28 - loss: 0.3750 - acc: 0.8559 - auc: 0.88 - ETA: 12:20 - loss: 0.3753 - acc: 0.8558 - auc: 0.88 - ETA: 12:12 - loss: 0.3753 - acc: 0.8558 - auc: 0.88 - ETA: 12:04 - loss: 0.3752 - acc: 0.8559 - auc: 0.88 - ETA: 11:56 - loss: 0.3753 - acc: 0.8559 - auc: 0.88 - ETA: 11:47 - loss: 0.3753 - acc: 0.8559 - auc: 0.88 - ETA: 11:39 - loss: 0.3752 - acc: 0.8560 - auc: 0.88 - ETA: 11:31 - loss: 0.3751 - acc: 0.8560 - auc: 0.88 - ETA: 11:23 - loss: 0.3755 - acc: 0.8559 - auc: 0.88 - ETA: 11:15 - loss: 0.3753 - acc: 0.8560 - auc: 0.88 - ETA: 11:07 - loss: 0.3754 - acc: 0.8560 - auc: 0.88 - ETA: 10:58 - loss: 0.3752 - acc: 0.8561 - auc: 0.88 - ETA: 10:50 - loss: 0.3752 - acc: 0.8561 - auc: 0.88 - ETA: 10:42 - loss: 0.3752 - acc: 0.8562 - auc: 0.88 - ETA: 10:34 - loss: 0.3754 - acc: 0.8561 - auc: 0.88 - ETA: 10:26 - loss: 0.3755 - acc: 0.8561 - auc: 0.88 - ETA: 10:18 - loss: 0.3758 - acc: 0.8560 - auc: 0.88 - ETA: 10:09 - loss: 0.3760 - acc: 0.8559 - auc: 0.88 - ETA: 10:02 - loss: 0.3761 - acc: 0.8559 - auc: 0.88 - ETA: 9:54 - loss: 0.3759 - acc: 0.8560 - auc: 0.8831 - ETA: 9:46 - loss: 0.3758 - acc: 0.8560 - auc: 0.883 - ETA: 9:38 - loss: 0.3756 - acc: 0.8561 - auc: 0.883 - ETA: 9:30 - loss: 0.3757 - acc: 0.8560 - auc: 0.883 - ETA: 9:23 - loss: 0.3759 - acc: 0.8558 - auc: 0.883 - ETA: 9:15 - loss: 0.3759 - acc: 0.8558 - auc: 0.883 - ETA: 9:06 - loss: 0.3763 - acc: 0.8556 - auc: 0.883 - ETA: 8:58 - loss: 0.3764 - acc: 0.8556 - auc: 0.883 - ETA: 8:50 - loss: 0.3763 - acc: 0.8556 - auc: 0.883 - ETA: 8:42 - loss: 0.3761 - acc: 0.8557 - auc: 0.883 - ETA: 8:34 - loss: 0.3762 - acc: 0.8557 - auc: 0.883 - ETA: 8:26 - loss: 0.3762 - acc: 0.8557 - auc: 0.883 - ETA: 8:18 - loss: 0.3763 - acc: 0.8555 - auc: 0.883 - ETA: 8:10 - loss: 0.3763 - acc: 0.8555 - auc: 0.883 - ETA: 8:02 - loss: 0.3763 - acc: 0.8555 - auc: 0.883 - ETA: 7:54 - loss: 0.3764 - acc: 0.8554 - auc: 0.883 - ETA: 7:46 - loss: 0.3762 - acc: 0.8555 - auc: 0.883 - ETA: 7:37 - loss: 0.3762 - acc: 0.8556 - auc: 0.883 - ETA: 7:29 - loss: 0.3758 - acc: 0.8557 - auc: 0.883 - ETA: 7:21 - loss: 0.3761 - acc: 0.8557 - auc: 0.883 - ETA: 7:13 - loss: 0.3766 - acc: 0.8555 - auc: 0.883 - ETA: 7:05 - loss: 0.3765 - acc: 0.8555 - auc: 0.883 - ETA: 6:57 - loss: 0.3766 - acc: 0.8555 - auc: 0.883 - ETA: 6:49 - loss: 0.3764 - acc: 0.8556 - auc: 0.883 - ETA: 6:41 - loss: 0.3766 - acc: 0.8556 - auc: 0.883 - ETA: 6:33 - loss: 0.3766 - acc: 0.8556 - auc: 0.883 - ETA: 6:25 - loss: 0.3765 - acc: 0.8557 - auc: 0.883 - ETA: 6:17 - loss: 0.3762 - acc: 0.8558 - auc: 0.883 - ETA: 6:09 - loss: 0.3761 - acc: 0.8560 - auc: 0.883 - ETA: 6:01 - loss: 0.3758 - acc: 0.8561 - auc: 0.883 - ETA: 5:53 - loss: 0.3756 - acc: 0.8563 - auc: 0.883 - ETA: 5:45 - loss: 0.3758 - acc: 0.8562 - auc: 0.883 - ETA: 5:37 - loss: 0.3754 - acc: 0.8564 - auc: 0.883 - ETA: 5:29 - loss: 0.3754 - acc: 0.8564 - auc: 0.883 - ETA: 5:21 - loss: 0.3754 - acc: 0.8565 - auc: 0.883 - ETA: 5:13 - loss: 0.3754 - acc: 0.8565 - auc: 0.883 - ETA: 5:05 - loss: 0.3755 - acc: 0.8563 - auc: 0.883 - ETA: 4:57 - loss: 0.3755 - acc: 0.8563 - auc: 0.883 - ETA: 4:49 - loss: 0.3753 - acc: 0.8564 - auc: 0.883 - ETA: 4:41 - loss: 0.3754 - acc: 0.8564 - auc: 0.883 - ETA: 4:33 - loss: 0.3753 - acc: 0.8564 - auc: 0.883 - ETA: 4:26 - loss: 0.3755 - acc: 0.8563 - auc: 0.883 - ETA: 4:18 - loss: 0.3758 - acc: 0.8561 - auc: 0.883 - ETA: 4:10 - loss: 0.3759 - acc: 0.8561 - auc: 0.883 - ETA: 4:02 - loss: 0.3761 - acc: 0.8559 - auc: 0.883 - ETA: 3:54 - loss: 0.3762 - acc: 0.8559 - auc: 0.883 - ETA: 3:46 - loss: 0.3762 - acc: 0.8560 - auc: 0.883 - ETA: 3:38 - loss: 0.3762 - acc: 0.8560 - auc: 0.883 - ETA: 3:30 - loss: 0.3762 - acc: 0.8560 - auc: 0.883 - ETA: 3:22 - loss: 0.3763 - acc: 0.8559 - auc: 0.883 - ETA: 3:14 - loss: 0.3763 - acc: 0.8559 - auc: 0.883 - ETA: 3:06 - loss: 0.3765 - acc: 0.8558 - auc: 0.883 - ETA: 2:58 - loss: 0.3766 - acc: 0.8557 - auc: 0.883 - ETA: 2:50 - loss: 0.3770 - acc: 0.8555 - auc: 0.883 - ETA: 2:42 - loss: 0.3773 - acc: 0.8554 - auc: 0.883 - ETA: 2:34 - loss: 0.3773 - acc: 0.8554 - auc: 0.883 - ETA: 2:26 - loss: 0.3773 - acc: 0.8555 - auc: 0.883 - ETA: 2:19 - loss: 0.3771 - acc: 0.8556 - auc: 0.883 - ETA: 2:11 - loss: 0.3770 - acc: 0.8556 - auc: 0.883 - ETA: 2:03 - loss: 0.3770 - acc: 0.8557 - auc: 0.883 - ETA: 1:55 - loss: 0.3770 - acc: 0.8557 - auc: 0.883 - ETA: 1:47 - loss: 0.3771 - acc: 0.8557 - auc: 0.883 - ETA: 1:39 - loss: 0.3770 - acc: 0.8558 - auc: 0.883 - ETA: 1:31 - loss: 0.3770 - acc: 0.8557 - auc: 0.883 - ETA: 1:23 - loss: 0.3772 - acc: 0.8556 - auc: 0.883 - ETA: 1:15 - loss: 0.3772 - acc: 0.8556 - auc: 0.883 - ETA: 1:07 - loss: 0.3775 - acc: 0.8554 - auc: 0.883 - ETA: 1:00 - loss: 0.3777 - acc: 0.8553 - auc: 0.883 - ETA: 52s - loss: 0.3778 - acc: 0.8553 - auc: 0.883 - ETA: 44s - loss: 0.3778 - acc: 0.8552 - auc: 0.88 - ETA: 36s - loss: 0.3779 - acc: 0.8552 - auc: 0.88 - ETA: 28s - loss: 0.3780 - acc: 0.8552 - auc: 0.88 - ETA: 20s - loss: 0.3782 - acc: 0.8551 - auc: 0.88 - ETA: 12s - loss: 0.3783 - acc: 0.8550 - auc: 0.88 - ETA: 4s - loss: 0.3783 - acc: 0.8551 - auc: 0.8836 - 2072s 28ms/step - loss: 0.3782 - acc: 0.8552 - auc: 0.8836 - val_loss: 0.4372 - val_acc: 0.8461 - val_auc: 0.8850\n",
      "Epoch 7/12\n"
     ]
    },
    {
     "name": "stdout",
     "output_type": "stream",
     "text": [
      "45300/74288 [=================>............] - ETA: 30:59 - loss: 0.4226 - acc: 0.8167 - auc: 0.88 - ETA: 30:55 - loss: 0.3756 - acc: 0.8467 - auc: 0.88 - ETA: 30:52 - loss: 0.3845 - acc: 0.8444 - auc: 0.88 - ETA: 30:47 - loss: 0.3738 - acc: 0.8533 - auc: 0.88 - ETA: 30:38 - loss: 0.3709 - acc: 0.8520 - auc: 0.88 - ETA: 30:36 - loss: 0.3656 - acc: 0.8539 - auc: 0.88 - ETA: 30:24 - loss: 0.3601 - acc: 0.8581 - auc: 0.88 - ETA: 30:16 - loss: 0.3620 - acc: 0.8562 - auc: 0.88 - ETA: 30:09 - loss: 0.3634 - acc: 0.8581 - auc: 0.88 - ETA: 30:02 - loss: 0.3663 - acc: 0.8560 - auc: 0.88 - ETA: 29:58 - loss: 0.3625 - acc: 0.8579 - auc: 0.88 - ETA: 29:49 - loss: 0.3648 - acc: 0.8564 - auc: 0.88 - ETA: 29:42 - loss: 0.3640 - acc: 0.8567 - auc: 0.88 - ETA: 29:35 - loss: 0.3639 - acc: 0.8555 - auc: 0.88 - ETA: 29:30 - loss: 0.3644 - acc: 0.8549 - auc: 0.88 - ETA: 29:23 - loss: 0.3637 - acc: 0.8556 - auc: 0.88 - ETA: 29:15 - loss: 0.3628 - acc: 0.8557 - auc: 0.88 - ETA: 29:11 - loss: 0.3616 - acc: 0.8561 - auc: 0.88 - ETA: 29:04 - loss: 0.3622 - acc: 0.8561 - auc: 0.88 - ETA: 28:56 - loss: 0.3621 - acc: 0.8562 - auc: 0.88 - ETA: 28:52 - loss: 0.3608 - acc: 0.8571 - auc: 0.88 - ETA: 28:44 - loss: 0.3631 - acc: 0.8564 - auc: 0.88 - ETA: 28:36 - loss: 0.3642 - acc: 0.8558 - auc: 0.88 - ETA: 28:28 - loss: 0.3635 - acc: 0.8562 - auc: 0.88 - ETA: 28:19 - loss: 0.3624 - acc: 0.8568 - auc: 0.88 - ETA: 28:11 - loss: 0.3613 - acc: 0.8581 - auc: 0.88 - ETA: 28:03 - loss: 0.3611 - acc: 0.8590 - auc: 0.88 - ETA: 27:55 - loss: 0.3596 - acc: 0.8602 - auc: 0.88 - ETA: 27:46 - loss: 0.3614 - acc: 0.8592 - auc: 0.88 - ETA: 27:38 - loss: 0.3599 - acc: 0.8602 - auc: 0.88 - ETA: 27:31 - loss: 0.3594 - acc: 0.8602 - auc: 0.88 - ETA: 27:22 - loss: 0.3595 - acc: 0.8604 - auc: 0.88 - ETA: 27:15 - loss: 0.3597 - acc: 0.8604 - auc: 0.88 - ETA: 27:07 - loss: 0.3593 - acc: 0.8603 - auc: 0.88 - ETA: 27:00 - loss: 0.3590 - acc: 0.8603 - auc: 0.88 - ETA: 26:52 - loss: 0.3579 - acc: 0.8609 - auc: 0.88 - ETA: 26:45 - loss: 0.3583 - acc: 0.8611 - auc: 0.88 - ETA: 26:37 - loss: 0.3591 - acc: 0.8606 - auc: 0.88 - ETA: 26:30 - loss: 0.3595 - acc: 0.8604 - auc: 0.88 - ETA: 26:22 - loss: 0.3592 - acc: 0.8605 - auc: 0.88 - ETA: 26:14 - loss: 0.3593 - acc: 0.8607 - auc: 0.88 - ETA: 26:06 - loss: 0.3599 - acc: 0.8604 - auc: 0.88 - ETA: 25:59 - loss: 0.3588 - acc: 0.8609 - auc: 0.88 - ETA: 25:52 - loss: 0.3598 - acc: 0.8603 - auc: 0.88 - ETA: 25:44 - loss: 0.3598 - acc: 0.8602 - auc: 0.88 - ETA: 25:36 - loss: 0.3600 - acc: 0.8599 - auc: 0.88 - ETA: 25:28 - loss: 0.3604 - acc: 0.8598 - auc: 0.88 - ETA: 25:20 - loss: 0.3588 - acc: 0.8609 - auc: 0.88 - ETA: 25:13 - loss: 0.3579 - acc: 0.8614 - auc: 0.88 - ETA: 25:05 - loss: 0.3576 - acc: 0.8615 - auc: 0.88 - ETA: 24:57 - loss: 0.3569 - acc: 0.8620 - auc: 0.88 - ETA: 24:49 - loss: 0.3567 - acc: 0.8619 - auc: 0.88 - ETA: 24:42 - loss: 0.3578 - acc: 0.8613 - auc: 0.88 - ETA: 24:34 - loss: 0.3583 - acc: 0.8615 - auc: 0.88 - ETA: 24:26 - loss: 0.3574 - acc: 0.8619 - auc: 0.88 - ETA: 24:18 - loss: 0.3575 - acc: 0.8618 - auc: 0.88 - ETA: 24:10 - loss: 0.3568 - acc: 0.8621 - auc: 0.88 - ETA: 24:03 - loss: 0.3561 - acc: 0.8626 - auc: 0.88 - ETA: 23:55 - loss: 0.3559 - acc: 0.8627 - auc: 0.88 - ETA: 23:48 - loss: 0.3558 - acc: 0.8628 - auc: 0.88 - ETA: 23:40 - loss: 0.3559 - acc: 0.8628 - auc: 0.88 - ETA: 23:32 - loss: 0.3567 - acc: 0.8625 - auc: 0.88 - ETA: 23:25 - loss: 0.3558 - acc: 0.8630 - auc: 0.88 - ETA: 23:17 - loss: 0.3551 - acc: 0.8636 - auc: 0.88 - ETA: 23:10 - loss: 0.3555 - acc: 0.8632 - auc: 0.88 - ETA: 23:02 - loss: 0.3554 - acc: 0.8633 - auc: 0.88 - ETA: 22:55 - loss: 0.3553 - acc: 0.8633 - auc: 0.88 - ETA: 22:48 - loss: 0.3559 - acc: 0.8631 - auc: 0.88 - ETA: 22:40 - loss: 0.3557 - acc: 0.8631 - auc: 0.88 - ETA: 22:33 - loss: 0.3566 - acc: 0.8628 - auc: 0.88 - ETA: 22:25 - loss: 0.3574 - acc: 0.8624 - auc: 0.88 - ETA: 22:18 - loss: 0.3582 - acc: 0.8620 - auc: 0.88 - ETA: 22:10 - loss: 0.3580 - acc: 0.8621 - auc: 0.88 - ETA: 22:02 - loss: 0.3580 - acc: 0.8622 - auc: 0.88 - ETA: 21:55 - loss: 0.3579 - acc: 0.8623 - auc: 0.88 - ETA: 21:47 - loss: 0.3577 - acc: 0.8622 - auc: 0.88 - ETA: 21:39 - loss: 0.3578 - acc: 0.8622 - auc: 0.88 - ETA: 21:32 - loss: 0.3592 - acc: 0.8615 - auc: 0.88 - ETA: 21:25 - loss: 0.3589 - acc: 0.8616 - auc: 0.88 - ETA: 21:17 - loss: 0.3590 - acc: 0.8617 - auc: 0.88 - ETA: 21:09 - loss: 0.3584 - acc: 0.8620 - auc: 0.88 - ETA: 21:01 - loss: 0.3582 - acc: 0.8621 - auc: 0.88 - ETA: 20:54 - loss: 0.3588 - acc: 0.8618 - auc: 0.88 - ETA: 20:46 - loss: 0.3588 - acc: 0.8617 - auc: 0.88 - ETA: 20:39 - loss: 0.3582 - acc: 0.8620 - auc: 0.88 - ETA: 20:31 - loss: 0.3582 - acc: 0.8620 - auc: 0.88 - ETA: 20:24 - loss: 0.3585 - acc: 0.8620 - auc: 0.88 - ETA: 20:16 - loss: 0.3590 - acc: 0.8617 - auc: 0.88 - ETA: 20:09 - loss: 0.3587 - acc: 0.8619 - auc: 0.88 - ETA: 20:01 - loss: 0.3586 - acc: 0.8620 - auc: 0.88 - ETA: 19:54 - loss: 0.3588 - acc: 0.8619 - auc: 0.88 - ETA: 19:46 - loss: 0.3585 - acc: 0.8622 - auc: 0.88 - ETA: 19:38 - loss: 0.3584 - acc: 0.8622 - auc: 0.88 - ETA: 19:31 - loss: 0.3587 - acc: 0.8620 - auc: 0.88 - ETA: 19:23 - loss: 0.3590 - acc: 0.8618 - auc: 0.88 - ETA: 19:15 - loss: 0.3591 - acc: 0.8617 - auc: 0.88 - ETA: 19:08 - loss: 0.3591 - acc: 0.8615 - auc: 0.88 - ETA: 19:00 - loss: 0.3598 - acc: 0.8610 - auc: 0.88 - ETA: 18:53 - loss: 0.3599 - acc: 0.8608 - auc: 0.88 - ETA: 18:47 - loss: 0.3597 - acc: 0.8610 - auc: 0.88 - ETA: 18:41 - loss: 0.3600 - acc: 0.8608 - auc: 0.88 - ETA: 18:34 - loss: 0.3604 - acc: 0.8607 - auc: 0.88 - ETA: 18:26 - loss: 0.3607 - acc: 0.8606 - auc: 0.88 - ETA: 18:19 - loss: 0.3610 - acc: 0.8604 - auc: 0.88 - ETA: 18:11 - loss: 0.3609 - acc: 0.8604 - auc: 0.88 - ETA: 18:04 - loss: 0.3612 - acc: 0.8603 - auc: 0.88 - ETA: 17:56 - loss: 0.3609 - acc: 0.8604 - auc: 0.88 - ETA: 17:48 - loss: 0.3609 - acc: 0.8605 - auc: 0.88 - ETA: 17:41 - loss: 0.3605 - acc: 0.8606 - auc: 0.88 - ETA: 17:33 - loss: 0.3604 - acc: 0.8607 - auc: 0.88 - ETA: 17:25 - loss: 0.3605 - acc: 0.8607 - auc: 0.88 - ETA: 17:18 - loss: 0.3602 - acc: 0.8608 - auc: 0.88 - ETA: 17:10 - loss: 0.3600 - acc: 0.8609 - auc: 0.88 - ETA: 17:02 - loss: 0.3598 - acc: 0.8609 - auc: 0.88 - ETA: 16:55 - loss: 0.3599 - acc: 0.8609 - auc: 0.88 - ETA: 16:47 - loss: 0.3601 - acc: 0.8608 - auc: 0.88 - ETA: 16:39 - loss: 0.3600 - acc: 0.8609 - auc: 0.88 - ETA: 16:32 - loss: 0.3598 - acc: 0.8609 - auc: 0.88 - ETA: 16:24 - loss: 0.3598 - acc: 0.8608 - auc: 0.88 - ETA: 16:16 - loss: 0.3598 - acc: 0.8608 - auc: 0.88 - ETA: 16:09 - loss: 0.3600 - acc: 0.8607 - auc: 0.88 - ETA: 16:01 - loss: 0.3600 - acc: 0.8608 - auc: 0.88 - ETA: 15:53 - loss: 0.3602 - acc: 0.8607 - auc: 0.88 - ETA: 15:46 - loss: 0.3600 - acc: 0.8608 - auc: 0.88 - ETA: 15:38 - loss: 0.3601 - acc: 0.8607 - auc: 0.88 - ETA: 15:31 - loss: 0.3600 - acc: 0.8607 - auc: 0.88 - ETA: 15:23 - loss: 0.3603 - acc: 0.8606 - auc: 0.88 - ETA: 15:15 - loss: 0.3604 - acc: 0.8604 - auc: 0.88 - ETA: 15:08 - loss: 0.3607 - acc: 0.8601 - auc: 0.88 - ETA: 15:00 - loss: 0.3605 - acc: 0.8604 - auc: 0.88 - ETA: 14:52 - loss: 0.3607 - acc: 0.8602 - auc: 0.88 - ETA: 14:45 - loss: 0.3605 - acc: 0.8604 - auc: 0.88 - ETA: 14:37 - loss: 0.3602 - acc: 0.8606 - auc: 0.88 - ETA: 14:29 - loss: 0.3603 - acc: 0.8605 - auc: 0.88 - ETA: 14:21 - loss: 0.3605 - acc: 0.8604 - auc: 0.88 - ETA: 14:14 - loss: 0.3603 - acc: 0.8605 - auc: 0.88 - ETA: 14:06 - loss: 0.3604 - acc: 0.8603 - auc: 0.88 - ETA: 13:58 - loss: 0.3604 - acc: 0.8603 - auc: 0.88 - ETA: 13:51 - loss: 0.3609 - acc: 0.8601 - auc: 0.88 - ETA: 13:43 - loss: 0.3608 - acc: 0.8601 - auc: 0.88 - ETA: 13:36 - loss: 0.3607 - acc: 0.8602 - auc: 0.88 - ETA: 13:28 - loss: 0.3606 - acc: 0.8602 - auc: 0.88 - ETA: 13:20 - loss: 0.3606 - acc: 0.8601 - auc: 0.88 - ETA: 13:13 - loss: 0.3605 - acc: 0.8601 - auc: 0.88 - ETA: 13:05 - loss: 0.3601 - acc: 0.8601 - auc: 0.88 - ETA: 12:57 - loss: 0.3605 - acc: 0.8600 - auc: 0.88 - ETA: 12:50 - loss: 0.3607 - acc: 0.8598 - auc: 0.88 - ETA: 12:42 - loss: 0.3611 - acc: 0.8594 - auc: 0.88 - ETA: 12:34 - loss: 0.3610 - acc: 0.8595 - auc: 0.88 - ETA: 12:27 - loss: 0.3605 - acc: 0.8598 - auc: 0.88 - ETA: 12:19 - loss: 0.3608 - acc: 0.8595 - auc: 0.886074288/74288 [==============================] - ETA: 12:11 - loss: 0.3605 - acc: 0.8597 - auc: 0.88 - ETA: 12:04 - loss: 0.3603 - acc: 0.8598 - auc: 0.88 - ETA: 11:56 - loss: 0.3604 - acc: 0.8597 - auc: 0.88 - ETA: 11:49 - loss: 0.3602 - acc: 0.8598 - auc: 0.88 - ETA: 11:41 - loss: 0.3604 - acc: 0.8597 - auc: 0.88 - ETA: 11:33 - loss: 0.3604 - acc: 0.8598 - auc: 0.88 - ETA: 11:26 - loss: 0.3605 - acc: 0.8596 - auc: 0.88 - ETA: 11:18 - loss: 0.3607 - acc: 0.8596 - auc: 0.88 - ETA: 11:10 - loss: 0.3607 - acc: 0.8596 - auc: 0.88 - ETA: 11:03 - loss: 0.3606 - acc: 0.8596 - auc: 0.88 - ETA: 10:56 - loss: 0.3608 - acc: 0.8595 - auc: 0.88 - ETA: 10:48 - loss: 0.3607 - acc: 0.8597 - auc: 0.88 - ETA: 10:41 - loss: 0.3605 - acc: 0.8597 - auc: 0.88 - ETA: 10:33 - loss: 0.3608 - acc: 0.8596 - auc: 0.88 - ETA: 10:25 - loss: 0.3607 - acc: 0.8597 - auc: 0.88 - ETA: 10:18 - loss: 0.3609 - acc: 0.8597 - auc: 0.88 - ETA: 10:10 - loss: 0.3612 - acc: 0.8595 - auc: 0.88 - ETA: 10:02 - loss: 0.3610 - acc: 0.8596 - auc: 0.88 - ETA: 9:55 - loss: 0.3610 - acc: 0.8597 - auc: 0.8862 - ETA: 9:47 - loss: 0.3612 - acc: 0.8595 - auc: 0.886 - ETA: 9:39 - loss: 0.3610 - acc: 0.8596 - auc: 0.886 - ETA: 9:32 - loss: 0.3608 - acc: 0.8597 - auc: 0.886 - ETA: 9:24 - loss: 0.3607 - acc: 0.8598 - auc: 0.886 - ETA: 9:16 - loss: 0.3606 - acc: 0.8598 - auc: 0.886 - ETA: 9:09 - loss: 0.3605 - acc: 0.8599 - auc: 0.886 - ETA: 9:01 - loss: 0.3602 - acc: 0.8600 - auc: 0.886 - ETA: 8:53 - loss: 0.3604 - acc: 0.8600 - auc: 0.886 - ETA: 8:46 - loss: 0.3603 - acc: 0.8600 - auc: 0.886 - ETA: 8:38 - loss: 0.3604 - acc: 0.8600 - auc: 0.886 - ETA: 8:30 - loss: 0.3603 - acc: 0.8600 - auc: 0.886 - ETA: 8:23 - loss: 0.3600 - acc: 0.8602 - auc: 0.886 - ETA: 8:15 - loss: 0.3601 - acc: 0.8601 - auc: 0.886 - ETA: 8:07 - loss: 0.3602 - acc: 0.8600 - auc: 0.886 - ETA: 8:00 - loss: 0.3601 - acc: 0.8601 - auc: 0.886 - ETA: 7:52 - loss: 0.3601 - acc: 0.8601 - auc: 0.886 - ETA: 7:44 - loss: 0.3600 - acc: 0.8603 - auc: 0.886 - ETA: 7:37 - loss: 0.3598 - acc: 0.8603 - auc: 0.886 - ETA: 7:29 - loss: 0.3599 - acc: 0.8603 - auc: 0.886 - ETA: 7:21 - loss: 0.3601 - acc: 0.8603 - auc: 0.886 - ETA: 7:14 - loss: 0.3603 - acc: 0.8601 - auc: 0.886 - ETA: 7:06 - loss: 0.3602 - acc: 0.8602 - auc: 0.886 - ETA: 6:58 - loss: 0.3603 - acc: 0.8601 - auc: 0.886 - ETA: 6:51 - loss: 0.3600 - acc: 0.8603 - auc: 0.886 - ETA: 6:43 - loss: 0.3600 - acc: 0.8603 - auc: 0.886 - ETA: 6:35 - loss: 0.3600 - acc: 0.8602 - auc: 0.886 - ETA: 6:28 - loss: 0.3599 - acc: 0.8603 - auc: 0.886 - ETA: 6:20 - loss: 0.3598 - acc: 0.8603 - auc: 0.886 - ETA: 6:12 - loss: 0.3600 - acc: 0.8602 - auc: 0.886 - ETA: 6:05 - loss: 0.3600 - acc: 0.8602 - auc: 0.886 - ETA: 5:57 - loss: 0.3601 - acc: 0.8601 - auc: 0.886 - ETA: 5:49 - loss: 0.3598 - acc: 0.8604 - auc: 0.886 - ETA: 5:42 - loss: 0.3596 - acc: 0.8605 - auc: 0.886 - ETA: 5:34 - loss: 0.3594 - acc: 0.8607 - auc: 0.886 - ETA: 5:26 - loss: 0.3594 - acc: 0.8607 - auc: 0.886 - ETA: 5:19 - loss: 0.3592 - acc: 0.8608 - auc: 0.886 - ETA: 5:11 - loss: 0.3598 - acc: 0.8606 - auc: 0.886 - ETA: 5:03 - loss: 0.3599 - acc: 0.8605 - auc: 0.886 - ETA: 4:56 - loss: 0.3599 - acc: 0.8605 - auc: 0.886 - ETA: 4:48 - loss: 0.3599 - acc: 0.8605 - auc: 0.886 - ETA: 4:40 - loss: 0.3599 - acc: 0.8605 - auc: 0.886 - ETA: 4:33 - loss: 0.3598 - acc: 0.8605 - auc: 0.886 - ETA: 4:25 - loss: 0.3597 - acc: 0.8606 - auc: 0.886 - ETA: 4:17 - loss: 0.3597 - acc: 0.8606 - auc: 0.886 - ETA: 4:10 - loss: 0.3597 - acc: 0.8606 - auc: 0.886 - ETA: 4:02 - loss: 0.3599 - acc: 0.8605 - auc: 0.886 - ETA: 3:54 - loss: 0.3598 - acc: 0.8606 - auc: 0.886 - ETA: 3:47 - loss: 0.3598 - acc: 0.8605 - auc: 0.886 - ETA: 3:39 - loss: 0.3595 - acc: 0.8607 - auc: 0.886 - ETA: 3:31 - loss: 0.3595 - acc: 0.8608 - auc: 0.886 - ETA: 3:24 - loss: 0.3593 - acc: 0.8609 - auc: 0.886 - ETA: 3:16 - loss: 0.3593 - acc: 0.8609 - auc: 0.886 - ETA: 3:08 - loss: 0.3593 - acc: 0.8609 - auc: 0.886 - ETA: 3:01 - loss: 0.3592 - acc: 0.8610 - auc: 0.886 - ETA: 2:53 - loss: 0.3591 - acc: 0.8610 - auc: 0.886 - ETA: 2:45 - loss: 0.3592 - acc: 0.8609 - auc: 0.886 - ETA: 2:38 - loss: 0.3591 - acc: 0.8609 - auc: 0.886 - ETA: 2:30 - loss: 0.3588 - acc: 0.8611 - auc: 0.886 - ETA: 2:22 - loss: 0.3590 - acc: 0.8610 - auc: 0.886 - ETA: 2:15 - loss: 0.3591 - acc: 0.8609 - auc: 0.886 - ETA: 2:07 - loss: 0.3591 - acc: 0.8609 - auc: 0.886 - ETA: 1:59 - loss: 0.3592 - acc: 0.8609 - auc: 0.886 - ETA: 1:52 - loss: 0.3592 - acc: 0.8608 - auc: 0.886 - ETA: 1:44 - loss: 0.3592 - acc: 0.8608 - auc: 0.886 - ETA: 1:36 - loss: 0.3593 - acc: 0.8608 - auc: 0.886 - ETA: 1:29 - loss: 0.3592 - acc: 0.8609 - auc: 0.886 - ETA: 1:21 - loss: 0.3591 - acc: 0.8610 - auc: 0.886 - ETA: 1:13 - loss: 0.3592 - acc: 0.8609 - auc: 0.886 - ETA: 1:06 - loss: 0.3594 - acc: 0.8608 - auc: 0.886 - ETA: 58s - loss: 0.3594 - acc: 0.8608 - auc: 0.886 - ETA: 50s - loss: 0.3591 - acc: 0.8610 - auc: 0.88 - ETA: 43s - loss: 0.3592 - acc: 0.8610 - auc: 0.88 - ETA: 35s - loss: 0.3593 - acc: 0.8610 - auc: 0.88 - ETA: 27s - loss: 0.3592 - acc: 0.8610 - auc: 0.88 - ETA: 20s - loss: 0.3592 - acc: 0.8610 - auc: 0.88 - ETA: 12s - loss: 0.3592 - acc: 0.8611 - auc: 0.88 - ETA: 4s - loss: 0.3590 - acc: 0.8612 - auc: 0.8868 - 2024s 27ms/step - loss: 0.3592 - acc: 0.8611 - auc: 0.8868 - val_loss: 0.4675 - val_acc: 0.8403 - val_auc: 0.8884\n",
      "Epoch 8/12\n"
     ]
    },
    {
     "name": "stdout",
     "output_type": "stream",
     "text": [
      "45300/74288 [=================>............] - ETA: 31:58 - loss: 0.3637 - acc: 0.8500 - auc: 0.88 - ETA: 31:34 - loss: 0.3333 - acc: 0.8733 - auc: 0.88 - ETA: 31:24 - loss: 0.3260 - acc: 0.8744 - auc: 0.88 - ETA: 31:27 - loss: 0.3267 - acc: 0.8725 - auc: 0.88 - ETA: 31:26 - loss: 0.3215 - acc: 0.8760 - auc: 0.88 - ETA: 31:11 - loss: 0.3274 - acc: 0.8717 - auc: 0.88 - ETA: 31:04 - loss: 0.3292 - acc: 0.8724 - auc: 0.88 - ETA: 30:57 - loss: 0.3285 - acc: 0.8729 - auc: 0.88 - ETA: 30:45 - loss: 0.3279 - acc: 0.8722 - auc: 0.88 - ETA: 30:34 - loss: 0.3288 - acc: 0.8710 - auc: 0.88 - ETA: 30:23 - loss: 0.3258 - acc: 0.8752 - auc: 0.88 - ETA: 30:14 - loss: 0.3292 - acc: 0.8733 - auc: 0.88 - ETA: 30:05 - loss: 0.3280 - acc: 0.8744 - auc: 0.88 - ETA: 29:58 - loss: 0.3300 - acc: 0.8738 - auc: 0.88 - ETA: 29:48 - loss: 0.3304 - acc: 0.8727 - auc: 0.88 - ETA: 29:40 - loss: 0.3321 - acc: 0.8715 - auc: 0.88 - ETA: 29:32 - loss: 0.3286 - acc: 0.8745 - auc: 0.88 - ETA: 29:23 - loss: 0.3294 - acc: 0.8744 - auc: 0.88 - ETA: 29:14 - loss: 0.3296 - acc: 0.8739 - auc: 0.88 - ETA: 29:07 - loss: 0.3293 - acc: 0.8738 - auc: 0.88 - ETA: 28:58 - loss: 0.3268 - acc: 0.8752 - auc: 0.88 - ETA: 28:49 - loss: 0.3274 - acc: 0.8748 - auc: 0.88 - ETA: 28:41 - loss: 0.3279 - acc: 0.8745 - auc: 0.88 - ETA: 28:34 - loss: 0.3282 - acc: 0.8746 - auc: 0.88 - ETA: 28:26 - loss: 0.3280 - acc: 0.8745 - auc: 0.88 - ETA: 28:17 - loss: 0.3260 - acc: 0.8750 - auc: 0.88 - ETA: 28:09 - loss: 0.3258 - acc: 0.8756 - auc: 0.88 - ETA: 28:01 - loss: 0.3255 - acc: 0.8762 - auc: 0.88 - ETA: 27:54 - loss: 0.3274 - acc: 0.8751 - auc: 0.88 - ETA: 27:45 - loss: 0.3268 - acc: 0.8756 - auc: 0.88 - ETA: 27:37 - loss: 0.3278 - acc: 0.8746 - auc: 0.88 - ETA: 27:28 - loss: 0.3263 - acc: 0.8753 - auc: 0.88 - ETA: 27:20 - loss: 0.3256 - acc: 0.8756 - auc: 0.88 - ETA: 27:13 - loss: 0.3274 - acc: 0.8745 - auc: 0.88 - ETA: 27:05 - loss: 0.3281 - acc: 0.8740 - auc: 0.88 - ETA: 26:57 - loss: 0.3272 - acc: 0.8745 - auc: 0.88 - ETA: 26:49 - loss: 0.3270 - acc: 0.8746 - auc: 0.88 - ETA: 26:41 - loss: 0.3271 - acc: 0.8746 - auc: 0.88 - ETA: 26:36 - loss: 0.3284 - acc: 0.8739 - auc: 0.88 - ETA: 26:28 - loss: 0.3275 - acc: 0.8742 - auc: 0.88 - ETA: 26:21 - loss: 0.3265 - acc: 0.8746 - auc: 0.88 - ETA: 26:13 - loss: 0.3278 - acc: 0.8739 - auc: 0.88 - ETA: 26:05 - loss: 0.3269 - acc: 0.8744 - auc: 0.88 - ETA: 25:57 - loss: 0.3256 - acc: 0.8753 - auc: 0.88 - ETA: 25:49 - loss: 0.3261 - acc: 0.8753 - auc: 0.88 - ETA: 25:41 - loss: 0.3272 - acc: 0.8750 - auc: 0.88 - ETA: 25:33 - loss: 0.3282 - acc: 0.8744 - auc: 0.88 - ETA: 25:25 - loss: 0.3296 - acc: 0.8737 - auc: 0.88 - ETA: 25:18 - loss: 0.3292 - acc: 0.8740 - auc: 0.88 - ETA: 25:10 - loss: 0.3299 - acc: 0.8737 - auc: 0.88 - ETA: 25:02 - loss: 0.3311 - acc: 0.8729 - auc: 0.88 - ETA: 24:55 - loss: 0.3307 - acc: 0.8733 - auc: 0.88 - ETA: 24:48 - loss: 0.3307 - acc: 0.8735 - auc: 0.88 - ETA: 24:40 - loss: 0.3303 - acc: 0.8736 - auc: 0.88 - ETA: 24:33 - loss: 0.3311 - acc: 0.8734 - auc: 0.88 - ETA: 24:25 - loss: 0.3318 - acc: 0.8730 - auc: 0.88 - ETA: 24:18 - loss: 0.3316 - acc: 0.8732 - auc: 0.88 - ETA: 24:10 - loss: 0.3321 - acc: 0.8732 - auc: 0.88 - ETA: 24:02 - loss: 0.3324 - acc: 0.8732 - auc: 0.88 - ETA: 23:55 - loss: 0.3323 - acc: 0.8732 - auc: 0.88 - ETA: 23:48 - loss: 0.3327 - acc: 0.8730 - auc: 0.88 - ETA: 23:40 - loss: 0.3326 - acc: 0.8731 - auc: 0.88 - ETA: 23:33 - loss: 0.3318 - acc: 0.8734 - auc: 0.88 - ETA: 23:25 - loss: 0.3311 - acc: 0.8739 - auc: 0.88 - ETA: 23:17 - loss: 0.3314 - acc: 0.8736 - auc: 0.88 - ETA: 23:09 - loss: 0.3317 - acc: 0.8734 - auc: 0.88 - ETA: 23:01 - loss: 0.3320 - acc: 0.8732 - auc: 0.88 - ETA: 22:54 - loss: 0.3322 - acc: 0.8733 - auc: 0.88 - ETA: 22:47 - loss: 0.3324 - acc: 0.8727 - auc: 0.88 - ETA: 22:40 - loss: 0.3334 - acc: 0.8722 - auc: 0.88 - ETA: 22:32 - loss: 0.3337 - acc: 0.8719 - auc: 0.88 - ETA: 22:24 - loss: 0.3340 - acc: 0.8716 - auc: 0.88 - ETA: 22:16 - loss: 0.3344 - acc: 0.8714 - auc: 0.88 - ETA: 22:08 - loss: 0.3337 - acc: 0.8718 - auc: 0.88 - ETA: 22:01 - loss: 0.3341 - acc: 0.8716 - auc: 0.88 - ETA: 21:53 - loss: 0.3340 - acc: 0.8715 - auc: 0.88 - ETA: 21:45 - loss: 0.3342 - acc: 0.8713 - auc: 0.88 - ETA: 21:38 - loss: 0.3346 - acc: 0.8712 - auc: 0.88 - ETA: 21:30 - loss: 0.3348 - acc: 0.8711 - auc: 0.88 - ETA: 21:23 - loss: 0.3351 - acc: 0.8710 - auc: 0.88 - ETA: 21:15 - loss: 0.3352 - acc: 0.8709 - auc: 0.88 - ETA: 21:07 - loss: 0.3349 - acc: 0.8710 - auc: 0.88 - ETA: 20:59 - loss: 0.3345 - acc: 0.8712 - auc: 0.88 - ETA: 20:52 - loss: 0.3347 - acc: 0.8708 - auc: 0.88 - ETA: 20:44 - loss: 0.3349 - acc: 0.8705 - auc: 0.88 - ETA: 20:36 - loss: 0.3351 - acc: 0.8703 - auc: 0.88 - ETA: 20:28 - loss: 0.3350 - acc: 0.8703 - auc: 0.88 - ETA: 20:21 - loss: 0.3346 - acc: 0.8704 - auc: 0.88 - ETA: 20:13 - loss: 0.3349 - acc: 0.8701 - auc: 0.88 - ETA: 20:05 - loss: 0.3345 - acc: 0.8702 - auc: 0.88 - ETA: 19:57 - loss: 0.3345 - acc: 0.8701 - auc: 0.88 - ETA: 19:50 - loss: 0.3345 - acc: 0.8700 - auc: 0.88 - ETA: 19:42 - loss: 0.3349 - acc: 0.8696 - auc: 0.88 - ETA: 19:35 - loss: 0.3352 - acc: 0.8694 - auc: 0.88 - ETA: 19:27 - loss: 0.3354 - acc: 0.8693 - auc: 0.88 - ETA: 19:20 - loss: 0.3346 - acc: 0.8698 - auc: 0.88 - ETA: 19:12 - loss: 0.3351 - acc: 0.8697 - auc: 0.88 - ETA: 19:05 - loss: 0.3351 - acc: 0.8698 - auc: 0.88 - ETA: 18:57 - loss: 0.3349 - acc: 0.8700 - auc: 0.88 - ETA: 18:49 - loss: 0.3350 - acc: 0.8700 - auc: 0.88 - ETA: 18:41 - loss: 0.3346 - acc: 0.8702 - auc: 0.88 - ETA: 18:34 - loss: 0.3341 - acc: 0.8705 - auc: 0.88 - ETA: 18:27 - loss: 0.3346 - acc: 0.8703 - auc: 0.88 - ETA: 18:19 - loss: 0.3345 - acc: 0.8704 - auc: 0.88 - ETA: 18:11 - loss: 0.3345 - acc: 0.8704 - auc: 0.88 - ETA: 18:03 - loss: 0.3342 - acc: 0.8705 - auc: 0.88 - ETA: 17:56 - loss: 0.3342 - acc: 0.8704 - auc: 0.88 - ETA: 17:48 - loss: 0.3341 - acc: 0.8705 - auc: 0.88 - ETA: 17:40 - loss: 0.3345 - acc: 0.8703 - auc: 0.88 - ETA: 17:33 - loss: 0.3348 - acc: 0.8702 - auc: 0.88 - ETA: 17:25 - loss: 0.3344 - acc: 0.8703 - auc: 0.88 - ETA: 17:18 - loss: 0.3341 - acc: 0.8703 - auc: 0.88 - ETA: 17:10 - loss: 0.3344 - acc: 0.8701 - auc: 0.88 - ETA: 17:02 - loss: 0.3348 - acc: 0.8699 - auc: 0.88 - ETA: 16:54 - loss: 0.3349 - acc: 0.8698 - auc: 0.88 - ETA: 16:47 - loss: 0.3346 - acc: 0.8700 - auc: 0.88 - ETA: 16:40 - loss: 0.3349 - acc: 0.8699 - auc: 0.88 - ETA: 16:33 - loss: 0.3349 - acc: 0.8700 - auc: 0.88 - ETA: 16:26 - loss: 0.3347 - acc: 0.8700 - auc: 0.88 - ETA: 16:18 - loss: 0.3343 - acc: 0.8702 - auc: 0.88 - ETA: 16:10 - loss: 0.3342 - acc: 0.8704 - auc: 0.88 - ETA: 16:02 - loss: 0.3346 - acc: 0.8702 - auc: 0.88 - ETA: 15:55 - loss: 0.3344 - acc: 0.8704 - auc: 0.88 - ETA: 15:47 - loss: 0.3344 - acc: 0.8705 - auc: 0.88 - ETA: 15:39 - loss: 0.3348 - acc: 0.8702 - auc: 0.88 - ETA: 15:32 - loss: 0.3348 - acc: 0.8702 - auc: 0.88 - ETA: 15:24 - loss: 0.3349 - acc: 0.8702 - auc: 0.88 - ETA: 15:16 - loss: 0.3351 - acc: 0.8699 - auc: 0.88 - ETA: 15:08 - loss: 0.3349 - acc: 0.8699 - auc: 0.88 - ETA: 15:01 - loss: 0.3348 - acc: 0.8700 - auc: 0.88 - ETA: 14:53 - loss: 0.3345 - acc: 0.8702 - auc: 0.88 - ETA: 14:45 - loss: 0.3349 - acc: 0.8700 - auc: 0.88 - ETA: 14:38 - loss: 0.3350 - acc: 0.8699 - auc: 0.88 - ETA: 14:30 - loss: 0.3345 - acc: 0.8702 - auc: 0.88 - ETA: 14:23 - loss: 0.3344 - acc: 0.8703 - auc: 0.88 - ETA: 14:15 - loss: 0.3342 - acc: 0.8704 - auc: 0.88 - ETA: 14:07 - loss: 0.3345 - acc: 0.8704 - auc: 0.88 - ETA: 13:59 - loss: 0.3350 - acc: 0.8701 - auc: 0.88 - ETA: 13:52 - loss: 0.3350 - acc: 0.8701 - auc: 0.88 - ETA: 13:44 - loss: 0.3351 - acc: 0.8702 - auc: 0.88 - ETA: 13:36 - loss: 0.3347 - acc: 0.8706 - auc: 0.88 - ETA: 13:29 - loss: 0.3347 - acc: 0.8706 - auc: 0.88 - ETA: 13:21 - loss: 0.3345 - acc: 0.8708 - auc: 0.88 - ETA: 13:13 - loss: 0.3345 - acc: 0.8708 - auc: 0.88 - ETA: 13:06 - loss: 0.3344 - acc: 0.8709 - auc: 0.88 - ETA: 12:58 - loss: 0.3346 - acc: 0.8707 - auc: 0.88 - ETA: 12:50 - loss: 0.3347 - acc: 0.8708 - auc: 0.88 - ETA: 12:43 - loss: 0.3346 - acc: 0.8708 - auc: 0.88 - ETA: 12:35 - loss: 0.3344 - acc: 0.8710 - auc: 0.88 - ETA: 12:28 - loss: 0.3344 - acc: 0.8710 - auc: 0.88 - ETA: 12:20 - loss: 0.3343 - acc: 0.8710 - auc: 0.8895"
     ]
    },
    {
     "name": "stdout",
     "output_type": "stream",
     "text": [
      "74288/74288 [==============================] - ETA: 12:12 - loss: 0.3341 - acc: 0.8711 - auc: 0.88 - ETA: 12:04 - loss: 0.3345 - acc: 0.8709 - auc: 0.88 - ETA: 11:57 - loss: 0.3345 - acc: 0.8710 - auc: 0.88 - ETA: 11:49 - loss: 0.3346 - acc: 0.8709 - auc: 0.88 - ETA: 11:41 - loss: 0.3350 - acc: 0.8706 - auc: 0.88 - ETA: 11:34 - loss: 0.3352 - acc: 0.8706 - auc: 0.88 - ETA: 11:26 - loss: 0.3352 - acc: 0.8705 - auc: 0.88 - ETA: 11:19 - loss: 0.3354 - acc: 0.8704 - auc: 0.88 - ETA: 11:11 - loss: 0.3359 - acc: 0.8702 - auc: 0.88 - ETA: 11:04 - loss: 0.3360 - acc: 0.8701 - auc: 0.88 - ETA: 10:56 - loss: 0.3357 - acc: 0.8702 - auc: 0.88 - ETA: 10:48 - loss: 0.3356 - acc: 0.8703 - auc: 0.88 - ETA: 10:41 - loss: 0.3355 - acc: 0.8703 - auc: 0.88 - ETA: 10:33 - loss: 0.3357 - acc: 0.8702 - auc: 0.88 - ETA: 10:25 - loss: 0.3354 - acc: 0.8704 - auc: 0.88 - ETA: 10:18 - loss: 0.3355 - acc: 0.8704 - auc: 0.88 - ETA: 10:10 - loss: 0.3359 - acc: 0.8702 - auc: 0.88 - ETA: 10:02 - loss: 0.3354 - acc: 0.8704 - auc: 0.88 - ETA: 9:54 - loss: 0.3356 - acc: 0.8703 - auc: 0.8897 - ETA: 9:47 - loss: 0.3355 - acc: 0.8704 - auc: 0.889 - ETA: 9:39 - loss: 0.3355 - acc: 0.8705 - auc: 0.889 - ETA: 9:32 - loss: 0.3356 - acc: 0.8704 - auc: 0.889 - ETA: 9:24 - loss: 0.3359 - acc: 0.8702 - auc: 0.889 - ETA: 9:17 - loss: 0.3358 - acc: 0.8703 - auc: 0.889 - ETA: 9:09 - loss: 0.3358 - acc: 0.8703 - auc: 0.889 - ETA: 9:01 - loss: 0.3362 - acc: 0.8701 - auc: 0.889 - ETA: 8:53 - loss: 0.3362 - acc: 0.8701 - auc: 0.889 - ETA: 8:46 - loss: 0.3366 - acc: 0.8699 - auc: 0.889 - ETA: 8:38 - loss: 0.3367 - acc: 0.8699 - auc: 0.889 - ETA: 8:30 - loss: 0.3366 - acc: 0.8700 - auc: 0.889 - ETA: 8:23 - loss: 0.3365 - acc: 0.8699 - auc: 0.889 - ETA: 8:15 - loss: 0.3363 - acc: 0.8702 - auc: 0.889 - ETA: 8:07 - loss: 0.3363 - acc: 0.8701 - auc: 0.889 - ETA: 8:00 - loss: 0.3362 - acc: 0.8701 - auc: 0.889 - ETA: 7:52 - loss: 0.3360 - acc: 0.8701 - auc: 0.889 - ETA: 7:44 - loss: 0.3361 - acc: 0.8701 - auc: 0.889 - ETA: 7:37 - loss: 0.3361 - acc: 0.8701 - auc: 0.889 - ETA: 7:29 - loss: 0.3362 - acc: 0.8700 - auc: 0.889 - ETA: 7:21 - loss: 0.3362 - acc: 0.8699 - auc: 0.889 - ETA: 7:14 - loss: 0.3364 - acc: 0.8698 - auc: 0.889 - ETA: 7:06 - loss: 0.3367 - acc: 0.8697 - auc: 0.889 - ETA: 6:58 - loss: 0.3369 - acc: 0.8697 - auc: 0.889 - ETA: 6:51 - loss: 0.3369 - acc: 0.8696 - auc: 0.889 - ETA: 6:43 - loss: 0.3371 - acc: 0.8695 - auc: 0.889 - ETA: 6:35 - loss: 0.3372 - acc: 0.8695 - auc: 0.889 - ETA: 6:28 - loss: 0.3370 - acc: 0.8696 - auc: 0.889 - ETA: 6:20 - loss: 0.3369 - acc: 0.8696 - auc: 0.889 - ETA: 6:12 - loss: 0.3369 - acc: 0.8697 - auc: 0.889 - ETA: 6:05 - loss: 0.3370 - acc: 0.8696 - auc: 0.889 - ETA: 5:57 - loss: 0.3368 - acc: 0.8697 - auc: 0.889 - ETA: 5:49 - loss: 0.3370 - acc: 0.8696 - auc: 0.889 - ETA: 5:42 - loss: 0.3368 - acc: 0.8698 - auc: 0.889 - ETA: 5:34 - loss: 0.3370 - acc: 0.8697 - auc: 0.890 - ETA: 5:26 - loss: 0.3369 - acc: 0.8698 - auc: 0.890 - ETA: 5:19 - loss: 0.3368 - acc: 0.8699 - auc: 0.890 - ETA: 5:11 - loss: 0.3368 - acc: 0.8699 - auc: 0.890 - ETA: 5:03 - loss: 0.3368 - acc: 0.8700 - auc: 0.890 - ETA: 4:56 - loss: 0.3366 - acc: 0.8700 - auc: 0.890 - ETA: 4:48 - loss: 0.3367 - acc: 0.8700 - auc: 0.890 - ETA: 4:40 - loss: 0.3367 - acc: 0.8700 - auc: 0.890 - ETA: 4:33 - loss: 0.3369 - acc: 0.8699 - auc: 0.890 - ETA: 4:25 - loss: 0.3374 - acc: 0.8697 - auc: 0.890 - ETA: 4:17 - loss: 0.3373 - acc: 0.8698 - auc: 0.890 - ETA: 4:10 - loss: 0.3375 - acc: 0.8697 - auc: 0.890 - ETA: 4:02 - loss: 0.3374 - acc: 0.8697 - auc: 0.890 - ETA: 3:54 - loss: 0.3374 - acc: 0.8696 - auc: 0.890 - ETA: 3:47 - loss: 0.3374 - acc: 0.8696 - auc: 0.890 - ETA: 3:39 - loss: 0.3373 - acc: 0.8697 - auc: 0.890 - ETA: 3:31 - loss: 0.3377 - acc: 0.8695 - auc: 0.890 - ETA: 3:24 - loss: 0.3380 - acc: 0.8694 - auc: 0.890 - ETA: 3:16 - loss: 0.3379 - acc: 0.8694 - auc: 0.890 - ETA: 3:08 - loss: 0.3379 - acc: 0.8695 - auc: 0.890 - ETA: 3:01 - loss: 0.3377 - acc: 0.8696 - auc: 0.890 - ETA: 2:53 - loss: 0.3379 - acc: 0.8695 - auc: 0.890 - ETA: 2:45 - loss: 0.3381 - acc: 0.8694 - auc: 0.890 - ETA: 2:38 - loss: 0.3379 - acc: 0.8696 - auc: 0.890 - ETA: 2:30 - loss: 0.3381 - acc: 0.8694 - auc: 0.890 - ETA: 2:22 - loss: 0.3379 - acc: 0.8694 - auc: 0.890 - ETA: 2:15 - loss: 0.3378 - acc: 0.8695 - auc: 0.890 - ETA: 2:07 - loss: 0.3378 - acc: 0.8694 - auc: 0.890 - ETA: 1:59 - loss: 0.3381 - acc: 0.8692 - auc: 0.890 - ETA: 1:52 - loss: 0.3384 - acc: 0.8691 - auc: 0.890 - ETA: 1:44 - loss: 0.3387 - acc: 0.8689 - auc: 0.890 - ETA: 1:36 - loss: 0.3390 - acc: 0.8687 - auc: 0.890 - ETA: 1:29 - loss: 0.3392 - acc: 0.8686 - auc: 0.890 - ETA: 1:21 - loss: 0.3394 - acc: 0.8686 - auc: 0.890 - ETA: 1:13 - loss: 0.3394 - acc: 0.8686 - auc: 0.890 - ETA: 1:06 - loss: 0.3395 - acc: 0.8686 - auc: 0.890 - ETA: 58s - loss: 0.3396 - acc: 0.8685 - auc: 0.890 - ETA: 50s - loss: 0.3396 - acc: 0.8686 - auc: 0.89 - ETA: 43s - loss: 0.3398 - acc: 0.8684 - auc: 0.89 - ETA: 35s - loss: 0.3399 - acc: 0.8684 - auc: 0.89 - ETA: 27s - loss: 0.3398 - acc: 0.8684 - auc: 0.89 - ETA: 20s - loss: 0.3397 - acc: 0.8684 - auc: 0.89 - ETA: 12s - loss: 0.3397 - acc: 0.8684 - auc: 0.89 - ETA: 4s - loss: 0.3399 - acc: 0.8683 - auc: 0.8903 - 2023s 27ms/step - loss: 0.3400 - acc: 0.8682 - auc: 0.8903 - val_loss: 0.4933 - val_acc: 0.8255 - val_auc: 0.8918\n",
      "Epoch 9/12\n"
     ]
    },
    {
     "name": "stdout",
     "output_type": "stream",
     "text": [
      "45300/74288 [=================>............] - ETA: 30:54 - loss: 0.3463 - acc: 0.8567 - auc: 0.89 - ETA: 30:38 - loss: 0.3375 - acc: 0.8667 - auc: 0.89 - ETA: 30:59 - loss: 0.3190 - acc: 0.8789 - auc: 0.89 - ETA: 30:56 - loss: 0.3124 - acc: 0.8842 - auc: 0.89 - ETA: 30:54 - loss: 0.3244 - acc: 0.8780 - auc: 0.89 - ETA: 30:45 - loss: 0.3241 - acc: 0.8783 - auc: 0.89 - ETA: 30:38 - loss: 0.3183 - acc: 0.8810 - auc: 0.89 - ETA: 30:27 - loss: 0.3156 - acc: 0.8817 - auc: 0.89 - ETA: 30:22 - loss: 0.3187 - acc: 0.8804 - auc: 0.89 - ETA: 30:20 - loss: 0.3173 - acc: 0.8797 - auc: 0.89 - ETA: 30:15 - loss: 0.3148 - acc: 0.8809 - auc: 0.89 - ETA: 30:10 - loss: 0.3103 - acc: 0.8825 - auc: 0.89 - ETA: 30:03 - loss: 0.3130 - acc: 0.8821 - auc: 0.89 - ETA: 29:55 - loss: 0.3146 - acc: 0.8810 - auc: 0.89 - ETA: 29:46 - loss: 0.3177 - acc: 0.8796 - auc: 0.89 - ETA: 29:39 - loss: 0.3179 - acc: 0.8794 - auc: 0.89 - ETA: 29:29 - loss: 0.3163 - acc: 0.8806 - auc: 0.89 - ETA: 29:20 - loss: 0.3154 - acc: 0.8806 - auc: 0.89 - ETA: 29:14 - loss: 0.3131 - acc: 0.8814 - auc: 0.89 - ETA: 29:07 - loss: 0.3146 - acc: 0.8807 - auc: 0.89 - ETA: 28:57 - loss: 0.3129 - acc: 0.8811 - auc: 0.89 - ETA: 28:47 - loss: 0.3100 - acc: 0.8823 - auc: 0.89 - ETA: 28:40 - loss: 0.3127 - acc: 0.8806 - auc: 0.89 - ETA: 28:31 - loss: 0.3132 - acc: 0.8807 - auc: 0.89 - ETA: 28:25 - loss: 0.3100 - acc: 0.8828 - auc: 0.89 - ETA: 28:17 - loss: 0.3109 - acc: 0.8823 - auc: 0.89 - ETA: 28:10 - loss: 0.3126 - acc: 0.8812 - auc: 0.89 - ETA: 28:04 - loss: 0.3110 - acc: 0.8820 - auc: 0.89 - ETA: 27:55 - loss: 0.3109 - acc: 0.8816 - auc: 0.89 - ETA: 27:48 - loss: 0.3111 - acc: 0.8812 - auc: 0.89 - ETA: 27:39 - loss: 0.3104 - acc: 0.8813 - auc: 0.89 - ETA: 27:30 - loss: 0.3126 - acc: 0.8805 - auc: 0.89 - ETA: 27:22 - loss: 0.3140 - acc: 0.8800 - auc: 0.89 - ETA: 27:15 - loss: 0.3152 - acc: 0.8791 - auc: 0.89 - ETA: 27:06 - loss: 0.3151 - acc: 0.8793 - auc: 0.89 - ETA: 26:59 - loss: 0.3152 - acc: 0.8791 - auc: 0.89 - ETA: 26:51 - loss: 0.3151 - acc: 0.8788 - auc: 0.89 - ETA: 26:43 - loss: 0.3144 - acc: 0.8790 - auc: 0.89 - ETA: 26:35 - loss: 0.3134 - acc: 0.8797 - auc: 0.89 - ETA: 26:28 - loss: 0.3142 - acc: 0.8796 - auc: 0.89 - ETA: 26:22 - loss: 0.3144 - acc: 0.8795 - auc: 0.89 - ETA: 26:14 - loss: 0.3152 - acc: 0.8790 - auc: 0.89 - ETA: 26:06 - loss: 0.3159 - acc: 0.8785 - auc: 0.89 - ETA: 25:58 - loss: 0.3159 - acc: 0.8783 - auc: 0.89 - ETA: 25:50 - loss: 0.3161 - acc: 0.8782 - auc: 0.89 - ETA: 25:42 - loss: 0.3169 - acc: 0.8781 - auc: 0.89 - ETA: 25:33 - loss: 0.3175 - acc: 0.8777 - auc: 0.89 - ETA: 25:26 - loss: 0.3165 - acc: 0.8779 - auc: 0.89 - ETA: 25:18 - loss: 0.3166 - acc: 0.8776 - auc: 0.89 - ETA: 25:10 - loss: 0.3168 - acc: 0.8776 - auc: 0.89 - ETA: 25:04 - loss: 0.3161 - acc: 0.8783 - auc: 0.89 - ETA: 24:55 - loss: 0.3167 - acc: 0.8780 - auc: 0.89 - ETA: 24:48 - loss: 0.3179 - acc: 0.8774 - auc: 0.89 - ETA: 24:40 - loss: 0.3178 - acc: 0.8775 - auc: 0.89 - ETA: 24:32 - loss: 0.3177 - acc: 0.8775 - auc: 0.89 - ETA: 24:25 - loss: 0.3182 - acc: 0.8773 - auc: 0.89 - ETA: 24:18 - loss: 0.3181 - acc: 0.8777 - auc: 0.89 - ETA: 24:10 - loss: 0.3185 - acc: 0.8774 - auc: 0.89 - ETA: 24:02 - loss: 0.3189 - acc: 0.8772 - auc: 0.89 - ETA: 23:54 - loss: 0.3194 - acc: 0.8768 - auc: 0.89 - ETA: 23:47 - loss: 0.3196 - acc: 0.8765 - auc: 0.89 - ETA: 23:39 - loss: 0.3197 - acc: 0.8763 - auc: 0.89 - ETA: 23:31 - loss: 0.3204 - acc: 0.8758 - auc: 0.89 - ETA: 23:24 - loss: 0.3208 - acc: 0.8755 - auc: 0.89 - ETA: 23:16 - loss: 0.3209 - acc: 0.8753 - auc: 0.89 - ETA: 23:08 - loss: 0.3213 - acc: 0.8751 - auc: 0.89 - ETA: 23:01 - loss: 0.3210 - acc: 0.8754 - auc: 0.89 - ETA: 22:53 - loss: 0.3217 - acc: 0.8750 - auc: 0.89 - ETA: 22:45 - loss: 0.3221 - acc: 0.8748 - auc: 0.89 - ETA: 22:37 - loss: 0.3230 - acc: 0.8744 - auc: 0.89 - ETA: 22:30 - loss: 0.3232 - acc: 0.8743 - auc: 0.89 - ETA: 22:22 - loss: 0.3232 - acc: 0.8743 - auc: 0.89 - ETA: 22:15 - loss: 0.3235 - acc: 0.8742 - auc: 0.89 - ETA: 22:08 - loss: 0.3239 - acc: 0.8740 - auc: 0.89 - ETA: 22:00 - loss: 0.3237 - acc: 0.8744 - auc: 0.89 - ETA: 21:53 - loss: 0.3234 - acc: 0.8744 - auc: 0.89 - ETA: 21:45 - loss: 0.3230 - acc: 0.8747 - auc: 0.89 - ETA: 21:37 - loss: 0.3227 - acc: 0.8750 - auc: 0.89 - ETA: 21:30 - loss: 0.3223 - acc: 0.8751 - auc: 0.89 - ETA: 21:22 - loss: 0.3216 - acc: 0.8755 - auc: 0.89 - ETA: 21:15 - loss: 0.3222 - acc: 0.8752 - auc: 0.89 - ETA: 21:07 - loss: 0.3221 - acc: 0.8752 - auc: 0.89 - ETA: 20:59 - loss: 0.3218 - acc: 0.8753 - auc: 0.89 - ETA: 20:51 - loss: 0.3217 - acc: 0.8754 - auc: 0.89 - ETA: 20:43 - loss: 0.3218 - acc: 0.8756 - auc: 0.89 - ETA: 20:35 - loss: 0.3216 - acc: 0.8757 - auc: 0.89 - ETA: 20:28 - loss: 0.3223 - acc: 0.8754 - auc: 0.89 - ETA: 20:20 - loss: 0.3227 - acc: 0.8752 - auc: 0.89 - ETA: 20:13 - loss: 0.3226 - acc: 0.8752 - auc: 0.89 - ETA: 20:05 - loss: 0.3231 - acc: 0.8749 - auc: 0.89 - ETA: 19:59 - loss: 0.3227 - acc: 0.8750 - auc: 0.89 - ETA: 19:52 - loss: 0.3232 - acc: 0.8747 - auc: 0.89 - ETA: 19:45 - loss: 0.3232 - acc: 0.8747 - auc: 0.89 - ETA: 19:37 - loss: 0.3237 - acc: 0.8744 - auc: 0.89 - ETA: 19:29 - loss: 0.3233 - acc: 0.8746 - auc: 0.89 - ETA: 19:21 - loss: 0.3231 - acc: 0.8748 - auc: 0.89 - ETA: 19:13 - loss: 0.3232 - acc: 0.8747 - auc: 0.89 - ETA: 19:06 - loss: 0.3230 - acc: 0.8749 - auc: 0.89 - ETA: 18:58 - loss: 0.3228 - acc: 0.8750 - auc: 0.89 - ETA: 18:51 - loss: 0.3230 - acc: 0.8750 - auc: 0.89 - ETA: 18:43 - loss: 0.3232 - acc: 0.8750 - auc: 0.89 - ETA: 18:36 - loss: 0.3235 - acc: 0.8749 - auc: 0.89 - ETA: 18:28 - loss: 0.3236 - acc: 0.8746 - auc: 0.89 - ETA: 18:20 - loss: 0.3234 - acc: 0.8745 - auc: 0.89 - ETA: 18:13 - loss: 0.3233 - acc: 0.8746 - auc: 0.89 - ETA: 18:05 - loss: 0.3233 - acc: 0.8747 - auc: 0.89 - ETA: 17:57 - loss: 0.3234 - acc: 0.8747 - auc: 0.89 - ETA: 17:49 - loss: 0.3239 - acc: 0.8744 - auc: 0.89 - ETA: 17:42 - loss: 0.3236 - acc: 0.8746 - auc: 0.89 - ETA: 17:34 - loss: 0.3236 - acc: 0.8746 - auc: 0.89 - ETA: 17:26 - loss: 0.3235 - acc: 0.8746 - auc: 0.89 - ETA: 17:19 - loss: 0.3234 - acc: 0.8746 - auc: 0.89 - ETA: 17:11 - loss: 0.3236 - acc: 0.8744 - auc: 0.89 - ETA: 17:03 - loss: 0.3235 - acc: 0.8744 - auc: 0.89 - ETA: 16:56 - loss: 0.3231 - acc: 0.8746 - auc: 0.89 - ETA: 16:48 - loss: 0.3234 - acc: 0.8744 - auc: 0.89 - ETA: 16:41 - loss: 0.3233 - acc: 0.8743 - auc: 0.89 - ETA: 16:33 - loss: 0.3226 - acc: 0.8747 - auc: 0.89 - ETA: 16:26 - loss: 0.3226 - acc: 0.8748 - auc: 0.89 - ETA: 16:18 - loss: 0.3227 - acc: 0.8748 - auc: 0.89 - ETA: 16:10 - loss: 0.3233 - acc: 0.8744 - auc: 0.89 - ETA: 16:02 - loss: 0.3231 - acc: 0.8746 - auc: 0.89 - ETA: 15:55 - loss: 0.3232 - acc: 0.8745 - auc: 0.89 - ETA: 15:47 - loss: 0.3234 - acc: 0.8744 - auc: 0.89 - ETA: 15:39 - loss: 0.3232 - acc: 0.8744 - auc: 0.89 - ETA: 15:32 - loss: 0.3233 - acc: 0.8744 - auc: 0.89 - ETA: 15:24 - loss: 0.3229 - acc: 0.8746 - auc: 0.89 - ETA: 15:16 - loss: 0.3228 - acc: 0.8747 - auc: 0.89 - ETA: 15:09 - loss: 0.3227 - acc: 0.8747 - auc: 0.89 - ETA: 15:01 - loss: 0.3227 - acc: 0.8747 - auc: 0.89 - ETA: 14:54 - loss: 0.3228 - acc: 0.8745 - auc: 0.89 - ETA: 14:46 - loss: 0.3225 - acc: 0.8747 - auc: 0.89 - ETA: 14:38 - loss: 0.3230 - acc: 0.8744 - auc: 0.89 - ETA: 14:30 - loss: 0.3227 - acc: 0.8745 - auc: 0.89 - ETA: 14:23 - loss: 0.3224 - acc: 0.8746 - auc: 0.89 - ETA: 14:15 - loss: 0.3224 - acc: 0.8746 - auc: 0.89 - ETA: 14:07 - loss: 0.3224 - acc: 0.8746 - auc: 0.89 - ETA: 14:00 - loss: 0.3222 - acc: 0.8747 - auc: 0.89 - ETA: 13:52 - loss: 0.3220 - acc: 0.8749 - auc: 0.89 - ETA: 13:44 - loss: 0.3222 - acc: 0.8749 - auc: 0.89 - ETA: 13:37 - loss: 0.3220 - acc: 0.8750 - auc: 0.89 - ETA: 13:29 - loss: 0.3218 - acc: 0.8751 - auc: 0.89 - ETA: 13:21 - loss: 0.3220 - acc: 0.8751 - auc: 0.89 - ETA: 13:13 - loss: 0.3219 - acc: 0.8751 - auc: 0.89 - ETA: 13:06 - loss: 0.3221 - acc: 0.8750 - auc: 0.89 - ETA: 12:58 - loss: 0.3221 - acc: 0.8750 - auc: 0.89 - ETA: 12:51 - loss: 0.3223 - acc: 0.8749 - auc: 0.89 - ETA: 12:43 - loss: 0.3221 - acc: 0.8750 - auc: 0.89 - ETA: 12:36 - loss: 0.3222 - acc: 0.8749 - auc: 0.89 - ETA: 12:28 - loss: 0.3222 - acc: 0.8750 - auc: 0.89 - ETA: 12:20 - loss: 0.3220 - acc: 0.8751 - auc: 0.892774288/74288 [==============================] - ETA: 12:13 - loss: 0.3219 - acc: 0.8752 - auc: 0.89 - ETA: 12:05 - loss: 0.3218 - acc: 0.8753 - auc: 0.89 - ETA: 11:57 - loss: 0.3220 - acc: 0.8753 - auc: 0.89 - ETA: 11:50 - loss: 0.3220 - acc: 0.8753 - auc: 0.89 - ETA: 11:42 - loss: 0.3217 - acc: 0.8754 - auc: 0.89 - ETA: 11:34 - loss: 0.3221 - acc: 0.8752 - auc: 0.89 - ETA: 11:27 - loss: 0.3222 - acc: 0.8752 - auc: 0.89 - ETA: 11:19 - loss: 0.3221 - acc: 0.8752 - auc: 0.89 - ETA: 11:11 - loss: 0.3223 - acc: 0.8752 - auc: 0.89 - ETA: 11:04 - loss: 0.3222 - acc: 0.8752 - auc: 0.89 - ETA: 10:56 - loss: 0.3224 - acc: 0.8751 - auc: 0.89 - ETA: 10:48 - loss: 0.3223 - acc: 0.8751 - auc: 0.89 - ETA: 10:41 - loss: 0.3225 - acc: 0.8749 - auc: 0.89 - ETA: 10:33 - loss: 0.3226 - acc: 0.8749 - auc: 0.89 - ETA: 10:25 - loss: 0.3225 - acc: 0.8750 - auc: 0.89 - ETA: 10:18 - loss: 0.3226 - acc: 0.8749 - auc: 0.89 - ETA: 10:10 - loss: 0.3225 - acc: 0.8750 - auc: 0.89 - ETA: 10:02 - loss: 0.3221 - acc: 0.8752 - auc: 0.89 - ETA: 9:55 - loss: 0.3220 - acc: 0.8753 - auc: 0.8928 - ETA: 9:47 - loss: 0.3218 - acc: 0.8754 - auc: 0.892 - ETA: 9:39 - loss: 0.3219 - acc: 0.8754 - auc: 0.892 - ETA: 9:32 - loss: 0.3222 - acc: 0.8752 - auc: 0.892 - ETA: 9:24 - loss: 0.3224 - acc: 0.8752 - auc: 0.892 - ETA: 9:16 - loss: 0.3225 - acc: 0.8751 - auc: 0.892 - ETA: 9:09 - loss: 0.3224 - acc: 0.8752 - auc: 0.892 - ETA: 9:01 - loss: 0.3224 - acc: 0.8753 - auc: 0.892 - ETA: 8:53 - loss: 0.3226 - acc: 0.8751 - auc: 0.892 - ETA: 8:46 - loss: 0.3226 - acc: 0.8751 - auc: 0.892 - ETA: 8:38 - loss: 0.3225 - acc: 0.8751 - auc: 0.892 - ETA: 8:30 - loss: 0.3225 - acc: 0.8752 - auc: 0.892 - ETA: 8:23 - loss: 0.3222 - acc: 0.8753 - auc: 0.892 - ETA: 8:15 - loss: 0.3223 - acc: 0.8752 - auc: 0.892 - ETA: 8:07 - loss: 0.3224 - acc: 0.8752 - auc: 0.893 - ETA: 8:00 - loss: 0.3221 - acc: 0.8754 - auc: 0.893 - ETA: 7:52 - loss: 0.3218 - acc: 0.8755 - auc: 0.893 - ETA: 7:44 - loss: 0.3217 - acc: 0.8754 - auc: 0.893 - ETA: 7:36 - loss: 0.3222 - acc: 0.8752 - auc: 0.893 - ETA: 7:29 - loss: 0.3218 - acc: 0.8754 - auc: 0.893 - ETA: 7:21 - loss: 0.3217 - acc: 0.8755 - auc: 0.893 - ETA: 7:14 - loss: 0.3215 - acc: 0.8756 - auc: 0.893 - ETA: 7:06 - loss: 0.3214 - acc: 0.8756 - auc: 0.893 - ETA: 6:58 - loss: 0.3213 - acc: 0.8757 - auc: 0.893 - ETA: 6:51 - loss: 0.3214 - acc: 0.8757 - auc: 0.893 - ETA: 6:43 - loss: 0.3216 - acc: 0.8756 - auc: 0.893 - ETA: 6:35 - loss: 0.3215 - acc: 0.8756 - auc: 0.893 - ETA: 6:28 - loss: 0.3212 - acc: 0.8758 - auc: 0.893 - ETA: 6:20 - loss: 0.3212 - acc: 0.8759 - auc: 0.893 - ETA: 6:12 - loss: 0.3213 - acc: 0.8759 - auc: 0.893 - ETA: 6:05 - loss: 0.3213 - acc: 0.8759 - auc: 0.893 - ETA: 5:57 - loss: 0.3213 - acc: 0.8759 - auc: 0.893 - ETA: 5:49 - loss: 0.3215 - acc: 0.8758 - auc: 0.893 - ETA: 5:42 - loss: 0.3215 - acc: 0.8759 - auc: 0.893 - ETA: 5:34 - loss: 0.3215 - acc: 0.8760 - auc: 0.893 - ETA: 5:26 - loss: 0.3217 - acc: 0.8759 - auc: 0.893 - ETA: 5:19 - loss: 0.3218 - acc: 0.8759 - auc: 0.893 - ETA: 5:11 - loss: 0.3219 - acc: 0.8758 - auc: 0.893 - ETA: 5:03 - loss: 0.3222 - acc: 0.8757 - auc: 0.893 - ETA: 4:56 - loss: 0.3221 - acc: 0.8757 - auc: 0.893 - ETA: 4:48 - loss: 0.3222 - acc: 0.8756 - auc: 0.893 - ETA: 4:40 - loss: 0.3224 - acc: 0.8755 - auc: 0.893 - ETA: 4:33 - loss: 0.3225 - acc: 0.8754 - auc: 0.893 - ETA: 4:25 - loss: 0.3226 - acc: 0.8753 - auc: 0.893 - ETA: 4:17 - loss: 0.3226 - acc: 0.8754 - auc: 0.893 - ETA: 4:10 - loss: 0.3228 - acc: 0.8753 - auc: 0.893 - ETA: 4:02 - loss: 0.3231 - acc: 0.8752 - auc: 0.893 - ETA: 3:54 - loss: 0.3233 - acc: 0.8752 - auc: 0.893 - ETA: 3:47 - loss: 0.3232 - acc: 0.8752 - auc: 0.893 - ETA: 3:39 - loss: 0.3233 - acc: 0.8751 - auc: 0.893 - ETA: 3:31 - loss: 0.3232 - acc: 0.8752 - auc: 0.893 - ETA: 3:24 - loss: 0.3232 - acc: 0.8752 - auc: 0.893 - ETA: 3:16 - loss: 0.3233 - acc: 0.8751 - auc: 0.893 - ETA: 3:08 - loss: 0.3236 - acc: 0.8749 - auc: 0.893 - ETA: 3:01 - loss: 0.3235 - acc: 0.8750 - auc: 0.893 - ETA: 2:53 - loss: 0.3234 - acc: 0.8750 - auc: 0.893 - ETA: 2:45 - loss: 0.3234 - acc: 0.8750 - auc: 0.893 - ETA: 2:37 - loss: 0.3234 - acc: 0.8749 - auc: 0.893 - ETA: 2:30 - loss: 0.3233 - acc: 0.8750 - auc: 0.893 - ETA: 2:22 - loss: 0.3235 - acc: 0.8749 - auc: 0.893 - ETA: 2:15 - loss: 0.3233 - acc: 0.8749 - auc: 0.893 - ETA: 2:07 - loss: 0.3234 - acc: 0.8749 - auc: 0.893 - ETA: 1:59 - loss: 0.3233 - acc: 0.8750 - auc: 0.893 - ETA: 1:52 - loss: 0.3231 - acc: 0.8751 - auc: 0.893 - ETA: 1:44 - loss: 0.3230 - acc: 0.8752 - auc: 0.893 - ETA: 1:36 - loss: 0.3230 - acc: 0.8752 - auc: 0.893 - ETA: 1:29 - loss: 0.3231 - acc: 0.8751 - auc: 0.893 - ETA: 1:21 - loss: 0.3230 - acc: 0.8752 - auc: 0.893 - ETA: 1:13 - loss: 0.3229 - acc: 0.8752 - auc: 0.893 - ETA: 1:06 - loss: 0.3229 - acc: 0.8753 - auc: 0.893 - ETA: 58s - loss: 0.3226 - acc: 0.8754 - auc: 0.893 - ETA: 50s - loss: 0.3226 - acc: 0.8754 - auc: 0.89 - ETA: 43s - loss: 0.3224 - acc: 0.8756 - auc: 0.89 - ETA: 35s - loss: 0.3225 - acc: 0.8755 - auc: 0.89 - ETA: 27s - loss: 0.3225 - acc: 0.8755 - auc: 0.89 - ETA: 20s - loss: 0.3225 - acc: 0.8756 - auc: 0.89 - ETA: 12s - loss: 0.3225 - acc: 0.8756 - auc: 0.89 - ETA: 4s - loss: 0.3225 - acc: 0.8756 - auc: 0.8935 - 2020s 27ms/step - loss: 0.3224 - acc: 0.8757 - auc: 0.8935 - val_loss: 0.5216 - val_acc: 0.8306 - val_auc: 0.8950\n",
      "Epoch 10/12\n"
     ]
    },
    {
     "name": "stdout",
     "output_type": "stream",
     "text": [
      "45300/74288 [=================>............] - ETA: 31:15 - loss: 0.3238 - acc: 0.8700 - auc: 0.89 - ETA: 31:11 - loss: 0.3084 - acc: 0.8767 - auc: 0.89 - ETA: 30:56 - loss: 0.3065 - acc: 0.8811 - auc: 0.89 - ETA: 30:43 - loss: 0.3156 - acc: 0.8775 - auc: 0.89 - ETA: 30:33 - loss: 0.3091 - acc: 0.8813 - auc: 0.89 - ETA: 30:27 - loss: 0.3085 - acc: 0.8828 - auc: 0.89 - ETA: 30:19 - loss: 0.3014 - acc: 0.8871 - auc: 0.89 - ETA: 30:09 - loss: 0.3023 - acc: 0.8867 - auc: 0.89 - ETA: 30:05 - loss: 0.3094 - acc: 0.8822 - auc: 0.89 - ETA: 30:03 - loss: 0.3090 - acc: 0.8813 - auc: 0.89 - ETA: 30:13 - loss: 0.3079 - acc: 0.8824 - auc: 0.89 - ETA: 30:15 - loss: 0.3053 - acc: 0.8831 - auc: 0.89 - ETA: 30:07 - loss: 0.3080 - acc: 0.8815 - auc: 0.89 - ETA: 29:57 - loss: 0.3060 - acc: 0.8833 - auc: 0.89 - ETA: 29:48 - loss: 0.3036 - acc: 0.8844 - auc: 0.89 - ETA: 29:39 - loss: 0.3054 - acc: 0.8829 - auc: 0.89 - ETA: 29:30 - loss: 0.3012 - acc: 0.8847 - auc: 0.89 - ETA: 29:21 - loss: 0.3011 - acc: 0.8846 - auc: 0.89 - ETA: 29:12 - loss: 0.2992 - acc: 0.8856 - auc: 0.89 - ETA: 29:03 - loss: 0.2962 - acc: 0.8870 - auc: 0.89 - ETA: 28:54 - loss: 0.2969 - acc: 0.8868 - auc: 0.89 - ETA: 28:46 - loss: 0.2958 - acc: 0.8879 - auc: 0.89 - ETA: 28:38 - loss: 0.2979 - acc: 0.8870 - auc: 0.89 - ETA: 28:31 - loss: 0.2986 - acc: 0.8868 - auc: 0.89 - ETA: 28:24 - loss: 0.2958 - acc: 0.8885 - auc: 0.89 - ETA: 28:17 - loss: 0.2946 - acc: 0.8891 - auc: 0.89 - ETA: 28:08 - loss: 0.2925 - acc: 0.8904 - auc: 0.89 - ETA: 28:01 - loss: 0.2940 - acc: 0.8899 - auc: 0.89 - ETA: 27:53 - loss: 0.2953 - acc: 0.8893 - auc: 0.89 - ETA: 27:45 - loss: 0.2960 - acc: 0.8884 - auc: 0.89 - ETA: 27:37 - loss: 0.2986 - acc: 0.8870 - auc: 0.89 - ETA: 27:29 - loss: 0.2985 - acc: 0.8872 - auc: 0.89 - ETA: 27:21 - loss: 0.2978 - acc: 0.8878 - auc: 0.89 - ETA: 27:13 - loss: 0.2989 - acc: 0.8868 - auc: 0.89 - ETA: 27:05 - loss: 0.2988 - acc: 0.8867 - auc: 0.89 - ETA: 26:57 - loss: 0.2995 - acc: 0.8860 - auc: 0.89 - ETA: 26:49 - loss: 0.3003 - acc: 0.8858 - auc: 0.89 - ETA: 26:41 - loss: 0.3009 - acc: 0.8850 - auc: 0.89 - ETA: 26:34 - loss: 0.3015 - acc: 0.8850 - auc: 0.89 - ETA: 26:26 - loss: 0.3006 - acc: 0.8858 - auc: 0.89 - ETA: 26:18 - loss: 0.3020 - acc: 0.8847 - auc: 0.89 - ETA: 26:11 - loss: 0.3025 - acc: 0.8844 - auc: 0.89 - ETA: 26:02 - loss: 0.3031 - acc: 0.8842 - auc: 0.89 - ETA: 25:55 - loss: 0.3035 - acc: 0.8834 - auc: 0.89 - ETA: 25:46 - loss: 0.3033 - acc: 0.8833 - auc: 0.89 - ETA: 25:39 - loss: 0.3025 - acc: 0.8840 - auc: 0.89 - ETA: 25:31 - loss: 0.3023 - acc: 0.8842 - auc: 0.89 - ETA: 25:23 - loss: 0.3038 - acc: 0.8833 - auc: 0.89 - ETA: 25:15 - loss: 0.3034 - acc: 0.8837 - auc: 0.89 - ETA: 25:07 - loss: 0.3037 - acc: 0.8837 - auc: 0.89 - ETA: 25:00 - loss: 0.3042 - acc: 0.8833 - auc: 0.89 - ETA: 24:52 - loss: 0.3050 - acc: 0.8828 - auc: 0.89 - ETA: 24:45 - loss: 0.3051 - acc: 0.8823 - auc: 0.89 - ETA: 24:37 - loss: 0.3045 - acc: 0.8827 - auc: 0.89 - ETA: 24:30 - loss: 0.3056 - acc: 0.8823 - auc: 0.89 - ETA: 24:22 - loss: 0.3070 - acc: 0.8815 - auc: 0.89 - ETA: 24:14 - loss: 0.3063 - acc: 0.8819 - auc: 0.89 - ETA: 24:06 - loss: 0.3062 - acc: 0.8823 - auc: 0.89 - ETA: 24:02 - loss: 0.3057 - acc: 0.8824 - auc: 0.89 - ETA: 23:54 - loss: 0.3052 - acc: 0.8827 - auc: 0.89 - ETA: 23:47 - loss: 0.3047 - acc: 0.8828 - auc: 0.89 - ETA: 23:40 - loss: 0.3039 - acc: 0.8832 - auc: 0.89 - ETA: 23:32 - loss: 0.3040 - acc: 0.8832 - auc: 0.89 - ETA: 23:29 - loss: 0.3040 - acc: 0.8832 - auc: 0.89 - ETA: 23:24 - loss: 0.3042 - acc: 0.8832 - auc: 0.89 - ETA: 23:19 - loss: 0.3046 - acc: 0.8828 - auc: 0.89 - ETA: 23:11 - loss: 0.3055 - acc: 0.8822 - auc: 0.89 - ETA: 23:02 - loss: 0.3056 - acc: 0.8821 - auc: 0.89 - ETA: 22:54 - loss: 0.3053 - acc: 0.8822 - auc: 0.89 - ETA: 22:46 - loss: 0.3053 - acc: 0.8821 - auc: 0.89 - ETA: 22:39 - loss: 0.3051 - acc: 0.8820 - auc: 0.89 - ETA: 22:32 - loss: 0.3058 - acc: 0.8813 - auc: 0.89 - ETA: 22:24 - loss: 0.3060 - acc: 0.8813 - auc: 0.89 - ETA: 22:15 - loss: 0.3065 - acc: 0.8811 - auc: 0.89 - ETA: 22:08 - loss: 0.3065 - acc: 0.8813 - auc: 0.89 - ETA: 22:00 - loss: 0.3067 - acc: 0.8813 - auc: 0.89 - ETA: 21:53 - loss: 0.3068 - acc: 0.8811 - auc: 0.89 - ETA: 21:45 - loss: 0.3072 - acc: 0.8808 - auc: 0.89 - ETA: 21:37 - loss: 0.3072 - acc: 0.8809 - auc: 0.89 - ETA: 21:29 - loss: 0.3072 - acc: 0.8809 - auc: 0.89 - ETA: 21:22 - loss: 0.3074 - acc: 0.8808 - auc: 0.89 - ETA: 21:14 - loss: 0.3074 - acc: 0.8806 - auc: 0.89 - ETA: 21:06 - loss: 0.3074 - acc: 0.8806 - auc: 0.89 - ETA: 20:59 - loss: 0.3073 - acc: 0.8806 - auc: 0.89 - ETA: 20:51 - loss: 0.3071 - acc: 0.8807 - auc: 0.89 - ETA: 20:43 - loss: 0.3068 - acc: 0.8809 - auc: 0.89 - ETA: 20:36 - loss: 0.3073 - acc: 0.8806 - auc: 0.89 - ETA: 20:28 - loss: 0.3073 - acc: 0.8806 - auc: 0.89 - ETA: 20:20 - loss: 0.3075 - acc: 0.8804 - auc: 0.89 - ETA: 20:12 - loss: 0.3074 - acc: 0.8803 - auc: 0.89 - ETA: 20:05 - loss: 0.3074 - acc: 0.8803 - auc: 0.89 - ETA: 19:57 - loss: 0.3081 - acc: 0.8799 - auc: 0.89 - ETA: 19:49 - loss: 0.3084 - acc: 0.8799 - auc: 0.89 - ETA: 19:41 - loss: 0.3080 - acc: 0.8801 - auc: 0.89 - ETA: 19:33 - loss: 0.3077 - acc: 0.8803 - auc: 0.89 - ETA: 19:26 - loss: 0.3079 - acc: 0.8802 - auc: 0.89 - ETA: 19:18 - loss: 0.3077 - acc: 0.8804 - auc: 0.89 - ETA: 19:10 - loss: 0.3078 - acc: 0.8803 - auc: 0.89 - ETA: 19:03 - loss: 0.3077 - acc: 0.8803 - auc: 0.89 - ETA: 18:55 - loss: 0.3077 - acc: 0.8804 - auc: 0.89 - ETA: 18:48 - loss: 0.3074 - acc: 0.8806 - auc: 0.89 - ETA: 18:40 - loss: 0.3072 - acc: 0.8806 - auc: 0.89 - ETA: 18:32 - loss: 0.3069 - acc: 0.8808 - auc: 0.89 - ETA: 18:24 - loss: 0.3068 - acc: 0.8811 - auc: 0.89 - ETA: 18:16 - loss: 0.3063 - acc: 0.8813 - auc: 0.89 - ETA: 18:09 - loss: 0.3065 - acc: 0.8812 - auc: 0.89 - ETA: 18:01 - loss: 0.3064 - acc: 0.8814 - auc: 0.89 - ETA: 17:53 - loss: 0.3065 - acc: 0.8814 - auc: 0.89 - ETA: 17:46 - loss: 0.3063 - acc: 0.8816 - auc: 0.89 - ETA: 17:38 - loss: 0.3070 - acc: 0.8812 - auc: 0.89 - ETA: 17:30 - loss: 0.3072 - acc: 0.8811 - auc: 0.89 - ETA: 17:22 - loss: 0.3080 - acc: 0.8806 - auc: 0.89 - ETA: 17:14 - loss: 0.3080 - acc: 0.8806 - auc: 0.89 - ETA: 17:07 - loss: 0.3083 - acc: 0.8804 - auc: 0.89 - ETA: 16:59 - loss: 0.3088 - acc: 0.8801 - auc: 0.89 - ETA: 16:51 - loss: 0.3090 - acc: 0.8801 - auc: 0.89 - ETA: 16:43 - loss: 0.3090 - acc: 0.8802 - auc: 0.89 - ETA: 16:35 - loss: 0.3090 - acc: 0.8803 - auc: 0.89 - ETA: 16:28 - loss: 0.3092 - acc: 0.8803 - auc: 0.89 - ETA: 16:20 - loss: 0.3091 - acc: 0.8804 - auc: 0.89 - ETA: 16:12 - loss: 0.3092 - acc: 0.8804 - auc: 0.89 - ETA: 16:04 - loss: 0.3089 - acc: 0.8806 - auc: 0.89 - ETA: 15:57 - loss: 0.3092 - acc: 0.8804 - auc: 0.89 - ETA: 15:49 - loss: 0.3094 - acc: 0.8802 - auc: 0.89 - ETA: 15:41 - loss: 0.3097 - acc: 0.8800 - auc: 0.89 - ETA: 15:33 - loss: 0.3100 - acc: 0.8798 - auc: 0.89 - ETA: 15:25 - loss: 0.3102 - acc: 0.8796 - auc: 0.89 - ETA: 15:18 - loss: 0.3101 - acc: 0.8797 - auc: 0.89 - ETA: 15:10 - loss: 0.3104 - acc: 0.8797 - auc: 0.89 - ETA: 15:02 - loss: 0.3104 - acc: 0.8796 - auc: 0.89 - ETA: 14:54 - loss: 0.3104 - acc: 0.8795 - auc: 0.89 - ETA: 14:47 - loss: 0.3100 - acc: 0.8798 - auc: 0.89 - ETA: 14:39 - loss: 0.3100 - acc: 0.8798 - auc: 0.89 - ETA: 14:31 - loss: 0.3100 - acc: 0.8799 - auc: 0.89 - ETA: 14:24 - loss: 0.3102 - acc: 0.8797 - auc: 0.89 - ETA: 14:16 - loss: 0.3102 - acc: 0.8797 - auc: 0.89 - ETA: 14:09 - loss: 0.3102 - acc: 0.8798 - auc: 0.89 - ETA: 14:01 - loss: 0.3103 - acc: 0.8798 - auc: 0.89 - ETA: 13:53 - loss: 0.3099 - acc: 0.8800 - auc: 0.89 - ETA: 13:45 - loss: 0.3102 - acc: 0.8798 - auc: 0.89 - ETA: 13:38 - loss: 0.3103 - acc: 0.8798 - auc: 0.89 - ETA: 13:30 - loss: 0.3101 - acc: 0.8799 - auc: 0.89 - ETA: 13:22 - loss: 0.3100 - acc: 0.8799 - auc: 0.89 - ETA: 13:14 - loss: 0.3100 - acc: 0.8799 - auc: 0.89 - ETA: 13:07 - loss: 0.3096 - acc: 0.8801 - auc: 0.89 - ETA: 12:59 - loss: 0.3094 - acc: 0.8802 - auc: 0.89 - ETA: 12:51 - loss: 0.3096 - acc: 0.8801 - auc: 0.89 - ETA: 12:44 - loss: 0.3098 - acc: 0.8801 - auc: 0.89 - ETA: 12:36 - loss: 0.3098 - acc: 0.8801 - auc: 0.89 - ETA: 12:28 - loss: 0.3099 - acc: 0.8801 - auc: 0.89 - ETA: 12:21 - loss: 0.3097 - acc: 0.8802 - auc: 0.8958"
     ]
    },
    {
     "name": "stdout",
     "output_type": "stream",
     "text": [
      "74288/74288 [==============================] - ETA: 12:13 - loss: 0.3094 - acc: 0.8804 - auc: 0.89 - ETA: 12:05 - loss: 0.3094 - acc: 0.8804 - auc: 0.89 - ETA: 11:58 - loss: 0.3093 - acc: 0.8805 - auc: 0.89 - ETA: 11:50 - loss: 0.3089 - acc: 0.8807 - auc: 0.89 - ETA: 11:42 - loss: 0.3090 - acc: 0.8807 - auc: 0.89 - ETA: 11:35 - loss: 0.3093 - acc: 0.8806 - auc: 0.89 - ETA: 11:27 - loss: 0.3094 - acc: 0.8805 - auc: 0.89 - ETA: 11:19 - loss: 0.3091 - acc: 0.8806 - auc: 0.89 - ETA: 11:12 - loss: 0.3092 - acc: 0.8805 - auc: 0.89 - ETA: 11:04 - loss: 0.3093 - acc: 0.8803 - auc: 0.89 - ETA: 10:57 - loss: 0.3093 - acc: 0.8804 - auc: 0.89 - ETA: 10:49 - loss: 0.3089 - acc: 0.8806 - auc: 0.89 - ETA: 10:42 - loss: 0.3086 - acc: 0.8808 - auc: 0.89 - ETA: 10:34 - loss: 0.3085 - acc: 0.8808 - auc: 0.89 - ETA: 10:26 - loss: 0.3086 - acc: 0.8808 - auc: 0.89 - ETA: 10:19 - loss: 0.3089 - acc: 0.8807 - auc: 0.89 - ETA: 10:11 - loss: 0.3088 - acc: 0.8808 - auc: 0.89 - ETA: 10:04 - loss: 0.3092 - acc: 0.8806 - auc: 0.89 - ETA: 9:56 - loss: 0.3095 - acc: 0.8805 - auc: 0.8960 - ETA: 9:48 - loss: 0.3099 - acc: 0.8804 - auc: 0.896 - ETA: 9:41 - loss: 0.3098 - acc: 0.8805 - auc: 0.896 - ETA: 9:33 - loss: 0.3099 - acc: 0.8805 - auc: 0.896 - ETA: 9:26 - loss: 0.3098 - acc: 0.8806 - auc: 0.896 - ETA: 9:18 - loss: 0.3096 - acc: 0.8806 - auc: 0.896 - ETA: 9:10 - loss: 0.3095 - acc: 0.8807 - auc: 0.896 - ETA: 9:02 - loss: 0.3095 - acc: 0.8808 - auc: 0.896 - ETA: 8:55 - loss: 0.3099 - acc: 0.8806 - auc: 0.896 - ETA: 8:47 - loss: 0.3099 - acc: 0.8806 - auc: 0.896 - ETA: 8:39 - loss: 0.3099 - acc: 0.8806 - auc: 0.896 - ETA: 8:32 - loss: 0.3098 - acc: 0.8806 - auc: 0.896 - ETA: 8:24 - loss: 0.3100 - acc: 0.8805 - auc: 0.896 - ETA: 8:16 - loss: 0.3099 - acc: 0.8806 - auc: 0.896 - ETA: 8:09 - loss: 0.3096 - acc: 0.8808 - auc: 0.896 - ETA: 8:01 - loss: 0.3093 - acc: 0.8809 - auc: 0.896 - ETA: 7:53 - loss: 0.3090 - acc: 0.8810 - auc: 0.896 - ETA: 7:46 - loss: 0.3093 - acc: 0.8809 - auc: 0.896 - ETA: 7:38 - loss: 0.3095 - acc: 0.8808 - auc: 0.896 - ETA: 7:30 - loss: 0.3094 - acc: 0.8808 - auc: 0.896 - ETA: 7:22 - loss: 0.3096 - acc: 0.8807 - auc: 0.896 - ETA: 7:15 - loss: 0.3096 - acc: 0.8807 - auc: 0.896 - ETA: 7:07 - loss: 0.3095 - acc: 0.8807 - auc: 0.896 - ETA: 6:59 - loss: 0.3096 - acc: 0.8806 - auc: 0.896 - ETA: 6:52 - loss: 0.3098 - acc: 0.8805 - auc: 0.896 - ETA: 6:44 - loss: 0.3097 - acc: 0.8806 - auc: 0.896 - ETA: 6:36 - loss: 0.3094 - acc: 0.8807 - auc: 0.896 - ETA: 6:29 - loss: 0.3096 - acc: 0.8806 - auc: 0.896 - ETA: 6:21 - loss: 0.3097 - acc: 0.8805 - auc: 0.896 - ETA: 6:13 - loss: 0.3097 - acc: 0.8805 - auc: 0.896 - ETA: 6:06 - loss: 0.3097 - acc: 0.8805 - auc: 0.896 - ETA: 5:58 - loss: 0.3096 - acc: 0.8806 - auc: 0.896 - ETA: 5:50 - loss: 0.3098 - acc: 0.8804 - auc: 0.896 - ETA: 5:42 - loss: 0.3101 - acc: 0.8804 - auc: 0.896 - ETA: 5:35 - loss: 0.3103 - acc: 0.8802 - auc: 0.896 - ETA: 5:27 - loss: 0.3102 - acc: 0.8802 - auc: 0.896 - ETA: 5:19 - loss: 0.3102 - acc: 0.8802 - auc: 0.896 - ETA: 5:12 - loss: 0.3102 - acc: 0.8802 - auc: 0.896 - ETA: 5:04 - loss: 0.3104 - acc: 0.8801 - auc: 0.896 - ETA: 4:56 - loss: 0.3104 - acc: 0.8801 - auc: 0.896 - ETA: 4:49 - loss: 0.3100 - acc: 0.8803 - auc: 0.896 - ETA: 4:41 - loss: 0.3101 - acc: 0.8803 - auc: 0.896 - ETA: 4:33 - loss: 0.3102 - acc: 0.8803 - auc: 0.896 - ETA: 4:26 - loss: 0.3100 - acc: 0.8804 - auc: 0.896 - ETA: 4:18 - loss: 0.3103 - acc: 0.8802 - auc: 0.896 - ETA: 4:10 - loss: 0.3103 - acc: 0.8802 - auc: 0.896 - ETA: 4:03 - loss: 0.3104 - acc: 0.8802 - auc: 0.896 - ETA: 3:55 - loss: 0.3105 - acc: 0.8801 - auc: 0.896 - ETA: 3:47 - loss: 0.3104 - acc: 0.8802 - auc: 0.896 - ETA: 3:39 - loss: 0.3105 - acc: 0.8802 - auc: 0.896 - ETA: 3:32 - loss: 0.3107 - acc: 0.8801 - auc: 0.896 - ETA: 3:24 - loss: 0.3105 - acc: 0.8802 - auc: 0.896 - ETA: 3:16 - loss: 0.3105 - acc: 0.8802 - auc: 0.896 - ETA: 3:09 - loss: 0.3107 - acc: 0.8801 - auc: 0.896 - ETA: 3:01 - loss: 0.3104 - acc: 0.8803 - auc: 0.896 - ETA: 2:53 - loss: 0.3103 - acc: 0.8804 - auc: 0.896 - ETA: 2:46 - loss: 0.3102 - acc: 0.8805 - auc: 0.896 - ETA: 2:38 - loss: 0.3101 - acc: 0.8805 - auc: 0.896 - ETA: 2:30 - loss: 0.3101 - acc: 0.8805 - auc: 0.896 - ETA: 2:23 - loss: 0.3101 - acc: 0.8805 - auc: 0.896 - ETA: 2:15 - loss: 0.3099 - acc: 0.8806 - auc: 0.896 - ETA: 2:07 - loss: 0.3099 - acc: 0.8806 - auc: 0.896 - ETA: 2:00 - loss: 0.3100 - acc: 0.8806 - auc: 0.896 - ETA: 1:52 - loss: 0.3098 - acc: 0.8806 - auc: 0.896 - ETA: 1:44 - loss: 0.3099 - acc: 0.8806 - auc: 0.896 - ETA: 1:36 - loss: 0.3097 - acc: 0.8807 - auc: 0.896 - ETA: 1:29 - loss: 0.3096 - acc: 0.8808 - auc: 0.896 - ETA: 1:21 - loss: 0.3097 - acc: 0.8808 - auc: 0.896 - ETA: 1:13 - loss: 0.3093 - acc: 0.8810 - auc: 0.896 - ETA: 1:06 - loss: 0.3090 - acc: 0.8811 - auc: 0.896 - ETA: 58s - loss: 0.3090 - acc: 0.8811 - auc: 0.896 - ETA: 50s - loss: 0.3088 - acc: 0.8812 - auc: 0.89 - ETA: 43s - loss: 0.3088 - acc: 0.8812 - auc: 0.89 - ETA: 35s - loss: 0.3090 - acc: 0.8811 - auc: 0.89 - ETA: 27s - loss: 0.3091 - acc: 0.8810 - auc: 0.89 - ETA: 20s - loss: 0.3090 - acc: 0.8810 - auc: 0.89 - ETA: 12s - loss: 0.3092 - acc: 0.8810 - auc: 0.89 - ETA: 4s - loss: 0.3091 - acc: 0.8810 - auc: 0.8966 - 2026s 27ms/step - loss: 0.3093 - acc: 0.8809 - auc: 0.8966 - val_loss: 0.5721 - val_acc: 0.8325 - val_auc: 0.8980\n",
      "Epoch 11/12\n"
     ]
    },
    {
     "name": "stdout",
     "output_type": "stream",
     "text": [
      "45300/74288 [=================>............] - ETA: 32:18 - loss: 0.2746 - acc: 0.8967 - auc: 0.89 - ETA: 31:49 - loss: 0.2684 - acc: 0.8983 - auc: 0.89 - ETA: 31:23 - loss: 0.2795 - acc: 0.8911 - auc: 0.89 - ETA: 31:03 - loss: 0.2784 - acc: 0.8917 - auc: 0.89 - ETA: 30:49 - loss: 0.2850 - acc: 0.8887 - auc: 0.89 - ETA: 30:39 - loss: 0.2809 - acc: 0.8911 - auc: 0.89 - ETA: 30:31 - loss: 0.2863 - acc: 0.8881 - auc: 0.89 - ETA: 30:23 - loss: 0.2860 - acc: 0.8867 - auc: 0.89 - ETA: 30:15 - loss: 0.2862 - acc: 0.8881 - auc: 0.89 - ETA: 30:05 - loss: 0.2846 - acc: 0.8893 - auc: 0.89 - ETA: 29:58 - loss: 0.2886 - acc: 0.8879 - auc: 0.89 - ETA: 29:51 - loss: 0.2882 - acc: 0.8883 - auc: 0.89 - ETA: 29:43 - loss: 0.2908 - acc: 0.8867 - auc: 0.89 - ETA: 29:37 - loss: 0.2942 - acc: 0.8845 - auc: 0.89 - ETA: 29:28 - loss: 0.2920 - acc: 0.8862 - auc: 0.89 - ETA: 29:21 - loss: 0.2912 - acc: 0.8871 - auc: 0.89 - ETA: 29:14 - loss: 0.2930 - acc: 0.8865 - auc: 0.89 - ETA: 29:06 - loss: 0.2930 - acc: 0.8865 - auc: 0.89 - ETA: 28:58 - loss: 0.2917 - acc: 0.8872 - auc: 0.89 - ETA: 28:50 - loss: 0.2935 - acc: 0.8863 - auc: 0.89 - ETA: 28:44 - loss: 0.2926 - acc: 0.8870 - auc: 0.89 - ETA: 28:36 - loss: 0.2943 - acc: 0.8868 - auc: 0.89 - ETA: 28:27 - loss: 0.2934 - acc: 0.8867 - auc: 0.89 - ETA: 28:20 - loss: 0.2976 - acc: 0.8843 - auc: 0.89 - ETA: 28:13 - loss: 0.2974 - acc: 0.8841 - auc: 0.89 - ETA: 28:05 - loss: 0.2978 - acc: 0.8835 - auc: 0.89 - ETA: 27:58 - loss: 0.2968 - acc: 0.8842 - auc: 0.89 - ETA: 27:50 - loss: 0.2971 - acc: 0.8835 - auc: 0.89 - ETA: 27:42 - loss: 0.2964 - acc: 0.8840 - auc: 0.89 - ETA: 27:35 - loss: 0.2967 - acc: 0.8838 - auc: 0.89 - ETA: 27:27 - loss: 0.2965 - acc: 0.8837 - auc: 0.89 - ETA: 27:19 - loss: 0.2958 - acc: 0.8836 - auc: 0.89 - ETA: 27:12 - loss: 0.2966 - acc: 0.8832 - auc: 0.89 - ETA: 27:04 - loss: 0.2988 - acc: 0.8823 - auc: 0.89 - ETA: 26:56 - loss: 0.2986 - acc: 0.8823 - auc: 0.89 - ETA: 26:49 - loss: 0.2974 - acc: 0.8830 - auc: 0.89 - ETA: 26:42 - loss: 0.2990 - acc: 0.8823 - auc: 0.89 - ETA: 26:34 - loss: 0.2992 - acc: 0.8824 - auc: 0.89 - ETA: 26:26 - loss: 0.2984 - acc: 0.8831 - auc: 0.89 - ETA: 26:19 - loss: 0.2971 - acc: 0.8839 - auc: 0.89 - ETA: 26:12 - loss: 0.2959 - acc: 0.8845 - auc: 0.89 - ETA: 26:04 - loss: 0.2952 - acc: 0.8849 - auc: 0.89 - ETA: 25:56 - loss: 0.2955 - acc: 0.8847 - auc: 0.89 - ETA: 25:50 - loss: 0.2953 - acc: 0.8850 - auc: 0.89 - ETA: 25:42 - loss: 0.2953 - acc: 0.8850 - auc: 0.89 - ETA: 25:35 - loss: 0.2967 - acc: 0.8844 - auc: 0.89 - ETA: 25:28 - loss: 0.2963 - acc: 0.8843 - auc: 0.89 - ETA: 25:20 - loss: 0.2966 - acc: 0.8842 - auc: 0.89 - ETA: 25:13 - loss: 0.2964 - acc: 0.8844 - auc: 0.89 - ETA: 25:05 - loss: 0.2968 - acc: 0.8841 - auc: 0.89 - ETA: 24:57 - loss: 0.2978 - acc: 0.8834 - auc: 0.89 - ETA: 24:49 - loss: 0.2972 - acc: 0.8840 - auc: 0.89 - ETA: 24:42 - loss: 0.2972 - acc: 0.8838 - auc: 0.89 - ETA: 24:34 - loss: 0.2975 - acc: 0.8837 - auc: 0.89 - ETA: 24:26 - loss: 0.2973 - acc: 0.8837 - auc: 0.89 - ETA: 24:19 - loss: 0.2956 - acc: 0.8847 - auc: 0.89 - ETA: 24:11 - loss: 0.2956 - acc: 0.8847 - auc: 0.89 - ETA: 24:03 - loss: 0.2956 - acc: 0.8846 - auc: 0.89 - ETA: 23:56 - loss: 0.2951 - acc: 0.8847 - auc: 0.89 - ETA: 23:48 - loss: 0.2955 - acc: 0.8844 - auc: 0.89 - ETA: 23:41 - loss: 0.2955 - acc: 0.8846 - auc: 0.89 - ETA: 23:34 - loss: 0.2958 - acc: 0.8844 - auc: 0.89 - ETA: 23:28 - loss: 0.2956 - acc: 0.8844 - auc: 0.89 - ETA: 23:20 - loss: 0.2950 - acc: 0.8849 - auc: 0.89 - ETA: 23:12 - loss: 0.2946 - acc: 0.8850 - auc: 0.89 - ETA: 23:05 - loss: 0.2940 - acc: 0.8857 - auc: 0.89 - ETA: 22:57 - loss: 0.2938 - acc: 0.8859 - auc: 0.89 - ETA: 22:49 - loss: 0.2937 - acc: 0.8859 - auc: 0.89 - ETA: 22:42 - loss: 0.2941 - acc: 0.8858 - auc: 0.89 - ETA: 22:34 - loss: 0.2955 - acc: 0.8851 - auc: 0.89 - ETA: 22:27 - loss: 0.2959 - acc: 0.8850 - auc: 0.89 - ETA: 22:19 - loss: 0.2957 - acc: 0.8851 - auc: 0.89 - ETA: 22:12 - loss: 0.2953 - acc: 0.8855 - auc: 0.89 - ETA: 22:05 - loss: 0.2949 - acc: 0.8858 - auc: 0.89 - ETA: 21:57 - loss: 0.2947 - acc: 0.8860 - auc: 0.89 - ETA: 21:49 - loss: 0.2942 - acc: 0.8862 - auc: 0.89 - ETA: 21:42 - loss: 0.2946 - acc: 0.8860 - auc: 0.89 - ETA: 21:34 - loss: 0.2941 - acc: 0.8863 - auc: 0.89 - ETA: 21:27 - loss: 0.2953 - acc: 0.8856 - auc: 0.89 - ETA: 21:19 - loss: 0.2951 - acc: 0.8857 - auc: 0.89 - ETA: 21:12 - loss: 0.2956 - acc: 0.8856 - auc: 0.89 - ETA: 21:04 - loss: 0.2955 - acc: 0.8856 - auc: 0.89 - ETA: 20:57 - loss: 0.2950 - acc: 0.8860 - auc: 0.89 - ETA: 20:49 - loss: 0.2943 - acc: 0.8863 - auc: 0.89 - ETA: 20:41 - loss: 0.2947 - acc: 0.8863 - auc: 0.89 - ETA: 20:33 - loss: 0.2948 - acc: 0.8862 - auc: 0.89 - ETA: 20:26 - loss: 0.2948 - acc: 0.8862 - auc: 0.89 - ETA: 20:18 - loss: 0.2947 - acc: 0.8862 - auc: 0.89 - ETA: 20:11 - loss: 0.2950 - acc: 0.8861 - auc: 0.89 - ETA: 20:03 - loss: 0.2946 - acc: 0.8864 - auc: 0.89 - ETA: 19:55 - loss: 0.2948 - acc: 0.8861 - auc: 0.89 - ETA: 19:47 - loss: 0.2947 - acc: 0.8861 - auc: 0.89 - ETA: 19:40 - loss: 0.2943 - acc: 0.8863 - auc: 0.89 - ETA: 19:32 - loss: 0.2946 - acc: 0.8861 - auc: 0.89 - ETA: 19:24 - loss: 0.2946 - acc: 0.8861 - auc: 0.89 - ETA: 19:17 - loss: 0.2949 - acc: 0.8860 - auc: 0.89 - ETA: 19:09 - loss: 0.2948 - acc: 0.8860 - auc: 0.89 - ETA: 19:01 - loss: 0.2952 - acc: 0.8858 - auc: 0.89 - ETA: 18:54 - loss: 0.2949 - acc: 0.8861 - auc: 0.89 - ETA: 18:46 - loss: 0.2954 - acc: 0.8859 - auc: 0.89 - ETA: 18:39 - loss: 0.2952 - acc: 0.8860 - auc: 0.89 - ETA: 18:31 - loss: 0.2952 - acc: 0.8861 - auc: 0.89 - ETA: 18:23 - loss: 0.2953 - acc: 0.8861 - auc: 0.89 - ETA: 18:16 - loss: 0.2952 - acc: 0.8860 - auc: 0.89 - ETA: 18:08 - loss: 0.2950 - acc: 0.8861 - auc: 0.89 - ETA: 18:01 - loss: 0.2951 - acc: 0.8860 - auc: 0.89 - ETA: 17:53 - loss: 0.2945 - acc: 0.8865 - auc: 0.89 - ETA: 17:45 - loss: 0.2946 - acc: 0.8864 - auc: 0.89 - ETA: 17:38 - loss: 0.2948 - acc: 0.8863 - auc: 0.89 - ETA: 17:30 - loss: 0.2952 - acc: 0.8860 - auc: 0.89 - ETA: 17:23 - loss: 0.2952 - acc: 0.8861 - auc: 0.89 - ETA: 17:15 - loss: 0.2948 - acc: 0.8862 - auc: 0.89 - ETA: 17:07 - loss: 0.2952 - acc: 0.8861 - auc: 0.89 - ETA: 17:00 - loss: 0.2954 - acc: 0.8861 - auc: 0.89 - ETA: 16:52 - loss: 0.2953 - acc: 0.8861 - auc: 0.89 - ETA: 16:44 - loss: 0.2953 - acc: 0.8860 - auc: 0.89 - ETA: 16:36 - loss: 0.2953 - acc: 0.8860 - auc: 0.89 - ETA: 16:29 - loss: 0.2954 - acc: 0.8860 - auc: 0.89 - ETA: 16:21 - loss: 0.2952 - acc: 0.8862 - auc: 0.89 - ETA: 16:13 - loss: 0.2951 - acc: 0.8862 - auc: 0.89 - ETA: 16:06 - loss: 0.2950 - acc: 0.8863 - auc: 0.89 - ETA: 15:58 - loss: 0.2953 - acc: 0.8861 - auc: 0.89 - ETA: 15:51 - loss: 0.2952 - acc: 0.8861 - auc: 0.89 - ETA: 15:43 - loss: 0.2952 - acc: 0.8860 - auc: 0.89 - ETA: 15:35 - loss: 0.2954 - acc: 0.8859 - auc: 0.89 - ETA: 15:28 - loss: 0.2954 - acc: 0.8859 - auc: 0.89 - ETA: 15:20 - loss: 0.2956 - acc: 0.8856 - auc: 0.89 - ETA: 15:12 - loss: 0.2957 - acc: 0.8855 - auc: 0.89 - ETA: 15:05 - loss: 0.2954 - acc: 0.8857 - auc: 0.89 - ETA: 14:57 - loss: 0.2955 - acc: 0.8855 - auc: 0.89 - ETA: 14:50 - loss: 0.2956 - acc: 0.8855 - auc: 0.89 - ETA: 14:42 - loss: 0.2958 - acc: 0.8854 - auc: 0.89 - ETA: 14:34 - loss: 0.2960 - acc: 0.8852 - auc: 0.89 - ETA: 14:27 - loss: 0.2957 - acc: 0.8855 - auc: 0.89 - ETA: 14:19 - loss: 0.2955 - acc: 0.8855 - auc: 0.89 - ETA: 14:11 - loss: 0.2954 - acc: 0.8856 - auc: 0.89 - ETA: 14:04 - loss: 0.2955 - acc: 0.8855 - auc: 0.89 - ETA: 13:56 - loss: 0.2951 - acc: 0.8857 - auc: 0.89 - ETA: 13:49 - loss: 0.2948 - acc: 0.8859 - auc: 0.89 - ETA: 13:41 - loss: 0.2951 - acc: 0.8859 - auc: 0.89 - ETA: 13:33 - loss: 0.2951 - acc: 0.8858 - auc: 0.89 - ETA: 13:26 - loss: 0.2952 - acc: 0.8858 - auc: 0.89 - ETA: 13:18 - loss: 0.2952 - acc: 0.8859 - auc: 0.89 - ETA: 13:11 - loss: 0.2953 - acc: 0.8859 - auc: 0.89 - ETA: 13:03 - loss: 0.2950 - acc: 0.8860 - auc: 0.89 - ETA: 12:56 - loss: 0.2950 - acc: 0.8860 - auc: 0.89 - ETA: 12:48 - loss: 0.2951 - acc: 0.8860 - auc: 0.89 - ETA: 12:40 - loss: 0.2948 - acc: 0.8862 - auc: 0.89 - ETA: 12:33 - loss: 0.2946 - acc: 0.8862 - auc: 0.89 - ETA: 12:25 - loss: 0.2950 - acc: 0.8861 - auc: 0.89 - ETA: 12:17 - loss: 0.2951 - acc: 0.8860 - auc: 0.898774288/74288 [==============================] - ETA: 12:10 - loss: 0.2951 - acc: 0.8860 - auc: 0.89 - ETA: 12:02 - loss: 0.2951 - acc: 0.8859 - auc: 0.89 - ETA: 11:54 - loss: 0.2952 - acc: 0.8859 - auc: 0.89 - ETA: 11:47 - loss: 0.2953 - acc: 0.8859 - auc: 0.89 - ETA: 11:39 - loss: 0.2953 - acc: 0.8859 - auc: 0.89 - ETA: 11:32 - loss: 0.2953 - acc: 0.8859 - auc: 0.89 - ETA: 11:24 - loss: 0.2953 - acc: 0.8858 - auc: 0.89 - ETA: 11:16 - loss: 0.2954 - acc: 0.8857 - auc: 0.89 - ETA: 11:09 - loss: 0.2954 - acc: 0.8856 - auc: 0.89 - ETA: 11:01 - loss: 0.2954 - acc: 0.8856 - auc: 0.89 - ETA: 10:53 - loss: 0.2953 - acc: 0.8856 - auc: 0.89 - ETA: 10:46 - loss: 0.2953 - acc: 0.8855 - auc: 0.89 - ETA: 10:38 - loss: 0.2953 - acc: 0.8854 - auc: 0.89 - ETA: 10:30 - loss: 0.2950 - acc: 0.8856 - auc: 0.89 - ETA: 10:23 - loss: 0.2952 - acc: 0.8855 - auc: 0.89 - ETA: 10:15 - loss: 0.2954 - acc: 0.8853 - auc: 0.89 - ETA: 10:07 - loss: 0.2959 - acc: 0.8851 - auc: 0.89 - ETA: 10:00 - loss: 0.2963 - acc: 0.8849 - auc: 0.89 - ETA: 9:52 - loss: 0.2963 - acc: 0.8849 - auc: 0.8989 - ETA: 9:45 - loss: 0.2963 - acc: 0.8850 - auc: 0.898 - ETA: 9:37 - loss: 0.2964 - acc: 0.8850 - auc: 0.898 - ETA: 9:29 - loss: 0.2967 - acc: 0.8850 - auc: 0.898 - ETA: 9:21 - loss: 0.2968 - acc: 0.8850 - auc: 0.898 - ETA: 9:14 - loss: 0.2967 - acc: 0.8851 - auc: 0.898 - ETA: 9:06 - loss: 0.2970 - acc: 0.8850 - auc: 0.898 - ETA: 8:59 - loss: 0.2972 - acc: 0.8849 - auc: 0.899 - ETA: 8:51 - loss: 0.2973 - acc: 0.8849 - auc: 0.899 - ETA: 8:43 - loss: 0.2973 - acc: 0.8849 - auc: 0.899 - ETA: 8:36 - loss: 0.2973 - acc: 0.8849 - auc: 0.899 - ETA: 8:28 - loss: 0.2973 - acc: 0.8849 - auc: 0.899 - ETA: 8:20 - loss: 0.2973 - acc: 0.8850 - auc: 0.899 - ETA: 8:13 - loss: 0.2976 - acc: 0.8848 - auc: 0.899 - ETA: 8:05 - loss: 0.2981 - acc: 0.8847 - auc: 0.899 - ETA: 7:57 - loss: 0.2982 - acc: 0.8847 - auc: 0.899 - ETA: 7:50 - loss: 0.2984 - acc: 0.8846 - auc: 0.899 - ETA: 7:42 - loss: 0.2985 - acc: 0.8846 - auc: 0.899 - ETA: 7:35 - loss: 0.2987 - acc: 0.8844 - auc: 0.899 - ETA: 7:27 - loss: 0.2988 - acc: 0.8843 - auc: 0.899 - ETA: 7:19 - loss: 0.2986 - acc: 0.8845 - auc: 0.899 - ETA: 7:12 - loss: 0.2984 - acc: 0.8846 - auc: 0.899 - ETA: 7:04 - loss: 0.2984 - acc: 0.8846 - auc: 0.899 - ETA: 6:57 - loss: 0.2985 - acc: 0.8845 - auc: 0.899 - ETA: 6:49 - loss: 0.2984 - acc: 0.8846 - auc: 0.899 - ETA: 6:41 - loss: 0.2984 - acc: 0.8847 - auc: 0.899 - ETA: 6:34 - loss: 0.2984 - acc: 0.8847 - auc: 0.899 - ETA: 6:26 - loss: 0.2981 - acc: 0.8848 - auc: 0.899 - ETA: 6:18 - loss: 0.2982 - acc: 0.8848 - auc: 0.899 - ETA: 6:11 - loss: 0.2980 - acc: 0.8849 - auc: 0.899 - ETA: 6:03 - loss: 0.2980 - acc: 0.8849 - auc: 0.899 - ETA: 5:55 - loss: 0.2981 - acc: 0.8849 - auc: 0.899 - ETA: 5:48 - loss: 0.2979 - acc: 0.8850 - auc: 0.899 - ETA: 5:40 - loss: 0.2977 - acc: 0.8851 - auc: 0.899 - ETA: 5:33 - loss: 0.2975 - acc: 0.8852 - auc: 0.899 - ETA: 5:25 - loss: 0.2975 - acc: 0.8852 - auc: 0.899 - ETA: 5:17 - loss: 0.2975 - acc: 0.8853 - auc: 0.899 - ETA: 5:10 - loss: 0.2974 - acc: 0.8854 - auc: 0.899 - ETA: 5:02 - loss: 0.2972 - acc: 0.8855 - auc: 0.899 - ETA: 4:54 - loss: 0.2972 - acc: 0.8855 - auc: 0.899 - ETA: 4:47 - loss: 0.2973 - acc: 0.8854 - auc: 0.899 - ETA: 4:39 - loss: 0.2972 - acc: 0.8854 - auc: 0.899 - ETA: 4:31 - loss: 0.2971 - acc: 0.8856 - auc: 0.899 - ETA: 4:24 - loss: 0.2971 - acc: 0.8856 - auc: 0.899 - ETA: 4:16 - loss: 0.2971 - acc: 0.8856 - auc: 0.899 - ETA: 4:09 - loss: 0.2972 - acc: 0.8855 - auc: 0.899 - ETA: 4:01 - loss: 0.2971 - acc: 0.8856 - auc: 0.899 - ETA: 3:53 - loss: 0.2970 - acc: 0.8856 - auc: 0.899 - ETA: 3:46 - loss: 0.2970 - acc: 0.8856 - auc: 0.899 - ETA: 3:38 - loss: 0.2970 - acc: 0.8856 - auc: 0.899 - ETA: 3:30 - loss: 0.2970 - acc: 0.8856 - auc: 0.899 - ETA: 3:23 - loss: 0.2974 - acc: 0.8854 - auc: 0.899 - ETA: 3:15 - loss: 0.2975 - acc: 0.8853 - auc: 0.899 - ETA: 3:08 - loss: 0.2974 - acc: 0.8854 - auc: 0.899 - ETA: 3:00 - loss: 0.2974 - acc: 0.8854 - auc: 0.899 - ETA: 2:52 - loss: 0.2973 - acc: 0.8854 - auc: 0.899 - ETA: 2:45 - loss: 0.2972 - acc: 0.8855 - auc: 0.899 - ETA: 2:37 - loss: 0.2972 - acc: 0.8855 - auc: 0.899 - ETA: 2:29 - loss: 0.2972 - acc: 0.8855 - auc: 0.899 - ETA: 2:22 - loss: 0.2971 - acc: 0.8855 - auc: 0.899 - ETA: 2:14 - loss: 0.2973 - acc: 0.8854 - auc: 0.899 - ETA: 2:06 - loss: 0.2976 - acc: 0.8853 - auc: 0.899 - ETA: 1:59 - loss: 0.2974 - acc: 0.8854 - auc: 0.899 - ETA: 1:51 - loss: 0.2976 - acc: 0.8852 - auc: 0.899 - ETA: 1:44 - loss: 0.2975 - acc: 0.8853 - auc: 0.899 - ETA: 1:36 - loss: 0.2976 - acc: 0.8852 - auc: 0.899 - ETA: 1:28 - loss: 0.2976 - acc: 0.8853 - auc: 0.899 - ETA: 1:21 - loss: 0.2976 - acc: 0.8852 - auc: 0.899 - ETA: 1:13 - loss: 0.2977 - acc: 0.8852 - auc: 0.899 - ETA: 1:05 - loss: 0.2975 - acc: 0.8853 - auc: 0.899 - ETA: 58s - loss: 0.2974 - acc: 0.8854 - auc: 0.899 - ETA: 50s - loss: 0.2976 - acc: 0.8852 - auc: 0.89 - ETA: 42s - loss: 0.2977 - acc: 0.8852 - auc: 0.89 - ETA: 35s - loss: 0.2977 - acc: 0.8852 - auc: 0.89 - ETA: 27s - loss: 0.2977 - acc: 0.8851 - auc: 0.89 - ETA: 20s - loss: 0.2976 - acc: 0.8852 - auc: 0.89 - ETA: 12s - loss: 0.2976 - acc: 0.8852 - auc: 0.89 - ETA: 4s - loss: 0.2977 - acc: 0.8852 - auc: 0.8995 - 2014s 27ms/step - loss: 0.2974 - acc: 0.8853 - auc: 0.8995 - val_loss: 0.5957 - val_acc: 0.8285 - val_auc: 0.9008\n",
      "Epoch 12/12\n"
     ]
    },
    {
     "name": "stdout",
     "output_type": "stream",
     "text": [
      "45300/74288 [=================>............] - ETA: 32:46 - loss: 0.2238 - acc: 0.9133 - auc: 0.90 - ETA: 33:53 - loss: 0.2544 - acc: 0.9000 - auc: 0.90 - ETA: 32:47 - loss: 0.2713 - acc: 0.8933 - auc: 0.90 - ETA: 32:18 - loss: 0.2594 - acc: 0.9017 - auc: 0.90 - ETA: 32:11 - loss: 0.2724 - acc: 0.8967 - auc: 0.90 - ETA: 31:48 - loss: 0.2738 - acc: 0.8944 - auc: 0.90 - ETA: 31:30 - loss: 0.2747 - acc: 0.8948 - auc: 0.90 - ETA: 31:17 - loss: 0.2766 - acc: 0.8937 - auc: 0.90 - ETA: 31:05 - loss: 0.2748 - acc: 0.8948 - auc: 0.90 - ETA: 30:51 - loss: 0.2751 - acc: 0.8943 - auc: 0.90 - ETA: 30:39 - loss: 0.2761 - acc: 0.8930 - auc: 0.90 - ETA: 30:29 - loss: 0.2721 - acc: 0.8950 - auc: 0.90 - ETA: 30:19 - loss: 0.2740 - acc: 0.8944 - auc: 0.90 - ETA: 30:11 - loss: 0.2760 - acc: 0.8931 - auc: 0.90 - ETA: 30:00 - loss: 0.2762 - acc: 0.8922 - auc: 0.90 - ETA: 29:51 - loss: 0.2736 - acc: 0.8931 - auc: 0.90 - ETA: 29:43 - loss: 0.2732 - acc: 0.8933 - auc: 0.90 - ETA: 29:34 - loss: 0.2715 - acc: 0.8944 - auc: 0.90 - ETA: 29:25 - loss: 0.2724 - acc: 0.8942 - auc: 0.90 - ETA: 29:16 - loss: 0.2703 - acc: 0.8955 - auc: 0.90 - ETA: 29:06 - loss: 0.2679 - acc: 0.8965 - auc: 0.90 - ETA: 28:57 - loss: 0.2693 - acc: 0.8955 - auc: 0.90 - ETA: 28:49 - loss: 0.2710 - acc: 0.8945 - auc: 0.90 - ETA: 28:40 - loss: 0.2730 - acc: 0.8936 - auc: 0.90 - ETA: 28:31 - loss: 0.2756 - acc: 0.8927 - auc: 0.90 - ETA: 28:23 - loss: 0.2766 - acc: 0.8915 - auc: 0.90 - ETA: 28:15 - loss: 0.2768 - acc: 0.8917 - auc: 0.90 - ETA: 28:07 - loss: 0.2786 - acc: 0.8905 - auc: 0.90 - ETA: 27:59 - loss: 0.2786 - acc: 0.8905 - auc: 0.90 - ETA: 27:50 - loss: 0.2782 - acc: 0.8907 - auc: 0.90 - ETA: 27:41 - loss: 0.2781 - acc: 0.8906 - auc: 0.90 - ETA: 27:33 - loss: 0.2790 - acc: 0.8901 - auc: 0.90 - ETA: 27:26 - loss: 0.2813 - acc: 0.8896 - auc: 0.90 - ETA: 27:19 - loss: 0.2801 - acc: 0.8906 - auc: 0.90 - ETA: 27:11 - loss: 0.2814 - acc: 0.8897 - auc: 0.90 - ETA: 27:04 - loss: 0.2817 - acc: 0.8894 - auc: 0.90 - ETA: 26:56 - loss: 0.2829 - acc: 0.8886 - auc: 0.90 - ETA: 26:48 - loss: 0.2821 - acc: 0.8889 - auc: 0.90 - ETA: 26:39 - loss: 0.2817 - acc: 0.8891 - auc: 0.90 - ETA: 26:32 - loss: 0.2821 - acc: 0.8890 - auc: 0.90 - ETA: 26:25 - loss: 0.2815 - acc: 0.8894 - auc: 0.90 - ETA: 26:17 - loss: 0.2804 - acc: 0.8902 - auc: 0.90 - ETA: 26:10 - loss: 0.2798 - acc: 0.8905 - auc: 0.90 - ETA: 26:02 - loss: 0.2804 - acc: 0.8902 - auc: 0.90 - ETA: 25:54 - loss: 0.2809 - acc: 0.8898 - auc: 0.90 - ETA: 25:47 - loss: 0.2814 - acc: 0.8898 - auc: 0.90 - ETA: 25:39 - loss: 0.2804 - acc: 0.8903 - auc: 0.90 - ETA: 25:32 - loss: 0.2806 - acc: 0.8901 - auc: 0.90 - ETA: 25:24 - loss: 0.2813 - acc: 0.8899 - auc: 0.90 - ETA: 25:16 - loss: 0.2805 - acc: 0.8905 - auc: 0.90 - ETA: 25:08 - loss: 0.2797 - acc: 0.8909 - auc: 0.90 - ETA: 25:00 - loss: 0.2799 - acc: 0.8911 - auc: 0.90 - ETA: 24:53 - loss: 0.2791 - acc: 0.8915 - auc: 0.90 - ETA: 24:44 - loss: 0.2788 - acc: 0.8915 - auc: 0.90 - ETA: 24:37 - loss: 0.2786 - acc: 0.8918 - auc: 0.90 - ETA: 24:29 - loss: 0.2785 - acc: 0.8919 - auc: 0.90 - ETA: 24:21 - loss: 0.2790 - acc: 0.8914 - auc: 0.90 - ETA: 24:15 - loss: 0.2784 - acc: 0.8918 - auc: 0.90 - ETA: 24:07 - loss: 0.2788 - acc: 0.8918 - auc: 0.90 - ETA: 23:59 - loss: 0.2794 - acc: 0.8913 - auc: 0.90 - ETA: 23:51 - loss: 0.2791 - acc: 0.8916 - auc: 0.90 - ETA: 23:43 - loss: 0.2797 - acc: 0.8913 - auc: 0.90 - ETA: 23:35 - loss: 0.2805 - acc: 0.8908 - auc: 0.90 - ETA: 23:28 - loss: 0.2812 - acc: 0.8906 - auc: 0.90 - ETA: 23:21 - loss: 0.2822 - acc: 0.8899 - auc: 0.90 - ETA: 23:13 - loss: 0.2815 - acc: 0.8901 - auc: 0.90 - ETA: 23:06 - loss: 0.2814 - acc: 0.8900 - auc: 0.90 - ETA: 22:58 - loss: 0.2815 - acc: 0.8900 - auc: 0.90 - ETA: 22:50 - loss: 0.2814 - acc: 0.8900 - auc: 0.90 - ETA: 22:42 - loss: 0.2808 - acc: 0.8902 - auc: 0.90 - ETA: 22:35 - loss: 0.2804 - acc: 0.8904 - auc: 0.90 - ETA: 22:27 - loss: 0.2809 - acc: 0.8902 - auc: 0.90 - ETA: 22:19 - loss: 0.2810 - acc: 0.8902 - auc: 0.90 - ETA: 22:12 - loss: 0.2811 - acc: 0.8902 - auc: 0.90 - ETA: 22:04 - loss: 0.2810 - acc: 0.8904 - auc: 0.90 - ETA: 21:57 - loss: 0.2809 - acc: 0.8905 - auc: 0.90 - ETA: 21:49 - loss: 0.2815 - acc: 0.8901 - auc: 0.90 - ETA: 21:42 - loss: 0.2817 - acc: 0.8901 - auc: 0.90 - ETA: 21:34 - loss: 0.2813 - acc: 0.8902 - auc: 0.90 - ETA: 21:27 - loss: 0.2814 - acc: 0.8900 - auc: 0.90 - ETA: 21:19 - loss: 0.2811 - acc: 0.8903 - auc: 0.90 - ETA: 21:11 - loss: 0.2816 - acc: 0.8900 - auc: 0.90 - ETA: 21:04 - loss: 0.2807 - acc: 0.8904 - auc: 0.90 - ETA: 20:56 - loss: 0.2805 - acc: 0.8907 - auc: 0.90 - ETA: 20:48 - loss: 0.2801 - acc: 0.8909 - auc: 0.90 - ETA: 20:40 - loss: 0.2797 - acc: 0.8911 - auc: 0.90 - ETA: 20:32 - loss: 0.2800 - acc: 0.8907 - auc: 0.90 - ETA: 20:25 - loss: 0.2806 - acc: 0.8906 - auc: 0.90 - ETA: 20:17 - loss: 0.2804 - acc: 0.8907 - auc: 0.90 - ETA: 20:09 - loss: 0.2805 - acc: 0.8906 - auc: 0.90 - ETA: 20:01 - loss: 0.2807 - acc: 0.8904 - auc: 0.90 - ETA: 19:53 - loss: 0.2807 - acc: 0.8903 - auc: 0.90 - ETA: 19:45 - loss: 0.2804 - acc: 0.8904 - auc: 0.90 - ETA: 19:38 - loss: 0.2800 - acc: 0.8907 - auc: 0.90 - ETA: 19:30 - loss: 0.2796 - acc: 0.8910 - auc: 0.90 - ETA: 19:23 - loss: 0.2797 - acc: 0.8910 - auc: 0.90 - ETA: 19:15 - loss: 0.2802 - acc: 0.8907 - auc: 0.90 - ETA: 19:08 - loss: 0.2804 - acc: 0.8907 - auc: 0.90 - ETA: 19:00 - loss: 0.2802 - acc: 0.8908 - auc: 0.90 - ETA: 18:52 - loss: 0.2804 - acc: 0.8907 - auc: 0.90 - ETA: 18:45 - loss: 0.2802 - acc: 0.8908 - auc: 0.90 - ETA: 18:37 - loss: 0.2801 - acc: 0.8909 - auc: 0.90 - ETA: 18:29 - loss: 0.2802 - acc: 0.8908 - auc: 0.90 - ETA: 18:22 - loss: 0.2800 - acc: 0.8909 - auc: 0.90 - ETA: 18:14 - loss: 0.2798 - acc: 0.8910 - auc: 0.90 - ETA: 18:06 - loss: 0.2802 - acc: 0.8907 - auc: 0.90 - ETA: 17:58 - loss: 0.2805 - acc: 0.8905 - auc: 0.90 - ETA: 17:50 - loss: 0.2806 - acc: 0.8904 - auc: 0.90 - ETA: 17:43 - loss: 0.2804 - acc: 0.8906 - auc: 0.90 - ETA: 17:35 - loss: 0.2808 - acc: 0.8906 - auc: 0.90 - ETA: 17:27 - loss: 0.2805 - acc: 0.8908 - auc: 0.90 - ETA: 17:20 - loss: 0.2807 - acc: 0.8906 - auc: 0.90 - ETA: 17:12 - loss: 0.2810 - acc: 0.8905 - auc: 0.90 - ETA: 17:04 - loss: 0.2812 - acc: 0.8905 - auc: 0.90 - ETA: 16:57 - loss: 0.2814 - acc: 0.8904 - auc: 0.90 - ETA: 16:49 - loss: 0.2817 - acc: 0.8902 - auc: 0.90 - ETA: 16:41 - loss: 0.2818 - acc: 0.8902 - auc: 0.90 - ETA: 16:34 - loss: 0.2817 - acc: 0.8902 - auc: 0.90 - ETA: 16:26 - loss: 0.2817 - acc: 0.8903 - auc: 0.90 - ETA: 16:18 - loss: 0.2821 - acc: 0.8901 - auc: 0.90 - ETA: 16:11 - loss: 0.2821 - acc: 0.8901 - auc: 0.90 - ETA: 16:03 - loss: 0.2826 - acc: 0.8899 - auc: 0.90 - ETA: 15:55 - loss: 0.2822 - acc: 0.8902 - auc: 0.90 - ETA: 15:48 - loss: 0.2823 - acc: 0.8901 - auc: 0.90 - ETA: 15:40 - loss: 0.2823 - acc: 0.8901 - auc: 0.90 - ETA: 15:32 - loss: 0.2829 - acc: 0.8898 - auc: 0.90 - ETA: 15:25 - loss: 0.2831 - acc: 0.8896 - auc: 0.90 - ETA: 15:17 - loss: 0.2831 - acc: 0.8897 - auc: 0.90 - ETA: 15:09 - loss: 0.2830 - acc: 0.8897 - auc: 0.90 - ETA: 15:02 - loss: 0.2824 - acc: 0.8901 - auc: 0.90 - ETA: 14:54 - loss: 0.2826 - acc: 0.8900 - auc: 0.90 - ETA: 14:46 - loss: 0.2824 - acc: 0.8901 - auc: 0.90 - ETA: 14:39 - loss: 0.2827 - acc: 0.8899 - auc: 0.90 - ETA: 14:31 - loss: 0.2826 - acc: 0.8900 - auc: 0.90 - ETA: 14:23 - loss: 0.2825 - acc: 0.8901 - auc: 0.90 - ETA: 14:15 - loss: 0.2821 - acc: 0.8904 - auc: 0.90 - ETA: 14:08 - loss: 0.2824 - acc: 0.8902 - auc: 0.90 - ETA: 14:00 - loss: 0.2820 - acc: 0.8904 - auc: 0.90 - ETA: 13:53 - loss: 0.2826 - acc: 0.8900 - auc: 0.90 - ETA: 13:45 - loss: 0.2827 - acc: 0.8901 - auc: 0.90 - ETA: 13:37 - loss: 0.2825 - acc: 0.8902 - auc: 0.90 - ETA: 13:30 - loss: 0.2826 - acc: 0.8902 - auc: 0.90 - ETA: 13:22 - loss: 0.2826 - acc: 0.8903 - auc: 0.90 - ETA: 13:14 - loss: 0.2826 - acc: 0.8903 - auc: 0.90 - ETA: 13:07 - loss: 0.2827 - acc: 0.8903 - auc: 0.90 - ETA: 12:59 - loss: 0.2823 - acc: 0.8905 - auc: 0.90 - ETA: 12:52 - loss: 0.2819 - acc: 0.8906 - auc: 0.90 - ETA: 12:44 - loss: 0.2820 - acc: 0.8907 - auc: 0.90 - ETA: 12:36 - loss: 0.2821 - acc: 0.8907 - auc: 0.90 - ETA: 12:28 - loss: 0.2820 - acc: 0.8907 - auc: 0.90 - ETA: 12:21 - loss: 0.2818 - acc: 0.8909 - auc: 0.9015"
     ]
    },
    {
     "name": "stdout",
     "output_type": "stream",
     "text": [
      "74288/74288 [==============================] - ETA: 12:13 - loss: 0.2816 - acc: 0.8910 - auc: 0.90 - ETA: 12:06 - loss: 0.2819 - acc: 0.8908 - auc: 0.90 - ETA: 11:58 - loss: 0.2818 - acc: 0.8909 - auc: 0.90 - ETA: 11:50 - loss: 0.2819 - acc: 0.8908 - auc: 0.90 - ETA: 11:43 - loss: 0.2820 - acc: 0.8908 - auc: 0.90 - ETA: 11:35 - loss: 0.2818 - acc: 0.8909 - auc: 0.90 - ETA: 11:27 - loss: 0.2818 - acc: 0.8910 - auc: 0.90 - ETA: 11:20 - loss: 0.2819 - acc: 0.8910 - auc: 0.90 - ETA: 11:12 - loss: 0.2822 - acc: 0.8909 - auc: 0.90 - ETA: 11:04 - loss: 0.2820 - acc: 0.8910 - auc: 0.90 - ETA: 10:57 - loss: 0.2816 - acc: 0.8912 - auc: 0.90 - ETA: 10:49 - loss: 0.2813 - acc: 0.8915 - auc: 0.90 - ETA: 10:41 - loss: 0.2813 - acc: 0.8915 - auc: 0.90 - ETA: 10:33 - loss: 0.2813 - acc: 0.8915 - auc: 0.90 - ETA: 10:26 - loss: 0.2815 - acc: 0.8914 - auc: 0.90 - ETA: 10:18 - loss: 0.2814 - acc: 0.8915 - auc: 0.90 - ETA: 10:10 - loss: 0.2816 - acc: 0.8914 - auc: 0.90 - ETA: 10:02 - loss: 0.2818 - acc: 0.8913 - auc: 0.90 - ETA: 9:55 - loss: 0.2820 - acc: 0.8912 - auc: 0.9017 - ETA: 9:47 - loss: 0.2819 - acc: 0.8913 - auc: 0.901 - ETA: 9:39 - loss: 0.2820 - acc: 0.8912 - auc: 0.901 - ETA: 9:32 - loss: 0.2820 - acc: 0.8912 - auc: 0.901 - ETA: 9:24 - loss: 0.2820 - acc: 0.8911 - auc: 0.901 - ETA: 9:16 - loss: 0.2822 - acc: 0.8910 - auc: 0.901 - ETA: 9:09 - loss: 0.2821 - acc: 0.8910 - auc: 0.901 - ETA: 9:01 - loss: 0.2823 - acc: 0.8909 - auc: 0.901 - ETA: 8:53 - loss: 0.2825 - acc: 0.8909 - auc: 0.901 - ETA: 8:46 - loss: 0.2823 - acc: 0.8909 - auc: 0.901 - ETA: 8:38 - loss: 0.2823 - acc: 0.8909 - auc: 0.901 - ETA: 8:30 - loss: 0.2823 - acc: 0.8909 - auc: 0.901 - ETA: 8:22 - loss: 0.2825 - acc: 0.8908 - auc: 0.901 - ETA: 8:15 - loss: 0.2827 - acc: 0.8907 - auc: 0.901 - ETA: 8:07 - loss: 0.2826 - acc: 0.8907 - auc: 0.901 - ETA: 8:00 - loss: 0.2826 - acc: 0.8908 - auc: 0.901 - ETA: 7:52 - loss: 0.2828 - acc: 0.8906 - auc: 0.901 - ETA: 7:44 - loss: 0.2826 - acc: 0.8907 - auc: 0.901 - ETA: 7:37 - loss: 0.2823 - acc: 0.8909 - auc: 0.901 - ETA: 7:29 - loss: 0.2826 - acc: 0.8908 - auc: 0.901 - ETA: 7:21 - loss: 0.2828 - acc: 0.8906 - auc: 0.901 - ETA: 7:14 - loss: 0.2831 - acc: 0.8905 - auc: 0.901 - ETA: 7:06 - loss: 0.2832 - acc: 0.8903 - auc: 0.901 - ETA: 6:58 - loss: 0.2832 - acc: 0.8904 - auc: 0.901 - ETA: 6:51 - loss: 0.2832 - acc: 0.8904 - auc: 0.901 - ETA: 6:43 - loss: 0.2834 - acc: 0.8904 - auc: 0.901 - ETA: 6:35 - loss: 0.2839 - acc: 0.8901 - auc: 0.901 - ETA: 6:28 - loss: 0.2840 - acc: 0.8901 - auc: 0.901 - ETA: 6:20 - loss: 0.2843 - acc: 0.8900 - auc: 0.901 - ETA: 6:12 - loss: 0.2845 - acc: 0.8900 - auc: 0.901 - ETA: 6:04 - loss: 0.2843 - acc: 0.8901 - auc: 0.901 - ETA: 5:57 - loss: 0.2846 - acc: 0.8900 - auc: 0.901 - ETA: 5:49 - loss: 0.2848 - acc: 0.8899 - auc: 0.901 - ETA: 5:42 - loss: 0.2849 - acc: 0.8898 - auc: 0.901 - ETA: 5:34 - loss: 0.2851 - acc: 0.8897 - auc: 0.901 - ETA: 5:26 - loss: 0.2850 - acc: 0.8898 - auc: 0.901 - ETA: 5:19 - loss: 0.2852 - acc: 0.8897 - auc: 0.901 - ETA: 5:11 - loss: 0.2853 - acc: 0.8897 - auc: 0.902 - ETA: 5:03 - loss: 0.2854 - acc: 0.8896 - auc: 0.902 - ETA: 4:56 - loss: 0.2853 - acc: 0.8897 - auc: 0.902 - ETA: 4:48 - loss: 0.2853 - acc: 0.8897 - auc: 0.902 - ETA: 4:40 - loss: 0.2854 - acc: 0.8896 - auc: 0.902 - ETA: 4:33 - loss: 0.2854 - acc: 0.8896 - auc: 0.902 - ETA: 4:25 - loss: 0.2853 - acc: 0.8896 - auc: 0.902 - ETA: 4:17 - loss: 0.2852 - acc: 0.8897 - auc: 0.902 - ETA: 4:10 - loss: 0.2853 - acc: 0.8896 - auc: 0.902 - ETA: 4:02 - loss: 0.2855 - acc: 0.8896 - auc: 0.902 - ETA: 3:54 - loss: 0.2855 - acc: 0.8896 - auc: 0.902 - ETA: 3:47 - loss: 0.2858 - acc: 0.8895 - auc: 0.902 - ETA: 3:39 - loss: 0.2858 - acc: 0.8895 - auc: 0.902 - ETA: 3:31 - loss: 0.2856 - acc: 0.8896 - auc: 0.902 - ETA: 3:24 - loss: 0.2857 - acc: 0.8896 - auc: 0.902 - ETA: 3:16 - loss: 0.2858 - acc: 0.8895 - auc: 0.902 - ETA: 3:08 - loss: 0.2858 - acc: 0.8896 - auc: 0.902 - ETA: 3:01 - loss: 0.2859 - acc: 0.8895 - auc: 0.902 - ETA: 2:53 - loss: 0.2859 - acc: 0.8895 - auc: 0.902 - ETA: 2:45 - loss: 0.2859 - acc: 0.8896 - auc: 0.902 - ETA: 2:38 - loss: 0.2861 - acc: 0.8895 - auc: 0.902 - ETA: 2:30 - loss: 0.2864 - acc: 0.8893 - auc: 0.902 - ETA: 2:22 - loss: 0.2864 - acc: 0.8893 - auc: 0.902 - ETA: 2:15 - loss: 0.2863 - acc: 0.8894 - auc: 0.902 - ETA: 2:07 - loss: 0.2864 - acc: 0.8893 - auc: 0.902 - ETA: 1:59 - loss: 0.2864 - acc: 0.8893 - auc: 0.902 - ETA: 1:52 - loss: 0.2865 - acc: 0.8892 - auc: 0.902 - ETA: 1:44 - loss: 0.2867 - acc: 0.8891 - auc: 0.902 - ETA: 1:36 - loss: 0.2867 - acc: 0.8892 - auc: 0.902 - ETA: 1:29 - loss: 0.2866 - acc: 0.8893 - auc: 0.902 - ETA: 1:21 - loss: 0.2870 - acc: 0.8891 - auc: 0.902 - ETA: 1:13 - loss: 0.2871 - acc: 0.8891 - auc: 0.902 - ETA: 1:06 - loss: 0.2870 - acc: 0.8891 - auc: 0.902 - ETA: 58s - loss: 0.2871 - acc: 0.8892 - auc: 0.902 - ETA: 50s - loss: 0.2872 - acc: 0.8891 - auc: 0.90 - ETA: 43s - loss: 0.2872 - acc: 0.8892 - auc: 0.90 - ETA: 35s - loss: 0.2871 - acc: 0.8892 - auc: 0.90 - ETA: 27s - loss: 0.2873 - acc: 0.8892 - auc: 0.90 - ETA: 20s - loss: 0.2874 - acc: 0.8890 - auc: 0.90 - ETA: 12s - loss: 0.2874 - acc: 0.8891 - auc: 0.90 - ETA: 4s - loss: 0.2875 - acc: 0.8891 - auc: 0.9022 - 2022s 27ms/step - loss: 0.2874 - acc: 0.8891 - auc: 0.9022 - val_loss: 0.6147 - val_acc: 0.8285 - val_auc: 0.9034\n"
     ]
    }
   ],
   "source": [
    "\n",
    "history2 = model2.fit(\n",
    "    {\n",
    "        'input_text_data': padded_updated_essay_train, \n",
    "        'input_school_state':train_school_state, \n",
    "        'input_pgc':train_project_grade_category, \n",
    "        'input_categories':train_categories,\n",
    "        'input_subcategories': train_subcategories,\n",
    "        'input_teacher_prefix': train_teacher_prefix,\n",
    "        'input_for_rem':train_price_teacher\n",
    "    },\n",
    "    y_train,\n",
    "    nb_epoch=epochs, \n",
    "    batch_size=300,\n",
    "    callbacks=[tensorboard],\n",
    "    validation_data = (\n",
    "        {\n",
    "            'input_text_data':padded_updated_essay_cv, \n",
    "            'input_school_state':cv_school_state, \n",
    "            'input_pgc':cv_project_grade_category, \n",
    "            'input_categories':cv_categories,\n",
    "            'input_subcategories':cv_subcategories,\n",
    "            'input_teacher_prefix':cv_teacher_prefix,\n",
    "            'input_for_rem':cv_price_teacher\n",
    "            },\n",
    "        y_cv \n",
    "    ) \n",
    ")"
   ]
  },
  {
   "cell_type": "code",
   "execution_count": 69,
   "metadata": {},
   "outputs": [
    {
     "data": {
      "text/plain": [
       "(18572, 500)"
      ]
     },
     "execution_count": 69,
     "metadata": {},
     "output_type": "execute_result"
    }
   ],
   "source": [
    "padded_updated_essay_cv.shape"
   ]
  },
  {
   "cell_type": "code",
   "execution_count": 49,
   "metadata": {},
   "outputs": [
    {
     "name": "stdout",
     "output_type": "stream",
     "text": [
      "Test auc: 0.1896140930389002\n",
      "Test accuracy: 0.1850744447156456\n"
     ]
    }
   ],
   "source": [
    "model2_score = model2.evaluate({\n",
    "        'input_text_data': padded_updated_essay_test, \n",
    "        'input_school_state':test_school_state, \n",
    "        'input_pgc':test_project_grade_category, \n",
    "        'input_categories':test_categories,\n",
    "        'input_subcategories': test_subcategories,\n",
    "        'input_teacher_prefix': test_teacher_prefix,\n",
    "        'input_for_rem':test_price_teacher\n",
    "    },\n",
    "    y_test, verbose=0)\n",
    "model2_auc = model2_score[2]\n",
    "model2_acc = model2_score[1]\n",
    "print('Test auc:', model2_auc) \n",
    "print('Test accuracy:', model2_acc)"
   ]
  },
  {
   "cell_type": "markdown",
   "metadata": {},
   "source": [
    "## Model - 3"
   ]
  },
  {
   "cell_type": "markdown",
   "metadata": {},
   "source": [
    "### Vectorizing school_state"
   ]
  },
  {
   "cell_type": "code",
   "execution_count": null,
   "metadata": {},
   "outputs": [],
   "source": [
    "vectorizer = CountVectorizer(binary=True)\n",
    "train_school_state = vectorizer.fit_transform(X_train['school_state'].values)\n",
    "test_school_state = vectorizerrizerorizerorizerorizer.transform(X_test['school_state'].values)\n",
    "cv_school_state = vectorizer.transform(X_cv['school_state'].values)"
   ]
  },
  {
   "cell_type": "markdown",
   "metadata": {},
   "source": [
    "### Vectorizing teacher_prefix"
   ]
  },
  {
   "cell_type": "code",
   "execution_count": null,
   "metadata": {},
   "outputs": [],
   "source": [
    "vectorizer = CountVectorizer(binary=True)\n",
    "train_teacher_prefix = vectorizer.fit_transform(X_train['teacher_prefix'].values)\n",
    "test_teacher_prefix = vectorizer.transform(X_test['teacher_prefix'].values)\n",
    "cv_teacher_prefix = vectorizer.transform(X_cv['teacher_prefix'].values)"
   ]
  },
  {
   "cell_type": "markdown",
   "metadata": {},
   "source": [
    "### Vectorizing project_grade_category"
   ]
  },
  {
   "cell_type": "code",
   "execution_count": null,
   "metadata": {},
   "outputs": [],
   "source": [
    "vectorizer = CountVectorizer(binary=True)\n",
    "train_pgc = vectorizer.fit_transform(X_train['project_grade_category'].values)\n",
    "test_pgc = vectorizer.transform(X_test['project_grade_category'].values)\n",
    "cv_pgc = vectorizer.transform(X_cv['project_grade_category'].values)"
   ]
  },
  {
   "cell_type": "markdown",
   "metadata": {},
   "source": [
    "### Vectorizing categories"
   ]
  },
  {
   "cell_type": "code",
   "execution_count": null,
   "metadata": {},
   "outputs": [],
   "source": [
    "vectorizer = CountVectorizer(binary=True, vocabulary=list(cat_dict.keys()))\n",
    "train_categories = vectorizer.fit_transform(X_train['clean_categories'].values)\n",
    "test_categories = vectorizer.transform(X_test['clean_categories'].values)\n",
    "cv_categories = vectorizer.transform(X_cv['clean_categories'].values)"
   ]
  },
  {
   "cell_type": "markdown",
   "metadata": {},
   "source": [
    "### Vectorizing subcategories"
   ]
  },
  {
   "cell_type": "code",
   "execution_count": null,
   "metadata": {},
   "outputs": [],
   "source": [
    "vectorizer = CountVectorizer(binary=True, vocabulary=list(subcat_dict.keys()))\n",
    "train_subcategories = vectorizer.fit_transform(X_train['clean_subcategories'].values)\n",
    "test_subcategories = vectorizer.transform(X_test['clean_subcategories'].values)\n",
    "cv_subcategories = vectorizer.transform(X_cv['clean_subcategories'].values)"
   ]
  },
  {
   "cell_type": "markdown",
   "metadata": {},
   "source": [
    "###  merging all features"
   ]
  },
  {
   "cell_type": "code",
   "execution_count": null,
   "metadata": {},
   "outputs": [],
   "source": [
    "train_rem_features = hstack((train_school_state, train_teacher_prefix, train_pgc, train_categories, train_subcategories, train_price, train_teacher_number)).tocsr()\n",
    "test_rem_features = hstack((test_school_state, test_teacher_prefix, test_pgc, test_categories, test_subcategories, test_price, test_teacher_number)).tocsr()\n",
    "cv_rem_features = hstack((cv_school_state, cv_teacher_prefix, cv_pgc, cv_categories, cv_subcategories, cv_price, cv_teacher_number)).tocsr()"
   ]
  },
  {
   "cell_type": "code",
   "execution_count": null,
   "metadata": {},
   "outputs": [],
   "source": [
    "print(train_rem_features.shape, y_train.shape)\n",
    "print(test_rem_features.shape, y_cv.shape)\n",
    "print(cv_rem_features.shape, y_test.shape)"
   ]
  },
  {
   "cell_type": "markdown",
   "metadata": {},
   "source": [
    "### building model"
   ]
  },
  {
   "cell_type": "code",
   "execution_count": null,
   "metadata": {},
   "outputs": [],
   "source": [
    "keras.backend.clear_session()\n",
    "\n",
    "#input_text branch\n",
    "input_text_data = Input(shape=(500,), name='input_text_data')\n",
    "embedding_essay = Embedding(input_dim=vocab_size, output_dim=300, weights=[embedding_matrix], input_length=500, trainable=False)(input_text_data)\n",
    "lstm_out = LSTM(100, return_sequences=True)(embedding_essay)\n",
    "flatten = Flatten()(lstm_out)\n",
    "\n",
    "#remaining input branch\n",
    "input_rem_data = Input(shape=(train_rem_features.shape[1],), name='input_rem_data')\n",
    "conv_1 = Conv1D(filters=128, kernel_size=3, padding='same', activation='relu')(input_rem_data)\n",
    "conv_2 = Conv1D(filters=256, kernel_size=3, padding='same', activation='relu')(conv_1)\n",
    "flatten_2 = Flatten()(conv_2)\n",
    "\n",
    "#concatenating\n",
    "concated_data = concatenate([flatten, flatten_2])\n",
    "\n",
    "#first dense layer\n",
    "dense_1 = Dense(256, activation='relu', kernel_initializer='he_normal')(concated_data)\n",
    "dropout = Dropout(0.3)(dense_1)\n",
    "\n",
    "#second dense layer\n",
    "dense_2 = Dense(128, activation='relu', kernel_initializer='he_normal')(dropout)\n",
    "dropout_1 = Dropout(0.3)(dense_2)\n",
    "\n",
    "#thrid dense layer\n",
    "dense_3 =  Dense(64, activation='relu', kernel_initializer='he_normal')(dropout_1)\n",
    "\n",
    "#softmax layer\n",
    "output = Dense(2, activation='softmax')(dense_3)\n",
    "\n",
    "model3 = Model(\n",
    "    inputs=[input_text_data, input_rem_data], \n",
    "    outputs=output)"
   ]
  },
  {
   "cell_type": "code",
   "execution_count": null,
   "metadata": {},
   "outputs": [],
   "source": [
    "model3.summary()"
   ]
  }
 ],
 "metadata": {
  "kernelspec": {
   "display_name": "Python 3",
   "language": "python",
   "name": "python3"
  },
  "language_info": {
   "codemirror_mode": {
    "name": "ipython",
    "version": 3
   },
   "file_extension": ".py",
   "mimetype": "text/x-python",
   "name": "python",
   "nbconvert_exporter": "python",
   "pygments_lexer": "ipython3",
   "version": "3.6.5"
  }
 },
 "nbformat": 4,
 "nbformat_minor": 4
}
