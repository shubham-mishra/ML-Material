{
 "cells": [
  {
   "cell_type": "code",
   "execution_count": 1,
   "metadata": {},
   "outputs": [
    {
     "name": "stdout",
     "output_type": "stream",
     "text": [
      "Enter no5\n",
      "1 * 5 = 5\n",
      "2 * 5 = 10\n",
      "3 * 5 = 15\n",
      "4 * 5 = 20\n",
      "5 * 5 = 25\n",
      "6 * 5 = 30\n",
      "7 * 5 = 35\n",
      "8 * 5 = 40\n",
      "9 * 5 = 45\n",
      "10 * 5 = 50\n"
     ]
    }
   ],
   "source": [
    "#Assignment 1: Write a function that inputs a number and prints the multiplication table of that number\n",
    "def multiplication_table():\n",
    "    \"\"\"\n",
    "    function to print multiplication table for a given number as input\n",
    "    \"\"\"\n",
    "    no = int(input('Enter no'))\n",
    "    for i in range(1, 11):\n",
    "        print('{} * {} = {}'.format(i, no, i*no))\n",
    "\n",
    "multiplication_table()"
   ]
  },
  {
   "cell_type": "code",
   "execution_count": 2,
   "metadata": {},
   "outputs": [
    {
     "name": "stdout",
     "output_type": "stream",
     "text": [
      "1 3\n",
      "3 5\n",
      "5 7\n",
      "11 13\n",
      "17 19\n",
      "29 31\n",
      "41 43\n",
      "59 61\n",
      "71 73\n",
      "101 103\n",
      "107 109\n",
      "137 139\n",
      "149 151\n",
      "179 181\n",
      "191 193\n",
      "197 199\n",
      "227 229\n",
      "239 241\n",
      "269 271\n",
      "281 283\n",
      "311 313\n",
      "347 349\n",
      "419 421\n",
      "431 433\n",
      "461 463\n",
      "521 523\n",
      "569 571\n",
      "599 601\n",
      "617 619\n",
      "641 643\n",
      "659 661\n",
      "809 811\n",
      "821 823\n",
      "827 829\n",
      "857 859\n",
      "881 883\n"
     ]
    }
   ],
   "source": [
    "\"\"\"Assignment2: Write a program to print twin primes less than 1000. If two consecutive odd numbers are\n",
    "both prime then they are known as twin primes\"\"\"\n",
    "\n",
    "def is_prime(x):\n",
    "    \"\"\"\n",
    "    function to calculate prime no\n",
    "    \"\"\"\n",
    "    try:\n",
    "        for i in range(2, x//2 + 1):\n",
    "            if x%i == 0:\n",
    "                return False;\n",
    "        return True;\n",
    "    except:\n",
    "        print('Provide proper input')\n",
    "    \n",
    "\n",
    "def twin_primes():\n",
    "    \"\"\"\n",
    "    function to print twin primes less than 1000\n",
    "    \"\"\"\n",
    "    primeDetermined = {};\n",
    "    \n",
    "    for i in range(1, 1000, 2):\n",
    "        curr_no = False;\n",
    "        if(primeDetermined.get(i) != None):\n",
    "            curr_no = primeDetermined[i]\n",
    "        else:\n",
    "            curr_no = is_prime(i);\n",
    "            primeDetermined[i] = curr_no;\n",
    "        \n",
    "        next_no = is_prime(i+2);\n",
    "        if(curr_no and next_no):\n",
    "            print(i, i+2);\n",
    "            \n",
    "            \n",
    "twin_primes()"
   ]
  },
  {
   "cell_type": "code",
   "execution_count": 8,
   "metadata": {},
   "outputs": [
    {
     "name": "stdout",
     "output_type": "stream",
     "text": [
      "2 2 2 7 "
     ]
    }
   ],
   "source": [
    "\"\"\"\n",
    "Assignment3: Write a program to find out the prime factors of a number\n",
    "\"\"\"\n",
    "def primeFactors(n):\n",
    "    \"\"\"\n",
    "    function to calculate prime factors\n",
    "    \"\"\"\n",
    "    temp = n;\n",
    "    while n%2 == 0:\n",
    "        print(2, end=\" \");\n",
    "        n//=2;\n",
    "    while n > 0:\n",
    "        for i in range(3, temp//2 + 1):\n",
    "            if n%i == 0:\n",
    "                if is_prime(i):\n",
    "                    print(i, end=\" \");\n",
    "                    n/=i;\n",
    "                    break;\n",
    "        else:\n",
    "            break;\n",
    "primeFactors(56)"
   ]
  },
  {
   "cell_type": "code",
   "execution_count": 9,
   "metadata": {},
   "outputs": [
    {
     "name": "stdout",
     "output_type": "stream",
     "text": [
      "120.0\n",
      "5.0\n"
     ]
    }
   ],
   "source": [
    "\"\"\"\n",
    "Assignment4: Write a program to implement these formulae of permutations and combinations.\n",
    "Number of permutations of n objects taken r at a time: p(n, r) = n! / (n-r)!. Number of\n",
    "combinations of n objects taken r at a time is: c(n, r) = n! / (r!*(n-r)!) = p(n,r) / r!\n",
    "\"\"\"\n",
    "\n",
    "from functools import reduce\n",
    "\n",
    "def factorial(n):\n",
    "    \"\"\"\n",
    "    function to find factorial\n",
    "    \"\"\"\n",
    "    try:\n",
    "        return reduce(lambda x,y: x*y, range(1, n+1));\n",
    "    except:\n",
    "        print('Provide proper input')\n",
    "    \n",
    "\n",
    "def permutations(n, r):\n",
    "    \"\"\"\n",
    "    function to return Number of permutations of n objects taken r at a time\n",
    "    \"\"\"\n",
    "    try:\n",
    "        n_fact = factorial(n);\n",
    "        n_r_fact = factorial(n-r);\n",
    "        perm = n_fact/n_r_fact;\n",
    "        return perm;\n",
    "    except:\n",
    "        print('Provide proper input')\n",
    "    \n",
    "    \n",
    "    \n",
    "def combinations(n, r):\n",
    "    \"\"\"\n",
    "    Number of\n",
    "    combinations of n objects taken r at a time\n",
    "    \"\"\"\n",
    "    try:\n",
    "        p_n_r = permutations(n, r);\n",
    "        r_fact = factorial(r);\n",
    "        comb = p_n_r / r_fact;\n",
    "        return comb;\n",
    "    except:\n",
    "        print('Provide proper input')\n",
    "\n",
    "\n",
    "print(permutations(5,4));\n",
    "print(combinations(5,4))"
   ]
  },
  {
   "cell_type": "code",
   "execution_count": 10,
   "metadata": {},
   "outputs": [
    {
     "name": "stdout",
     "output_type": "stream",
     "text": [
      "110\n"
     ]
    }
   ],
   "source": [
    "\"\"\"\n",
    "Assignment5:Write a function that converts a decimal number to binary number\n",
    "\"\"\"\n",
    "binary_no = '';\n",
    "\n",
    "def do_decimal_to_binary(dec):\n",
    "    \"\"\"\n",
    "    function that converts a decimal number to binary number\n",
    "    \"\"\"\n",
    "    global binary_no;\n",
    "    if dec == 1:\n",
    "        binary_no += '1';\n",
    "        return;\n",
    "    else:\n",
    "        temp = dec%2;\n",
    "        do_decimal_to_binary(dec//2);\n",
    "        binary_no += str(temp);\n",
    "        return binary_no;\n",
    "\n",
    "\n",
    "def decimal_to_binary(dec):\n",
    "    global binary_no;\n",
    "    binary_no = '';\n",
    "    print(do_decimal_to_binary(dec))\n",
    "    \n",
    "decimal_to_binary(6);\n",
    "    "
   ]
  },
  {
   "cell_type": "code",
   "execution_count": 11,
   "metadata": {},
   "outputs": [
    {
     "name": "stdout",
     "output_type": "stream",
     "text": [
      "371\n",
      "True\n",
      "153\n",
      "370\n",
      "371\n"
     ]
    }
   ],
   "source": [
    "\"\"\"\n",
    "Assignment6: Write a function cubesum() that accepts an integer and returns the sum of the cubes of\n",
    "individual digits of that number. Use this function to make functions PrintArmstrong() and\n",
    "isArmstrong() to print Armstrong numbers and to find whether is an Armstrong number.\n",
    "\"\"\"\n",
    "\n",
    "def cubesum(no):\n",
    "    \"\"\"\n",
    "    function to calculate sum of the cubes of individual digits of that number\n",
    "    \"\"\"\n",
    "    sum = 0\n",
    "    while no > 0:\n",
    "        curr = no%10;\n",
    "        sum += (curr*curr*curr);\n",
    "        no //= 10;\n",
    "    return sum;\n",
    "\n",
    "def isArmstrong(no):\n",
    "    \"\"\"\n",
    "    function to check whether given no is Armstrong no or not.\n",
    "    \"\"\"\n",
    "    cubesum_of_no = cubesum(no);\n",
    "    if cubesum_of_no == no:\n",
    "        return True;\n",
    "    else:\n",
    "        return False;\n",
    "\n",
    "def printArmstrong(start, end):\n",
    "    \"\"\"\n",
    "    function to find all the armstrong no between given range.\n",
    "    \"\"\"\n",
    "    for number in range(start, end+1):\n",
    "        if isArmstrong(number):\n",
    "            print(number);\n",
    "\n",
    "print(cubesum(371))\n",
    "print(isArmstrong(371));\n",
    "printArmstrong(3, 400);\n",
    "\n",
    "    "
   ]
  },
  {
   "cell_type": "code",
   "execution_count": 12,
   "metadata": {},
   "outputs": [
    {
     "name": "stdout",
     "output_type": "stream",
     "text": [
      "24\n"
     ]
    }
   ],
   "source": [
    "\"\"\"\n",
    "Assignment7: Write a function prodDigits() that inputs a number and returns the product of digits of that\n",
    "number.\n",
    "\"\"\"\n",
    "\n",
    "def prodDigits(no):\n",
    "    \"\"\"\n",
    "    function to calculate and return the product of digits of that number.\n",
    "    \"\"\"\n",
    "    product = 1\n",
    "    while no > 0:\n",
    "        curr = no%10;\n",
    "        product *= curr;\n",
    "        no //= 10;\n",
    "    return product;\n",
    "\n",
    "print(prodDigits(234))"
   ]
  },
  {
   "cell_type": "code",
   "execution_count": 13,
   "metadata": {},
   "outputs": [
    {
     "name": "stdout",
     "output_type": "stream",
     "text": [
      "6\n",
      "2\n"
     ]
    }
   ],
   "source": [
    "\"\"\"\n",
    "Assignment8: Using the function prodDigits() of previous exercise write functions MDR() and\n",
    "MPersistence() that input a number and return its multiplicative digital root and\n",
    "multiplicative persistence respectively\n",
    "\"\"\"\n",
    "\n",
    "def MDR(no):\n",
    "    \"\"\"\n",
    "    function to return multiplicative digital root\n",
    "    \"\"\"\n",
    "    while no%10 != no:\n",
    "        no = prodDigits(no);\n",
    "    return no;\n",
    "\n",
    "def MPersistence(no):\n",
    "    \"\"\"\n",
    "    function to return multiplicative persistence\n",
    "    \"\"\"\n",
    "    mp = 0;\n",
    "    while no%10 != no:\n",
    "        mp += 1;\n",
    "        no = prodDigits(no);\n",
    "    return mp;\n",
    "\n",
    "print(MDR(86))\n",
    "print(MPersistence(314))"
   ]
  },
  {
   "cell_type": "code",
   "execution_count": 14,
   "metadata": {},
   "outputs": [
    {
     "name": "stdout",
     "output_type": "stream",
     "text": [
      "55\n"
     ]
    }
   ],
   "source": [
    "\"\"\"\n",
    "Assignment9: Write a function sumPdivisors() that finds the sum of proper divisors of a number\n",
    "\"\"\"\n",
    "def sumPdivisors(no):\n",
    "    \"\"\"\n",
    "    function to finds the sum of proper divisors of a number\n",
    "    \"\"\"\n",
    "    sum = 1;\n",
    "    for i in range(2, (no//2) + 1):\n",
    "        if no % i == 0:\n",
    "            sum += i;\n",
    "    return sum;\n",
    "print(sumPdivisors(36))"
   ]
  },
  {
   "cell_type": "code",
   "execution_count": 15,
   "metadata": {},
   "outputs": [
    {
     "name": "stdout",
     "output_type": "stream",
     "text": [
      "1\n",
      "6\n",
      "28\n"
     ]
    }
   ],
   "source": [
    "\"\"\"\n",
    "Assignment10:  Write a program to print all the perfect numbers in a given range\n",
    "\"\"\"\n",
    "def perfectNumbers(start, end):\n",
    "    \"\"\"\n",
    "    function to print all the perfect numbers in a given range\n",
    "    \"\"\"\n",
    "    for i in range(start, end+1):\n",
    "        sum_of_divisors = sumPdivisors(i);\n",
    "        if i == sum_of_divisors:\n",
    "            print(i)\n",
    "\n",
    "perfectNumbers(1, 50)"
   ]
  },
  {
   "cell_type": "code",
   "execution_count": 16,
   "metadata": {},
   "outputs": [
    {
     "name": "stdout",
     "output_type": "stream",
     "text": [
      "220 284\n"
     ]
    }
   ],
   "source": [
    "\"\"\"\n",
    "Assignment11: Write a function to print pairs of amicable numbers in a range\n",
    "\"\"\"\n",
    "def amicableNumbers(start, end):\n",
    "    \"\"\"\n",
    "    function to print pairs of amicable numbers in a given range\n",
    "    \"\"\"\n",
    "    dict_sum_d = {};\n",
    "    for i in range(start, end+1):\n",
    "        for j in range(i+1, end+1):\n",
    "            sum_i = 0;\n",
    "            sum_j = 0;\n",
    "            if(dict_sum_d.get(i)):\n",
    "                sum_i = dict_sum_d.get(i);\n",
    "            else:\n",
    "                sum_i = sumPdivisors(i);\n",
    "                dict_sum_d[i] = sum_i;\n",
    "            \n",
    "            if(dict_sum_d.get(j)):\n",
    "                sum_j = dict_sum_d.get(j);\n",
    "            else:\n",
    "                sum_j = sumPdivisors(j);\n",
    "                dict_sum_d[j] = sum_j;\n",
    "            \n",
    "            if i == sum_j and j == sum_i and i != j:\n",
    "                print(i,j)\n",
    "                \n",
    "amicableNumbers(1, 300)"
   ]
  },
  {
   "cell_type": "code",
   "execution_count": 17,
   "metadata": {},
   "outputs": [
    {
     "name": "stdout",
     "output_type": "stream",
     "text": [
      "[-20, -18, -16, -14, -12, -10, -8, -6, -4, -2, 0, 2, 4]\n"
     ]
    }
   ],
   "source": [
    "\"\"\"\n",
    "Assignment12: Write a program which can filter odd numbers in a list by using filter function  \n",
    "\"\"\"\n",
    "\n",
    "def filterOdd(l):\n",
    "    new_l = list(filter(lambda x: (x%2 == 0), l));\n",
    "    return new_l;\n",
    "\n",
    "print(filterOdd(range(-20, 5)))"
   ]
  },
  {
   "cell_type": "code",
   "execution_count": 18,
   "metadata": {},
   "outputs": [
    {
     "name": "stdout",
     "output_type": "stream",
     "text": [
      "[0, 1, 8, 27, 64, 125, 216, 343, 512, 729]\n"
     ]
    }
   ],
   "source": [
    "\"\"\"\n",
    "Assignment13:Write a program which can map() to make a list whose elements are cube of elements in\n",
    "a given list\n",
    "\"\"\"\n",
    "cube_list = list(map(lambda x: x*x*x, range(0, 10)))\n",
    "print(cube_list)"
   ]
  },
  {
   "cell_type": "code",
   "execution_count": 19,
   "metadata": {},
   "outputs": [
    {
     "name": "stdout",
     "output_type": "stream",
     "text": [
      "[0, 8, 64, 216, 512]\n"
     ]
    }
   ],
   "source": [
    "\"\"\"\n",
    "Assignment14: Write a program which can map() and filter() to make a list whose elements are cube of\n",
    "even number in a given list\n",
    "\"\"\"\n",
    "\n",
    "cubes_of_even = list(map(lambda x: x*x*x, list(filter(lambda x: x%2 == 0, range(0,10)))))\n",
    "print(cubes_of_even)"
   ]
  }
 ],
 "metadata": {
  "kernelspec": {
   "display_name": "Python 3",
   "language": "python",
   "name": "python3"
  },
  "language_info": {
   "codemirror_mode": {
    "name": "ipython",
    "version": 3
   },
   "file_extension": ".py",
   "mimetype": "text/x-python",
   "name": "python",
   "nbconvert_exporter": "python",
   "pygments_lexer": "ipython3",
   "version": "3.7.3"
  }
 },
 "nbformat": 4,
 "nbformat_minor": 2
}
